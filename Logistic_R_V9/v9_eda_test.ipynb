{
 "cells": [
  {
   "cell_type": "code",
   "execution_count": 1,
   "metadata": {
    "executionInfo": {
     "elapsed": 1027,
     "status": "ok",
     "timestamp": 1662116047450,
     "user": {
      "displayName": "Sourav Kapil",
      "userId": "17404349869182897322"
     },
     "user_tz": -330
    },
    "id": "dW3pveOKwqCQ"
   },
   "outputs": [],
   "source": [
    "import pandas as pd\n",
    "import numpy as np\n",
    "import seaborn as sns\n",
    "import matplotlib.pyplot as plt\n",
    "import warnings \n",
    "warnings.filterwarnings('ignore') \n"
   ]
  },
  {
   "cell_type": "code",
   "execution_count": 2,
   "metadata": {
    "colab": {
     "base_uri": "https://localhost:8080/"
    },
    "executionInfo": {
     "elapsed": 18910,
     "status": "ok",
     "timestamp": 1662116073072,
     "user": {
      "displayName": "Sourav Kapil",
      "userId": "17404349869182897322"
     },
     "user_tz": -330
    },
    "id": "2rWOob-jEsHZ",
    "outputId": "ccdfb114-f6ad-440f-ef75-1032d3b55986"
   },
   "outputs": [
    {
     "name": "stdout",
     "output_type": "stream",
     "text": [
      "Mounted at /content/drive\n"
     ]
    }
   ],
   "source": [
    "from google.colab import drive\n",
    "drive.mount('/content/drive')"
   ]
  },
  {
   "cell_type": "code",
   "execution_count": 62,
   "metadata": {
    "colab": {
     "base_uri": "https://localhost:8080/",
     "height": 525
    },
    "executionInfo": {
     "elapsed": 1298,
     "status": "ok",
     "timestamp": 1662117211265,
     "user": {
      "displayName": "Sourav Kapil",
      "userId": "17404349869182897322"
     },
     "user_tz": -330
    },
    "id": "3UKQK7Fuw68t",
    "outputId": "8bfade01-0e98-40dc-fe8d-4e3f56ff53f5"
   },
   "outputs": [
    {
     "data": {
      "text/html": [
       "\n",
       "  <div id=\"df-224547ac-5b27-4cd2-80c1-12e2bc4a67f4\">\n",
       "    <div class=\"colab-df-container\">\n",
       "      <div>\n",
       "<style scoped>\n",
       "    .dataframe tbody tr th:only-of-type {\n",
       "        vertical-align: middle;\n",
       "    }\n",
       "\n",
       "    .dataframe tbody tr th {\n",
       "        vertical-align: top;\n",
       "    }\n",
       "\n",
       "    .dataframe thead th {\n",
       "        text-align: right;\n",
       "    }\n",
       "</style>\n",
       "<table border=\"1\" class=\"dataframe\">\n",
       "  <thead>\n",
       "    <tr style=\"text-align: right;\">\n",
       "      <th></th>\n",
       "      <th>OpportunityID</th>\n",
       "      <th>CreatedDate</th>\n",
       "      <th>FundedDate</th>\n",
       "      <th>OpportunityName</th>\n",
       "      <th>Priordeal_OppID</th>\n",
       "      <th>Renewal_PreviousCollectionStatus</th>\n",
       "      <th>Renewal_PreviousPace</th>\n",
       "      <th>Renewal_PreviousPaidPercentageOfRTR</th>\n",
       "      <th>Renewal_PreviousCreditScore</th>\n",
       "      <th>Renewal_CountPreviousDeals</th>\n",
       "      <th>...</th>\n",
       "      <th>Industry</th>\n",
       "      <th>Industry_Group__c</th>\n",
       "      <th>Avg_ReturnItemdays</th>\n",
       "      <th>LatestMonth_ReturnItemDays</th>\n",
       "      <th>PctChangeInReveune</th>\n",
       "      <th>PctAvgDailybalance2AvgMonthlyDeposits</th>\n",
       "      <th>TwoMonthAvg_AdjustedMonthlyDeposits</th>\n",
       "      <th>AdjustedMonthlyDeposits</th>\n",
       "      <th>drop_percent</th>\n",
       "      <th>Drop_category</th>\n",
       "    </tr>\n",
       "  </thead>\n",
       "  <tbody>\n",
       "    <tr>\n",
       "      <th>0</th>\n",
       "      <td>0062M00000nqf6oQAA</td>\n",
       "      <td>2021-12-20 21:03:51</td>\n",
       "      <td>2022-01-06</td>\n",
       "      <td>G Smith Handyman Group-Renewal Deal-12202021</td>\n",
       "      <td>0062M00000nYhn5QAC</td>\n",
       "      <td>Other</td>\n",
       "      <td>100.00</td>\n",
       "      <td>0.90</td>\n",
       "      <td>642.0</td>\n",
       "      <td>1</td>\n",
       "      <td>...</td>\n",
       "      <td>Services</td>\n",
       "      <td>76 - Miscellaneous Repair &amp; Installation Services</td>\n",
       "      <td>0.25</td>\n",
       "      <td>NaN</td>\n",
       "      <td>-0.272301</td>\n",
       "      <td>0.219321</td>\n",
       "      <td>10817.03</td>\n",
       "      <td>7834.00</td>\n",
       "      <td>-27.577163</td>\n",
       "      <td>Negative</td>\n",
       "    </tr>\n",
       "    <tr>\n",
       "      <th>1</th>\n",
       "      <td>0062M00000nqfF3QAI</td>\n",
       "      <td>2021-12-20 21:45:40</td>\n",
       "      <td>2022-01-05</td>\n",
       "      <td>Green Collar Cleaners-Renewal Deal-12202021</td>\n",
       "      <td>0062M00000nZHYfQAO</td>\n",
       "      <td>Other</td>\n",
       "      <td>100.00</td>\n",
       "      <td>0.78</td>\n",
       "      <td>507.0</td>\n",
       "      <td>1</td>\n",
       "      <td>...</td>\n",
       "      <td>Services</td>\n",
       "      <td>72 - Personal Services</td>\n",
       "      <td>1.00</td>\n",
       "      <td>NaN</td>\n",
       "      <td>0.125156</td>\n",
       "      <td>0.049968</td>\n",
       "      <td>16132.02</td>\n",
       "      <td>16735.22</td>\n",
       "      <td>3.739147</td>\n",
       "      <td>Positive</td>\n",
       "    </tr>\n",
       "    <tr>\n",
       "      <th>2</th>\n",
       "      <td>0062M00000nqjtvQAA</td>\n",
       "      <td>2021-12-21 19:11:21</td>\n",
       "      <td>2022-01-18</td>\n",
       "      <td>JC Building And Remodeling-Renewal Deal-12212021</td>\n",
       "      <td>0062M00000na4fuQAA</td>\n",
       "      <td>Other</td>\n",
       "      <td>100.00</td>\n",
       "      <td>0.49</td>\n",
       "      <td>611.0</td>\n",
       "      <td>3</td>\n",
       "      <td>...</td>\n",
       "      <td>Construction</td>\n",
       "      <td>15 - Building Construction General Contractors...</td>\n",
       "      <td>0.25</td>\n",
       "      <td>0.0</td>\n",
       "      <td>0.189767</td>\n",
       "      <td>0.229279</td>\n",
       "      <td>41386.19</td>\n",
       "      <td>34545.34</td>\n",
       "      <td>-16.529306</td>\n",
       "      <td>Negative</td>\n",
       "    </tr>\n",
       "    <tr>\n",
       "      <th>3</th>\n",
       "      <td>0062M00000nqs8FQAQ</td>\n",
       "      <td>2021-12-23 15:58:53</td>\n",
       "      <td>2022-01-13</td>\n",
       "      <td>Sykes Funeral Trade Service-Renewal Deal-12232021</td>\n",
       "      <td>0062M00000nYYdkQAG</td>\n",
       "      <td>Other</td>\n",
       "      <td>100.00</td>\n",
       "      <td>0.60</td>\n",
       "      <td>762.0</td>\n",
       "      <td>1</td>\n",
       "      <td>...</td>\n",
       "      <td>Services</td>\n",
       "      <td>72 - Personal Services</td>\n",
       "      <td>0.00</td>\n",
       "      <td>NaN</td>\n",
       "      <td>-0.047224</td>\n",
       "      <td>1.201039</td>\n",
       "      <td>7885.00</td>\n",
       "      <td>2220.00</td>\n",
       "      <td>-71.845275</td>\n",
       "      <td>Negative</td>\n",
       "    </tr>\n",
       "    <tr>\n",
       "      <th>4</th>\n",
       "      <td>0062M00000nr94cQAA</td>\n",
       "      <td>2021-12-28 21:45:27</td>\n",
       "      <td>2022-01-04</td>\n",
       "      <td>Monrovia Lounge-Renewal Deal-12282021</td>\n",
       "      <td>0062M00000nWwtLQAS</td>\n",
       "      <td>Other</td>\n",
       "      <td>98.33</td>\n",
       "      <td>0.56</td>\n",
       "      <td>614.0</td>\n",
       "      <td>1</td>\n",
       "      <td>...</td>\n",
       "      <td>Services</td>\n",
       "      <td>90 - Restaurants &amp; Bars</td>\n",
       "      <td>0.00</td>\n",
       "      <td>0.0</td>\n",
       "      <td>-0.082257</td>\n",
       "      <td>0.193480</td>\n",
       "      <td>19300.74</td>\n",
       "      <td>15851.61</td>\n",
       "      <td>-17.870454</td>\n",
       "      <td>Negative</td>\n",
       "    </tr>\n",
       "  </tbody>\n",
       "</table>\n",
       "<p>5 rows × 49 columns</p>\n",
       "</div>\n",
       "      <button class=\"colab-df-convert\" onclick=\"convertToInteractive('df-224547ac-5b27-4cd2-80c1-12e2bc4a67f4')\"\n",
       "              title=\"Convert this dataframe to an interactive table.\"\n",
       "              style=\"display:none;\">\n",
       "        \n",
       "  <svg xmlns=\"http://www.w3.org/2000/svg\" height=\"24px\"viewBox=\"0 0 24 24\"\n",
       "       width=\"24px\">\n",
       "    <path d=\"M0 0h24v24H0V0z\" fill=\"none\"/>\n",
       "    <path d=\"M18.56 5.44l.94 2.06.94-2.06 2.06-.94-2.06-.94-.94-2.06-.94 2.06-2.06.94zm-11 1L8.5 8.5l.94-2.06 2.06-.94-2.06-.94L8.5 2.5l-.94 2.06-2.06.94zm10 10l.94 2.06.94-2.06 2.06-.94-2.06-.94-.94-2.06-.94 2.06-2.06.94z\"/><path d=\"M17.41 7.96l-1.37-1.37c-.4-.4-.92-.59-1.43-.59-.52 0-1.04.2-1.43.59L10.3 9.45l-7.72 7.72c-.78.78-.78 2.05 0 2.83L4 21.41c.39.39.9.59 1.41.59.51 0 1.02-.2 1.41-.59l7.78-7.78 2.81-2.81c.8-.78.8-2.07 0-2.86zM5.41 20L4 18.59l7.72-7.72 1.47 1.35L5.41 20z\"/>\n",
       "  </svg>\n",
       "      </button>\n",
       "      \n",
       "  <style>\n",
       "    .colab-df-container {\n",
       "      display:flex;\n",
       "      flex-wrap:wrap;\n",
       "      gap: 12px;\n",
       "    }\n",
       "\n",
       "    .colab-df-convert {\n",
       "      background-color: #E8F0FE;\n",
       "      border: none;\n",
       "      border-radius: 50%;\n",
       "      cursor: pointer;\n",
       "      display: none;\n",
       "      fill: #1967D2;\n",
       "      height: 32px;\n",
       "      padding: 0 0 0 0;\n",
       "      width: 32px;\n",
       "    }\n",
       "\n",
       "    .colab-df-convert:hover {\n",
       "      background-color: #E2EBFA;\n",
       "      box-shadow: 0px 1px 2px rgba(60, 64, 67, 0.3), 0px 1px 3px 1px rgba(60, 64, 67, 0.15);\n",
       "      fill: #174EA6;\n",
       "    }\n",
       "\n",
       "    [theme=dark] .colab-df-convert {\n",
       "      background-color: #3B4455;\n",
       "      fill: #D2E3FC;\n",
       "    }\n",
       "\n",
       "    [theme=dark] .colab-df-convert:hover {\n",
       "      background-color: #434B5C;\n",
       "      box-shadow: 0px 1px 3px 1px rgba(0, 0, 0, 0.15);\n",
       "      filter: drop-shadow(0px 1px 2px rgba(0, 0, 0, 0.3));\n",
       "      fill: #FFFFFF;\n",
       "    }\n",
       "  </style>\n",
       "\n",
       "      <script>\n",
       "        const buttonEl =\n",
       "          document.querySelector('#df-224547ac-5b27-4cd2-80c1-12e2bc4a67f4 button.colab-df-convert');\n",
       "        buttonEl.style.display =\n",
       "          google.colab.kernel.accessAllowed ? 'block' : 'none';\n",
       "\n",
       "        async function convertToInteractive(key) {\n",
       "          const element = document.querySelector('#df-224547ac-5b27-4cd2-80c1-12e2bc4a67f4');\n",
       "          const dataTable =\n",
       "            await google.colab.kernel.invokeFunction('convertToInteractive',\n",
       "                                                     [key], {});\n",
       "          if (!dataTable) return;\n",
       "\n",
       "          const docLinkHtml = 'Like what you see? Visit the ' +\n",
       "            '<a target=\"_blank\" href=https://colab.research.google.com/notebooks/data_table.ipynb>data table notebook</a>'\n",
       "            + ' to learn more about interactive tables.';\n",
       "          element.innerHTML = '';\n",
       "          dataTable['output_type'] = 'display_data';\n",
       "          await google.colab.output.renderOutput(dataTable, element);\n",
       "          const docLink = document.createElement('div');\n",
       "          docLink.innerHTML = docLinkHtml;\n",
       "          element.appendChild(docLink);\n",
       "        }\n",
       "      </script>\n",
       "    </div>\n",
       "  </div>\n",
       "  "
      ],
      "text/plain": [
       "        OpportunityID         CreatedDate FundedDate  \\\n",
       "0  0062M00000nqf6oQAA 2021-12-20 21:03:51 2022-01-06   \n",
       "1  0062M00000nqfF3QAI 2021-12-20 21:45:40 2022-01-05   \n",
       "2  0062M00000nqjtvQAA 2021-12-21 19:11:21 2022-01-18   \n",
       "3  0062M00000nqs8FQAQ 2021-12-23 15:58:53 2022-01-13   \n",
       "4  0062M00000nr94cQAA 2021-12-28 21:45:27 2022-01-04   \n",
       "\n",
       "                                     OpportunityName     Priordeal_OppID  \\\n",
       "0       G Smith Handyman Group-Renewal Deal-12202021  0062M00000nYhn5QAC   \n",
       "1        Green Collar Cleaners-Renewal Deal-12202021  0062M00000nZHYfQAO   \n",
       "2   JC Building And Remodeling-Renewal Deal-12212021  0062M00000na4fuQAA   \n",
       "3  Sykes Funeral Trade Service-Renewal Deal-12232021  0062M00000nYYdkQAG   \n",
       "4              Monrovia Lounge-Renewal Deal-12282021  0062M00000nWwtLQAS   \n",
       "\n",
       "  Renewal_PreviousCollectionStatus  Renewal_PreviousPace  \\\n",
       "0                            Other                100.00   \n",
       "1                            Other                100.00   \n",
       "2                            Other                100.00   \n",
       "3                            Other                100.00   \n",
       "4                            Other                 98.33   \n",
       "\n",
       "   Renewal_PreviousPaidPercentageOfRTR  Renewal_PreviousCreditScore  \\\n",
       "0                                 0.90                        642.0   \n",
       "1                                 0.78                        507.0   \n",
       "2                                 0.49                        611.0   \n",
       "3                                 0.60                        762.0   \n",
       "4                                 0.56                        614.0   \n",
       "\n",
       "   Renewal_CountPreviousDeals  ...      Industry  \\\n",
       "0                           1  ...      Services   \n",
       "1                           1  ...      Services   \n",
       "2                           3  ...  Construction   \n",
       "3                           1  ...      Services   \n",
       "4                           1  ...      Services   \n",
       "\n",
       "                                   Industry_Group__c  Avg_ReturnItemdays  \\\n",
       "0  76 - Miscellaneous Repair & Installation Services                0.25   \n",
       "1                             72 - Personal Services                1.00   \n",
       "2  15 - Building Construction General Contractors...                0.25   \n",
       "3                             72 - Personal Services                0.00   \n",
       "4                            90 - Restaurants & Bars                0.00   \n",
       "\n",
       "   LatestMonth_ReturnItemDays  PctChangeInReveune  \\\n",
       "0                         NaN           -0.272301   \n",
       "1                         NaN            0.125156   \n",
       "2                         0.0            0.189767   \n",
       "3                         NaN           -0.047224   \n",
       "4                         0.0           -0.082257   \n",
       "\n",
       "   PctAvgDailybalance2AvgMonthlyDeposits  TwoMonthAvg_AdjustedMonthlyDeposits  \\\n",
       "0                               0.219321                             10817.03   \n",
       "1                               0.049968                             16132.02   \n",
       "2                               0.229279                             41386.19   \n",
       "3                               1.201039                              7885.00   \n",
       "4                               0.193480                             19300.74   \n",
       "\n",
       "   AdjustedMonthlyDeposits  drop_percent  Drop_category  \n",
       "0                  7834.00    -27.577163       Negative  \n",
       "1                 16735.22      3.739147       Positive  \n",
       "2                 34545.34    -16.529306       Negative  \n",
       "3                  2220.00    -71.845275       Negative  \n",
       "4                 15851.61    -17.870454       Negative  \n",
       "\n",
       "[5 rows x 49 columns]"
      ]
     },
     "execution_count": 62,
     "metadata": {},
     "output_type": "execute_result"
    }
   ],
   "source": [
    "data = pd.read_excel(\"/content/drive/MyDrive/LCF_Internal/Renewable_Model/EDA Approach-1/XGBoost Implementation/logistic_v9/v9_data.xlsx\", sheet_name = 'v9_test')\n",
    "data.head()"
   ]
  },
  {
   "cell_type": "code",
   "execution_count": 63,
   "metadata": {
    "colab": {
     "base_uri": "https://localhost:8080/"
    },
    "executionInfo": {
     "elapsed": 489,
     "status": "ok",
     "timestamp": 1662117213836,
     "user": {
      "displayName": "Sourav Kapil",
      "userId": "17404349869182897322"
     },
     "user_tz": -330
    },
    "id": "gnpACymbxMAZ",
    "outputId": "68333779-516e-4da8-ea0d-6b50642c5d04"
   },
   "outputs": [
    {
     "data": {
      "text/plain": [
       "(488, 49)"
      ]
     },
     "execution_count": 63,
     "metadata": {},
     "output_type": "execute_result"
    }
   ],
   "source": [
    "data.shape"
   ]
  },
  {
   "cell_type": "code",
   "execution_count": 64,
   "metadata": {
    "colab": {
     "base_uri": "https://localhost:8080/"
    },
    "executionInfo": {
     "elapsed": 6,
     "status": "ok",
     "timestamp": 1662117214455,
     "user": {
      "displayName": "Sourav Kapil",
      "userId": "17404349869182897322"
     },
     "user_tz": -330
    },
    "id": "KJ-XdJA-jPTz",
    "outputId": "5ebc7e32-741d-4834-b5b0-6ac205194844"
   },
   "outputs": [
    {
     "data": {
      "text/plain": [
       "HBwoLCF                                  97.336066\n",
       "NetWO                                    76.434426\n",
       "Renewal_PreviousHBwoLCF                  65.983607\n",
       "LatestMonth_ReturnItemDays               34.016393\n",
       "Renewal_PreviousCreditScore               2.254098\n",
       "PctChangeInReveune                        2.254098\n",
       "Credit_Score__c                           1.844262\n",
       "Renewal_PreviousAvgDailyBalance           1.639344\n",
       "Renewal_PreviousAvgMonthRevenue           1.639344\n",
       "Renewal_PreviousPace                      0.409836\n",
       "Renewal_PreviousPaidPercentageOfRTR       0.409836\n",
       "LastBankStatement_OverdraftDays           0.409836\n",
       "NewDeal_YN                                0.000000\n",
       "FundedWriteOffAmount_Gross                0.000000\n",
       "Paybackamount                             0.000000\n",
       "ActiveDeal_YN                             0.000000\n",
       "FundedAmount                              0.000000\n",
       "WriteOff_YN                               0.000000\n",
       "OpportunityID                             0.000000\n",
       "WOGross_AdvanceBalance                    0.000000\n",
       "Industry                                  0.000000\n",
       "AvgMonthlydeposits                        0.000000\n",
       "Industry_Group__c                         0.000000\n",
       "Avg_ReturnItemdays                        0.000000\n",
       "PctAvgDailybalance2AvgMonthlyDeposits     0.000000\n",
       "TwoMonthAvg_AdjustedMonthlyDeposits       0.000000\n",
       "AdjustedMonthlyDeposits                   0.000000\n",
       "drop_percent                              0.000000\n",
       "AvgDailybalance                           0.000000\n",
       "Is_this_Business_home_based__c            0.000000\n",
       "Contract_HoldBack__c                      0.000000\n",
       "Renewal_PreviousHBwLCF                    0.000000\n",
       "FundedDate                                0.000000\n",
       "OpportunityName                           0.000000\n",
       "Priordeal_OppID                           0.000000\n",
       "Renewal_PreviousCollectionStatus          0.000000\n",
       "Renewal_CountPreviousDeals                0.000000\n",
       "Renewal_PreviousCountBounces              0.000000\n",
       "Renewal_PreviousPosition                  0.000000\n",
       "Renewal_TwoWeekBounces                    0.000000\n",
       "HB_with_LCF_Payment__c                    0.000000\n",
       "NumberOfBankStatements                    0.000000\n",
       "BankStatement_MA_OverdraftDays            0.000000\n",
       "BankStatement_MA_NumReturnItems           0.000000\n",
       "BankStatement_Sum_NumReturnItems          0.000000\n",
       "Time_in_Business__c                       0.000000\n",
       "CreatedDate                               0.000000\n",
       "BBC_Position__c                           0.000000\n",
       "Drop_category                             0.000000\n",
       "dtype: float64"
      ]
     },
     "execution_count": 64,
     "metadata": {},
     "output_type": "execute_result"
    }
   ],
   "source": [
    "data.isna().sum().sort_values(ascending = False)/len(data)*100"
   ]
  },
  {
   "cell_type": "markdown",
   "metadata": {
    "id": "1mdN0SNv6DhQ"
   },
   "source": [
    "# Check Anomalies\n",
    "\n",
    "1. Perform EDA\n",
    "2. check wos - remove missing but give in excel sheet:\n",
    "3. Specifically take care of no of bank statements and all other attributes related to it:\n",
    "4. Check again the pace rates - {check for extreme weird values} - min_val_check\n",
    "5. Check for anomalies - time in business -ve_values\n",
    "6. is this business home based - flag based  -\n",
    "7. take care of features to be dropped - take previous references\n",
    "8. fill the missing values - so as to keep the progress alive: \n",
    "9. EDA is completed - save the file"
   ]
  },
  {
   "cell_type": "code",
   "execution_count": 65,
   "metadata": {
    "colab": {
     "base_uri": "https://localhost:8080/"
    },
    "executionInfo": {
     "elapsed": 6,
     "status": "ok",
     "timestamp": 1662117214456,
     "user": {
      "displayName": "Sourav Kapil",
      "userId": "17404349869182897322"
     },
     "user_tz": -330
    },
    "id": "ip7ZFpzQ1NuO",
    "outputId": "1fdcf255-4ada-4e62-e42b-cd3be8da0d14"
   },
   "outputs": [
    {
     "name": "stdout",
     "output_type": "stream",
     "text": [
      "Numerical_attributes : 41 \n",
      "\n",
      "Index(['CreatedDate', 'FundedDate', 'Renewal_PreviousPace',\n",
      "       'Renewal_PreviousPaidPercentageOfRTR', 'Renewal_PreviousCreditScore',\n",
      "       'Renewal_CountPreviousDeals', 'Renewal_PreviousCountBounces',\n",
      "       'Renewal_PreviousPosition', 'Renewal_PreviousHBwLCF',\n",
      "       'Renewal_PreviousHBwoLCF', 'Renewal_PreviousAvgMonthRevenue',\n",
      "       'Renewal_PreviousAvgDailyBalance', 'Renewal_TwoWeekBounces',\n",
      "       'NumberOfBankStatements', 'BankStatement_MA_OverdraftDays',\n",
      "       'BankStatement_MA_NumReturnItems', 'BankStatement_Sum_NumReturnItems',\n",
      "       'LastBankStatement_OverdraftDays', 'Credit_Score__c',\n",
      "       'Time_in_Business__c', 'BBC_Position__c', 'HB_with_LCF_Payment__c',\n",
      "       'HBwoLCF', 'Contract_HoldBack__c', 'AvgMonthlydeposits',\n",
      "       'AvgDailybalance', 'FundedAmount', 'Paybackamount', 'NewDeal_YN',\n",
      "       'ActiveDeal_YN', 'WriteOff_YN', 'FundedWriteOffAmount_Gross',\n",
      "       'WOGross_AdvanceBalance', 'NetWO', 'Avg_ReturnItemdays',\n",
      "       'LatestMonth_ReturnItemDays', 'PctChangeInReveune',\n",
      "       'PctAvgDailybalance2AvgMonthlyDeposits',\n",
      "       'TwoMonthAvg_AdjustedMonthlyDeposits', 'AdjustedMonthlyDeposits',\n",
      "       'drop_percent'],\n",
      "      dtype='object')\n",
      "\n",
      "\n",
      "Categorical_attributes : 8 \n",
      "\n",
      "Index(['OpportunityID', 'OpportunityName', 'Priordeal_OppID',\n",
      "       'Renewal_PreviousCollectionStatus', 'Is_this_Business_home_based__c',\n",
      "       'Industry', 'Industry_Group__c', 'Drop_category'],\n",
      "      dtype='object')\n"
     ]
    }
   ],
   "source": [
    "numerical_attributes = data.columns[data.dtypes!=\"object\"]\n",
    "categorical_attributes = data.columns[data.dtypes==\"object\"]\n",
    "print(\"Numerical_attributes :\", len(numerical_attributes), \"\\n\")\n",
    "print(numerical_attributes)\n",
    "print('\\n')\n",
    "print(\"Categorical_attributes :\", len(categorical_attributes), \"\\n\")\n",
    "print(categorical_attributes)"
   ]
  },
  {
   "cell_type": "markdown",
   "metadata": {
    "id": "1Y6KgwLzBYxW"
   },
   "source": [
    "# Dropped the unwanted features"
   ]
  },
  {
   "cell_type": "code",
   "execution_count": 66,
   "metadata": {
    "executionInfo": {
     "elapsed": 9,
     "status": "ok",
     "timestamp": 1662117215043,
     "user": {
      "displayName": "Sourav Kapil",
      "userId": "17404349869182897322"
     },
     "user_tz": -330
    },
    "id": "q_KH1HwA1-Ln"
   },
   "outputs": [],
   "source": [
    "# Dropped unwanted features\n",
    "data =  data.drop(['OpportunityName',\n",
    "                   'Priordeal_OppID',\n",
    "                   'CreatedDate',\n",
    "                   'FundedDate', \n",
    "                   'Industry_Group__c',\n",
    "                   'Renewal_PreviousCollectionStatus',\n",
    "                   'ActiveDeal_YN',\n",
    "                   'NewDeal_YN',\n",
    "                   'Renewal_PreviousCreditScore',\n",
    "                   'BankStatement_Sum_NumReturnItems',\n",
    "                   'LastBankStatement_OverdraftDays',\n",
    "                   'HBwoLCF',\n",
    "                   'Contract_HoldBack__c',\n",
    "                   'Renewal_PreviousHBwoLCF',\n",
    "                   'NetWO'], axis=1)"
   ]
  },
  {
   "cell_type": "code",
   "execution_count": 67,
   "metadata": {
    "colab": {
     "base_uri": "https://localhost:8080/"
    },
    "executionInfo": {
     "elapsed": 8,
     "status": "ok",
     "timestamp": 1662117215044,
     "user": {
      "displayName": "Sourav Kapil",
      "userId": "17404349869182897322"
     },
     "user_tz": -330
    },
    "id": "HfxKFVF0CWXV",
    "outputId": "bc0f89f0-4e95-4f52-d251-912187f227c7"
   },
   "outputs": [
    {
     "data": {
      "text/plain": [
       "(488, 34)"
      ]
     },
     "execution_count": 67,
     "metadata": {},
     "output_type": "execute_result"
    }
   ],
   "source": [
    "data.shape"
   ]
  },
  {
   "cell_type": "code",
   "execution_count": 68,
   "metadata": {
    "colab": {
     "base_uri": "https://localhost:8080/"
    },
    "executionInfo": {
     "elapsed": 7,
     "status": "ok",
     "timestamp": 1662117215044,
     "user": {
      "displayName": "Sourav Kapil",
      "userId": "17404349869182897322"
     },
     "user_tz": -330
    },
    "id": "IzqBv8xIBJbH",
    "outputId": "a50d4f29-c3be-4705-e2ed-6aad1b7430b7"
   },
   "outputs": [
    {
     "name": "stdout",
     "output_type": "stream",
     "text": [
      "Numerical_attributes : 30 \n",
      "\n",
      "Index(['Renewal_PreviousPace', 'Renewal_PreviousPaidPercentageOfRTR',\n",
      "       'Renewal_CountPreviousDeals', 'Renewal_PreviousCountBounces',\n",
      "       'Renewal_PreviousPosition', 'Renewal_PreviousHBwLCF',\n",
      "       'Renewal_PreviousAvgMonthRevenue', 'Renewal_PreviousAvgDailyBalance',\n",
      "       'Renewal_TwoWeekBounces', 'NumberOfBankStatements',\n",
      "       'BankStatement_MA_OverdraftDays', 'BankStatement_MA_NumReturnItems',\n",
      "       'Credit_Score__c', 'Time_in_Business__c', 'BBC_Position__c',\n",
      "       'HB_with_LCF_Payment__c', 'AvgMonthlydeposits', 'AvgDailybalance',\n",
      "       'FundedAmount', 'Paybackamount', 'WriteOff_YN',\n",
      "       'FundedWriteOffAmount_Gross', 'WOGross_AdvanceBalance',\n",
      "       'Avg_ReturnItemdays', 'LatestMonth_ReturnItemDays',\n",
      "       'PctChangeInReveune', 'PctAvgDailybalance2AvgMonthlyDeposits',\n",
      "       'TwoMonthAvg_AdjustedMonthlyDeposits', 'AdjustedMonthlyDeposits',\n",
      "       'drop_percent'],\n",
      "      dtype='object')\n",
      "\n",
      "\n",
      "Categorical_attributes : 4 \n",
      "\n",
      "Index(['OpportunityID', 'Is_this_Business_home_based__c', 'Industry',\n",
      "       'Drop_category'],\n",
      "      dtype='object')\n"
     ]
    }
   ],
   "source": [
    "numerical_attributes = data.columns[data.dtypes!=\"object\"]\n",
    "categorical_attributes = data.columns[data.dtypes==\"object\"]\n",
    "print(\"Numerical_attributes :\", len(numerical_attributes), \"\\n\")\n",
    "print(numerical_attributes)\n",
    "print('\\n')\n",
    "print(\"Categorical_attributes :\", len(categorical_attributes), \"\\n\")\n",
    "print(categorical_attributes)"
   ]
  },
  {
   "cell_type": "markdown",
   "metadata": {
    "id": "b0ohBD4A2Kso"
   },
   "source": [
    "###  Observations\n",
    "\n",
    "* Some attributes name updated, like -\n",
    "   - FundedWriteOffAmount_Net = NetWO\n",
    "   - AvgMonthRevenue = AvgMonthlydeposits                        \n",
    "   - AvgDailyBalance = AvgDailybalance\n",
    "   - Avg_ReturnItemsDays = Avg_ReturnItemdays                        \n",
    "   - Pct change in Month Revenue = PctChangeInReveune\n",
    "   - PctAvgDailybalance2AvgMonthlyRevenue = PctAvgDailybalance2AvgMonthlyDeposits     \n",
    "\n",
    "\n",
    "* check - WriteOff_YN = should not be any missing values \n",
    "* Is_this_Business_home_based__c = Categorical to Numerical \n",
    "* Renewal_PreviousPace = remove anomoloies < 50% values \n",
    "* Time_in_Business__c = check and drop negative values  \n",
    "\n",
    "### New added columns for decile analysis\n",
    "* Paybackamount\n",
    "* WOGross_AdvanceBalance"
   ]
  },
  {
   "cell_type": "code",
   "execution_count": 69,
   "metadata": {
    "colab": {
     "base_uri": "https://localhost:8080/"
    },
    "executionInfo": {
     "elapsed": 8,
     "status": "ok",
     "timestamp": 1662117215692,
     "user": {
      "displayName": "Sourav Kapil",
      "userId": "17404349869182897322"
     },
     "user_tz": -330
    },
    "id": "VerdixeW19y0",
    "outputId": "9d8c2cbc-9fdf-4770-fadc-a4d068b86615"
   },
   "outputs": [
    {
     "data": {
      "text/plain": [
       "LatestMonth_ReturnItemDays               34.016393\n",
       "PctChangeInReveune                        2.254098\n",
       "Credit_Score__c                           1.844262\n",
       "Renewal_PreviousAvgMonthRevenue           1.639344\n",
       "Renewal_PreviousAvgDailyBalance           1.639344\n",
       "Renewal_PreviousPaidPercentageOfRTR       0.409836\n",
       "Renewal_PreviousPace                      0.409836\n",
       "Industry                                  0.000000\n",
       "WriteOff_YN                               0.000000\n",
       "FundedWriteOffAmount_Gross                0.000000\n",
       "WOGross_AdvanceBalance                    0.000000\n",
       "OpportunityID                             0.000000\n",
       "Avg_ReturnItemdays                        0.000000\n",
       "FundedAmount                              0.000000\n",
       "PctAvgDailybalance2AvgMonthlyDeposits     0.000000\n",
       "TwoMonthAvg_AdjustedMonthlyDeposits       0.000000\n",
       "AdjustedMonthlyDeposits                   0.000000\n",
       "drop_percent                              0.000000\n",
       "Paybackamount                             0.000000\n",
       "HB_with_LCF_Payment__c                    0.000000\n",
       "AvgDailybalance                           0.000000\n",
       "AvgMonthlydeposits                        0.000000\n",
       "BBC_Position__c                           0.000000\n",
       "Is_this_Business_home_based__c            0.000000\n",
       "Time_in_Business__c                       0.000000\n",
       "BankStatement_MA_NumReturnItems           0.000000\n",
       "BankStatement_MA_OverdraftDays            0.000000\n",
       "NumberOfBankStatements                    0.000000\n",
       "Renewal_TwoWeekBounces                    0.000000\n",
       "Renewal_PreviousHBwLCF                    0.000000\n",
       "Renewal_PreviousPosition                  0.000000\n",
       "Renewal_PreviousCountBounces              0.000000\n",
       "Renewal_CountPreviousDeals                0.000000\n",
       "Drop_category                             0.000000\n",
       "dtype: float64"
      ]
     },
     "execution_count": 69,
     "metadata": {},
     "output_type": "execute_result"
    }
   ],
   "source": [
    "# check %_of_missing_values\n",
    "data.isnull().sum().sort_values(ascending = False)/len(data)*100"
   ]
  },
  {
   "cell_type": "code",
   "execution_count": 70,
   "metadata": {
    "executionInfo": {
     "elapsed": 8,
     "status": "ok",
     "timestamp": 1662117215693,
     "user": {
      "displayName": "Sourav Kapil",
      "userId": "17404349869182897322"
     },
     "user_tz": -330
    },
    "id": "9-cx5LRIqWAR"
   },
   "outputs": [],
   "source": [
    "# with pd.ExcelWriter('/content/drive/MyDrive/missing_values_v7_train_data.xlsx') as writer:\n",
    "#   data[data['PctChangeInReveune'].isna()].to_excel(writer, sheet_name = 'PctChangeInReveune')\n",
    "#   data[data['LatestMonth_ReturnItemDays'].isna()].to_excel(writer, sheet_name = 'LatestMonth_ReturnItemDays')\n",
    "#   data[data['Renewal_PreviousPaidPercentageOfRTR'].isna()].to_excel(writer, sheet_name = 'Renewal_PreviousPaidPercentageOfRTR')\n",
    "#   data[data['Renewal_PreviousAvgMonthRevenue'].isna()].to_excel(writer, sheet_name = 'Renewal_PreviousAvgMonthRevenue')\n",
    "#   data[data['PctAvgDailybalance2AvgMonthlyDeposits'].isna()].to_excel(writer, sheet_name = 'PctAvgDailybalance2AvgMonthlyDeposits')\n",
    "#   data[data['AvgMonthlydeposits'].isna()].to_excel(writer, sheet_name = 'AvgMonthlydeposits')\n",
    "#   data[data['Renewal_PreviousAvgDailyBalance'].isna()].to_excel(writer, sheet_name = 'Renewal_PreviousAvgDailyBalance')\n",
    "#   data[data['AvgDailybalance'].isna()].to_excel(writer, sheet_name = 'AvgDailybalance')\n",
    "#   data[data['Avg_ReturnItemdays'].isna()].to_excel(writer, sheet_name = 'Avg_ReturnItemdays')\n",
    "#   data[data['BankStatement_MA_OverdraftDays'].isna()].to_excel(writer, sheet_name = 'BankStatement_MA_OverdraftDays')\n",
    "#   data[data['BankStatement_MA_NumReturnItems'].isna()].to_excel(writer, sheet_name = 'BankStatement_MA_NumReturnItems')\n",
    "#   data[data['Credit_Score__c'].isna()].to_excel(writer, sheet_name = 'Credit_Score__c')\n",
    "#   data[data['Renewal_PreviousPace'].isna()].to_excel(writer, sheet_name = 'Renewal_PreviousPace')"
   ]
  },
  {
   "cell_type": "code",
   "execution_count": 71,
   "metadata": {
    "colab": {
     "base_uri": "https://localhost:8080/"
    },
    "executionInfo": {
     "elapsed": 8,
     "status": "ok",
     "timestamp": 1662117215693,
     "user": {
      "displayName": "Sourav Kapil",
      "userId": "17404349869182897322"
     },
     "user_tz": -330
    },
    "id": "L2wgY6ePio3D",
    "outputId": "dceefffe-011b-4f13-e406-3c49ecac76e9"
   },
   "outputs": [
    {
     "data": {
      "text/plain": [
       "NumberOfBankStatements                  -0.168868\n",
       "Renewal_CountPreviousDeals              -0.108062\n",
       "AvgDailybalance                         -0.104043\n",
       "Renewal_PreviousAvgDailyBalance         -0.080234\n",
       "Renewal_PreviousPaidPercentageOfRTR     -0.078289\n",
       "BankStatement_MA_OverdraftDays          -0.069259\n",
       "Paybackamount                           -0.068494\n",
       "FundedAmount                            -0.068365\n",
       "Time_in_Business__c                     -0.064839\n",
       "TwoMonthAvg_AdjustedMonthlyDeposits     -0.055974\n",
       "PctAvgDailybalance2AvgMonthlyDeposits   -0.054628\n",
       "Avg_ReturnItemdays                      -0.044075\n",
       "Credit_Score__c                         -0.039941\n",
       "Renewal_PreviousPace                    -0.038024\n",
       "Renewal_PreviousAvgMonthRevenue         -0.035984\n",
       "BankStatement_MA_NumReturnItems         -0.030310\n",
       "HB_with_LCF_Payment__c                  -0.027820\n",
       "AvgMonthlydeposits                      -0.014080\n",
       "LatestMonth_ReturnItemDays              -0.010210\n",
       "Renewal_PreviousHBwLCF                  -0.008105\n",
       "Renewal_PreviousCountBounces            -0.000903\n",
       "AdjustedMonthlyDeposits                  0.013118\n",
       "PctChangeInReveune                       0.016662\n",
       "drop_percent                             0.031590\n",
       "Renewal_PreviousPosition                 0.061281\n",
       "BBC_Position__c                          0.075055\n",
       "Renewal_TwoWeekBounces                   0.128622\n",
       "FundedWriteOffAmount_Gross               0.330304\n",
       "WOGross_AdvanceBalance                   0.392397\n",
       "WriteOff_YN                              1.000000\n",
       "Name: WriteOff_YN, dtype: float64"
      ]
     },
     "execution_count": 71,
     "metadata": {},
     "output_type": "execute_result"
    }
   ],
   "source": [
    "data.corr()['WriteOff_YN'].sort_values()"
   ]
  },
  {
   "cell_type": "markdown",
   "metadata": {
    "id": "l3AZ9AKdjhOG"
   },
   "source": [
    "# Tasks to do -\n",
    "\n",
    "* EDA - \n",
    "* -ves, replace it by 0    - WOGross_AdvanceBalance - **Done**\n",
    "* 1 outlier - remove it - **Done**\n",
    "* Pace rate - drop it <50%   - Renewal_PreviousPace - **Done**\n",
    "* check for sir answer - **Done**\n",
    "* decile analysis on and train data both \n",
    "* Contact us - to discuss hyper-parameter tuning"
   ]
  },
  {
   "cell_type": "markdown",
   "metadata": {
    "id": "lehByqOz9YAP"
   },
   "source": [
    "# WriteOff_YN"
   ]
  },
  {
   "cell_type": "code",
   "execution_count": 72,
   "metadata": {
    "colab": {
     "base_uri": "https://localhost:8080/"
    },
    "executionInfo": {
     "elapsed": 13,
     "status": "ok",
     "timestamp": 1662117217008,
     "user": {
      "displayName": "Sourav Kapil",
      "userId": "17404349869182897322"
     },
     "user_tz": -330
    },
    "id": "4vOejMTAsKY0",
    "outputId": "5efe788a-a39f-4317-bbe6-35488420c351"
   },
   "outputs": [
    {
     "data": {
      "text/plain": [
       "0    373\n",
       "1    115\n",
       "Name: WriteOff_YN, dtype: int64"
      ]
     },
     "execution_count": 72,
     "metadata": {},
     "output_type": "execute_result"
    }
   ],
   "source": [
    "data['WriteOff_YN'].value_counts()"
   ]
  },
  {
   "cell_type": "code",
   "execution_count": 73,
   "metadata": {
    "colab": {
     "base_uri": "https://localhost:8080/"
    },
    "executionInfo": {
     "elapsed": 11,
     "status": "ok",
     "timestamp": 1662117217008,
     "user": {
      "displayName": "Sourav Kapil",
      "userId": "17404349869182897322"
     },
     "user_tz": -330
    },
    "id": "yR20DatQxT3m",
    "outputId": "4c3f2068-1e23-4605-9ddb-7836c7528075"
   },
   "outputs": [
    {
     "data": {
      "text/plain": [
       "0"
      ]
     },
     "execution_count": 73,
     "metadata": {},
     "output_type": "execute_result"
    }
   ],
   "source": [
    "data['WriteOff_YN'].isna().sum()"
   ]
  },
  {
   "cell_type": "code",
   "execution_count": 74,
   "metadata": {
    "executionInfo": {
     "elapsed": 10,
     "status": "ok",
     "timestamp": 1662117217009,
     "user": {
      "displayName": "Sourav Kapil",
      "userId": "17404349869182897322"
     },
     "user_tz": -330
    },
    "id": "xFxBbgMXx9o3"
   },
   "outputs": [],
   "source": [
    "# data[data['WriteOff_YN'].isna()]['WriteOff_YN']"
   ]
  },
  {
   "cell_type": "code",
   "execution_count": 75,
   "metadata": {
    "executionInfo": {
     "elapsed": 9,
     "status": "ok",
     "timestamp": 1662117217009,
     "user": {
      "displayName": "Sourav Kapil",
      "userId": "17404349869182897322"
     },
     "user_tz": -330
    },
    "id": "FzRnkfePyN_x"
   },
   "outputs": [],
   "source": [
    "# data.drop(index=[3138, 3139], inplace = True)"
   ]
  },
  {
   "cell_type": "code",
   "execution_count": 76,
   "metadata": {
    "colab": {
     "base_uri": "https://localhost:8080/"
    },
    "executionInfo": {
     "elapsed": 622,
     "status": "ok",
     "timestamp": 1662117217622,
     "user": {
      "displayName": "Sourav Kapil",
      "userId": "17404349869182897322"
     },
     "user_tz": -330
    },
    "id": "8G68caNnyXhP",
    "outputId": "d0751c30-691f-4c8f-a679-31823d1db951"
   },
   "outputs": [
    {
     "data": {
      "text/plain": [
       "0"
      ]
     },
     "execution_count": 76,
     "metadata": {},
     "output_type": "execute_result"
    }
   ],
   "source": [
    "data['WriteOff_YN'].isna().sum()"
   ]
  },
  {
   "cell_type": "code",
   "execution_count": 77,
   "metadata": {
    "colab": {
     "base_uri": "https://localhost:8080/"
    },
    "executionInfo": {
     "elapsed": 17,
     "status": "ok",
     "timestamp": 1662117217622,
     "user": {
      "displayName": "Sourav Kapil",
      "userId": "17404349869182897322"
     },
     "user_tz": -330
    },
    "id": "JidaIP8uvQAy",
    "outputId": "3cfacbb3-0454-40cb-d734-1e1f52b6c96b"
   },
   "outputs": [
    {
     "name": "stdout",
     "output_type": "stream",
     "text": [
      "Percenatge of Non_writeoff_deal:  76 %\n",
      "Percenatge of writeoff_deal:  24 %\n"
     ]
    }
   ],
   "source": [
    "# check for %_skewness\n",
    "print(\"Percenatge of Non_writeoff_deal: \", round(data['WriteOff_YN'].value_counts()[0]/len(data['WriteOff_YN'])*100), \"%\")\n",
    "print(\"Percenatge of writeoff_deal: \", round(data['WriteOff_YN'].value_counts()[1]/len(data['WriteOff_YN'])*100), \"%\")"
   ]
  },
  {
   "cell_type": "code",
   "execution_count": 78,
   "metadata": {
    "executionInfo": {
     "elapsed": 13,
     "status": "ok",
     "timestamp": 1662117217622,
     "user": {
      "displayName": "Sourav Kapil",
      "userId": "17404349869182897322"
     },
     "user_tz": -330
    },
    "id": "oCH-qlkcnV5U"
   },
   "outputs": [],
   "source": [
    "## Dealing with the categorical attributes - converting them with one hot encoding methods"
   ]
  },
  {
   "cell_type": "markdown",
   "metadata": {
    "id": "Hv8ftcZs9hEX"
   },
   "source": [
    "#### Is_this_Business_home_based__c\n",
    "#### Industry\n",
    "#### Drop_category "
   ]
  },
  {
   "cell_type": "code",
   "execution_count": 79,
   "metadata": {
    "executionInfo": {
     "elapsed": 13,
     "status": "ok",
     "timestamp": 1662117217623,
     "user": {
      "displayName": "Sourav Kapil",
      "userId": "17404349869182897322"
     },
     "user_tz": -330
    },
    "id": "SARrlAXl7oQ4"
   },
   "outputs": [],
   "source": [
    "data = pd.get_dummies(data, columns = ['Is_this_Business_home_based__c'],drop_first= True)\n",
    "data = pd.get_dummies(data, columns = [\"Industry\"], drop_first = True)\n",
    "data = pd.get_dummies(data, columns = [\"Drop_category\"], drop_first = True)"
   ]
  },
  {
   "cell_type": "code",
   "execution_count": 80,
   "metadata": {
    "colab": {
     "base_uri": "https://localhost:8080/"
    },
    "executionInfo": {
     "elapsed": 12,
     "status": "ok",
     "timestamp": 1662117217623,
     "user": {
      "displayName": "Sourav Kapil",
      "userId": "17404349869182897322"
     },
     "user_tz": -330
    },
    "id": "buyTKwGWnwrG",
    "outputId": "cdb3a85f-173e-4ca3-fb4a-8de43d5c4bf2"
   },
   "outputs": [
    {
     "name": "stdout",
     "output_type": "stream",
     "text": [
      "<class 'pandas.core.frame.DataFrame'>\n",
      "RangeIndex: 488 entries, 0 to 487\n",
      "Data columns (total 41 columns):\n",
      " #   Column                                      Non-Null Count  Dtype  \n",
      "---  ------                                      --------------  -----  \n",
      " 0   OpportunityID                               488 non-null    object \n",
      " 1   Renewal_PreviousPace                        486 non-null    float64\n",
      " 2   Renewal_PreviousPaidPercentageOfRTR         486 non-null    float64\n",
      " 3   Renewal_CountPreviousDeals                  488 non-null    int64  \n",
      " 4   Renewal_PreviousCountBounces                488 non-null    int64  \n",
      " 5   Renewal_PreviousPosition                    488 non-null    int64  \n",
      " 6   Renewal_PreviousHBwLCF                      488 non-null    float64\n",
      " 7   Renewal_PreviousAvgMonthRevenue             480 non-null    float64\n",
      " 8   Renewal_PreviousAvgDailyBalance             480 non-null    float64\n",
      " 9   Renewal_TwoWeekBounces                      488 non-null    int64  \n",
      " 10  NumberOfBankStatements                      488 non-null    int64  \n",
      " 11  BankStatement_MA_OverdraftDays              488 non-null    float64\n",
      " 12  BankStatement_MA_NumReturnItems             488 non-null    float64\n",
      " 13  Credit_Score__c                             479 non-null    float64\n",
      " 14  Time_in_Business__c                         488 non-null    float64\n",
      " 15  BBC_Position__c                             488 non-null    int64  \n",
      " 16  HB_with_LCF_Payment__c                      488 non-null    float64\n",
      " 17  AvgMonthlydeposits                          488 non-null    float64\n",
      " 18  AvgDailybalance                             488 non-null    float64\n",
      " 19  FundedAmount                                488 non-null    int64  \n",
      " 20  Paybackamount                               488 non-null    float64\n",
      " 21  WriteOff_YN                                 488 non-null    int64  \n",
      " 22  FundedWriteOffAmount_Gross                  488 non-null    float64\n",
      " 23  WOGross_AdvanceBalance                      488 non-null    float64\n",
      " 24  Avg_ReturnItemdays                          488 non-null    float64\n",
      " 25  LatestMonth_ReturnItemDays                  322 non-null    float64\n",
      " 26  PctChangeInReveune                          477 non-null    float64\n",
      " 27  PctAvgDailybalance2AvgMonthlyDeposits       488 non-null    float64\n",
      " 28  TwoMonthAvg_AdjustedMonthlyDeposits         488 non-null    float64\n",
      " 29  AdjustedMonthlyDeposits                     488 non-null    float64\n",
      " 30  drop_percent                                488 non-null    float64\n",
      " 31  Is_this_Business_home_based__c_Yes          488 non-null    uint8  \n",
      " 32  Industry_Construction                       488 non-null    uint8  \n",
      " 33  Industry_Finance, Insurance, Real Estate    488 non-null    uint8  \n",
      " 34  Industry_Manufacturing                      488 non-null    uint8  \n",
      " 35  Industry_Mining                             488 non-null    uint8  \n",
      " 36  Industry_Retail                             488 non-null    uint8  \n",
      " 37  Industry_Services                           488 non-null    uint8  \n",
      " 38  Industry_Transportation & Public Utilities  488 non-null    uint8  \n",
      " 39  Industry_Wholesale                          488 non-null    uint8  \n",
      " 40  Drop_category_Positive                      488 non-null    uint8  \n",
      "dtypes: float64(22), int64(8), object(1), uint8(10)\n",
      "memory usage: 123.1+ KB\n"
     ]
    }
   ],
   "source": [
    "data.info()"
   ]
  },
  {
   "cell_type": "markdown",
   "metadata": {
    "id": "LBrxROM69SU_"
   },
   "source": [
    "# Renewal_PreviousPace"
   ]
  },
  {
   "cell_type": "code",
   "execution_count": 81,
   "metadata": {
    "colab": {
     "base_uri": "https://localhost:8080/"
    },
    "executionInfo": {
     "elapsed": 10,
     "status": "ok",
     "timestamp": 1662117217623,
     "user": {
      "displayName": "Sourav Kapil",
      "userId": "17404349869182897322"
     },
     "user_tz": -330
    },
    "id": "O0exyE3h0Etr",
    "outputId": "d3761ee1-a95d-44b2-9181-394d1da19ecd"
   },
   "outputs": [
    {
     "data": {
      "text/plain": [
       "49    NaN\n",
       "212   NaN\n",
       "Name: Renewal_PreviousPace, dtype: float64"
      ]
     },
     "execution_count": 81,
     "metadata": {},
     "output_type": "execute_result"
    }
   ],
   "source": [
    "data[data['Renewal_PreviousPace'].isna()]['Renewal_PreviousPace'] #fill this up"
   ]
  },
  {
   "cell_type": "code",
   "execution_count": 82,
   "metadata": {
    "colab": {
     "base_uri": "https://localhost:8080/",
     "height": 112
    },
    "executionInfo": {
     "elapsed": 14,
     "status": "ok",
     "timestamp": 1662117218234,
     "user": {
      "displayName": "Sourav Kapil",
      "userId": "17404349869182897322"
     },
     "user_tz": -330
    },
    "id": "vBry9JeH0Equ",
    "outputId": "44dcef9d-ca13-42d2-903e-0522667a6d28"
   },
   "outputs": [
    {
     "data": {
      "text/html": [
       "\n",
       "  <div id=\"df-9e769f19-e70d-4d89-ac08-cb7cb33079eb\">\n",
       "    <div class=\"colab-df-container\">\n",
       "      <div>\n",
       "<style scoped>\n",
       "    .dataframe tbody tr th:only-of-type {\n",
       "        vertical-align: middle;\n",
       "    }\n",
       "\n",
       "    .dataframe tbody tr th {\n",
       "        vertical-align: top;\n",
       "    }\n",
       "\n",
       "    .dataframe thead th {\n",
       "        text-align: right;\n",
       "    }\n",
       "</style>\n",
       "<table border=\"1\" class=\"dataframe\">\n",
       "  <thead>\n",
       "    <tr style=\"text-align: right;\">\n",
       "      <th></th>\n",
       "      <th>Renewal_PreviousPace</th>\n",
       "      <th>WriteOff_YN</th>\n",
       "      <th>OpportunityID</th>\n",
       "    </tr>\n",
       "  </thead>\n",
       "  <tbody>\n",
       "    <tr>\n",
       "      <th>110</th>\n",
       "      <td>10.04</td>\n",
       "      <td>0</td>\n",
       "      <td>0062M00000o9rEEQAY</td>\n",
       "    </tr>\n",
       "    <tr>\n",
       "      <th>223</th>\n",
       "      <td>23.22</td>\n",
       "      <td>1</td>\n",
       "      <td>0062M00000oBctkQAC</td>\n",
       "    </tr>\n",
       "  </tbody>\n",
       "</table>\n",
       "</div>\n",
       "      <button class=\"colab-df-convert\" onclick=\"convertToInteractive('df-9e769f19-e70d-4d89-ac08-cb7cb33079eb')\"\n",
       "              title=\"Convert this dataframe to an interactive table.\"\n",
       "              style=\"display:none;\">\n",
       "        \n",
       "  <svg xmlns=\"http://www.w3.org/2000/svg\" height=\"24px\"viewBox=\"0 0 24 24\"\n",
       "       width=\"24px\">\n",
       "    <path d=\"M0 0h24v24H0V0z\" fill=\"none\"/>\n",
       "    <path d=\"M18.56 5.44l.94 2.06.94-2.06 2.06-.94-2.06-.94-.94-2.06-.94 2.06-2.06.94zm-11 1L8.5 8.5l.94-2.06 2.06-.94-2.06-.94L8.5 2.5l-.94 2.06-2.06.94zm10 10l.94 2.06.94-2.06 2.06-.94-2.06-.94-.94-2.06-.94 2.06-2.06.94z\"/><path d=\"M17.41 7.96l-1.37-1.37c-.4-.4-.92-.59-1.43-.59-.52 0-1.04.2-1.43.59L10.3 9.45l-7.72 7.72c-.78.78-.78 2.05 0 2.83L4 21.41c.39.39.9.59 1.41.59.51 0 1.02-.2 1.41-.59l7.78-7.78 2.81-2.81c.8-.78.8-2.07 0-2.86zM5.41 20L4 18.59l7.72-7.72 1.47 1.35L5.41 20z\"/>\n",
       "  </svg>\n",
       "      </button>\n",
       "      \n",
       "  <style>\n",
       "    .colab-df-container {\n",
       "      display:flex;\n",
       "      flex-wrap:wrap;\n",
       "      gap: 12px;\n",
       "    }\n",
       "\n",
       "    .colab-df-convert {\n",
       "      background-color: #E8F0FE;\n",
       "      border: none;\n",
       "      border-radius: 50%;\n",
       "      cursor: pointer;\n",
       "      display: none;\n",
       "      fill: #1967D2;\n",
       "      height: 32px;\n",
       "      padding: 0 0 0 0;\n",
       "      width: 32px;\n",
       "    }\n",
       "\n",
       "    .colab-df-convert:hover {\n",
       "      background-color: #E2EBFA;\n",
       "      box-shadow: 0px 1px 2px rgba(60, 64, 67, 0.3), 0px 1px 3px 1px rgba(60, 64, 67, 0.15);\n",
       "      fill: #174EA6;\n",
       "    }\n",
       "\n",
       "    [theme=dark] .colab-df-convert {\n",
       "      background-color: #3B4455;\n",
       "      fill: #D2E3FC;\n",
       "    }\n",
       "\n",
       "    [theme=dark] .colab-df-convert:hover {\n",
       "      background-color: #434B5C;\n",
       "      box-shadow: 0px 1px 3px 1px rgba(0, 0, 0, 0.15);\n",
       "      filter: drop-shadow(0px 1px 2px rgba(0, 0, 0, 0.3));\n",
       "      fill: #FFFFFF;\n",
       "    }\n",
       "  </style>\n",
       "\n",
       "      <script>\n",
       "        const buttonEl =\n",
       "          document.querySelector('#df-9e769f19-e70d-4d89-ac08-cb7cb33079eb button.colab-df-convert');\n",
       "        buttonEl.style.display =\n",
       "          google.colab.kernel.accessAllowed ? 'block' : 'none';\n",
       "\n",
       "        async function convertToInteractive(key) {\n",
       "          const element = document.querySelector('#df-9e769f19-e70d-4d89-ac08-cb7cb33079eb');\n",
       "          const dataTable =\n",
       "            await google.colab.kernel.invokeFunction('convertToInteractive',\n",
       "                                                     [key], {});\n",
       "          if (!dataTable) return;\n",
       "\n",
       "          const docLinkHtml = 'Like what you see? Visit the ' +\n",
       "            '<a target=\"_blank\" href=https://colab.research.google.com/notebooks/data_table.ipynb>data table notebook</a>'\n",
       "            + ' to learn more about interactive tables.';\n",
       "          element.innerHTML = '';\n",
       "          dataTable['output_type'] = 'display_data';\n",
       "          await google.colab.output.renderOutput(dataTable, element);\n",
       "          const docLink = document.createElement('div');\n",
       "          docLink.innerHTML = docLinkHtml;\n",
       "          element.appendChild(docLink);\n",
       "        }\n",
       "      </script>\n",
       "    </div>\n",
       "  </div>\n",
       "  "
      ],
      "text/plain": [
       "     Renewal_PreviousPace  WriteOff_YN       OpportunityID\n",
       "110                 10.04            0  0062M00000o9rEEQAY\n",
       "223                 23.22            1  0062M00000oBctkQAC"
      ]
     },
     "execution_count": 82,
     "metadata": {},
     "output_type": "execute_result"
    }
   ],
   "source": [
    "data[data['Renewal_PreviousPace'] < 30][['Renewal_PreviousPace',\"WriteOff_YN\", \"OpportunityID\"]]"
   ]
  },
  {
   "cell_type": "code",
   "execution_count": 83,
   "metadata": {
    "executionInfo": {
     "elapsed": 12,
     "status": "ok",
     "timestamp": 1662117218235,
     "user": {
      "displayName": "Sourav Kapil",
      "userId": "17404349869182897322"
     },
     "user_tz": -330
    },
    "id": "YSgN60IAkK3G"
   },
   "outputs": [],
   "source": [
    "data.drop(index=[110,223], inplace = True)"
   ]
  },
  {
   "cell_type": "code",
   "execution_count": 84,
   "metadata": {
    "colab": {
     "base_uri": "https://localhost:8080/"
    },
    "executionInfo": {
     "elapsed": 13,
     "status": "ok",
     "timestamp": 1662117218236,
     "user": {
      "displayName": "Sourav Kapil",
      "userId": "17404349869182897322"
     },
     "user_tz": -330
    },
    "id": "s8ic2X3FmurN",
    "outputId": "0ed2e1bf-7b1b-494f-b15e-d8502c7de4cd"
   },
   "outputs": [
    {
     "data": {
      "text/plain": [
       "Series([], Name: Renewal_PreviousPace, dtype: float64)"
      ]
     },
     "execution_count": 84,
     "metadata": {},
     "output_type": "execute_result"
    }
   ],
   "source": [
    "data[data['Renewal_PreviousPace'] < 30]['Renewal_PreviousPace']"
   ]
  },
  {
   "cell_type": "code",
   "execution_count": 85,
   "metadata": {
    "executionInfo": {
     "elapsed": 9,
     "status": "ok",
     "timestamp": 1662117218236,
     "user": {
      "displayName": "Sourav Kapil",
      "userId": "17404349869182897322"
     },
     "user_tz": -330
    },
    "id": "mwKGN5hF98o_"
   },
   "outputs": [],
   "source": [
    "# data[data['Renewal_PreviousPace'] < 50][['Renewal_PreviousPace', 'OpportunityID']].to_excel('/content/drive/MyDrive/anomalies_pace_rate.xlsx', index = True)"
   ]
  },
  {
   "cell_type": "markdown",
   "metadata": {
    "id": "nL9Kda3A9MH3"
   },
   "source": [
    "#### Time_in_Business__c - cheking -ve values"
   ]
  },
  {
   "cell_type": "code",
   "execution_count": 86,
   "metadata": {
    "colab": {
     "base_uri": "https://localhost:8080/"
    },
    "executionInfo": {
     "elapsed": 5,
     "status": "ok",
     "timestamp": 1662117218823,
     "user": {
      "displayName": "Sourav Kapil",
      "userId": "17404349869182897322"
     },
     "user_tz": -330
    },
    "id": "1sXeCM9g0ElE",
    "outputId": "7d36ea32-2605-446c-946e-48929d702a38"
   },
   "outputs": [
    {
     "data": {
      "text/plain": [
       "Series([], Name: Time_in_Business__c, dtype: float64)"
      ]
     },
     "execution_count": 86,
     "metadata": {},
     "output_type": "execute_result"
    }
   ],
   "source": [
    "data[data[\"Time_in_Business__c\"]<0][\"Time_in_Business__c\"]"
   ]
  },
  {
   "cell_type": "code",
   "execution_count": 87,
   "metadata": {
    "executionInfo": {
     "elapsed": 3,
     "status": "ok",
     "timestamp": 1662117218823,
     "user": {
      "displayName": "Sourav Kapil",
      "userId": "17404349869182897322"
     },
     "user_tz": -330
    },
    "id": "UCyTqNFG5W3y"
   },
   "outputs": [],
   "source": [
    "#data[\"Time_in_Business__c\"] = data[\"Time_in_Business__c\"].replace([-0.52,-0.85, -0.12, -1.07, -0.91, -0.72, -0.08, -0.06, -0.65, -0.37, -0.24], data[\"Time_in_Business__c\"].median())"
   ]
  },
  {
   "cell_type": "markdown",
   "metadata": {
    "id": "AtxRKlXCnVVz"
   },
   "source": [
    "#### WOGross_AdvanceBalance\n",
    "\n",
    "\n",
    "1.   Look for -ve values and replace them with zero"
   ]
  },
  {
   "cell_type": "code",
   "execution_count": 88,
   "metadata": {
    "colab": {
     "base_uri": "https://localhost:8080/"
    },
    "executionInfo": {
     "elapsed": 34,
     "status": "ok",
     "timestamp": 1662117223102,
     "user": {
      "displayName": "Sourav Kapil",
      "userId": "17404349869182897322"
     },
     "user_tz": -330
    },
    "id": "8htb2DXo7XIE",
    "outputId": "0fa88fe9-11c0-479d-ca5f-40d29acb687f"
   },
   "outputs": [
    {
     "data": {
      "text/plain": [
       "count       486.000000\n",
       "mean       3948.086461\n",
       "std       18147.717532\n",
       "min           0.000000\n",
       "25%           0.000000\n",
       "50%           0.000000\n",
       "75%           0.000000\n",
       "max      344226.190000\n",
       "Name: WOGross_AdvanceBalance, dtype: float64"
      ]
     },
     "execution_count": 88,
     "metadata": {},
     "output_type": "execute_result"
    }
   ],
   "source": [
    "data['WOGross_AdvanceBalance'].describe()"
   ]
  },
  {
   "cell_type": "code",
   "execution_count": 89,
   "metadata": {
    "colab": {
     "base_uri": "https://localhost:8080/"
    },
    "executionInfo": {
     "elapsed": 31,
     "status": "ok",
     "timestamp": 1662117223103,
     "user": {
      "displayName": "Sourav Kapil",
      "userId": "17404349869182897322"
     },
     "user_tz": -330
    },
    "id": "q4315jQL7cQl",
    "outputId": "1e2ffce3-ffe0-4dea-8881-aad5d8bcb14e"
   },
   "outputs": [
    {
     "data": {
      "text/plain": [
       "5      344226.19\n",
       "7       30839.75\n",
       "8        6672.00\n",
       "10      14354.45\n",
       "13      12091.14\n",
       "         ...    \n",
       "465     65577.24\n",
       "472     17164.73\n",
       "479      2881.08\n",
       "480     91386.70\n",
       "482     14023.55\n",
       "Name: WOGross_AdvanceBalance, Length: 114, dtype: float64"
      ]
     },
     "execution_count": 89,
     "metadata": {},
     "output_type": "execute_result"
    }
   ],
   "source": [
    "data[data['WOGross_AdvanceBalance'] > 0]['WOGross_AdvanceBalance']"
   ]
  },
  {
   "cell_type": "code",
   "execution_count": 90,
   "metadata": {
    "colab": {
     "base_uri": "https://localhost:8080/",
     "height": 49
    },
    "executionInfo": {
     "elapsed": 27,
     "status": "ok",
     "timestamp": 1662117223104,
     "user": {
      "displayName": "Sourav Kapil",
      "userId": "17404349869182897322"
     },
     "user_tz": -330
    },
    "id": "b77blILf7lIF",
    "outputId": "a465abd8-33cc-46ad-ab1a-7692d285a772"
   },
   "outputs": [
    {
     "data": {
      "text/html": [
       "\n",
       "  <div id=\"df-14ded6b7-8ada-4b7d-8c8a-35dae49c1b62\">\n",
       "    <div class=\"colab-df-container\">\n",
       "      <div>\n",
       "<style scoped>\n",
       "    .dataframe tbody tr th:only-of-type {\n",
       "        vertical-align: middle;\n",
       "    }\n",
       "\n",
       "    .dataframe tbody tr th {\n",
       "        vertical-align: top;\n",
       "    }\n",
       "\n",
       "    .dataframe thead th {\n",
       "        text-align: right;\n",
       "    }\n",
       "</style>\n",
       "<table border=\"1\" class=\"dataframe\">\n",
       "  <thead>\n",
       "    <tr style=\"text-align: right;\">\n",
       "      <th></th>\n",
       "      <th>WOGross_AdvanceBalance</th>\n",
       "      <th>WriteOff_YN</th>\n",
       "    </tr>\n",
       "  </thead>\n",
       "  <tbody>\n",
       "  </tbody>\n",
       "</table>\n",
       "</div>\n",
       "      <button class=\"colab-df-convert\" onclick=\"convertToInteractive('df-14ded6b7-8ada-4b7d-8c8a-35dae49c1b62')\"\n",
       "              title=\"Convert this dataframe to an interactive table.\"\n",
       "              style=\"display:none;\">\n",
       "        \n",
       "  <svg xmlns=\"http://www.w3.org/2000/svg\" height=\"24px\"viewBox=\"0 0 24 24\"\n",
       "       width=\"24px\">\n",
       "    <path d=\"M0 0h24v24H0V0z\" fill=\"none\"/>\n",
       "    <path d=\"M18.56 5.44l.94 2.06.94-2.06 2.06-.94-2.06-.94-.94-2.06-.94 2.06-2.06.94zm-11 1L8.5 8.5l.94-2.06 2.06-.94-2.06-.94L8.5 2.5l-.94 2.06-2.06.94zm10 10l.94 2.06.94-2.06 2.06-.94-2.06-.94-.94-2.06-.94 2.06-2.06.94z\"/><path d=\"M17.41 7.96l-1.37-1.37c-.4-.4-.92-.59-1.43-.59-.52 0-1.04.2-1.43.59L10.3 9.45l-7.72 7.72c-.78.78-.78 2.05 0 2.83L4 21.41c.39.39.9.59 1.41.59.51 0 1.02-.2 1.41-.59l7.78-7.78 2.81-2.81c.8-.78.8-2.07 0-2.86zM5.41 20L4 18.59l7.72-7.72 1.47 1.35L5.41 20z\"/>\n",
       "  </svg>\n",
       "      </button>\n",
       "      \n",
       "  <style>\n",
       "    .colab-df-container {\n",
       "      display:flex;\n",
       "      flex-wrap:wrap;\n",
       "      gap: 12px;\n",
       "    }\n",
       "\n",
       "    .colab-df-convert {\n",
       "      background-color: #E8F0FE;\n",
       "      border: none;\n",
       "      border-radius: 50%;\n",
       "      cursor: pointer;\n",
       "      display: none;\n",
       "      fill: #1967D2;\n",
       "      height: 32px;\n",
       "      padding: 0 0 0 0;\n",
       "      width: 32px;\n",
       "    }\n",
       "\n",
       "    .colab-df-convert:hover {\n",
       "      background-color: #E2EBFA;\n",
       "      box-shadow: 0px 1px 2px rgba(60, 64, 67, 0.3), 0px 1px 3px 1px rgba(60, 64, 67, 0.15);\n",
       "      fill: #174EA6;\n",
       "    }\n",
       "\n",
       "    [theme=dark] .colab-df-convert {\n",
       "      background-color: #3B4455;\n",
       "      fill: #D2E3FC;\n",
       "    }\n",
       "\n",
       "    [theme=dark] .colab-df-convert:hover {\n",
       "      background-color: #434B5C;\n",
       "      box-shadow: 0px 1px 3px 1px rgba(0, 0, 0, 0.15);\n",
       "      filter: drop-shadow(0px 1px 2px rgba(0, 0, 0, 0.3));\n",
       "      fill: #FFFFFF;\n",
       "    }\n",
       "  </style>\n",
       "\n",
       "      <script>\n",
       "        const buttonEl =\n",
       "          document.querySelector('#df-14ded6b7-8ada-4b7d-8c8a-35dae49c1b62 button.colab-df-convert');\n",
       "        buttonEl.style.display =\n",
       "          google.colab.kernel.accessAllowed ? 'block' : 'none';\n",
       "\n",
       "        async function convertToInteractive(key) {\n",
       "          const element = document.querySelector('#df-14ded6b7-8ada-4b7d-8c8a-35dae49c1b62');\n",
       "          const dataTable =\n",
       "            await google.colab.kernel.invokeFunction('convertToInteractive',\n",
       "                                                     [key], {});\n",
       "          if (!dataTable) return;\n",
       "\n",
       "          const docLinkHtml = 'Like what you see? Visit the ' +\n",
       "            '<a target=\"_blank\" href=https://colab.research.google.com/notebooks/data_table.ipynb>data table notebook</a>'\n",
       "            + ' to learn more about interactive tables.';\n",
       "          element.innerHTML = '';\n",
       "          dataTable['output_type'] = 'display_data';\n",
       "          await google.colab.output.renderOutput(dataTable, element);\n",
       "          const docLink = document.createElement('div');\n",
       "          docLink.innerHTML = docLinkHtml;\n",
       "          element.appendChild(docLink);\n",
       "        }\n",
       "      </script>\n",
       "    </div>\n",
       "  </div>\n",
       "  "
      ],
      "text/plain": [
       "Empty DataFrame\n",
       "Columns: [WOGross_AdvanceBalance, WriteOff_YN]\n",
       "Index: []"
      ]
     },
     "execution_count": 90,
     "metadata": {},
     "output_type": "execute_result"
    }
   ],
   "source": [
    "data[(data['WOGross_AdvanceBalance'] < 0) & data['WriteOff_YN'] == 1][['WOGross_AdvanceBalance', 'WriteOff_YN']][:10]"
   ]
  },
  {
   "cell_type": "code",
   "execution_count": 91,
   "metadata": {
    "colab": {
     "base_uri": "https://localhost:8080/",
     "height": 49
    },
    "executionInfo": {
     "elapsed": 25,
     "status": "ok",
     "timestamp": 1662117223104,
     "user": {
      "displayName": "Sourav Kapil",
      "userId": "17404349869182897322"
     },
     "user_tz": -330
    },
    "id": "sZ1ybL2h9bKT",
    "outputId": "aebe3b55-67e0-4e65-fa2d-485e06771c42"
   },
   "outputs": [
    {
     "data": {
      "text/html": [
       "\n",
       "  <div id=\"df-e84b0641-4782-465c-ac62-fb942d7cea40\">\n",
       "    <div class=\"colab-df-container\">\n",
       "      <div>\n",
       "<style scoped>\n",
       "    .dataframe tbody tr th:only-of-type {\n",
       "        vertical-align: middle;\n",
       "    }\n",
       "\n",
       "    .dataframe tbody tr th {\n",
       "        vertical-align: top;\n",
       "    }\n",
       "\n",
       "    .dataframe thead th {\n",
       "        text-align: right;\n",
       "    }\n",
       "</style>\n",
       "<table border=\"1\" class=\"dataframe\">\n",
       "  <thead>\n",
       "    <tr style=\"text-align: right;\">\n",
       "      <th></th>\n",
       "      <th>WOGross_AdvanceBalance</th>\n",
       "      <th>FundedWriteOffAmount_Gross</th>\n",
       "      <th>WriteOff_YN</th>\n",
       "    </tr>\n",
       "  </thead>\n",
       "  <tbody>\n",
       "  </tbody>\n",
       "</table>\n",
       "</div>\n",
       "      <button class=\"colab-df-convert\" onclick=\"convertToInteractive('df-e84b0641-4782-465c-ac62-fb942d7cea40')\"\n",
       "              title=\"Convert this dataframe to an interactive table.\"\n",
       "              style=\"display:none;\">\n",
       "        \n",
       "  <svg xmlns=\"http://www.w3.org/2000/svg\" height=\"24px\"viewBox=\"0 0 24 24\"\n",
       "       width=\"24px\">\n",
       "    <path d=\"M0 0h24v24H0V0z\" fill=\"none\"/>\n",
       "    <path d=\"M18.56 5.44l.94 2.06.94-2.06 2.06-.94-2.06-.94-.94-2.06-.94 2.06-2.06.94zm-11 1L8.5 8.5l.94-2.06 2.06-.94-2.06-.94L8.5 2.5l-.94 2.06-2.06.94zm10 10l.94 2.06.94-2.06 2.06-.94-2.06-.94-.94-2.06-.94 2.06-2.06.94z\"/><path d=\"M17.41 7.96l-1.37-1.37c-.4-.4-.92-.59-1.43-.59-.52 0-1.04.2-1.43.59L10.3 9.45l-7.72 7.72c-.78.78-.78 2.05 0 2.83L4 21.41c.39.39.9.59 1.41.59.51 0 1.02-.2 1.41-.59l7.78-7.78 2.81-2.81c.8-.78.8-2.07 0-2.86zM5.41 20L4 18.59l7.72-7.72 1.47 1.35L5.41 20z\"/>\n",
       "  </svg>\n",
       "      </button>\n",
       "      \n",
       "  <style>\n",
       "    .colab-df-container {\n",
       "      display:flex;\n",
       "      flex-wrap:wrap;\n",
       "      gap: 12px;\n",
       "    }\n",
       "\n",
       "    .colab-df-convert {\n",
       "      background-color: #E8F0FE;\n",
       "      border: none;\n",
       "      border-radius: 50%;\n",
       "      cursor: pointer;\n",
       "      display: none;\n",
       "      fill: #1967D2;\n",
       "      height: 32px;\n",
       "      padding: 0 0 0 0;\n",
       "      width: 32px;\n",
       "    }\n",
       "\n",
       "    .colab-df-convert:hover {\n",
       "      background-color: #E2EBFA;\n",
       "      box-shadow: 0px 1px 2px rgba(60, 64, 67, 0.3), 0px 1px 3px 1px rgba(60, 64, 67, 0.15);\n",
       "      fill: #174EA6;\n",
       "    }\n",
       "\n",
       "    [theme=dark] .colab-df-convert {\n",
       "      background-color: #3B4455;\n",
       "      fill: #D2E3FC;\n",
       "    }\n",
       "\n",
       "    [theme=dark] .colab-df-convert:hover {\n",
       "      background-color: #434B5C;\n",
       "      box-shadow: 0px 1px 3px 1px rgba(0, 0, 0, 0.15);\n",
       "      filter: drop-shadow(0px 1px 2px rgba(0, 0, 0, 0.3));\n",
       "      fill: #FFFFFF;\n",
       "    }\n",
       "  </style>\n",
       "\n",
       "      <script>\n",
       "        const buttonEl =\n",
       "          document.querySelector('#df-e84b0641-4782-465c-ac62-fb942d7cea40 button.colab-df-convert');\n",
       "        buttonEl.style.display =\n",
       "          google.colab.kernel.accessAllowed ? 'block' : 'none';\n",
       "\n",
       "        async function convertToInteractive(key) {\n",
       "          const element = document.querySelector('#df-e84b0641-4782-465c-ac62-fb942d7cea40');\n",
       "          const dataTable =\n",
       "            await google.colab.kernel.invokeFunction('convertToInteractive',\n",
       "                                                     [key], {});\n",
       "          if (!dataTable) return;\n",
       "\n",
       "          const docLinkHtml = 'Like what you see? Visit the ' +\n",
       "            '<a target=\"_blank\" href=https://colab.research.google.com/notebooks/data_table.ipynb>data table notebook</a>'\n",
       "            + ' to learn more about interactive tables.';\n",
       "          element.innerHTML = '';\n",
       "          dataTable['output_type'] = 'display_data';\n",
       "          await google.colab.output.renderOutput(dataTable, element);\n",
       "          const docLink = document.createElement('div');\n",
       "          docLink.innerHTML = docLinkHtml;\n",
       "          element.appendChild(docLink);\n",
       "        }\n",
       "      </script>\n",
       "    </div>\n",
       "  </div>\n",
       "  "
      ],
      "text/plain": [
       "Empty DataFrame\n",
       "Columns: [WOGross_AdvanceBalance, FundedWriteOffAmount_Gross, WriteOff_YN]\n",
       "Index: []"
      ]
     },
     "execution_count": 91,
     "metadata": {},
     "output_type": "execute_result"
    }
   ],
   "source": [
    "# Thesre are technically the anomalies - need to treat them differently at the decile time \n",
    "data[(data['WOGross_AdvanceBalance'] == 0) & data['WriteOff_YN'] == 1][['WOGross_AdvanceBalance', 'FundedWriteOffAmount_Gross', 'WriteOff_YN']]"
   ]
  },
  {
   "cell_type": "code",
   "execution_count": 92,
   "metadata": {
    "colab": {
     "base_uri": "https://localhost:8080/"
    },
    "executionInfo": {
     "elapsed": 25,
     "status": "ok",
     "timestamp": 1662117223105,
     "user": {
      "displayName": "Sourav Kapil",
      "userId": "17404349869182897322"
     },
     "user_tz": -330
    },
    "id": "aTOzFXxDzSV1",
    "outputId": "189cbbd7-621a-4645-e9cf-2cdde3319b4d"
   },
   "outputs": [
    {
     "data": {
      "text/plain": [
       "0"
      ]
     },
     "execution_count": 92,
     "metadata": {},
     "output_type": "execute_result"
    }
   ],
   "source": [
    "len(data[(data['WOGross_AdvanceBalance'] == 0) & data['WriteOff_YN'] == 1][['WOGross_AdvanceBalance', 'WriteOff_YN']])"
   ]
  },
  {
   "cell_type": "code",
   "execution_count": 93,
   "metadata": {
    "colab": {
     "base_uri": "https://localhost:8080/"
    },
    "executionInfo": {
     "elapsed": 22,
     "status": "ok",
     "timestamp": 1662117223106,
     "user": {
      "displayName": "Sourav Kapil",
      "userId": "17404349869182897322"
     },
     "user_tz": -330
    },
    "id": "pF4mWzVdnbgE",
    "outputId": "c27728e3-0f79-4dc8-fd55-cb51190a1d19"
   },
   "outputs": [
    {
     "data": {
      "text/plain": [
       "Series([], Name: WOGross_AdvanceBalance, dtype: float64)"
      ]
     },
     "execution_count": 93,
     "metadata": {},
     "output_type": "execute_result"
    }
   ],
   "source": [
    "data[data['WOGross_AdvanceBalance'] < 0]['WOGross_AdvanceBalance']"
   ]
  },
  {
   "cell_type": "code",
   "execution_count": 94,
   "metadata": {
    "colab": {
     "base_uri": "https://localhost:8080/"
    },
    "executionInfo": {
     "elapsed": 19,
     "status": "ok",
     "timestamp": 1662117223106,
     "user": {
      "displayName": "Sourav Kapil",
      "userId": "17404349869182897322"
     },
     "user_tz": -330
    },
    "id": "NRzBPfxDotR5",
    "outputId": "9746e138-fe8b-417c-bbb3-52b0e9308bca"
   },
   "outputs": [
    {
     "data": {
      "text/plain": [
       "Series([], Name: WriteOff_YN, dtype: int64)"
      ]
     },
     "execution_count": 94,
     "metadata": {},
     "output_type": "execute_result"
    }
   ],
   "source": [
    "data[data['WOGross_AdvanceBalance'] < 0]['WriteOff_YN'].value_counts()"
   ]
  },
  {
   "cell_type": "code",
   "execution_count": 95,
   "metadata": {
    "colab": {
     "base_uri": "https://localhost:8080/",
     "height": 424
    },
    "executionInfo": {
     "elapsed": 17,
     "status": "ok",
     "timestamp": 1662117223107,
     "user": {
      "displayName": "Sourav Kapil",
      "userId": "17404349869182897322"
     },
     "user_tz": -330
    },
    "id": "9mQB4_4TS6pK",
    "outputId": "65514d05-0fb5-41c7-fe74-4b2b2d0d616a"
   },
   "outputs": [
    {
     "data": {
      "text/html": [
       "\n",
       "  <div id=\"df-d3a0e54e-29d8-41a6-a943-8ca596244a04\">\n",
       "    <div class=\"colab-df-container\">\n",
       "      <div>\n",
       "<style scoped>\n",
       "    .dataframe tbody tr th:only-of-type {\n",
       "        vertical-align: middle;\n",
       "    }\n",
       "\n",
       "    .dataframe tbody tr th {\n",
       "        vertical-align: top;\n",
       "    }\n",
       "\n",
       "    .dataframe thead th {\n",
       "        text-align: right;\n",
       "    }\n",
       "</style>\n",
       "<table border=\"1\" class=\"dataframe\">\n",
       "  <thead>\n",
       "    <tr style=\"text-align: right;\">\n",
       "      <th></th>\n",
       "      <th>WOGross_AdvanceBalance</th>\n",
       "      <th>WriteOff_YN</th>\n",
       "    </tr>\n",
       "  </thead>\n",
       "  <tbody>\n",
       "    <tr>\n",
       "      <th>5</th>\n",
       "      <td>344226.19</td>\n",
       "      <td>1</td>\n",
       "    </tr>\n",
       "    <tr>\n",
       "      <th>7</th>\n",
       "      <td>30839.75</td>\n",
       "      <td>1</td>\n",
       "    </tr>\n",
       "    <tr>\n",
       "      <th>8</th>\n",
       "      <td>6672.00</td>\n",
       "      <td>1</td>\n",
       "    </tr>\n",
       "    <tr>\n",
       "      <th>10</th>\n",
       "      <td>14354.45</td>\n",
       "      <td>1</td>\n",
       "    </tr>\n",
       "    <tr>\n",
       "      <th>13</th>\n",
       "      <td>12091.14</td>\n",
       "      <td>1</td>\n",
       "    </tr>\n",
       "    <tr>\n",
       "      <th>...</th>\n",
       "      <td>...</td>\n",
       "      <td>...</td>\n",
       "    </tr>\n",
       "    <tr>\n",
       "      <th>465</th>\n",
       "      <td>65577.24</td>\n",
       "      <td>1</td>\n",
       "    </tr>\n",
       "    <tr>\n",
       "      <th>472</th>\n",
       "      <td>17164.73</td>\n",
       "      <td>1</td>\n",
       "    </tr>\n",
       "    <tr>\n",
       "      <th>479</th>\n",
       "      <td>2881.08</td>\n",
       "      <td>1</td>\n",
       "    </tr>\n",
       "    <tr>\n",
       "      <th>480</th>\n",
       "      <td>91386.70</td>\n",
       "      <td>1</td>\n",
       "    </tr>\n",
       "    <tr>\n",
       "      <th>482</th>\n",
       "      <td>14023.55</td>\n",
       "      <td>1</td>\n",
       "    </tr>\n",
       "  </tbody>\n",
       "</table>\n",
       "<p>114 rows × 2 columns</p>\n",
       "</div>\n",
       "      <button class=\"colab-df-convert\" onclick=\"convertToInteractive('df-d3a0e54e-29d8-41a6-a943-8ca596244a04')\"\n",
       "              title=\"Convert this dataframe to an interactive table.\"\n",
       "              style=\"display:none;\">\n",
       "        \n",
       "  <svg xmlns=\"http://www.w3.org/2000/svg\" height=\"24px\"viewBox=\"0 0 24 24\"\n",
       "       width=\"24px\">\n",
       "    <path d=\"M0 0h24v24H0V0z\" fill=\"none\"/>\n",
       "    <path d=\"M18.56 5.44l.94 2.06.94-2.06 2.06-.94-2.06-.94-.94-2.06-.94 2.06-2.06.94zm-11 1L8.5 8.5l.94-2.06 2.06-.94-2.06-.94L8.5 2.5l-.94 2.06-2.06.94zm10 10l.94 2.06.94-2.06 2.06-.94-2.06-.94-.94-2.06-.94 2.06-2.06.94z\"/><path d=\"M17.41 7.96l-1.37-1.37c-.4-.4-.92-.59-1.43-.59-.52 0-1.04.2-1.43.59L10.3 9.45l-7.72 7.72c-.78.78-.78 2.05 0 2.83L4 21.41c.39.39.9.59 1.41.59.51 0 1.02-.2 1.41-.59l7.78-7.78 2.81-2.81c.8-.78.8-2.07 0-2.86zM5.41 20L4 18.59l7.72-7.72 1.47 1.35L5.41 20z\"/>\n",
       "  </svg>\n",
       "      </button>\n",
       "      \n",
       "  <style>\n",
       "    .colab-df-container {\n",
       "      display:flex;\n",
       "      flex-wrap:wrap;\n",
       "      gap: 12px;\n",
       "    }\n",
       "\n",
       "    .colab-df-convert {\n",
       "      background-color: #E8F0FE;\n",
       "      border: none;\n",
       "      border-radius: 50%;\n",
       "      cursor: pointer;\n",
       "      display: none;\n",
       "      fill: #1967D2;\n",
       "      height: 32px;\n",
       "      padding: 0 0 0 0;\n",
       "      width: 32px;\n",
       "    }\n",
       "\n",
       "    .colab-df-convert:hover {\n",
       "      background-color: #E2EBFA;\n",
       "      box-shadow: 0px 1px 2px rgba(60, 64, 67, 0.3), 0px 1px 3px 1px rgba(60, 64, 67, 0.15);\n",
       "      fill: #174EA6;\n",
       "    }\n",
       "\n",
       "    [theme=dark] .colab-df-convert {\n",
       "      background-color: #3B4455;\n",
       "      fill: #D2E3FC;\n",
       "    }\n",
       "\n",
       "    [theme=dark] .colab-df-convert:hover {\n",
       "      background-color: #434B5C;\n",
       "      box-shadow: 0px 1px 3px 1px rgba(0, 0, 0, 0.15);\n",
       "      filter: drop-shadow(0px 1px 2px rgba(0, 0, 0, 0.3));\n",
       "      fill: #FFFFFF;\n",
       "    }\n",
       "  </style>\n",
       "\n",
       "      <script>\n",
       "        const buttonEl =\n",
       "          document.querySelector('#df-d3a0e54e-29d8-41a6-a943-8ca596244a04 button.colab-df-convert');\n",
       "        buttonEl.style.display =\n",
       "          google.colab.kernel.accessAllowed ? 'block' : 'none';\n",
       "\n",
       "        async function convertToInteractive(key) {\n",
       "          const element = document.querySelector('#df-d3a0e54e-29d8-41a6-a943-8ca596244a04');\n",
       "          const dataTable =\n",
       "            await google.colab.kernel.invokeFunction('convertToInteractive',\n",
       "                                                     [key], {});\n",
       "          if (!dataTable) return;\n",
       "\n",
       "          const docLinkHtml = 'Like what you see? Visit the ' +\n",
       "            '<a target=\"_blank\" href=https://colab.research.google.com/notebooks/data_table.ipynb>data table notebook</a>'\n",
       "            + ' to learn more about interactive tables.';\n",
       "          element.innerHTML = '';\n",
       "          dataTable['output_type'] = 'display_data';\n",
       "          await google.colab.output.renderOutput(dataTable, element);\n",
       "          const docLink = document.createElement('div');\n",
       "          docLink.innerHTML = docLinkHtml;\n",
       "          element.appendChild(docLink);\n",
       "        }\n",
       "      </script>\n",
       "    </div>\n",
       "  </div>\n",
       "  "
      ],
      "text/plain": [
       "     WOGross_AdvanceBalance  WriteOff_YN\n",
       "5                 344226.19            1\n",
       "7                  30839.75            1\n",
       "8                   6672.00            1\n",
       "10                 14354.45            1\n",
       "13                 12091.14            1\n",
       "..                      ...          ...\n",
       "465                65577.24            1\n",
       "472                17164.73            1\n",
       "479                 2881.08            1\n",
       "480                91386.70            1\n",
       "482                14023.55            1\n",
       "\n",
       "[114 rows x 2 columns]"
      ]
     },
     "execution_count": 95,
     "metadata": {},
     "output_type": "execute_result"
    }
   ],
   "source": [
    "data[(data['WOGross_AdvanceBalance'] > 0) & data['WriteOff_YN'] == 1][['WOGross_AdvanceBalance', 'WriteOff_YN']]"
   ]
  },
  {
   "cell_type": "code",
   "execution_count": 96,
   "metadata": {
    "colab": {
     "base_uri": "https://localhost:8080/"
    },
    "executionInfo": {
     "elapsed": 715,
     "status": "ok",
     "timestamp": 1662117223807,
     "user": {
      "displayName": "Sourav Kapil",
      "userId": "17404349869182897322"
     },
     "user_tz": -330
    },
    "id": "yQIDfuOx5fbj",
    "outputId": "89ac4654-2404-4f2d-940b-4eaa6906e87b"
   },
   "outputs": [
    {
     "data": {
      "text/plain": [
       "1    114\n",
       "Name: WriteOff_YN, dtype: int64"
      ]
     },
     "execution_count": 96,
     "metadata": {},
     "output_type": "execute_result"
    }
   ],
   "source": [
    "data[data[\"WOGross_AdvanceBalance\"] > 0][\"WriteOff_YN\"].value_counts()"
   ]
  },
  {
   "cell_type": "code",
   "execution_count": 97,
   "metadata": {
    "executionInfo": {
     "elapsed": 715,
     "status": "ok",
     "timestamp": 1662117223810,
     "user": {
      "displayName": "Sourav Kapil",
      "userId": "17404349869182897322"
     },
     "user_tz": -330
    },
    "id": "dCrRFvaB6dkA"
   },
   "outputs": [],
   "source": [
    "# replacing -ve values with zeros\n",
    "# data['WOGross_AdvanceBalance'] = data['WOGross_AdvanceBalance'].apply(lambda x: 0 if x < 0 else x)"
   ]
  },
  {
   "cell_type": "code",
   "execution_count": 98,
   "metadata": {
    "colab": {
     "base_uri": "https://localhost:8080/"
    },
    "executionInfo": {
     "elapsed": 9,
     "status": "ok",
     "timestamp": 1662117223811,
     "user": {
      "displayName": "Sourav Kapil",
      "userId": "17404349869182897322"
     },
     "user_tz": -330
    },
    "id": "G-_EQifHotO2",
    "outputId": "5afc2f0b-80a8-4c92-b2cb-266625412fe5"
   },
   "outputs": [
    {
     "data": {
      "text/plain": [
       "0    372\n",
       "Name: WriteOff_YN, dtype: int64"
      ]
     },
     "execution_count": 98,
     "metadata": {},
     "output_type": "execute_result"
    }
   ],
   "source": [
    "data[data['WOGross_AdvanceBalance'] == 0]['WriteOff_YN'].value_counts()"
   ]
  },
  {
   "cell_type": "code",
   "execution_count": 99,
   "metadata": {
    "colab": {
     "base_uri": "https://localhost:8080/",
     "height": 53
    },
    "executionInfo": {
     "elapsed": 9,
     "status": "ok",
     "timestamp": 1662117223812,
     "user": {
      "displayName": "Sourav Kapil",
      "userId": "17404349869182897322"
     },
     "user_tz": -330
    },
    "id": "IcHve_Ho3Ckf",
    "outputId": "1660330f-c122-4189-f801-434fe9b10130"
   },
   "outputs": [
    {
     "data": {
      "application/vnd.google.colaboratory.intrinsic+json": {
       "type": "string"
      },
      "text/plain": [
       "'\\nfunded_amount = $1000\\npayback_amount = $1500\\ncollected_amount = $800 || $1200 || $1500 (extra $200)\\nadv_wos_$ (opp_1) = $1500 - $800 = $700\\nadv_wos_$ (opp_1) = $1500 - $1200 = $300\\nadv_wos_$ (opp_1) = $1500 - ($1500 + $200) = -$200\\n'"
      ]
     },
     "execution_count": 99,
     "metadata": {},
     "output_type": "execute_result"
    }
   ],
   "source": [
    "'''\n",
    "funded_amount = $1000\n",
    "payback_amount = $1500\n",
    "collected_amount = $800 || $1200 || $1500 (extra $200)\n",
    "adv_wos_$ (opp_1) = $1500 - $800 = $700\n",
    "adv_wos_$ (opp_1) = $1500 - $1200 = $300\n",
    "adv_wos_$ (opp_1) = $1500 - ($1500 + $200) = -$200\n",
    "'''\n"
   ]
  },
  {
   "cell_type": "code",
   "execution_count": 100,
   "metadata": {
    "colab": {
     "base_uri": "https://localhost:8080/",
     "height": 49
    },
    "executionInfo": {
     "elapsed": 8,
     "status": "ok",
     "timestamp": 1662117223812,
     "user": {
      "displayName": "Sourav Kapil",
      "userId": "17404349869182897322"
     },
     "user_tz": -330
    },
    "id": "PqKyGQFwqC2N",
    "outputId": "1a07854e-87a2-41c1-b3b4-a2eba490135e"
   },
   "outputs": [
    {
     "data": {
      "text/html": [
       "\n",
       "  <div id=\"df-e9b62766-a697-43d6-8ae3-c98631a77322\">\n",
       "    <div class=\"colab-df-container\">\n",
       "      <div>\n",
       "<style scoped>\n",
       "    .dataframe tbody tr th:only-of-type {\n",
       "        vertical-align: middle;\n",
       "    }\n",
       "\n",
       "    .dataframe tbody tr th {\n",
       "        vertical-align: top;\n",
       "    }\n",
       "\n",
       "    .dataframe thead th {\n",
       "        text-align: right;\n",
       "    }\n",
       "</style>\n",
       "<table border=\"1\" class=\"dataframe\">\n",
       "  <thead>\n",
       "    <tr style=\"text-align: right;\">\n",
       "      <th></th>\n",
       "      <th>OpportunityID</th>\n",
       "      <th>WOGross_AdvanceBalance</th>\n",
       "      <th>WriteOff_YN</th>\n",
       "    </tr>\n",
       "  </thead>\n",
       "  <tbody>\n",
       "  </tbody>\n",
       "</table>\n",
       "</div>\n",
       "      <button class=\"colab-df-convert\" onclick=\"convertToInteractive('df-e9b62766-a697-43d6-8ae3-c98631a77322')\"\n",
       "              title=\"Convert this dataframe to an interactive table.\"\n",
       "              style=\"display:none;\">\n",
       "        \n",
       "  <svg xmlns=\"http://www.w3.org/2000/svg\" height=\"24px\"viewBox=\"0 0 24 24\"\n",
       "       width=\"24px\">\n",
       "    <path d=\"M0 0h24v24H0V0z\" fill=\"none\"/>\n",
       "    <path d=\"M18.56 5.44l.94 2.06.94-2.06 2.06-.94-2.06-.94-.94-2.06-.94 2.06-2.06.94zm-11 1L8.5 8.5l.94-2.06 2.06-.94-2.06-.94L8.5 2.5l-.94 2.06-2.06.94zm10 10l.94 2.06.94-2.06 2.06-.94-2.06-.94-.94-2.06-.94 2.06-2.06.94z\"/><path d=\"M17.41 7.96l-1.37-1.37c-.4-.4-.92-.59-1.43-.59-.52 0-1.04.2-1.43.59L10.3 9.45l-7.72 7.72c-.78.78-.78 2.05 0 2.83L4 21.41c.39.39.9.59 1.41.59.51 0 1.02-.2 1.41-.59l7.78-7.78 2.81-2.81c.8-.78.8-2.07 0-2.86zM5.41 20L4 18.59l7.72-7.72 1.47 1.35L5.41 20z\"/>\n",
       "  </svg>\n",
       "      </button>\n",
       "      \n",
       "  <style>\n",
       "    .colab-df-container {\n",
       "      display:flex;\n",
       "      flex-wrap:wrap;\n",
       "      gap: 12px;\n",
       "    }\n",
       "\n",
       "    .colab-df-convert {\n",
       "      background-color: #E8F0FE;\n",
       "      border: none;\n",
       "      border-radius: 50%;\n",
       "      cursor: pointer;\n",
       "      display: none;\n",
       "      fill: #1967D2;\n",
       "      height: 32px;\n",
       "      padding: 0 0 0 0;\n",
       "      width: 32px;\n",
       "    }\n",
       "\n",
       "    .colab-df-convert:hover {\n",
       "      background-color: #E2EBFA;\n",
       "      box-shadow: 0px 1px 2px rgba(60, 64, 67, 0.3), 0px 1px 3px 1px rgba(60, 64, 67, 0.15);\n",
       "      fill: #174EA6;\n",
       "    }\n",
       "\n",
       "    [theme=dark] .colab-df-convert {\n",
       "      background-color: #3B4455;\n",
       "      fill: #D2E3FC;\n",
       "    }\n",
       "\n",
       "    [theme=dark] .colab-df-convert:hover {\n",
       "      background-color: #434B5C;\n",
       "      box-shadow: 0px 1px 3px 1px rgba(0, 0, 0, 0.15);\n",
       "      filter: drop-shadow(0px 1px 2px rgba(0, 0, 0, 0.3));\n",
       "      fill: #FFFFFF;\n",
       "    }\n",
       "  </style>\n",
       "\n",
       "      <script>\n",
       "        const buttonEl =\n",
       "          document.querySelector('#df-e9b62766-a697-43d6-8ae3-c98631a77322 button.colab-df-convert');\n",
       "        buttonEl.style.display =\n",
       "          google.colab.kernel.accessAllowed ? 'block' : 'none';\n",
       "\n",
       "        async function convertToInteractive(key) {\n",
       "          const element = document.querySelector('#df-e9b62766-a697-43d6-8ae3-c98631a77322');\n",
       "          const dataTable =\n",
       "            await google.colab.kernel.invokeFunction('convertToInteractive',\n",
       "                                                     [key], {});\n",
       "          if (!dataTable) return;\n",
       "\n",
       "          const docLinkHtml = 'Like what you see? Visit the ' +\n",
       "            '<a target=\"_blank\" href=https://colab.research.google.com/notebooks/data_table.ipynb>data table notebook</a>'\n",
       "            + ' to learn more about interactive tables.';\n",
       "          element.innerHTML = '';\n",
       "          dataTable['output_type'] = 'display_data';\n",
       "          await google.colab.output.renderOutput(dataTable, element);\n",
       "          const docLink = document.createElement('div');\n",
       "          docLink.innerHTML = docLinkHtml;\n",
       "          element.appendChild(docLink);\n",
       "        }\n",
       "      </script>\n",
       "    </div>\n",
       "  </div>\n",
       "  "
      ],
      "text/plain": [
       "Empty DataFrame\n",
       "Columns: [OpportunityID, WOGross_AdvanceBalance, WriteOff_YN]\n",
       "Index: []"
      ]
     },
     "execution_count": 100,
     "metadata": {},
     "output_type": "execute_result"
    }
   ],
   "source": [
    "data[(data['WOGross_AdvanceBalance'] == 0) & (data['WriteOff_YN'] == 1)][[\"OpportunityID\", \"WOGross_AdvanceBalance\", \"WriteOff_YN\"]]"
   ]
  },
  {
   "cell_type": "code",
   "execution_count": null,
   "metadata": {
    "id": "L1Z5vqOf0cKF"
   },
   "outputs": [],
   "source": [
    "#data[(data['WOGross_AdvanceBalance'] == 0) & (data['WriteOff_YN'] == 1)][[\"OpportunityID\", \"WOGross_AdvanceBalance\", \"WriteOff_YN\"]].index"
   ]
  },
  {
   "cell_type": "code",
   "execution_count": null,
   "metadata": {
    "id": "bgHLWn0WwlOO"
   },
   "outputs": [],
   "source": [
    "'''\n",
    "data.drop(index= [38,  163,  208,  274,  803,  814,  822,  892,  949, 1310, 1422,\n",
    "            1493, 1503, 1561, 1675, 1745, 2242, 2353, 2356, 2378, 2408, 2436,\n",
    "            2481, 2490, 2534, 2639, 2682, 2706, 2740, 2779, 2911, 2986, 3135], inplace = True)\n",
    "'''"
   ]
  },
  {
   "cell_type": "markdown",
   "metadata": {
    "id": "et58DfyYGmCo"
   },
   "source": [
    "#### BBC_Position__C"
   ]
  },
  {
   "cell_type": "code",
   "execution_count": 101,
   "metadata": {
    "colab": {
     "base_uri": "https://localhost:8080/"
    },
    "executionInfo": {
     "elapsed": 8,
     "status": "ok",
     "timestamp": 1662117227625,
     "user": {
      "displayName": "Sourav Kapil",
      "userId": "17404349869182897322"
     },
     "user_tz": -330
    },
    "id": "KR_K0WKy2C18",
    "outputId": "7671add0-375c-478c-b522-a16d66ff1d02"
   },
   "outputs": [
    {
     "data": {
      "text/plain": [
       "0      1\n",
       "1      3\n",
       "2      1\n",
       "3      2\n",
       "4      1\n",
       "      ..\n",
       "483    1\n",
       "484    1\n",
       "485    1\n",
       "486    2\n",
       "487    2\n",
       "Name: BBC_Position__c, Length: 486, dtype: int64"
      ]
     },
     "execution_count": 101,
     "metadata": {},
     "output_type": "execute_result"
    }
   ],
   "source": [
    "data['BBC_Position__c']"
   ]
  },
  {
   "cell_type": "code",
   "execution_count": 102,
   "metadata": {
    "colab": {
     "base_uri": "https://localhost:8080/"
    },
    "executionInfo": {
     "elapsed": 25,
     "status": "ok",
     "timestamp": 1662117228034,
     "user": {
      "displayName": "Sourav Kapil",
      "userId": "17404349869182897322"
     },
     "user_tz": -330
    },
    "id": "pf__7-Yw2HNU",
    "outputId": "e2401efc-bc29-4e90-db83-e3f0b4843e66"
   },
   "outputs": [
    {
     "data": {
      "text/plain": [
       "1    247\n",
       "2    119\n",
       "3     68\n",
       "4     32\n",
       "5     16\n",
       "6      3\n",
       "7      1\n",
       "Name: BBC_Position__c, dtype: int64"
      ]
     },
     "execution_count": 102,
     "metadata": {},
     "output_type": "execute_result"
    }
   ],
   "source": [
    "data['BBC_Position__c'].value_counts()"
   ]
  },
  {
   "cell_type": "code",
   "execution_count": 103,
   "metadata": {
    "colab": {
     "base_uri": "https://localhost:8080/"
    },
    "executionInfo": {
     "elapsed": 21,
     "status": "ok",
     "timestamp": 1662117228034,
     "user": {
      "displayName": "Sourav Kapil",
      "userId": "17404349869182897322"
     },
     "user_tz": -330
    },
    "id": "TaYfjFKT2HKF",
    "outputId": "cb118294-ecb2-4a4d-fc73-9f9f35dd86d5"
   },
   "outputs": [
    {
     "data": {
      "text/plain": [
       "count    486.000000\n",
       "mean       1.897119\n",
       "std        1.161989\n",
       "min        1.000000\n",
       "25%        1.000000\n",
       "50%        1.000000\n",
       "75%        2.000000\n",
       "max        7.000000\n",
       "Name: BBC_Position__c, dtype: float64"
      ]
     },
     "execution_count": 103,
     "metadata": {},
     "output_type": "execute_result"
    }
   ],
   "source": [
    "data['BBC_Position__c'].describe()"
   ]
  },
  {
   "cell_type": "code",
   "execution_count": 104,
   "metadata": {
    "colab": {
     "base_uri": "https://localhost:8080/"
    },
    "executionInfo": {
     "elapsed": 15,
     "status": "ok",
     "timestamp": 1662117228035,
     "user": {
      "displayName": "Sourav Kapil",
      "userId": "17404349869182897322"
     },
     "user_tz": -330
    },
    "id": "N342SefX2HHO",
    "outputId": "29527d6f-a0f6-403a-9b3f-278504ef1773"
   },
   "outputs": [
    {
     "data": {
      "text/plain": [
       "0"
      ]
     },
     "execution_count": 104,
     "metadata": {},
     "output_type": "execute_result"
    }
   ],
   "source": [
    "data['BBC_Position__c'].isna().sum()"
   ]
  },
  {
   "cell_type": "code",
   "execution_count": 105,
   "metadata": {
    "colab": {
     "base_uri": "https://localhost:8080/"
    },
    "executionInfo": {
     "elapsed": 9,
     "status": "ok",
     "timestamp": 1662117228035,
     "user": {
      "displayName": "Sourav Kapil",
      "userId": "17404349869182897322"
     },
     "user_tz": -330
    },
    "id": "8X5-PEhK2bVt",
    "outputId": "0eef7b13-5fee-473a-a2ac-1280ca6c2b05"
   },
   "outputs": [
    {
     "data": {
      "text/plain": [
       "Series([], Name: BBC_Position__c, dtype: int64)"
      ]
     },
     "execution_count": 105,
     "metadata": {},
     "output_type": "execute_result"
    }
   ],
   "source": [
    "data[data['BBC_Position__c'] < 0]['BBC_Position__c']\n"
   ]
  },
  {
   "cell_type": "markdown",
   "metadata": {
    "id": "IlxHznkPEV7n"
   },
   "source": [
    "# NumberOfBankStatements                    "
   ]
  },
  {
   "cell_type": "code",
   "execution_count": null,
   "metadata": {
    "id": "RWdx91GeEPJ5"
   },
   "outputs": [],
   "source": [
    "# Related attributes -\n",
    "\n",
    "# AvgMonthRevenue - column name updated\n",
    "# Renewal_PreviousAvgMonthRevenue\n",
    "# AvgDailyBalance - column name updated\n",
    "# Renewal_PreviousAvgDailyBalance\n",
    "# BankStatement_MA_OverdraftDays\n",
    "# BankStatement_MA_NumReturnItems\n",
    "# Avg_ReturnItemsDays - column name updated\n",
    "# Pct change in Month Revenue  - column name updated\n",
    "# PctAvgDailybalance2AvgMonthlyRevenue - column name updated\n",
    "# LastBankStatement_OverdraftDays - dropped\n",
    "# BankStatement_Sum_NumReturnItems - dropped\n"
   ]
  },
  {
   "cell_type": "code",
   "execution_count": 106,
   "metadata": {
    "colab": {
     "base_uri": "https://localhost:8080/"
    },
    "executionInfo": {
     "elapsed": 8,
     "status": "ok",
     "timestamp": 1662117237964,
     "user": {
      "displayName": "Sourav Kapil",
      "userId": "17404349869182897322"
     },
     "user_tz": -330
    },
    "id": "5qFQNfLcH_6K",
    "outputId": "f72c6040-b898-4596-ef34-53773a5d36cf"
   },
   "outputs": [
    {
     "data": {
      "text/plain": [
       "Index(['OpportunityID', 'Renewal_PreviousPace',\n",
       "       'Renewal_PreviousPaidPercentageOfRTR', 'Renewal_CountPreviousDeals',\n",
       "       'Renewal_PreviousCountBounces', 'Renewal_PreviousPosition',\n",
       "       'Renewal_PreviousHBwLCF', 'Renewal_PreviousAvgMonthRevenue',\n",
       "       'Renewal_PreviousAvgDailyBalance', 'Renewal_TwoWeekBounces',\n",
       "       'NumberOfBankStatements', 'BankStatement_MA_OverdraftDays',\n",
       "       'BankStatement_MA_NumReturnItems', 'Credit_Score__c',\n",
       "       'Time_in_Business__c', 'BBC_Position__c', 'HB_with_LCF_Payment__c',\n",
       "       'AvgMonthlydeposits', 'AvgDailybalance', 'FundedAmount',\n",
       "       'Paybackamount', 'WriteOff_YN', 'FundedWriteOffAmount_Gross',\n",
       "       'WOGross_AdvanceBalance', 'Avg_ReturnItemdays',\n",
       "       'LatestMonth_ReturnItemDays', 'PctChangeInReveune',\n",
       "       'PctAvgDailybalance2AvgMonthlyDeposits',\n",
       "       'TwoMonthAvg_AdjustedMonthlyDeposits', 'AdjustedMonthlyDeposits',\n",
       "       'drop_percent', 'Is_this_Business_home_based__c_Yes',\n",
       "       'Industry_Construction', 'Industry_Finance, Insurance, Real Estate',\n",
       "       'Industry_Manufacturing', 'Industry_Mining', 'Industry_Retail',\n",
       "       'Industry_Services', 'Industry_Transportation & Public Utilities',\n",
       "       'Industry_Wholesale', 'Drop_category_Positive'],\n",
       "      dtype='object')"
      ]
     },
     "execution_count": 106,
     "metadata": {},
     "output_type": "execute_result"
    }
   ],
   "source": [
    "data.columns"
   ]
  },
  {
   "cell_type": "code",
   "execution_count": 107,
   "metadata": {
    "colab": {
     "base_uri": "https://localhost:8080/"
    },
    "executionInfo": {
     "elapsed": 6,
     "status": "ok",
     "timestamp": 1662117237964,
     "user": {
      "displayName": "Sourav Kapil",
      "userId": "17404349869182897322"
     },
     "user_tz": -330
    },
    "id": "Cpj3K0zlqbgq",
    "outputId": "9a0c9c4d-6f1f-4e15-a3bc-484f98801951"
   },
   "outputs": [
    {
     "name": "stdout",
     "output_type": "stream",
     "text": [
      "Checking Missing Values -\n",
      "\n",
      "\n",
      "NumberOfBankStatements : 0\n",
      "AvgMonthlydeposits : 0\n",
      "AvgDailybalance : 0\n",
      "BankStatement_MA_NumReturnItems : 0\n",
      "BankStatement_MA_OverdraftDays : 0\n"
     ]
    }
   ],
   "source": [
    "print('Checking Missing Values -')\n",
    "print('\\n')\n",
    "print('NumberOfBankStatements :', data['NumberOfBankStatements'].isna().sum())\n",
    "print('AvgMonthlydeposits :' ,data['AvgMonthlydeposits'].isna().sum())          \n",
    "print('AvgDailybalance :' ,data['AvgDailybalance'].isna().sum())\n",
    "print('BankStatement_MA_NumReturnItems :', data['BankStatement_MA_NumReturnItems'].isna().sum())\n",
    "print('BankStatement_MA_OverdraftDays :' ,data['BankStatement_MA_OverdraftDays'].isna().sum())"
   ]
  },
  {
   "cell_type": "code",
   "execution_count": 108,
   "metadata": {
    "executionInfo": {
     "elapsed": 5,
     "status": "ok",
     "timestamp": 1662117239065,
     "user": {
      "displayName": "Sourav Kapil",
      "userId": "17404349869182897322"
     },
     "user_tz": -330
    },
    "id": "ExOD7DOuxlXl"
   },
   "outputs": [],
   "source": [
    "def attribute_info(df_feature):\n",
    "  print('Description of attribute :', '\\n' )\n",
    "  print(df_feature.describe(), '\\n')\n",
    "  print('Value counts of attribute :', '\\n' )\n",
    "  print(df_feature.value_counts(), '\\n')\n",
    "  print('Unique number of attribute :', '\\n' )\n",
    "  print(df_feature.unique(), '\\n')\n",
    "  print('Missing values in attribute :', '\\n' )\n",
    "  print(df_feature.isna().sum(), '\\n')\n",
    "  print('Missing values in attribute_% :', '\\n' )\n",
    "  print(df_feature.isna().sum()/len(df_feature)*100, '\\n')\n",
    "  plt.figure(figsize=(20,10))\n",
    "  plt.subplot(2,2,1)\n",
    "  sns.distplot(df_feature)\n",
    "  plt.subplot(2,2,2)\n",
    "  sns.boxplot(df_feature)\n",
    "  plt.show()"
   ]
  },
  {
   "cell_type": "code",
   "execution_count": 109,
   "metadata": {
    "colab": {
     "base_uri": "https://localhost:8080/"
    },
    "executionInfo": {
     "elapsed": 7,
     "status": "ok",
     "timestamp": 1662117239482,
     "user": {
      "displayName": "Sourav Kapil",
      "userId": "17404349869182897322"
     },
     "user_tz": -330
    },
    "id": "dRlqdY5-MEXf",
    "outputId": "461265af-0887-49b4-ace5-62886907bd19"
   },
   "outputs": [
    {
     "data": {
      "text/plain": [
       "LatestMonth_ReturnItemDays                    33.950617\n",
       "PctChangeInReveune                             2.057613\n",
       "Credit_Score__c                                1.851852\n",
       "Renewal_PreviousAvgMonthRevenue                1.440329\n",
       "Renewal_PreviousAvgDailyBalance                1.440329\n",
       "Renewal_PreviousPaidPercentageOfRTR            0.411523\n",
       "Renewal_PreviousPace                           0.411523\n",
       "OpportunityID                                  0.000000\n",
       "PctAvgDailybalance2AvgMonthlyDeposits          0.000000\n",
       "TwoMonthAvg_AdjustedMonthlyDeposits            0.000000\n",
       "AdjustedMonthlyDeposits                        0.000000\n",
       "drop_percent                                   0.000000\n",
       "Is_this_Business_home_based__c_Yes             0.000000\n",
       "Industry_Finance, Insurance, Real Estate       0.000000\n",
       "Industry_Construction                          0.000000\n",
       "WOGross_AdvanceBalance                         0.000000\n",
       "Industry_Manufacturing                         0.000000\n",
       "Industry_Mining                                0.000000\n",
       "Industry_Retail                                0.000000\n",
       "Industry_Services                              0.000000\n",
       "Industry_Transportation & Public Utilities     0.000000\n",
       "Industry_Wholesale                             0.000000\n",
       "Avg_ReturnItemdays                             0.000000\n",
       "Paybackamount                                  0.000000\n",
       "FundedWriteOffAmount_Gross                     0.000000\n",
       "BankStatement_MA_OverdraftDays                 0.000000\n",
       "Renewal_CountPreviousDeals                     0.000000\n",
       "Renewal_PreviousCountBounces                   0.000000\n",
       "Renewal_PreviousPosition                       0.000000\n",
       "Renewal_PreviousHBwLCF                         0.000000\n",
       "Renewal_TwoWeekBounces                         0.000000\n",
       "NumberOfBankStatements                         0.000000\n",
       "BankStatement_MA_NumReturnItems                0.000000\n",
       "WriteOff_YN                                    0.000000\n",
       "Time_in_Business__c                            0.000000\n",
       "BBC_Position__c                                0.000000\n",
       "HB_with_LCF_Payment__c                         0.000000\n",
       "AvgMonthlydeposits                             0.000000\n",
       "AvgDailybalance                                0.000000\n",
       "FundedAmount                                   0.000000\n",
       "Drop_category_Positive                         0.000000\n",
       "dtype: float64"
      ]
     },
     "execution_count": 109,
     "metadata": {},
     "output_type": "execute_result"
    }
   ],
   "source": [
    "data.isnull().sum().sort_values(ascending = False)/len(data)*100"
   ]
  },
  {
   "cell_type": "markdown",
   "metadata": {
    "id": "FDibMNZ03AQ6"
   },
   "source": [
    "### Mean and Median values of training set features - "
   ]
  },
  {
   "cell_type": "code",
   "execution_count": 110,
   "metadata": {
    "executionInfo": {
     "elapsed": 3,
     "status": "ok",
     "timestamp": 1662117246649,
     "user": {
      "displayName": "Sourav Kapil",
      "userId": "17404349869182897322"
     },
     "user_tz": -330
    },
    "id": "Hsvl-02z2Q5e"
   },
   "outputs": [],
   "source": [
    "# BankStatement_MA_OverdraftDays :                            0.1\n",
    "# AvgMonthlydeposits :                                        28061.5156665\n",
    "# BankStatement_MA_NumReturnItems :                           0.0\n",
    "# AvgDailybalance :                                           3557.125\n",
    "# PctAvgDailybalance2AvgMonthlyDeposits :                     0.1223568549836635\n",
    "# Avg_ReturnItemdays :                                        0.0\n",
    "# drop_percent :                                              -1.183065\n",
    "# TwoMonthAvg_AdjustedMonthlyDeposits :                       28870.52\n",
    "# AdjustedMonthlyDeposits :                                   29434.97"
   ]
  },
  {
   "cell_type": "markdown",
   "metadata": {
    "id": "AqrgmhMB3QKj"
   },
   "source": [
    "## Need to impute these values in test set - "
   ]
  },
  {
   "cell_type": "code",
   "execution_count": 115,
   "metadata": {
    "executionInfo": {
     "elapsed": 390,
     "status": "ok",
     "timestamp": 1662117770798,
     "user": {
      "displayName": "Sourav Kapil",
      "userId": "17404349869182897322"
     },
     "user_tz": -330
    },
    "id": "7DnELxcD2cLj"
   },
   "outputs": [],
   "source": [
    "# LatestMonth_ReturnItemDays :                                0.0\n",
    "# PctChangeInReveune :                                        0.051044570169082995\n",
    "# Credit_Score__c :                                           585.9409153005464       ## Mean\n",
    "# Renewal_PreviousAvgMonthRevenue :                           25553.69\n",
    "# Renewal_PreviousAvgDailyBalance :                           3535.52\n",
    "# Renewal_PreviousPaidPercentageOfRTR :                       0.67\n",
    "# Renewal_PreviousPace :                                      100.0\n"
   ]
  },
  {
   "cell_type": "code",
   "execution_count": 112,
   "metadata": {
    "colab": {
     "base_uri": "https://localhost:8080/"
    },
    "executionInfo": {
     "elapsed": 401,
     "status": "ok",
     "timestamp": 1662117271224,
     "user": {
      "displayName": "Sourav Kapil",
      "userId": "17404349869182897322"
     },
     "user_tz": -330
    },
    "id": "vLphiIBR5O2a",
    "outputId": "580682ad-d34a-46e1-b687-dc3299695bbf"
   },
   "outputs": [
    {
     "data": {
      "text/plain": [
       "12    NaN\n",
       "19    NaN\n",
       "28    NaN\n",
       "34    NaN\n",
       "152   NaN\n",
       "180   NaN\n",
       "205   NaN\n",
       "214   NaN\n",
       "226   NaN\n",
       "428   NaN\n",
       "Name: PctChangeInReveune, dtype: float64"
      ]
     },
     "execution_count": 112,
     "metadata": {},
     "output_type": "execute_result"
    }
   ],
   "source": [
    "data[data['PctChangeInReveune'].isna()]['PctChangeInReveune']"
   ]
  },
  {
   "cell_type": "code",
   "execution_count": 114,
   "metadata": {
    "colab": {
     "base_uri": "https://localhost:8080/"
    },
    "executionInfo": {
     "elapsed": 383,
     "status": "ok",
     "timestamp": 1662117747214,
     "user": {
      "displayName": "Sourav Kapil",
      "userId": "17404349869182897322"
     },
     "user_tz": -330
    },
    "id": "0SqjjxfD78dL",
    "outputId": "1ea1e065-3a00-49d6-b50e-8cf0050c68f1"
   },
   "outputs": [
    {
     "data": {
      "text/plain": [
       "28    NaN\n",
       "185   NaN\n",
       "238   NaN\n",
       "295   NaN\n",
       "297   NaN\n",
       "335   NaN\n",
       "428   NaN\n",
       "450   NaN\n",
       "482   NaN\n",
       "Name: Credit_Score__c, dtype: float64"
      ]
     },
     "execution_count": 114,
     "metadata": {},
     "output_type": "execute_result"
    }
   ],
   "source": [
    "data[data['Credit_Score__c'].isna()]['Credit_Score__c']"
   ]
  },
  {
   "cell_type": "code",
   "execution_count": 116,
   "metadata": {
    "executionInfo": {
     "elapsed": 420,
     "status": "ok",
     "timestamp": 1662117776833,
     "user": {
      "displayName": "Sourav Kapil",
      "userId": "17404349869182897322"
     },
     "user_tz": -330
    },
    "id": "ZGAyaiAG5LDz"
   },
   "outputs": [],
   "source": [
    "data['LatestMonth_ReturnItemDays'].fillna(0.0, inplace = True)\n",
    "data['PctChangeInReveune'].fillna(0.051044570169082995, inplace = True)\n",
    "data['Credit_Score__c'].fillna(585.9409153005464, inplace = True)               # Imputed by Credit_score Mean\n",
    "data['Renewal_PreviousAvgMonthRevenue'].fillna(25553.69, inplace = True)\n",
    "data['Renewal_PreviousAvgDailyBalance'].fillna(3535.52, inplace = True)\n",
    "data['Renewal_PreviousPaidPercentageOfRTR'].fillna(0.67, inplace = True)\n",
    "data['Renewal_PreviousPace'].fillna(100.0, inplace = True)\n"
   ]
  },
  {
   "cell_type": "code",
   "execution_count": 119,
   "metadata": {
    "colab": {
     "base_uri": "https://localhost:8080/"
    },
    "executionInfo": {
     "elapsed": 4,
     "status": "ok",
     "timestamp": 1662117839241,
     "user": {
      "displayName": "Sourav Kapil",
      "userId": "17404349869182897322"
     },
     "user_tz": -330
    },
    "id": "_D6L4zK-5qtq",
    "outputId": "442a9435-350c-47c5-9bbe-e1626f2903c5"
   },
   "outputs": [
    {
     "name": "stdout",
     "output_type": "stream",
     "text": [
      "0.051044570169082995\n",
      "0.051044570169082995\n"
     ]
    }
   ],
   "source": [
    "print(data['PctChangeInReveune'][152])\n",
    "print(data['PctChangeInReveune'][12])"
   ]
  },
  {
   "cell_type": "code",
   "execution_count": 120,
   "metadata": {
    "colab": {
     "base_uri": "https://localhost:8080/"
    },
    "executionInfo": {
     "elapsed": 416,
     "status": "ok",
     "timestamp": 1662117866782,
     "user": {
      "displayName": "Sourav Kapil",
      "userId": "17404349869182897322"
     },
     "user_tz": -330
    },
    "id": "_LUIucfE8R-r",
    "outputId": "08a07dda-3e18-4942-f913-05da3b3232a1"
   },
   "outputs": [
    {
     "name": "stdout",
     "output_type": "stream",
     "text": [
      "585.9409153005464\n",
      "585.9409153005464\n"
     ]
    }
   ],
   "source": [
    "print(data['Credit_Score__c'][28])\n",
    "print(data['Credit_Score__c'][185])"
   ]
  },
  {
   "cell_type": "code",
   "execution_count": null,
   "metadata": {
    "id": "HJRGnPTt8ZzR"
   },
   "outputs": [],
   "source": []
  },
  {
   "cell_type": "code",
   "execution_count": null,
   "metadata": {
    "id": "IS8roXU38ZuS"
   },
   "outputs": [],
   "source": []
  },
  {
   "cell_type": "code",
   "execution_count": 121,
   "metadata": {
    "colab": {
     "base_uri": "https://localhost:8080/"
    },
    "executionInfo": {
     "elapsed": 388,
     "status": "ok",
     "timestamp": 1662117873983,
     "user": {
      "displayName": "Sourav Kapil",
      "userId": "17404349869182897322"
     },
     "user_tz": -330
    },
    "id": "0ddWDhV8PtiR",
    "outputId": "5b2801d3-cd25-40a3-dadc-dd77006f3ec3"
   },
   "outputs": [
    {
     "data": {
      "text/plain": [
       "OpportunityID                                 0.0\n",
       "WriteOff_YN                                   0.0\n",
       "WOGross_AdvanceBalance                        0.0\n",
       "Avg_ReturnItemdays                            0.0\n",
       "LatestMonth_ReturnItemDays                    0.0\n",
       "PctChangeInReveune                            0.0\n",
       "PctAvgDailybalance2AvgMonthlyDeposits         0.0\n",
       "TwoMonthAvg_AdjustedMonthlyDeposits           0.0\n",
       "AdjustedMonthlyDeposits                       0.0\n",
       "drop_percent                                  0.0\n",
       "Is_this_Business_home_based__c_Yes            0.0\n",
       "Industry_Construction                         0.0\n",
       "Industry_Finance, Insurance, Real Estate      0.0\n",
       "Industry_Manufacturing                        0.0\n",
       "Industry_Mining                               0.0\n",
       "Industry_Retail                               0.0\n",
       "Industry_Services                             0.0\n",
       "Industry_Transportation & Public Utilities    0.0\n",
       "Industry_Wholesale                            0.0\n",
       "FundedWriteOffAmount_Gross                    0.0\n",
       "Paybackamount                                 0.0\n",
       "Renewal_PreviousPace                          0.0\n",
       "FundedAmount                                  0.0\n",
       "Renewal_PreviousPaidPercentageOfRTR           0.0\n",
       "Renewal_CountPreviousDeals                    0.0\n",
       "Renewal_PreviousCountBounces                  0.0\n",
       "Renewal_PreviousPosition                      0.0\n",
       "Renewal_PreviousHBwLCF                        0.0\n",
       "Renewal_PreviousAvgMonthRevenue               0.0\n",
       "Renewal_PreviousAvgDailyBalance               0.0\n",
       "Renewal_TwoWeekBounces                        0.0\n",
       "NumberOfBankStatements                        0.0\n",
       "BankStatement_MA_OverdraftDays                0.0\n",
       "BankStatement_MA_NumReturnItems               0.0\n",
       "Credit_Score__c                               0.0\n",
       "Time_in_Business__c                           0.0\n",
       "BBC_Position__c                               0.0\n",
       "HB_with_LCF_Payment__c                        0.0\n",
       "AvgMonthlydeposits                            0.0\n",
       "AvgDailybalance                               0.0\n",
       "Drop_category_Positive                        0.0\n",
       "dtype: float64"
      ]
     },
     "execution_count": 121,
     "metadata": {},
     "output_type": "execute_result"
    }
   ],
   "source": [
    "data.isnull().sum().sort_values(ascending = False)/len(data)*100"
   ]
  },
  {
   "cell_type": "code",
   "execution_count": 123,
   "metadata": {
    "colab": {
     "base_uri": "https://localhost:8080/"
    },
    "executionInfo": {
     "elapsed": 3,
     "status": "ok",
     "timestamp": 1662117993120,
     "user": {
      "displayName": "Sourav Kapil",
      "userId": "17404349869182897322"
     },
     "user_tz": -330
    },
    "id": "Pw7D1bsm88W-",
    "outputId": "588c4ae0-044b-477a-8414-572f596993f3"
   },
   "outputs": [
    {
     "data": {
      "text/plain": [
       "(486, 41)"
      ]
     },
     "execution_count": 123,
     "metadata": {},
     "output_type": "execute_result"
    }
   ],
   "source": [
    "data.shape"
   ]
  },
  {
   "cell_type": "code",
   "execution_count": 124,
   "metadata": {
    "executionInfo": {
     "elapsed": 4,
     "status": "ok",
     "timestamp": 1662118008263,
     "user": {
      "displayName": "Sourav Kapil",
      "userId": "17404349869182897322"
     },
     "user_tz": -330
    },
    "id": "StVSGV1UQoGv"
   },
   "outputs": [],
   "source": [
    "data.to_excel('/content/drive/MyDrive/LCF_Internal/Renewable_Model/EDA Approach-1/XGBoost Implementation/logistic_v9/v9_after_eda_test.xlsx', index = False)"
   ]
  },
  {
   "cell_type": "code",
   "execution_count": null,
   "metadata": {
    "id": "yWhza73K6n6c"
   },
   "outputs": [],
   "source": []
  },
  {
   "cell_type": "code",
   "execution_count": null,
   "metadata": {
    "id": "B70Flb916n3S"
   },
   "outputs": [],
   "source": []
  },
  {
   "cell_type": "code",
   "execution_count": null,
   "metadata": {
    "id": "ThbFQli35qqs"
   },
   "outputs": [],
   "source": []
  },
  {
   "cell_type": "code",
   "execution_count": 49,
   "metadata": {
    "executionInfo": {
     "elapsed": 443,
     "status": "ok",
     "timestamp": 1662116850281,
     "user": {
      "displayName": "Sourav Kapil",
      "userId": "17404349869182897322"
     },
     "user_tz": -330
    },
    "id": "FKJQuhyFKqG-"
   },
   "outputs": [],
   "source": [
    "# missing_attributes = ['LatestMonth_ReturnItemDays', \n",
    "#                       'PctChangeInReveune', \n",
    "#                       'Renewal_PreviousAvgMonthRevenue',\n",
    "#                       'Renewal_PreviousAvgDailyBalance',\n",
    "#                       'PctAvgDailybalance2AvgMonthlyDeposits',\n",
    "#                       'Avg_ReturnItemdays',\n",
    "#                       'Renewal_PreviousPaidPercentageOfRTR', \n",
    "#                       'BankStatement_MA_OverdraftDays',           \n",
    "#                       'AvgMonthlydeposits',        \n",
    "#                       'BankStatement_MA_NumReturnItems',          \n",
    "#                       'AvgDailybalance',                                            \n",
    "#                       'Credit_Score__c',                          \n",
    "#                       'Renewal_PreviousPace',\n",
    "#                       'drop_percent',\n",
    "#                       'TwoMonthAvg_AdjustedMonthlyDeposits',\n",
    "#                       'AdjustedMonthlyDeposits']    \n",
    "\n",
    "# for col in missing_attributes:\n",
    "#   print('\\033[1m'+'attribute_name :', col+'\\033[0m')\n",
    "#   attribute_info(data[col])"
   ]
  },
  {
   "cell_type": "code",
   "execution_count": null,
   "metadata": {
    "id": "TngRMDJ0WuHp"
   },
   "outputs": [],
   "source": [
    "# data['Renewal_PreviousPaidPercentageOfRTR'].fillna(data['Renewal_PreviousPaidPercentageOfRTR'].median(), inplace = True)\n",
    "# data['BankStatement_MA_OverdraftDays'].fillna(data['BankStatement_MA_OverdraftDays'].median(), inplace = True)\n",
    "# data['AvgMonthlydeposits'].fillna(data['AvgMonthlydeposits'].median(), inplace = True)\n",
    "# data['BankStatement_MA_NumReturnItems'].fillna(data['BankStatement_MA_NumReturnItems'].median(), inplace = True)\n",
    "# data['AvgDailybalance'].fillna(data['AvgDailybalance'].median(), inplace = True)\n",
    "# data['LatestMonth_ReturnItemDays'].fillna(data['LatestMonth_ReturnItemDays'].median(),inplace = True)\n",
    "# data['PctChangeInReveune'].fillna(data['PctChangeInReveune'].median(),inplace = True)\n",
    "# data['PctAvgDailybalance2AvgMonthlyDeposits'].fillna(data['PctAvgDailybalance2AvgMonthlyDeposits'].median(),inplace = True)\n",
    "# data['Avg_ReturnItemdays'].fillna(data['Avg_ReturnItemdays'].median(),inplace = True)\n",
    "# data['Renewal_PreviousAvgMonthRevenue'].fillna(data['Renewal_PreviousAvgMonthRevenue'].median(),inplace = True)\n",
    "# data['Renewal_PreviousAvgDailyBalance'].fillna(data['Renewal_PreviousAvgDailyBalance'].median(),inplace = True)\n",
    "# data['Renewal_PreviousPace'].fillna(data['Renewal_PreviousPace'].median(),inplace = True)\n",
    "# data['drop_percent'].fillna(data['drop_percent'].median(),inplace = True)\n",
    "# data['TwoMonthAvg_AdjustedMonthlyDeposits'].fillna(data['TwoMonthAvg_AdjustedMonthlyDeposits'].median(),inplace = True)\n",
    "# data['AdjustedMonthlyDeposits'].fillna(data['AdjustedMonthlyDeposits'].median(),inplace = True)\n"
   ]
  },
  {
   "cell_type": "code",
   "execution_count": 50,
   "metadata": {
    "executionInfo": {
     "elapsed": 403,
     "status": "ok",
     "timestamp": 1662116878355,
     "user": {
      "displayName": "Sourav Kapil",
      "userId": "17404349869182897322"
     },
     "user_tz": -330
    },
    "id": "ISZSt7e0O9UN"
   },
   "outputs": [],
   "source": [
    "# credit_mean = data[(data['Credit_Score__c'] != 0) & (data['Credit_Score__c'] != 1)]['Credit_Score__c'].mean()\n",
    "# credit_mean"
   ]
  },
  {
   "cell_type": "code",
   "execution_count": 51,
   "metadata": {
    "executionInfo": {
     "elapsed": 3,
     "status": "ok",
     "timestamp": 1662116878768,
     "user": {
      "displayName": "Sourav Kapil",
      "userId": "17404349869182897322"
     },
     "user_tz": -330
    },
    "id": "5kvugk-lPaai"
   },
   "outputs": [],
   "source": [
    "# data['Credit_Score__c'].fillna(credit_mean,inplace = True)"
   ]
  },
  {
   "cell_type": "code",
   "execution_count": 52,
   "metadata": {
    "executionInfo": {
     "elapsed": 4,
     "status": "ok",
     "timestamp": 1662116879412,
     "user": {
      "displayName": "Sourav Kapil",
      "userId": "17404349869182897322"
     },
     "user_tz": -330
    },
    "id": "Dlg0KfOWP_cb"
   },
   "outputs": [],
   "source": [
    "# attribute_info(data['Credit_Score__c'])"
   ]
  },
  {
   "cell_type": "code",
   "execution_count": null,
   "metadata": {
    "id": "lsxZiV9xHOOD"
   },
   "outputs": [],
   "source": []
  }
 ],
 "metadata": {
  "colab": {
   "collapsed_sections": [],
   "provenance": [
    {
     "file_id": "1gPRTzpXNKOprv_c7dpwaokUgHSSYiZCK",
     "timestamp": 1661241494254
    },
    {
     "file_id": "1Azl7m7mGhJUk4n3oTVLylUR9ESbT5ANG",
     "timestamp": 1660031425324
    },
    {
     "file_id": "1qL1klHR7DjiMsG1Li5hY5kvtAuKxtWPu",
     "timestamp": 1659682038241
    }
   ]
  },
  "kernelspec": {
   "display_name": "Python 3 (ipykernel)",
   "language": "python",
   "name": "python3"
  },
  "language_info": {
   "codemirror_mode": {
    "name": "ipython",
    "version": 3
   },
   "file_extension": ".py",
   "mimetype": "text/x-python",
   "name": "python",
   "nbconvert_exporter": "python",
   "pygments_lexer": "ipython3",
   "version": "3.12.7"
  }
 },
 "nbformat": 4,
 "nbformat_minor": 4
}
