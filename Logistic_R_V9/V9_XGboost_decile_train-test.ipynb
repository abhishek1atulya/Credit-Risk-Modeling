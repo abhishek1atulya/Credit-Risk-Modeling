{
 "cells": [
  {
   "cell_type": "code",
   "execution_count": null,
   "id": "acaddab4",
   "metadata": {
    "id": "7ece501b"
   },
   "outputs": [],
   "source": [
    "import pandas as pd\n",
    "import numpy as np\n",
    "import matplotlib.pyplot as plt\n",
    "import seaborn as sns\n",
    "\n",
    "from sklearn.model_selection import train_test_split\n",
    "from sklearn.metrics import log_loss\n",
    "from sklearn.metrics import confusion_matrix\n",
    "from sklearn.metrics import f1_score\n",
    "from sklearn.calibration import CalibratedClassifierCV\n",
    "\n",
    "from sklearn.model_selection import GridSearchCV\n",
    "\n",
    "import warnings\n",
    "warnings.filterwarnings(\"ignore\", category=FutureWarning)"
   ]
  },
  {
   "cell_type": "code",
   "execution_count": null,
   "id": "d2aa51c0",
   "metadata": {
    "colab": {
     "background_save": true,
     "base_uri": "https://localhost:8080/"
    },
    "executionInfo": {
     "elapsed": 23935,
     "status": "ok",
     "timestamp": 1662259458803,
     "user": {
      "displayName": "Harshvardhan Matta",
      "userId": "13728824832312809445"
     },
     "user_tz": -330
    },
    "id": "o-V30yT9pe8O"
   },
   "outputs": [
    {
     "name": "stdout",
     "output_type": "stream",
     "text": [
      "Mounted at /content/drive\n"
     ]
    }
   ],
   "source": [
    "from google.colab import drive\n",
    "drive.mount('/content/drive')"
   ]
  },
  {
   "cell_type": "code",
   "execution_count": null,
   "id": "f5f059b7",
   "metadata": {
    "id": "6d3b98a6"
   },
   "outputs": [],
   "source": [
    "data = pd.read_excel('/content/drive/MyDrive/LCF_Internal/Renewable_Model/EDA Approach-1/XGBoost Implementation/logistic_v9/v9_after_eda_train.xlsx')"
   ]
  },
  {
   "cell_type": "code",
   "execution_count": null,
   "id": "4603e02b",
   "metadata": {
    "id": "nKhBN9ljjH23"
   },
   "outputs": [],
   "source": [
    "# data_test = pd.read_excel('/content/drive/MyDrive/LCF_Internal/Renewable_Model/EDA Approach-1/XGBoost Implementation/xgboost_v8/v8_val/V8_after_EDA_val.xlsx')"
   ]
  },
  {
   "cell_type": "code",
   "execution_count": null,
   "id": "8908071c",
   "metadata": {
    "colab": {
     "base_uri": "https://localhost:8080/"
    },
    "executionInfo": {
     "elapsed": 531,
     "status": "ok",
     "timestamp": 1662259697564,
     "user": {
      "displayName": "Harshvardhan Matta",
      "userId": "13728824832312809445"
     },
     "user_tz": -330
    },
    "id": "CsHKajRpnRNb",
    "outputId": "2b4d916b-e020-4b18-a035-faa17bcd80f5"
   },
   "outputs": [
    {
     "data": {
      "text/plain": [
       "Index(['OpportunityID', 'Renewal_PreviousPace',\n",
       "       'Renewal_PreviousPaidPercentageOfRTR', 'Renewal_CountPreviousDeals',\n",
       "       'Renewal_PreviousCountBounces', 'Renewal_PreviousPosition',\n",
       "       'Renewal_PreviousHBwLCF', 'Renewal_PreviousAvgMonthRevenue',\n",
       "       'Renewal_PreviousAvgDailyBalance', 'Renewal_TwoWeekBounces',\n",
       "       'NumberOfBankStatements', 'BankStatement_MA_OverdraftDays',\n",
       "       'BankStatement_MA_NumReturnItems', 'Credit_Score__c',\n",
       "       'Time_in_Business__c', 'BBC_Position__c', 'HB_with_LCF_Payment__c',\n",
       "       'AvgMonthlydeposits', 'AvgDailybalance', 'FundedAmount',\n",
       "       'Paybackamount', 'WriteOff_YN', 'FundedWriteOffAmount_Gross',\n",
       "       'WOGross_AdvanceBalance', 'Avg_ReturnItemdays',\n",
       "       'LatestMonth_ReturnItemDays', 'PctChangeInReveune',\n",
       "       'PctAvgDailybalance2AvgMonthlyDeposits',\n",
       "       'TwoMonthAvg_AdjustedMonthlyDeposits', 'AdjustedMonthlyDeposits',\n",
       "       'drop_percent', 'Is_this_Business_home_based__c_Yes',\n",
       "       'Industry_Construction', 'Industry_E-Commerce',\n",
       "       'Industry_Finance, Insurance, Real Estate', 'Industry_Manufacturing',\n",
       "       'Industry_Mining', 'Industry_Retail', 'Industry_Services',\n",
       "       'Industry_Transportation & Public Utilities', 'Industry_Wholesale',\n",
       "       'Industry_Wholesale Trade', 'Drop_category_Neutral/Null',\n",
       "       'Drop_category_Positive'],\n",
       "      dtype='object')"
      ]
     },
     "execution_count": 4,
     "metadata": {},
     "output_type": "execute_result"
    }
   ],
   "source": [
    "data.columns"
   ]
  },
  {
   "cell_type": "code",
   "execution_count": null,
   "id": "d6570fa2",
   "metadata": {
    "id": "9Euj3pPWnSdO"
   },
   "outputs": [],
   "source": [
    "# data_test.columns"
   ]
  },
  {
   "cell_type": "code",
   "execution_count": null,
   "id": "c02ee7c7",
   "metadata": {
    "id": "KxkU3CSJnWmS"
   },
   "outputs": [],
   "source": [
    "# data_test = data_test[['OpportunityID', 'Renewal_PreviousPace',\n",
    "#        'Renewal_PreviousPaidPercentageOfRTR', 'Renewal_CountPreviousDeals',\n",
    "#        'Renewal_PreviousCountBounces', 'Renewal_PreviousPosition',\n",
    "#        'Renewal_PreviousHBwLCF', 'Renewal_PreviousAvgMonthRevenue',\n",
    "#        'Renewal_PreviousAvgDailyBalance', 'Renewal_TwoWeekBounces',\n",
    "#        'NumberOfBankStatements', 'BankStatement_MA_OverdraftDays',\n",
    "#        'BankStatement_MA_NumReturnItems', 'Credit_Score__c',\n",
    "#        'Time_in_Business__c', 'BBC_Position__c', 'HB_with_LCF_Payment__c',\n",
    "#        'AvgMonthlydeposits', 'AvgDailybalance', 'FundedAmount',\n",
    "#        'Paybackamount', 'WriteOff_YN', 'FundedWriteOffAmount_Gross',\n",
    "#        'WOGross_AdvanceBalance', 'Avg_ReturnItemdays',\n",
    "#        'LatestMonth_ReturnItemDays', 'PctChangeInReveune',\n",
    "#        'PctAvgDailybalance2AvgMonthlyDeposits',\n",
    "#        'Is_this_Business_home_based__c_Yes', 'Industry_Construction',\n",
    "#        'Industry_E-Commerce', 'Industry_Finance, Insurance, Real Estate',\n",
    "#        'Industry_Manufacturing', 'Industry_Mining', 'Industry_Retail',\n",
    "#        'Industry_Services', 'Industry_Transportation & Public Utilities',\n",
    "#        'Industry_Wholesale', 'Industry_Wholesale Trade']]"
   ]
  },
  {
   "cell_type": "code",
   "execution_count": null,
   "id": "5b0afc64",
   "metadata": {
    "colab": {
     "base_uri": "https://localhost:8080/",
     "height": 271
    },
    "executionInfo": {
     "elapsed": 524,
     "status": "ok",
     "timestamp": 1662259740394,
     "user": {
      "displayName": "Harshvardhan Matta",
      "userId": "13728824832312809445"
     },
     "user_tz": -330
    },
    "id": "ildgtBgE9swm",
    "outputId": "6b65566a-41bb-42d8-a23e-4f82beeb02d6"
   },
   "outputs": [
    {
     "data": {
      "text/html": [
       "\n",
       "  <div id=\"df-a03be695-baa4-4260-846b-ddf1049cbf97\">\n",
       "    <div class=\"colab-df-container\">\n",
       "      <div>\n",
       "<style scoped>\n",
       "    .dataframe tbody tr th:only-of-type {\n",
       "        vertical-align: middle;\n",
       "    }\n",
       "\n",
       "    .dataframe tbody tr th {\n",
       "        vertical-align: top;\n",
       "    }\n",
       "\n",
       "    .dataframe thead th {\n",
       "        text-align: right;\n",
       "    }\n",
       "</style>\n",
       "<table border=\"1\" class=\"dataframe\">\n",
       "  <thead>\n",
       "    <tr style=\"text-align: right;\">\n",
       "      <th></th>\n",
       "      <th>OpportunityID</th>\n",
       "      <th>Renewal_PreviousPace</th>\n",
       "      <th>Renewal_PreviousPaidPercentageOfRTR</th>\n",
       "      <th>Renewal_CountPreviousDeals</th>\n",
       "      <th>Renewal_PreviousCountBounces</th>\n",
       "      <th>Renewal_PreviousPosition</th>\n",
       "      <th>Renewal_PreviousHBwLCF</th>\n",
       "      <th>Renewal_PreviousAvgMonthRevenue</th>\n",
       "      <th>Renewal_PreviousAvgDailyBalance</th>\n",
       "      <th>Renewal_TwoWeekBounces</th>\n",
       "      <th>...</th>\n",
       "      <th>Industry_Finance, Insurance, Real Estate</th>\n",
       "      <th>Industry_Manufacturing</th>\n",
       "      <th>Industry_Mining</th>\n",
       "      <th>Industry_Retail</th>\n",
       "      <th>Industry_Services</th>\n",
       "      <th>Industry_Transportation &amp; Public Utilities</th>\n",
       "      <th>Industry_Wholesale</th>\n",
       "      <th>Industry_Wholesale Trade</th>\n",
       "      <th>Drop_category_Neutral/Null</th>\n",
       "      <th>Drop_category_Positive</th>\n",
       "    </tr>\n",
       "  </thead>\n",
       "  <tbody>\n",
       "    <tr>\n",
       "      <th>0</th>\n",
       "      <td>0062M00000blHFEQA2</td>\n",
       "      <td>100.0</td>\n",
       "      <td>0.30</td>\n",
       "      <td>1</td>\n",
       "      <td>0</td>\n",
       "      <td>3</td>\n",
       "      <td>0.0</td>\n",
       "      <td>25553.69</td>\n",
       "      <td>3535.52</td>\n",
       "      <td>0</td>\n",
       "      <td>...</td>\n",
       "      <td>0</td>\n",
       "      <td>0</td>\n",
       "      <td>0</td>\n",
       "      <td>0</td>\n",
       "      <td>1</td>\n",
       "      <td>0</td>\n",
       "      <td>0</td>\n",
       "      <td>0</td>\n",
       "      <td>0</td>\n",
       "      <td>1</td>\n",
       "    </tr>\n",
       "    <tr>\n",
       "      <th>1</th>\n",
       "      <td>0062M00000bmHA5QAM</td>\n",
       "      <td>100.0</td>\n",
       "      <td>0.61</td>\n",
       "      <td>1</td>\n",
       "      <td>4</td>\n",
       "      <td>1</td>\n",
       "      <td>0.0</td>\n",
       "      <td>22265.24</td>\n",
       "      <td>4292.88</td>\n",
       "      <td>1</td>\n",
       "      <td>...</td>\n",
       "      <td>0</td>\n",
       "      <td>1</td>\n",
       "      <td>0</td>\n",
       "      <td>0</td>\n",
       "      <td>0</td>\n",
       "      <td>0</td>\n",
       "      <td>0</td>\n",
       "      <td>0</td>\n",
       "      <td>0</td>\n",
       "      <td>0</td>\n",
       "    </tr>\n",
       "    <tr>\n",
       "      <th>2</th>\n",
       "      <td>0062M00000bmhkAQAQ</td>\n",
       "      <td>100.0</td>\n",
       "      <td>0.55</td>\n",
       "      <td>1</td>\n",
       "      <td>0</td>\n",
       "      <td>2</td>\n",
       "      <td>0.0</td>\n",
       "      <td>25553.69</td>\n",
       "      <td>3535.52</td>\n",
       "      <td>0</td>\n",
       "      <td>...</td>\n",
       "      <td>0</td>\n",
       "      <td>0</td>\n",
       "      <td>0</td>\n",
       "      <td>0</td>\n",
       "      <td>1</td>\n",
       "      <td>0</td>\n",
       "      <td>0</td>\n",
       "      <td>0</td>\n",
       "      <td>0</td>\n",
       "      <td>0</td>\n",
       "    </tr>\n",
       "  </tbody>\n",
       "</table>\n",
       "<p>3 rows × 44 columns</p>\n",
       "</div>\n",
       "      <button class=\"colab-df-convert\" onclick=\"convertToInteractive('df-a03be695-baa4-4260-846b-ddf1049cbf97')\"\n",
       "              title=\"Convert this dataframe to an interactive table.\"\n",
       "              style=\"display:none;\">\n",
       "        \n",
       "  <svg xmlns=\"http://www.w3.org/2000/svg\" height=\"24px\"viewBox=\"0 0 24 24\"\n",
       "       width=\"24px\">\n",
       "    <path d=\"M0 0h24v24H0V0z\" fill=\"none\"/>\n",
       "    <path d=\"M18.56 5.44l.94 2.06.94-2.06 2.06-.94-2.06-.94-.94-2.06-.94 2.06-2.06.94zm-11 1L8.5 8.5l.94-2.06 2.06-.94-2.06-.94L8.5 2.5l-.94 2.06-2.06.94zm10 10l.94 2.06.94-2.06 2.06-.94-2.06-.94-.94-2.06-.94 2.06-2.06.94z\"/><path d=\"M17.41 7.96l-1.37-1.37c-.4-.4-.92-.59-1.43-.59-.52 0-1.04.2-1.43.59L10.3 9.45l-7.72 7.72c-.78.78-.78 2.05 0 2.83L4 21.41c.39.39.9.59 1.41.59.51 0 1.02-.2 1.41-.59l7.78-7.78 2.81-2.81c.8-.78.8-2.07 0-2.86zM5.41 20L4 18.59l7.72-7.72 1.47 1.35L5.41 20z\"/>\n",
       "  </svg>\n",
       "      </button>\n",
       "      \n",
       "  <style>\n",
       "    .colab-df-container {\n",
       "      display:flex;\n",
       "      flex-wrap:wrap;\n",
       "      gap: 12px;\n",
       "    }\n",
       "\n",
       "    .colab-df-convert {\n",
       "      background-color: #E8F0FE;\n",
       "      border: none;\n",
       "      border-radius: 50%;\n",
       "      cursor: pointer;\n",
       "      display: none;\n",
       "      fill: #1967D2;\n",
       "      height: 32px;\n",
       "      padding: 0 0 0 0;\n",
       "      width: 32px;\n",
       "    }\n",
       "\n",
       "    .colab-df-convert:hover {\n",
       "      background-color: #E2EBFA;\n",
       "      box-shadow: 0px 1px 2px rgba(60, 64, 67, 0.3), 0px 1px 3px 1px rgba(60, 64, 67, 0.15);\n",
       "      fill: #174EA6;\n",
       "    }\n",
       "\n",
       "    [theme=dark] .colab-df-convert {\n",
       "      background-color: #3B4455;\n",
       "      fill: #D2E3FC;\n",
       "    }\n",
       "\n",
       "    [theme=dark] .colab-df-convert:hover {\n",
       "      background-color: #434B5C;\n",
       "      box-shadow: 0px 1px 3px 1px rgba(0, 0, 0, 0.15);\n",
       "      filter: drop-shadow(0px 1px 2px rgba(0, 0, 0, 0.3));\n",
       "      fill: #FFFFFF;\n",
       "    }\n",
       "  </style>\n",
       "\n",
       "      <script>\n",
       "        const buttonEl =\n",
       "          document.querySelector('#df-a03be695-baa4-4260-846b-ddf1049cbf97 button.colab-df-convert');\n",
       "        buttonEl.style.display =\n",
       "          google.colab.kernel.accessAllowed ? 'block' : 'none';\n",
       "\n",
       "        async function convertToInteractive(key) {\n",
       "          const element = document.querySelector('#df-a03be695-baa4-4260-846b-ddf1049cbf97');\n",
       "          const dataTable =\n",
       "            await google.colab.kernel.invokeFunction('convertToInteractive',\n",
       "                                                     [key], {});\n",
       "          if (!dataTable) return;\n",
       "\n",
       "          const docLinkHtml = 'Like what you see? Visit the ' +\n",
       "            '<a target=\"_blank\" href=https://colab.research.google.com/notebooks/data_table.ipynb>data table notebook</a>'\n",
       "            + ' to learn more about interactive tables.';\n",
       "          element.innerHTML = '';\n",
       "          dataTable['output_type'] = 'display_data';\n",
       "          await google.colab.output.renderOutput(dataTable, element);\n",
       "          const docLink = document.createElement('div');\n",
       "          docLink.innerHTML = docLinkHtml;\n",
       "          element.appendChild(docLink);\n",
       "        }\n",
       "      </script>\n",
       "    </div>\n",
       "  </div>\n",
       "  "
      ],
      "text/plain": [
       "        OpportunityID  Renewal_PreviousPace  \\\n",
       "0  0062M00000blHFEQA2                 100.0   \n",
       "1  0062M00000bmHA5QAM                 100.0   \n",
       "2  0062M00000bmhkAQAQ                 100.0   \n",
       "\n",
       "   Renewal_PreviousPaidPercentageOfRTR  Renewal_CountPreviousDeals  \\\n",
       "0                                 0.30                           1   \n",
       "1                                 0.61                           1   \n",
       "2                                 0.55                           1   \n",
       "\n",
       "   Renewal_PreviousCountBounces  Renewal_PreviousPosition  \\\n",
       "0                             0                         3   \n",
       "1                             4                         1   \n",
       "2                             0                         2   \n",
       "\n",
       "   Renewal_PreviousHBwLCF  Renewal_PreviousAvgMonthRevenue  \\\n",
       "0                     0.0                         25553.69   \n",
       "1                     0.0                         22265.24   \n",
       "2                     0.0                         25553.69   \n",
       "\n",
       "   Renewal_PreviousAvgDailyBalance  Renewal_TwoWeekBounces  ...  \\\n",
       "0                          3535.52                       0  ...   \n",
       "1                          4292.88                       1  ...   \n",
       "2                          3535.52                       0  ...   \n",
       "\n",
       "   Industry_Finance, Insurance, Real Estate  Industry_Manufacturing  \\\n",
       "0                                         0                       0   \n",
       "1                                         0                       1   \n",
       "2                                         0                       0   \n",
       "\n",
       "   Industry_Mining  Industry_Retail  Industry_Services  \\\n",
       "0                0                0                  1   \n",
       "1                0                0                  0   \n",
       "2                0                0                  1   \n",
       "\n",
       "   Industry_Transportation & Public Utilities  Industry_Wholesale  \\\n",
       "0                                           0                   0   \n",
       "1                                           0                   0   \n",
       "2                                           0                   0   \n",
       "\n",
       "   Industry_Wholesale Trade  Drop_category_Neutral/Null  \\\n",
       "0                         0                           0   \n",
       "1                         0                           0   \n",
       "2                         0                           0   \n",
       "\n",
       "   Drop_category_Positive  \n",
       "0                       1  \n",
       "1                       0  \n",
       "2                       0  \n",
       "\n",
       "[3 rows x 44 columns]"
      ]
     },
     "execution_count": 5,
     "metadata": {},
     "output_type": "execute_result"
    }
   ],
   "source": [
    "data.head(3)"
   ]
  },
  {
   "cell_type": "code",
   "execution_count": null,
   "id": "c40996e3",
   "metadata": {
    "id": "u_zWACWejfWE"
   },
   "outputs": [],
   "source": [
    "# data_test.head()"
   ]
  },
  {
   "cell_type": "code",
   "execution_count": null,
   "id": "5514d7f8",
   "metadata": {
    "colab": {
     "base_uri": "https://localhost:8080/"
    },
    "executionInfo": {
     "elapsed": 480,
     "status": "ok",
     "timestamp": 1662259799703,
     "user": {
      "displayName": "Harshvardhan Matta",
      "userId": "13728824832312809445"
     },
     "user_tz": -330
    },
    "id": "kv3Wzc2oJL5o",
    "outputId": "b5a8aad0-50f7-4edb-a8a6-a6eddc80f1ad"
   },
   "outputs": [
    {
     "data": {
      "text/plain": [
       "(3134, 44)"
      ]
     },
     "execution_count": 8,
     "metadata": {},
     "output_type": "execute_result"
    }
   ],
   "source": [
    "data.shape"
   ]
  },
  {
   "cell_type": "code",
   "execution_count": null,
   "id": "68db4162",
   "metadata": {
    "id": "tfP9HFdJj6Kr"
   },
   "outputs": [],
   "source": [
    "# data_test.shape"
   ]
  },
  {
   "cell_type": "code",
   "execution_count": null,
   "id": "ff77b2ee",
   "metadata": {
    "colab": {
     "base_uri": "https://localhost:8080/"
    },
    "executionInfo": {
     "elapsed": 537,
     "status": "ok",
     "timestamp": 1662259803582,
     "user": {
      "displayName": "Harshvardhan Matta",
      "userId": "13728824832312809445"
     },
     "user_tz": -330
    },
    "id": "X8V5l8WuTheu",
    "outputId": "46f5dabd-dd91-4f78-8788-d0cbdd7844a3"
   },
   "outputs": [
    {
     "name": "stdout",
     "output_type": "stream",
     "text": [
      "<class 'pandas.core.frame.DataFrame'>\n",
      "RangeIndex: 3134 entries, 0 to 3133\n",
      "Data columns (total 44 columns):\n",
      " #   Column                                      Non-Null Count  Dtype  \n",
      "---  ------                                      --------------  -----  \n",
      " 0   OpportunityID                               3134 non-null   object \n",
      " 1   Renewal_PreviousPace                        3134 non-null   float64\n",
      " 2   Renewal_PreviousPaidPercentageOfRTR         3134 non-null   float64\n",
      " 3   Renewal_CountPreviousDeals                  3134 non-null   int64  \n",
      " 4   Renewal_PreviousCountBounces                3134 non-null   int64  \n",
      " 5   Renewal_PreviousPosition                    3134 non-null   int64  \n",
      " 6   Renewal_PreviousHBwLCF                      3134 non-null   float64\n",
      " 7   Renewal_PreviousAvgMonthRevenue             3134 non-null   float64\n",
      " 8   Renewal_PreviousAvgDailyBalance             3134 non-null   float64\n",
      " 9   Renewal_TwoWeekBounces                      3134 non-null   int64  \n",
      " 10  NumberOfBankStatements                      3134 non-null   int64  \n",
      " 11  BankStatement_MA_OverdraftDays              3134 non-null   float64\n",
      " 12  BankStatement_MA_NumReturnItems             3134 non-null   float64\n",
      " 13  Credit_Score__c                             3134 non-null   float64\n",
      " 14  Time_in_Business__c                         3134 non-null   float64\n",
      " 15  BBC_Position__c                             3134 non-null   int64  \n",
      " 16  HB_with_LCF_Payment__c                      3134 non-null   float64\n",
      " 17  AvgMonthlydeposits                          3134 non-null   float64\n",
      " 18  AvgDailybalance                             3134 non-null   float64\n",
      " 19  FundedAmount                                3134 non-null   float64\n",
      " 20  Paybackamount                               3134 non-null   float64\n",
      " 21  WriteOff_YN                                 3134 non-null   int64  \n",
      " 22  FundedWriteOffAmount_Gross                  3134 non-null   float64\n",
      " 23  WOGross_AdvanceBalance                      3134 non-null   float64\n",
      " 24  Avg_ReturnItemdays                          3134 non-null   float64\n",
      " 25  LatestMonth_ReturnItemDays                  3134 non-null   int64  \n",
      " 26  PctChangeInReveune                          3134 non-null   float64\n",
      " 27  PctAvgDailybalance2AvgMonthlyDeposits       3134 non-null   float64\n",
      " 28  TwoMonthAvg_AdjustedMonthlyDeposits         3134 non-null   float64\n",
      " 29  AdjustedMonthlyDeposits                     3134 non-null   float64\n",
      " 30  drop_percent                                3134 non-null   float64\n",
      " 31  Is_this_Business_home_based__c_Yes          3134 non-null   int64  \n",
      " 32  Industry_Construction                       3134 non-null   int64  \n",
      " 33  Industry_E-Commerce                         3134 non-null   int64  \n",
      " 34  Industry_Finance, Insurance, Real Estate    3134 non-null   int64  \n",
      " 35  Industry_Manufacturing                      3134 non-null   int64  \n",
      " 36  Industry_Mining                             3134 non-null   int64  \n",
      " 37  Industry_Retail                             3134 non-null   int64  \n",
      " 38  Industry_Services                           3134 non-null   int64  \n",
      " 39  Industry_Transportation & Public Utilities  3134 non-null   int64  \n",
      " 40  Industry_Wholesale                          3134 non-null   int64  \n",
      " 41  Industry_Wholesale Trade                    3134 non-null   int64  \n",
      " 42  Drop_category_Neutral/Null                  3134 non-null   int64  \n",
      " 43  Drop_category_Positive                      3134 non-null   int64  \n",
      "dtypes: float64(22), int64(21), object(1)\n",
      "memory usage: 1.1+ MB\n"
     ]
    }
   ],
   "source": [
    "data.info()"
   ]
  },
  {
   "cell_type": "code",
   "execution_count": null,
   "id": "1118acd4",
   "metadata": {
    "colab": {
     "base_uri": "https://localhost:8080/"
    },
    "executionInfo": {
     "elapsed": 465,
     "status": "ok",
     "timestamp": 1662259818000,
     "user": {
      "displayName": "Harshvardhan Matta",
      "userId": "13728824832312809445"
     },
     "user_tz": -330
    },
    "id": "DujWh32IcHc3",
    "outputId": "b4dedc4b-cc17-43a3-de21-33dd2175cf65"
   },
   "outputs": [
    {
     "data": {
      "text/plain": [
       "NumberOfBankStatements                       -0.224085\n",
       "Time_in_Business__c                          -0.108244\n",
       "Renewal_PreviousPaidPercentageOfRTR          -0.094702\n",
       "Renewal_CountPreviousDeals                   -0.082606\n",
       "Industry_Services                            -0.073244\n",
       "Credit_Score__c                              -0.059382\n",
       "Industry_Retail                              -0.032903\n",
       "HB_with_LCF_Payment__c                       -0.020881\n",
       "Industry_Mining                              -0.018274\n",
       "LatestMonth_ReturnItemDays                   -0.015710\n",
       "Renewal_PreviousHBwLCF                       -0.014973\n",
       "BankStatement_MA_NumReturnItems              -0.014653\n",
       "PctAvgDailybalance2AvgMonthlyDeposits        -0.014379\n",
       "AdjustedMonthlyDeposits                      -0.013616\n",
       "drop_percent                                 -0.007704\n",
       "Industry_Manufacturing                       -0.006627\n",
       "Renewal_PreviousPosition                      0.001372\n",
       "TwoMonthAvg_AdjustedMonthlyDeposits           0.001698\n",
       "Renewal_PreviousPace                          0.003269\n",
       "Drop_category_Neutral/Null                    0.005114\n",
       "Industry_Wholesale Trade                      0.007605\n",
       "Industry_Finance, Insurance, Real Estate      0.007795\n",
       "Is_this_Business_home_based__c_Yes            0.008312\n",
       "AvgMonthlydeposits                            0.008738\n",
       "AvgDailybalance                               0.008778\n",
       "Avg_ReturnItemdays                            0.012445\n",
       "PctChangeInReveune                            0.012761\n",
       "BBC_Position__c                               0.012783\n",
       "Renewal_PreviousCountBounces                  0.020369\n",
       "BankStatement_MA_OverdraftDays                0.020420\n",
       "FundedAmount                                  0.022273\n",
       "Industry_E-Commerce                           0.022405\n",
       "Paybackamount                                 0.024813\n",
       "Renewal_PreviousAvgDailyBalance               0.025516\n",
       "Drop_category_Positive                        0.026088\n",
       "Industry_Wholesale                            0.027759\n",
       "Renewal_PreviousAvgMonthRevenue               0.031837\n",
       "Renewal_TwoWeekBounces                        0.052650\n",
       "Industry_Construction                         0.052951\n",
       "Industry_Transportation & Public Utilities    0.063958\n",
       "FundedWriteOffAmount_Gross                    0.317754\n",
       "WOGross_AdvanceBalance                        0.352891\n",
       "WriteOff_YN                                   1.000000\n",
       "Name: WriteOff_YN, dtype: float64"
      ]
     },
     "execution_count": 10,
     "metadata": {},
     "output_type": "execute_result"
    }
   ],
   "source": [
    "data.corr()['WriteOff_YN'].sort_values()"
   ]
  },
  {
   "cell_type": "code",
   "execution_count": null,
   "id": "331ea7ac",
   "metadata": {
    "colab": {
     "base_uri": "https://localhost:8080/"
    },
    "executionInfo": {
     "elapsed": 473,
     "status": "ok",
     "timestamp": 1662259890055,
     "user": {
      "displayName": "Harshvardhan Matta",
      "userId": "13728824832312809445"
     },
     "user_tz": -330
    },
    "id": "8KHoEIWHUtPE",
    "outputId": "9d2af00e-b5b0-41f2-f0ae-301149681538"
   },
   "outputs": [
    {
     "data": {
      "text/plain": [
       "NumberOfBankStatements                       -0.224085\n",
       "Time_in_Business__c                          -0.108244\n",
       "Renewal_PreviousPaidPercentageOfRTR          -0.094702\n",
       "Renewal_CountPreviousDeals                   -0.082606\n",
       "Industry_Services                            -0.073244\n",
       "Credit_Score__c                              -0.059382\n",
       "Industry_Retail                              -0.032903\n",
       "HB_with_LCF_Payment__c                       -0.020881\n",
       "Industry_Mining                              -0.018274\n",
       "LatestMonth_ReturnItemDays                   -0.015710\n",
       "Renewal_PreviousHBwLCF                       -0.014973\n",
       "BankStatement_MA_NumReturnItems              -0.014653\n",
       "PctAvgDailybalance2AvgMonthlyDeposits        -0.014379\n",
       "AdjustedMonthlyDeposits                      -0.013616\n",
       "drop_percent                                 -0.007704\n",
       "Industry_Manufacturing                       -0.006627\n",
       "Renewal_PreviousPosition                      0.001372\n",
       "TwoMonthAvg_AdjustedMonthlyDeposits           0.001698\n",
       "Renewal_PreviousPace                          0.003269\n",
       "Drop_category_Neutral/Null                    0.005114\n",
       "Industry_Wholesale Trade                      0.007605\n",
       "Industry_Finance, Insurance, Real Estate      0.007795\n",
       "Is_this_Business_home_based__c_Yes            0.008312\n",
       "AvgMonthlydeposits                            0.008738\n",
       "AvgDailybalance                               0.008778\n",
       "Avg_ReturnItemdays                            0.012445\n",
       "PctChangeInReveune                            0.012761\n",
       "BBC_Position__c                               0.012783\n",
       "Renewal_PreviousCountBounces                  0.020369\n",
       "BankStatement_MA_OverdraftDays                0.020420\n",
       "FundedAmount                                  0.022273\n",
       "Industry_E-Commerce                           0.022405\n",
       "Paybackamount                                 0.024813\n",
       "Renewal_PreviousAvgDailyBalance               0.025516\n",
       "Drop_category_Positive                        0.026088\n",
       "Industry_Wholesale                            0.027759\n",
       "Renewal_PreviousAvgMonthRevenue               0.031837\n",
       "Renewal_TwoWeekBounces                        0.052650\n",
       "Industry_Construction                         0.052951\n",
       "Industry_Transportation & Public Utilities    0.063958\n",
       "WriteOff_YN                                   1.000000\n",
       "Name: WriteOff_YN, dtype: float64"
      ]
     },
     "execution_count": 12,
     "metadata": {},
     "output_type": "execute_result"
    }
   ],
   "source": [
    "data.drop(['FundedWriteOffAmount_Gross','WOGross_AdvanceBalance'],axis = 1).corr()['WriteOff_YN'].sort_values()"
   ]
  },
  {
   "cell_type": "code",
   "execution_count": null,
   "id": "f145361c",
   "metadata": {
    "colab": {
     "base_uri": "https://localhost:8080/"
    },
    "executionInfo": {
     "elapsed": 466,
     "status": "ok",
     "timestamp": 1662259895475,
     "user": {
      "displayName": "Harshvardhan Matta",
      "userId": "13728824832312809445"
     },
     "user_tz": -330
    },
    "id": "wJSHCrElqAAs",
    "outputId": "166ee3a0-9d34-4439-acd0-b19ed2b7497c"
   },
   "outputs": [
    {
     "data": {
      "text/plain": [
       "(3134, 44)"
      ]
     },
     "execution_count": 13,
     "metadata": {},
     "output_type": "execute_result"
    }
   ],
   "source": [
    "data.shape"
   ]
  },
  {
   "cell_type": "markdown",
   "id": "709d17f7",
   "metadata": {
    "id": "59dfcf40"
   },
   "source": [
    "### Model Training"
   ]
  },
  {
   "cell_type": "code",
   "execution_count": null,
   "id": "d680ef64",
   "metadata": {
    "id": "VWEe5qixX6wi"
   },
   "outputs": [],
   "source": [
    "# X = data.drop(['WriteOff_YN','Industry','Industry_Group__c','OpportunityID',\n",
    "#               'FundedWriteOffAmount_Net','PctChangeInReveune','PctAvgDailybalance2AvgMonthlyRevenue',\n",
    "#               'LatestMonth_ReturnItemDays','Avg_ReturnItemdays'],axis = 1)\n",
    "# y = data['WriteOff_YN']"
   ]
  },
  {
   "cell_type": "code",
   "execution_count": null,
   "id": "4dba1a48",
   "metadata": {
    "id": "7TWGw6TOcfjC"
   },
   "outputs": [],
   "source": [
    "X = data.drop(['WriteOff_YN','OpportunityID','FundedWriteOffAmount_Gross',\n",
    "              'Paybackamount','FundedAmount', 'WOGross_AdvanceBalance'],axis = 1)\n",
    "y = data['WriteOff_YN']"
   ]
  },
  {
   "cell_type": "code",
   "execution_count": null,
   "id": "e103bbc3",
   "metadata": {
    "colab": {
     "base_uri": "https://localhost:8080/"
    },
    "executionInfo": {
     "elapsed": 9,
     "status": "ok",
     "timestamp": 1662111644888,
     "user": {
      "displayName": "Siddhant Singh",
      "userId": "08343284542219482153"
     },
     "user_tz": -330
    },
    "id": "V_qtlKkRHvBt",
    "outputId": "78911157-87fc-4e69-e51e-a4963337649a"
   },
   "outputs": [
    {
     "name": "stdout",
     "output_type": "stream",
     "text": [
      "<class 'pandas.core.frame.DataFrame'>\n",
      "RangeIndex: 3134 entries, 0 to 3133\n",
      "Data columns (total 38 columns):\n",
      " #   Column                                      Non-Null Count  Dtype  \n",
      "---  ------                                      --------------  -----  \n",
      " 0   Renewal_PreviousPace                        3134 non-null   float64\n",
      " 1   Renewal_PreviousPaidPercentageOfRTR         3134 non-null   float64\n",
      " 2   Renewal_CountPreviousDeals                  3134 non-null   int64  \n",
      " 3   Renewal_PreviousCountBounces                3134 non-null   int64  \n",
      " 4   Renewal_PreviousPosition                    3134 non-null   int64  \n",
      " 5   Renewal_PreviousHBwLCF                      3134 non-null   float64\n",
      " 6   Renewal_PreviousAvgMonthRevenue             3134 non-null   float64\n",
      " 7   Renewal_PreviousAvgDailyBalance             3134 non-null   float64\n",
      " 8   Renewal_TwoWeekBounces                      3134 non-null   int64  \n",
      " 9   NumberOfBankStatements                      3134 non-null   int64  \n",
      " 10  BankStatement_MA_OverdraftDays              3134 non-null   float64\n",
      " 11  BankStatement_MA_NumReturnItems             3134 non-null   float64\n",
      " 12  Credit_Score__c                             3134 non-null   float64\n",
      " 13  Time_in_Business__c                         3134 non-null   float64\n",
      " 14  BBC_Position__c                             3134 non-null   int64  \n",
      " 15  HB_with_LCF_Payment__c                      3134 non-null   float64\n",
      " 16  AvgMonthlydeposits                          3134 non-null   float64\n",
      " 17  AvgDailybalance                             3134 non-null   float64\n",
      " 18  Avg_ReturnItemdays                          3134 non-null   float64\n",
      " 19  LatestMonth_ReturnItemDays                  3134 non-null   int64  \n",
      " 20  PctChangeInReveune                          3134 non-null   float64\n",
      " 21  PctAvgDailybalance2AvgMonthlyDeposits       3134 non-null   float64\n",
      " 22  TwoMonthAvg_AdjustedMonthlyDeposits         3134 non-null   float64\n",
      " 23  AdjustedMonthlyDeposits                     3134 non-null   float64\n",
      " 24  drop_percent                                3134 non-null   float64\n",
      " 25  Is_this_Business_home_based__c_Yes          3134 non-null   int64  \n",
      " 26  Industry_Construction                       3134 non-null   int64  \n",
      " 27  Industry_E-Commerce                         3134 non-null   int64  \n",
      " 28  Industry_Finance, Insurance, Real Estate    3134 non-null   int64  \n",
      " 29  Industry_Manufacturing                      3134 non-null   int64  \n",
      " 30  Industry_Mining                             3134 non-null   int64  \n",
      " 31  Industry_Retail                             3134 non-null   int64  \n",
      " 32  Industry_Services                           3134 non-null   int64  \n",
      " 33  Industry_Transportation & Public Utilities  3134 non-null   int64  \n",
      " 34  Industry_Wholesale                          3134 non-null   int64  \n",
      " 35  Industry_Wholesale Trade                    3134 non-null   int64  \n",
      " 36  Drop_category_Neutral/Null                  3134 non-null   int64  \n",
      " 37  Drop_category_Positive                      3134 non-null   int64  \n",
      "dtypes: float64(18), int64(20)\n",
      "memory usage: 930.5 KB\n"
     ]
    }
   ],
   "source": [
    "X.info()"
   ]
  },
  {
   "cell_type": "code",
   "execution_count": null,
   "id": "48145098",
   "metadata": {
    "id": "b300c552"
   },
   "outputs": [],
   "source": [
    "X_train,X_val,y_train,y_val = train_test_split(X,y,test_size=0.20,random_state=42)"
   ]
  },
  {
   "cell_type": "code",
   "execution_count": null,
   "id": "777aa049",
   "metadata": {
    "id": "dATKbZ83kbIi"
   },
   "outputs": [],
   "source": [
    "# X_test = data_test.drop(['WriteOff_YN','OpportunityID','FundedWriteOffAmount_Gross',\n",
    "#               'Paybackamount','FundedAmount', 'WOGross_AdvanceBalance'],axis = 1)\n",
    "# y_test = data_test['WriteOff_YN']"
   ]
  },
  {
   "cell_type": "code",
   "execution_count": null,
   "id": "02aea3c6",
   "metadata": {
    "colab": {
     "base_uri": "https://localhost:8080/"
    },
    "executionInfo": {
     "elapsed": 346,
     "status": "ok",
     "timestamp": 1662111693874,
     "user": {
      "displayName": "Siddhant Singh",
      "userId": "08343284542219482153"
     },
     "user_tz": -330
    },
    "id": "29f4e3f5",
    "outputId": "4bd2f380-df76-4a8a-c281-58bd8f0613db"
   },
   "outputs": [
    {
     "name": "stdout",
     "output_type": "stream",
     "text": [
      "Shape of x_train is: (2507, 38)\n",
      "Shape of x_val is: (627, 38)\n",
      "----------------------------------------------\n",
      "Shape of y_train is: (2507,)\n",
      "Shape of y_val is: (627,)\n"
     ]
    }
   ],
   "source": [
    "print('Shape of x_train is: {}'.format(X_train.shape))\n",
    "print('Shape of x_val is: {}'.format(X_val.shape))\n",
    "# print('Shape of x_test is: {}'.format(X_test.shape))\n",
    "print('----------------------------------------------')\n",
    "print('Shape of y_train is: {}'.format(y_train.shape))\n",
    "print('Shape of y_val is: {}'.format(y_val.shape))\n",
    "# print('Shape of y_test is: {}'.format(y_test.shape))"
   ]
  },
  {
   "cell_type": "code",
   "execution_count": null,
   "id": "543a5de6",
   "metadata": {
    "id": "pcvZsbeSwHQj"
   },
   "outputs": [],
   "source": []
  },
  {
   "cell_type": "code",
   "execution_count": null,
   "id": "ecb85ba2",
   "metadata": {
    "colab": {
     "base_uri": "https://localhost:8080/"
    },
    "executionInfo": {
     "elapsed": 8,
     "status": "ok",
     "timestamp": 1662111698124,
     "user": {
      "displayName": "Siddhant Singh",
      "userId": "08343284542219482153"
     },
     "user_tz": -330
    },
    "id": "2615620c",
    "outputId": "3213aeae-3c05-4c24-b5ef-474bf142f969"
   },
   "outputs": [
    {
     "name": "stdout",
     "output_type": "stream",
     "text": [
      "Percentage of  having WriteOFF_YN = 1: 26.0%\n",
      "Percentage of  having WriteOFF_YN = 0: 74.0%\n"
     ]
    }
   ],
   "source": [
    "#checking the skewness of train set\n",
    "print('Percentage of  having WriteOFF_YN = 1: {}%'.format(np.round((list(y_train).count(1)/len(y_train))*100)))\n",
    "print('Percentage of  having WriteOFF_YN = 0: {}%'.format(np.round(list(y_train).count(0)/len(y_train)*100)))"
   ]
  },
  {
   "cell_type": "code",
   "execution_count": null,
   "id": "ebad74fe",
   "metadata": {
    "colab": {
     "base_uri": "https://localhost:8080/"
    },
    "executionInfo": {
     "elapsed": 5,
     "status": "ok",
     "timestamp": 1662111699677,
     "user": {
      "displayName": "Siddhant Singh",
      "userId": "08343284542219482153"
     },
     "user_tz": -330
    },
    "id": "pO4lWsYgP_vn",
    "outputId": "4cc665a1-5cce-431c-bef3-612fe1a8ab2a"
   },
   "outputs": [
    {
     "name": "stdout",
     "output_type": "stream",
     "text": [
      "Percentage of  having WriteOFF_YN = 1: 26.0%\n",
      "Percentage of  having WriteOFF_YN = 0: 74.0%\n"
     ]
    }
   ],
   "source": [
    "#checking the skewness of validation set\n",
    "print('Percentage of  having WriteOFF_YN = 1: {}%'.format(np.round((list(y_val).count(1)/len(y_val))*100)))\n",
    "print('Percentage of  having WriteOFF_YN = 0: {}%'.format(np.round(list(y_val).count(0)/len(y_val)*100)))"
   ]
  },
  {
   "cell_type": "code",
   "execution_count": null,
   "id": "5839d280",
   "metadata": {
    "id": "mfuP_pXLlDac"
   },
   "outputs": [],
   "source": [
    "# #checking the skewness of validation set\n",
    "# print('Percentage of  having WriteOFF_YN = 1: {}%'.format(np.round((list(y_test).count(1)/len(y_test))*100)))\n",
    "# print('Percentage of  having WriteOFF_YN = 0: {}%'.format(np.round(list(y_test).count(0)/len(y_test)*100)))"
   ]
  },
  {
   "cell_type": "markdown",
   "id": "44fc6c2e",
   "metadata": {
    "id": "P2bAlnQTmmLI"
   },
   "source": [
    "#XGBoost Parameters Explanation\n",
    "\n",
    "\n",
    "1.   eta - Learning rate - Prevents overfitting - Default = 0.3 - Range = [0,1]\n",
    "2.   gamma - min_split_loss - Min loss reduction for a further partition - default = 0 - range = [0,infinity] (Higher gamma value means smaller loss reduction which means more splits. As a result, more conservative model,chances of improvement in accuracy.Higher values can also cause overfitting).\n",
    "3.  lambda - L2 regularisation - default=1 - Higher value means more conservative model, likely to overfit\n",
    "4. alpha - L1 regularization - default=0 - Higher values lead to more conservative model, likely to overfit \n",
    "5. scale_pos_weight - default=1 - Control the balance of positive and negative weights, useful for unbalanced classes. A typical value to consider: sum(negative instances) / sum(positive instances).\n",
    "\n",
    "\n",
    "\n",
    "\n",
    "\n",
    "\n",
    "\n"
   ]
  },
  {
   "cell_type": "code",
   "execution_count": null,
   "id": "043b6382",
   "metadata": {
    "colab": {
     "base_uri": "https://localhost:8080/"
    },
    "executionInfo": {
     "elapsed": 359,
     "status": "ok",
     "timestamp": 1662111711947,
     "user": {
      "displayName": "Siddhant Singh",
      "userId": "08343284542219482153"
     },
     "user_tz": -330
    },
    "id": "tbC7nsOKhSpC",
    "outputId": "365840c1-520e-4f96-dffc-e287e273e0c3"
   },
   "outputs": [
    {
     "data": {
      "text/plain": [
       "816.25"
      ]
     },
     "execution_count": 20,
     "metadata": {},
     "output_type": "execute_result"
    }
   ],
   "source": [
    "quantile_1 = data[data['WriteOff_YN'] == 1]['FundedWriteOffAmount_Gross'].quantile(0.25)\n",
    "quantile_1"
   ]
  },
  {
   "cell_type": "code",
   "execution_count": null,
   "id": "805a9f2c",
   "metadata": {
    "colab": {
     "base_uri": "https://localhost:8080/"
    },
    "executionInfo": {
     "elapsed": 9,
     "status": "ok",
     "timestamp": 1662111713663,
     "user": {
      "displayName": "Siddhant Singh",
      "userId": "08343284542219482153"
     },
     "user_tz": -330
    },
    "id": "g6g4HWlzhSiV",
    "outputId": "4200d16e-778b-4e47-af2a-b6d1ab81f29d"
   },
   "outputs": [
    {
     "data": {
      "text/plain": [
       "3526.08"
      ]
     },
     "execution_count": 21,
     "metadata": {},
     "output_type": "execute_result"
    }
   ],
   "source": [
    "quantile_2 = data[data['WriteOff_YN'] == 1]['FundedWriteOffAmount_Gross'].quantile(0.5)\n",
    "quantile_2"
   ]
  },
  {
   "cell_type": "code",
   "execution_count": null,
   "id": "25f006bc",
   "metadata": {
    "colab": {
     "base_uri": "https://localhost:8080/"
    },
    "executionInfo": {
     "elapsed": 4,
     "status": "ok",
     "timestamp": 1662111715151,
     "user": {
      "displayName": "Siddhant Singh",
      "userId": "08343284542219482153"
     },
     "user_tz": -330
    },
    "id": "LSf65LT2h8Yw",
    "outputId": "4c8a2b92-1e7b-4879-99d9-b0f0c2f9919d"
   },
   "outputs": [
    {
     "data": {
      "text/plain": [
       "8282.25"
      ]
     },
     "execution_count": 22,
     "metadata": {},
     "output_type": "execute_result"
    }
   ],
   "source": [
    "quantile_3 = data[data['WriteOff_YN'] == 1]['FundedWriteOffAmount_Gross'].quantile(0.75)\n",
    "quantile_3"
   ]
  },
  {
   "cell_type": "code",
   "execution_count": null,
   "id": "0225f436",
   "metadata": {
    "colab": {
     "base_uri": "https://localhost:8080/"
    },
    "executionInfo": {
     "elapsed": 7,
     "status": "ok",
     "timestamp": 1662111717098,
     "user": {
      "displayName": "Siddhant Singh",
      "userId": "08343284542219482153"
     },
     "user_tz": -330
    },
    "id": "RUHLXOUMHxn0",
    "outputId": "208d02e2-17e4-4ea4-ad3a-c43196d8578d"
   },
   "outputs": [
    {
     "data": {
      "text/plain": [
       "3134"
      ]
     },
     "execution_count": 23,
     "metadata": {},
     "output_type": "execute_result"
    }
   ],
   "source": [
    "weight = []\n",
    "for i in data.index:\n",
    "  if data['WriteOff_YN'][i] == 0:\n",
    "    weight.append(1.0)\n",
    "  else:\n",
    "    if data['FundedWriteOffAmount_Gross'][i] < quantile_1:\n",
    "      weight.append(1.25)\n",
    "    elif data['FundedWriteOffAmount_Gross'][i] >= quantile_1 and data['FundedWriteOffAmount_Gross'][i] < quantile_2:\n",
    "      weight.append(1.5)\n",
    "    elif data['FundedWriteOffAmount_Gross'][i] >= quantile_2 and data['FundedWriteOffAmount_Gross'][i] < quantile_3:\n",
    "      weight.append(2.0)\n",
    "    else:\n",
    "      weight.append(2.25)\n",
    "\n",
    "weight = np.array(weight)\n",
    "len(weight)"
   ]
  },
  {
   "cell_type": "code",
   "execution_count": null,
   "id": "4a4cfd25",
   "metadata": {
    "colab": {
     "base_uri": "https://localhost:8080/"
    },
    "executionInfo": {
     "elapsed": 345,
     "status": "ok",
     "timestamp": 1662112467782,
     "user": {
      "displayName": "Siddhant Singh",
      "userId": "08343284542219482153"
     },
     "user_tz": -330
    },
    "id": "QkJk3_wQliwH",
    "outputId": "a9448b09-6ec1-4e7d-e16f-af1fa1db539a"
   },
   "outputs": [
    {
     "data": {
      "text/plain": [
       "2507"
      ]
     },
     "execution_count": 136,
     "metadata": {},
     "output_type": "execute_result"
    }
   ],
   "source": [
    "# weight = []\n",
    "# for i in y_train.index:\n",
    "#   if y_train[i] == 0:\n",
    "#     weight.append(1.0)\n",
    "#   else:\n",
    "#     if data['FundedWriteOffAmount_Gross'][i] < quantile_1:\n",
    "#       weight.append(1.25)\n",
    "#     elif data['FundedWriteOffAmount_Gross'][i] >= quantile_1 and data['FundedWriteOffAmount_Gross'][i] < quantile_2:\n",
    "#       weight.append(1.5)\n",
    "#     elif data['FundedWriteOffAmount_Gross'][i] >= quantile_2 and data['FundedWriteOffAmount_Gross'][i] < quantile_3:\n",
    "#       weight.append(2.0)\n",
    "#     else:\n",
    "#       weight.append(2.25)\n",
    "\n",
    "# weight = np.array(weight)\n",
    "# len(weight)"
   ]
  },
  {
   "cell_type": "code",
   "execution_count": null,
   "id": "9f5d471b",
   "metadata": {
    "id": "-vKT5_nES029"
   },
   "outputs": [],
   "source": [
    "# data[(data['FundedWriteOffAmount_Gross'] >= quantile_2) & (data['FundedWriteOffAmount_Gross'] < quantile_3)]"
   ]
  },
  {
   "cell_type": "code",
   "execution_count": null,
   "id": "31523f2f",
   "metadata": {
    "id": "pZ8YJFLwSwRT"
   },
   "outputs": [],
   "source": [
    "# median_WO = data[data['WriteOff_YN'] == 1]['FundedWriteOffAmount_Gross'].median()\n",
    "# median_WO"
   ]
  },
  {
   "cell_type": "code",
   "execution_count": null,
   "id": "170abd58",
   "metadata": {
    "id": "Log2F2cDQmFk"
   },
   "outputs": [],
   "source": [
    "# weight = []\n",
    "# for i in data.index:\n",
    "#   if data['FundedWriteOffAmount_Gross'][i] > median_WO:\n",
    "#     weight.append(2)\n",
    "#   else:\n",
    "#     weight.append(1)\n",
    "# weight = np.array(weight)\n",
    "# len(weight)"
   ]
  },
  {
   "cell_type": "code",
   "execution_count": null,
   "id": "e437b321",
   "metadata": {
    "id": "5gbPEmfvUp4S"
   },
   "outputs": [],
   "source": [
    "# L1 = 0\n",
    "# L2 = 10\n",
    "# lr = 0.3"
   ]
  },
  {
   "cell_type": "code",
   "execution_count": null,
   "id": "8058ba69",
   "metadata": {
    "id": "84485e02"
   },
   "outputs": [],
   "source": [
    "parameters = {\n",
    "    'eval_metric':['aucpr'],\n",
    "    'use_label_encoder':[False],\n",
    "    'n_estimators':[1,5,10,15,20,25,30,40], # number of decision trees used in Xgboost model\n",
    "    'scale_pos_weight': [1,2,3,4,5,6,7,8,9,10], # used to tackle unbalanced datasets(same as upsampling, SMOTE,etc)\n",
    "    'subsample':[0.3,0.75], # how much % of data you are taking for estimator building.\n",
    "    'reg_alpha':[0],\n",
    "    'reg_lambda':[1], #perform L2 regularization on leaf weights(tackle overfitting)(control how deep a tree can grow)\n",
    "    'learning_rate':[0.3], # Learning rate(new weight updation after every epoch in a conservative manner)\n",
    "    'gamma':[0.25], #Minimum loss reduction required to make a further partition on a leaf node of the tree. The larger gamma is, the more conservative the algorithm will be.\n",
    "    'colsample_bytree':[1],\n",
    "    'colsample_bylevel':[1],\n",
    "    'colsample_bynode':[1]\n",
    "} "
   ]
  },
  {
   "cell_type": "code",
   "execution_count": null,
   "id": "69c7f921",
   "metadata": {
    "colab": {
     "base_uri": "https://localhost:8080/"
    },
    "executionInfo": {
     "elapsed": 41726,
     "status": "ok",
     "timestamp": 1662112797627,
     "user": {
      "displayName": "Siddhant Singh",
      "userId": "08343284542219482153"
     },
     "user_tz": -330
    },
    "id": "48646d78",
    "outputId": "b6835bf9-06d8-45fa-db1a-24c4e7562b27"
   },
   "outputs": [
    {
     "data": {
      "text/plain": [
       "41"
      ]
     },
     "execution_count": 248,
     "metadata": {},
     "output_type": "execute_result"
    }
   ],
   "source": [
    "from datetime import datetime as dt\n",
    "start = dt.now()\n",
    "x_cfl = XGBClassifier(objective='binary:logistic') #initializing xgboost model\n",
    "\n",
    "clf = GridSearchCV(estimator=x_cfl, \n",
    "                   param_grid=parameters, \n",
    "                   scoring='roc_auc',\n",
    "                   n_jobs=-1, \n",
    "                   cv=5, \n",
    "                   return_train_score=True)\n",
    "\n",
    "clf.fit(X_train,y_train,sample_weight = weight)\n",
    "running_secs = (dt.now() - start).seconds\n",
    "running_secs"
   ]
  },
  {
   "cell_type": "code",
   "execution_count": null,
   "id": "14c3b145",
   "metadata": {
    "colab": {
     "base_uri": "https://localhost:8080/"
    },
    "executionInfo": {
     "elapsed": 14,
     "status": "ok",
     "timestamp": 1662112799136,
     "user": {
      "displayName": "Siddhant Singh",
      "userId": "08343284542219482153"
     },
     "user_tz": -330
    },
    "id": "83216781",
    "outputId": "bd93ccc5-7cd1-40ec-f1ae-6a9b8c295bfc"
   },
   "outputs": [
    {
     "data": {
      "text/plain": [
       "XGBClassifier(eval_metric='aucpr', gamma=0.25, learning_rate=0.3,\n",
       "              n_estimators=25, subsample=0.75, use_label_encoder=False)"
      ]
     },
     "execution_count": 249,
     "metadata": {},
     "output_type": "execute_result"
    }
   ],
   "source": [
    "# best parameters after training\n",
    "clf.best_estimator_"
   ]
  },
  {
   "cell_type": "code",
   "execution_count": null,
   "id": "2598fe54",
   "metadata": {
    "colab": {
     "base_uri": "https://localhost:8080/"
    },
    "executionInfo": {
     "elapsed": 4,
     "status": "ok",
     "timestamp": 1662112799708,
     "user": {
      "displayName": "Siddhant Singh",
      "userId": "08343284542219482153"
     },
     "user_tz": -330
    },
    "id": "RsKYL5I1Rtr1",
    "outputId": "96a12725-34a5-44d2-8b7c-9101cc74f3ac"
   },
   "outputs": [
    {
     "data": {
      "text/plain": [
       "{'colsample_bylevel': 1,\n",
       " 'colsample_bynode': 1,\n",
       " 'colsample_bytree': 1,\n",
       " 'eval_metric': 'aucpr',\n",
       " 'gamma': 0.25,\n",
       " 'learning_rate': 0.3,\n",
       " 'n_estimators': 25,\n",
       " 'reg_alpha': 0,\n",
       " 'reg_lambda': 1,\n",
       " 'scale_pos_weight': 1,\n",
       " 'subsample': 0.75,\n",
       " 'use_label_encoder': False}"
      ]
     },
     "execution_count": 250,
     "metadata": {},
     "output_type": "execute_result"
    }
   ],
   "source": [
    "clf.best_params_"
   ]
  },
  {
   "cell_type": "code",
   "execution_count": null,
   "id": "c869c911",
   "metadata": {
    "id": "7b397244"
   },
   "outputs": [],
   "source": [
    "# predict_y_test = clf.predict(X_test)\n",
    "# predict_y_proba_test = clf.predict_proba(X_test)\n",
    "predict_y_train = clf.predict(X_train)\n",
    "predict_y_proba_train = clf.predict_proba(X_train)\n",
    "predict_y_val = clf.predict(X_val)\n",
    "predict_y_proba_val = clf.predict_proba(X_val)"
   ]
  },
  {
   "cell_type": "code",
   "execution_count": null,
   "id": "44ec4a04",
   "metadata": {
    "colab": {
     "base_uri": "https://localhost:8080/",
     "height": 295
    },
    "executionInfo": {
     "elapsed": 1052,
     "status": "ok",
     "timestamp": 1662112801502,
     "user": {
      "displayName": "Siddhant Singh",
      "userId": "08343284542219482153"
     },
     "user_tz": -330
    },
    "id": "f4d25e6b",
    "outputId": "ccdc321d-0a9f-4816-82f3-3e8aae8bdca0"
   },
   "outputs": [
    {
     "data": {
      "image/png": "[encoded data removed]",
      "text/plain": [
       "<Figure size 432x288 with 1 Axes>"
      ]
     },
     "metadata": {},
     "output_type": "display_data"
    }
   ],
   "source": [
    "#here test score refers to the cv score\n",
    "x_axis = [i for i in range(100)]\n",
    "plt.plot(x_axis,clf.cv_results_['mean_test_score'][:100])\n",
    "plt.plot(x_axis,clf.cv_results_['mean_train_score'][:100])\n",
    "plt.legend([\"test score\", \"train score\"], loc =\"lower right\")\n",
    "plt.xlabel('iterations')\n",
    "plt.ylabel('roc_auc score')\n",
    "plt.title('plot for train and cv roc_auc scores')\n",
    "plt.show()"
   ]
  },
  {
   "cell_type": "code",
   "execution_count": null,
   "id": "3aa6144d",
   "metadata": {
    "id": "mTtyLIznRoPs"
   },
   "outputs": [],
   "source": [
    "from sklearn.metrics import precision_score,recall_score"
   ]
  },
  {
   "cell_type": "code",
   "execution_count": null,
   "id": "647b9d87",
   "metadata": {
    "colab": {
     "base_uri": "https://localhost:8080/",
     "height": 451
    },
    "executionInfo": {
     "elapsed": 8,
     "status": "ok",
     "timestamp": 1662112801503,
     "user": {
      "displayName": "Siddhant Singh",
      "userId": "08343284542219482153"
     },
     "user_tz": -330
    },
    "id": "14878472",
    "outputId": "a0ab9abe-eb1c-45e4-9946-0f3a8f1624a2"
   },
   "outputs": [
    {
     "data": {
      "image/png": "[encoded data removed]",
      "text/plain": [
       "<Figure size 432x288 with 2 Axes>"
      ]
     },
     "metadata": {},
     "output_type": "display_data"
    },
    {
     "name": "stdout",
     "output_type": "stream",
     "text": [
      "----------------------------\n",
      "TP: 442\n",
      "TN: 1617\n",
      "FP: 242\n",
      "FN: 206\n",
      "F1-score: 0.6636636636636637\n",
      "accuracy: 0.8213003589948146\n",
      "Precision: 0.6461988304093568\n",
      "Recall: 0.6820987654320988\n"
     ]
    }
   ],
   "source": [
    "# on training data\n",
    "sns.heatmap(confusion_matrix(y_train,predict_y_train), annot=True, fmt='d')\n",
    "plt.title('Confusion matrix on training_data')\n",
    "plt.xlabel('Predicted')\n",
    "plt.ylabel('Truth')\n",
    "plt.show()\n",
    "print(\"----------------------------\")\n",
    "\n",
    "tn, fp, fn, tp = confusion_matrix(y_train, predict_y_train).ravel()\n",
    "print('TP: {}'.format(tp))\n",
    "print('TN: {}'.format(tn))\n",
    "print('FP: {}'.format(fp))\n",
    "print('FN: {}'.format(fn))\n",
    "\n",
    "\n",
    "print('F1-score: {}'.format(f1_score(predict_y_train,y_train)))\n",
    "print('accuracy: {}'.format((tp+tn)/(tp+tn+fp+fn)))\n",
    "print('Precision: {}'.format(precision_score(y_train,predict_y_train)))\n",
    "print('Recall: {}'.format(recall_score(y_train,predict_y_train)))"
   ]
  },
  {
   "cell_type": "code",
   "execution_count": null,
   "id": "f7bed904",
   "metadata": {
    "colab": {
     "base_uri": "https://localhost:8080/",
     "height": 486
    },
    "executionInfo": {
     "elapsed": 410,
     "status": "ok",
     "timestamp": 1662112817758,
     "user": {
      "displayName": "Siddhant Singh",
      "userId": "08343284542219482153"
     },
     "user_tz": -330
    },
    "id": "1WfFvioRn-i5",
    "outputId": "3a51ac77-d959-4785-b53c-541b605a3db4"
   },
   "outputs": [
    {
     "data": {
      "image/png": "[encoded data removed]",
      "text/plain": [
       "<Figure size 432x288 with 2 Axes>"
      ]
     },
     "metadata": {},
     "output_type": "display_data"
    },
    {
     "name": "stdout",
     "output_type": "stream",
     "text": [
      "----------------------------\n",
      "----------------------------\n",
      "TP: 83\n",
      "TN: 384\n",
      "FP: 81\n",
      "FN: 79\n",
      "----------------------------\n",
      "F1-score: 0.5092024539877301\n",
      "accuracy: 0.74481658692185\n",
      "Precision: 0.5060975609756098\n",
      "Recall: 0.5123456790123457\n"
     ]
    }
   ],
   "source": [
    "# on validation set\n",
    "sns.heatmap(confusion_matrix(y_val,predict_y_val), annot=True, fmt='d')\n",
    "plt.title('Confusion matrix on test data')\n",
    "plt.xlabel('Predicted')\n",
    "plt.ylabel('Truth')\n",
    "plt.show()\n",
    "print(\"----------------------------\")\n",
    "\n",
    "tn, fp, fn, tp = confusion_matrix(y_val,predict_y_val).ravel()\n",
    "print(\"----------------------------\")\n",
    "\n",
    "print('TP: {}'.format(tp))\n",
    "print('TN: {}'.format(tn))\n",
    "print('FP: {}'.format(fp))\n",
    "print('FN: {}'.format(fn))\n",
    "print(\"----------------------------\")\n",
    "\n",
    "print('F1-score: {}'.format(f1_score(y_val,predict_y_val)))\n",
    "print('accuracy: {}'.format((tp+tn)/(tp+tn+fp+fn)))\n",
    "print('Precision: {}'.format(precision_score(y_val,predict_y_val)))\n",
    "print('Recall: {}'.format(recall_score(y_val,predict_y_val)))"
   ]
  },
  {
   "cell_type": "code",
   "execution_count": null,
   "id": "e6a8521a",
   "metadata": {
    "id": "351d5687"
   },
   "outputs": [],
   "source": [
    "# # on test set \n",
    "# sns.heatmap(confusion_matrix(y_test,predict_y_test), annot=True, fmt='d')\n",
    "# plt.title('Confusion matrix on test data')\n",
    "# plt.xlabel('Predicted')\n",
    "# plt.ylabel('Truth')\n",
    "# plt.show()\n",
    "# print(\"----------------------------\")\n",
    "\n",
    "# tn, fp, fn, tp = confusion_matrix(y_test,predict_y_test).ravel()\n",
    "# print(\"----------------------------\")\n",
    "\n",
    "# print('TP: {}'.format(tp))\n",
    "# print('TN: {}'.format(tn))\n",
    "# print('FP: {}'.format(fp))\n",
    "# print('FN: {}'.format(fn))\n",
    "# print(\"----------------------------\")\n",
    "\n",
    "# print('F1-score: {}'.format(f1_score(y_test,predict_y_test)))\n",
    "# print('accuracy: {}'.format((tp+tn)/(tp+tn+fp+fn)))\n",
    "# print('Precision: {}'.format(precision_score(y_test,predict_y_test)))\n",
    "# print('Recall: {}'.format(recall_score(y_test,predict_y_test)))"
   ]
  },
  {
   "cell_type": "code",
   "execution_count": null,
   "id": "447733e0",
   "metadata": {
    "colab": {
     "base_uri": "https://localhost:8080/",
     "height": 1000
    },
    "executionInfo": {
     "elapsed": 1581,
     "status": "ok",
     "timestamp": 1662112825697,
     "user": {
      "displayName": "Siddhant Singh",
      "userId": "08343284542219482153"
     },
     "user_tz": -330
    },
    "id": "0tysfmyJPi22",
    "outputId": "c501b741-108a-41a6-bc22-76fb1fbcfbf3"
   },
   "outputs": [
    {
     "data": {
      "image/png": "[encoded data removed]",
      "text/plain": [
       "<Figure size 720x1296 with 1 Axes>"
      ]
     },
     "metadata": {},
     "output_type": "display_data"
    }
   ],
   "source": [
    "# check for feature importance\n",
    "features = X_train.columns\n",
    "features\n",
    "gain = clf.best_estimator_.feature_importances_\n",
    "plt.figure(figsize = (10, 18))\n",
    "plt.barh(features , gain)\n",
    "plt.xlabel(\"Score\")\n",
    "plt.ylabel(\"features\")\n",
    "plt.legend([\"Feature Importance\"])\n",
    "plt.show()"
   ]
  },
  {
   "cell_type": "markdown",
   "id": "e37fbed7",
   "metadata": {
    "id": "3MPqI_uPHgOj"
   },
   "source": [
    "# For Train data"
   ]
  },
  {
   "cell_type": "code",
   "execution_count": null,
   "id": "7d582436",
   "metadata": {
    "colab": {
     "base_uri": "https://localhost:8080/",
     "height": 424
    },
    "executionInfo": {
     "elapsed": 373,
     "status": "ok",
     "timestamp": 1662112836285,
     "user": {
      "displayName": "Siddhant Singh",
      "userId": "08343284542219482153"
     },
     "user_tz": -330
    },
    "id": "qICj_UXxeDGa",
    "outputId": "72dd0001-5f8b-490d-e5c0-f686ece81e49"
   },
   "outputs": [
    {
     "data": {
      "text/html": [
       "\n",
       "  <div id=\"df-dc13db43-79c5-4e77-a99c-77e56597a3f3\">\n",
       "    <div class=\"colab-df-container\">\n",
       "      <div>\n",
       "<style scoped>\n",
       "    .dataframe tbody tr th:only-of-type {\n",
       "        vertical-align: middle;\n",
       "    }\n",
       "\n",
       "    .dataframe tbody tr th {\n",
       "        vertical-align: top;\n",
       "    }\n",
       "\n",
       "    .dataframe thead th {\n",
       "        text-align: right;\n",
       "    }\n",
       "</style>\n",
       "<table border=\"1\" class=\"dataframe\">\n",
       "  <thead>\n",
       "    <tr style=\"text-align: right;\">\n",
       "      <th></th>\n",
       "      <th>WriteOff_YN</th>\n",
       "    </tr>\n",
       "  </thead>\n",
       "  <tbody>\n",
       "    <tr>\n",
       "      <th>755</th>\n",
       "      <td>0</td>\n",
       "    </tr>\n",
       "    <tr>\n",
       "      <th>3123</th>\n",
       "      <td>0</td>\n",
       "    </tr>\n",
       "    <tr>\n",
       "      <th>221</th>\n",
       "      <td>0</td>\n",
       "    </tr>\n",
       "    <tr>\n",
       "      <th>543</th>\n",
       "      <td>0</td>\n",
       "    </tr>\n",
       "    <tr>\n",
       "      <th>1395</th>\n",
       "      <td>0</td>\n",
       "    </tr>\n",
       "    <tr>\n",
       "      <th>...</th>\n",
       "      <td>...</td>\n",
       "    </tr>\n",
       "    <tr>\n",
       "      <th>3092</th>\n",
       "      <td>0</td>\n",
       "    </tr>\n",
       "    <tr>\n",
       "      <th>1095</th>\n",
       "      <td>0</td>\n",
       "    </tr>\n",
       "    <tr>\n",
       "      <th>1130</th>\n",
       "      <td>0</td>\n",
       "    </tr>\n",
       "    <tr>\n",
       "      <th>1294</th>\n",
       "      <td>0</td>\n",
       "    </tr>\n",
       "    <tr>\n",
       "      <th>860</th>\n",
       "      <td>0</td>\n",
       "    </tr>\n",
       "  </tbody>\n",
       "</table>\n",
       "<p>2507 rows × 1 columns</p>\n",
       "</div>\n",
       "      <button class=\"colab-df-convert\" onclick=\"convertToInteractive('df-dc13db43-79c5-4e77-a99c-77e56597a3f3')\"\n",
       "              title=\"Convert this dataframe to an interactive table.\"\n",
       "              style=\"display:none;\">\n",
       "        \n",
       "  <svg xmlns=\"http://www.w3.org/2000/svg\" height=\"24px\"viewBox=\"0 0 24 24\"\n",
       "       width=\"24px\">\n",
       "    <path d=\"M0 0h24v24H0V0z\" fill=\"none\"/>\n",
       "    <path d=\"M18.56 5.44l.94 2.06.94-2.06 2.06-.94-2.06-.94-.94-2.06-.94 2.06-2.06.94zm-11 1L8.5 8.5l.94-2.06 2.06-.94-2.06-.94L8.5 2.5l-.94 2.06-2.06.94zm10 10l.94 2.06.94-2.06 2.06-.94-2.06-.94-.94-2.06-.94 2.06-2.06.94z\"/><path d=\"M17.41 7.96l-1.37-1.37c-.4-.4-.92-.59-1.43-.59-.52 0-1.04.2-1.43.59L10.3 9.45l-7.72 7.72c-.78.78-.78 2.05 0 2.83L4 21.41c.39.39.9.59 1.41.59.51 0 1.02-.2 1.41-.59l7.78-7.78 2.81-2.81c.8-.78.8-2.07 0-2.86zM5.41 20L4 18.59l7.72-7.72 1.47 1.35L5.41 20z\"/>\n",
       "  </svg>\n",
       "      </button>\n",
       "      \n",
       "  <style>\n",
       "    .colab-df-container {\n",
       "      display:flex;\n",
       "      flex-wrap:wrap;\n",
       "      gap: 12px;\n",
       "    }\n",
       "\n",
       "    .colab-df-convert {\n",
       "      background-color: #E8F0FE;\n",
       "      border: none;\n",
       "      border-radius: 50%;\n",
       "      cursor: pointer;\n",
       "      display: none;\n",
       "      fill: #1967D2;\n",
       "      height: 32px;\n",
       "      padding: 0 0 0 0;\n",
       "      width: 32px;\n",
       "    }\n",
       "\n",
       "    .colab-df-convert:hover {\n",
       "      background-color: #E2EBFA;\n",
       "      box-shadow: 0px 1px 2px rgba(60, 64, 67, 0.3), 0px 1px 3px 1px rgba(60, 64, 67, 0.15);\n",
       "      fill: #174EA6;\n",
       "    }\n",
       "\n",
       "    [theme=dark] .colab-df-convert {\n",
       "      background-color: #3B4455;\n",
       "      fill: #D2E3FC;\n",
       "    }\n",
       "\n",
       "    [theme=dark] .colab-df-convert:hover {\n",
       "      background-color: #434B5C;\n",
       "      box-shadow: 0px 1px 3px 1px rgba(0, 0, 0, 0.15);\n",
       "      filter: drop-shadow(0px 1px 2px rgba(0, 0, 0, 0.3));\n",
       "      fill: #FFFFFF;\n",
       "    }\n",
       "  </style>\n",
       "\n",
       "      <script>\n",
       "        const buttonEl =\n",
       "          document.querySelector('#df-dc13db43-79c5-4e77-a99c-77e56597a3f3 button.colab-df-convert');\n",
       "        buttonEl.style.display =\n",
       "          google.colab.kernel.accessAllowed ? 'block' : 'none';\n",
       "\n",
       "        async function convertToInteractive(key) {\n",
       "          const element = document.querySelector('#df-dc13db43-79c5-4e77-a99c-77e56597a3f3');\n",
       "          const dataTable =\n",
       "            await google.colab.kernel.invokeFunction('convertToInteractive',\n",
       "                                                     [key], {});\n",
       "          if (!dataTable) return;\n",
       "\n",
       "          const docLinkHtml = 'Like what you see? Visit the ' +\n",
       "            '<a target=\"_blank\" href=https://colab.research.google.com/notebooks/data_table.ipynb>data table notebook</a>'\n",
       "            + ' to learn more about interactive tables.';\n",
       "          element.innerHTML = '';\n",
       "          dataTable['output_type'] = 'display_data';\n",
       "          await google.colab.output.renderOutput(dataTable, element);\n",
       "          const docLink = document.createElement('div');\n",
       "          docLink.innerHTML = docLinkHtml;\n",
       "          element.appendChild(docLink);\n",
       "        }\n",
       "      </script>\n",
       "    </div>\n",
       "  </div>\n",
       "  "
      ],
      "text/plain": [
       "      WriteOff_YN\n",
       "755             0\n",
       "3123            0\n",
       "221             0\n",
       "543             0\n",
       "1395            0\n",
       "...           ...\n",
       "3092            0\n",
       "1095            0\n",
       "1130            0\n",
       "1294            0\n",
       "860             0\n",
       "\n",
       "[2507 rows x 1 columns]"
      ]
     },
     "execution_count": 257,
     "metadata": {},
     "output_type": "execute_result"
    }
   ],
   "source": [
    "#converting this into a dataframe as y_test is a series {we get retained indexes}\n",
    "check = pd.DataFrame(y_train)\n",
    "check"
   ]
  },
  {
   "cell_type": "code",
   "execution_count": null,
   "id": "a1a1a820",
   "metadata": {
    "id": "wtxXpG3IebGv"
   },
   "outputs": [],
   "source": [
    "check['Predicted Values'] = predict_y_train"
   ]
  },
  {
   "cell_type": "code",
   "execution_count": null,
   "id": "dea4f35b",
   "metadata": {
    "colab": {
     "base_uri": "https://localhost:8080/",
     "height": 424
    },
    "executionInfo": {
     "elapsed": 16,
     "status": "ok",
     "timestamp": 1662112838356,
     "user": {
      "displayName": "Siddhant Singh",
      "userId": "08343284542219482153"
     },
     "user_tz": -330
    },
    "id": "HXH7n0vkejNO",
    "outputId": "5a810e29-a4f8-4807-cb79-2e0f5f7291b7"
   },
   "outputs": [
    {
     "data": {
      "text/html": [
       "\n",
       "  <div id=\"df-ba171a4b-381b-4ee5-9ef2-6e92182c01b9\">\n",
       "    <div class=\"colab-df-container\">\n",
       "      <div>\n",
       "<style scoped>\n",
       "    .dataframe tbody tr th:only-of-type {\n",
       "        vertical-align: middle;\n",
       "    }\n",
       "\n",
       "    .dataframe tbody tr th {\n",
       "        vertical-align: top;\n",
       "    }\n",
       "\n",
       "    .dataframe thead th {\n",
       "        text-align: right;\n",
       "    }\n",
       "</style>\n",
       "<table border=\"1\" class=\"dataframe\">\n",
       "  <thead>\n",
       "    <tr style=\"text-align: right;\">\n",
       "      <th></th>\n",
       "      <th>WriteOff_YN</th>\n",
       "      <th>Predicted Values</th>\n",
       "    </tr>\n",
       "  </thead>\n",
       "  <tbody>\n",
       "    <tr>\n",
       "      <th>755</th>\n",
       "      <td>0</td>\n",
       "      <td>0</td>\n",
       "    </tr>\n",
       "    <tr>\n",
       "      <th>3123</th>\n",
       "      <td>0</td>\n",
       "      <td>0</td>\n",
       "    </tr>\n",
       "    <tr>\n",
       "      <th>221</th>\n",
       "      <td>0</td>\n",
       "      <td>1</td>\n",
       "    </tr>\n",
       "    <tr>\n",
       "      <th>543</th>\n",
       "      <td>0</td>\n",
       "      <td>0</td>\n",
       "    </tr>\n",
       "    <tr>\n",
       "      <th>1395</th>\n",
       "      <td>0</td>\n",
       "      <td>0</td>\n",
       "    </tr>\n",
       "    <tr>\n",
       "      <th>...</th>\n",
       "      <td>...</td>\n",
       "      <td>...</td>\n",
       "    </tr>\n",
       "    <tr>\n",
       "      <th>3092</th>\n",
       "      <td>0</td>\n",
       "      <td>0</td>\n",
       "    </tr>\n",
       "    <tr>\n",
       "      <th>1095</th>\n",
       "      <td>0</td>\n",
       "      <td>0</td>\n",
       "    </tr>\n",
       "    <tr>\n",
       "      <th>1130</th>\n",
       "      <td>0</td>\n",
       "      <td>1</td>\n",
       "    </tr>\n",
       "    <tr>\n",
       "      <th>1294</th>\n",
       "      <td>0</td>\n",
       "      <td>0</td>\n",
       "    </tr>\n",
       "    <tr>\n",
       "      <th>860</th>\n",
       "      <td>0</td>\n",
       "      <td>0</td>\n",
       "    </tr>\n",
       "  </tbody>\n",
       "</table>\n",
       "<p>2507 rows × 2 columns</p>\n",
       "</div>\n",
       "      <button class=\"colab-df-convert\" onclick=\"convertToInteractive('df-ba171a4b-381b-4ee5-9ef2-6e92182c01b9')\"\n",
       "              title=\"Convert this dataframe to an interactive table.\"\n",
       "              style=\"display:none;\">\n",
       "        \n",
       "  <svg xmlns=\"http://www.w3.org/2000/svg\" height=\"24px\"viewBox=\"0 0 24 24\"\n",
       "       width=\"24px\">\n",
       "    <path d=\"M0 0h24v24H0V0z\" fill=\"none\"/>\n",
       "    <path d=\"M18.56 5.44l.94 2.06.94-2.06 2.06-.94-2.06-.94-.94-2.06-.94 2.06-2.06.94zm-11 1L8.5 8.5l.94-2.06 2.06-.94-2.06-.94L8.5 2.5l-.94 2.06-2.06.94zm10 10l.94 2.06.94-2.06 2.06-.94-2.06-.94-.94-2.06-.94 2.06-2.06.94z\"/><path d=\"M17.41 7.96l-1.37-1.37c-.4-.4-.92-.59-1.43-.59-.52 0-1.04.2-1.43.59L10.3 9.45l-7.72 7.72c-.78.78-.78 2.05 0 2.83L4 21.41c.39.39.9.59 1.41.59.51 0 1.02-.2 1.41-.59l7.78-7.78 2.81-2.81c.8-.78.8-2.07 0-2.86zM5.41 20L4 18.59l7.72-7.72 1.47 1.35L5.41 20z\"/>\n",
       "  </svg>\n",
       "      </button>\n",
       "      \n",
       "  <style>\n",
       "    .colab-df-container {\n",
       "      display:flex;\n",
       "      flex-wrap:wrap;\n",
       "      gap: 12px;\n",
       "    }\n",
       "\n",
       "    .colab-df-convert {\n",
       "      background-color: #E8F0FE;\n",
       "      border: none;\n",
       "      border-radius: 50%;\n",
       "      cursor: pointer;\n",
       "      display: none;\n",
       "      fill: #1967D2;\n",
       "      height: 32px;\n",
       "      padding: 0 0 0 0;\n",
       "      width: 32px;\n",
       "    }\n",
       "\n",
       "    .colab-df-convert:hover {\n",
       "      background-color: #E2EBFA;\n",
       "      box-shadow: 0px 1px 2px rgba(60, 64, 67, 0.3), 0px 1px 3px 1px rgba(60, 64, 67, 0.15);\n",
       "      fill: #174EA6;\n",
       "    }\n",
       "\n",
       "    [theme=dark] .colab-df-convert {\n",
       "      background-color: #3B4455;\n",
       "      fill: #D2E3FC;\n",
       "    }\n",
       "\n",
       "    [theme=dark] .colab-df-convert:hover {\n",
       "      background-color: #434B5C;\n",
       "      box-shadow: 0px 1px 3px 1px rgba(0, 0, 0, 0.15);\n",
       "      filter: drop-shadow(0px 1px 2px rgba(0, 0, 0, 0.3));\n",
       "      fill: #FFFFFF;\n",
       "    }\n",
       "  </style>\n",
       "\n",
       "      <script>\n",
       "        const buttonEl =\n",
       "          document.querySelector('#df-ba171a4b-381b-4ee5-9ef2-6e92182c01b9 button.colab-df-convert');\n",
       "        buttonEl.style.display =\n",
       "          google.colab.kernel.accessAllowed ? 'block' : 'none';\n",
       "\n",
       "        async function convertToInteractive(key) {\n",
       "          const element = document.querySelector('#df-ba171a4b-381b-4ee5-9ef2-6e92182c01b9');\n",
       "          const dataTable =\n",
       "            await google.colab.kernel.invokeFunction('convertToInteractive',\n",
       "                                                     [key], {});\n",
       "          if (!dataTable) return;\n",
       "\n",
       "          const docLinkHtml = 'Like what you see? Visit the ' +\n",
       "            '<a target=\"_blank\" href=https://colab.research.google.com/notebooks/data_table.ipynb>data table notebook</a>'\n",
       "            + ' to learn more about interactive tables.';\n",
       "          element.innerHTML = '';\n",
       "          dataTable['output_type'] = 'display_data';\n",
       "          await google.colab.output.renderOutput(dataTable, element);\n",
       "          const docLink = document.createElement('div');\n",
       "          docLink.innerHTML = docLinkHtml;\n",
       "          element.appendChild(docLink);\n",
       "        }\n",
       "      </script>\n",
       "    </div>\n",
       "  </div>\n",
       "  "
      ],
      "text/plain": [
       "      WriteOff_YN  Predicted Values\n",
       "755             0                 0\n",
       "3123            0                 0\n",
       "221             0                 1\n",
       "543             0                 0\n",
       "1395            0                 0\n",
       "...           ...               ...\n",
       "3092            0                 0\n",
       "1095            0                 0\n",
       "1130            0                 1\n",
       "1294            0                 0\n",
       "860             0                 0\n",
       "\n",
       "[2507 rows x 2 columns]"
      ]
     },
     "execution_count": 259,
     "metadata": {},
     "output_type": "execute_result"
    }
   ],
   "source": [
    "check"
   ]
  },
  {
   "cell_type": "code",
   "execution_count": null,
   "id": "07a5d461",
   "metadata": {
    "colab": {
     "base_uri": "https://localhost:8080/"
    },
    "executionInfo": {
     "elapsed": 15,
     "status": "ok",
     "timestamp": 1662112838356,
     "user": {
      "displayName": "Siddhant Singh",
      "userId": "08343284542219482153"
     },
     "user_tz": -330
    },
    "id": "KYbGhnNHvnGX",
    "outputId": "37db3bdb-b279-4f29-be47-954be72e8105"
   },
   "outputs": [
    {
     "data": {
      "text/plain": [
       "array([[0.9312046 , 0.06879537],\n",
       "       [0.72936964, 0.27063033],\n",
       "       [0.38695836, 0.61304164],\n",
       "       ...,\n",
       "       [0.2961716 , 0.7038284 ],\n",
       "       [0.63180417, 0.36819583],\n",
       "       [0.61937046, 0.38062957]], dtype=float32)"
      ]
     },
     "execution_count": 260,
     "metadata": {},
     "output_type": "execute_result"
    }
   ],
   "source": [
    "predict_y_proba_train"
   ]
  },
  {
   "cell_type": "code",
   "execution_count": null,
   "id": "c5ea3c81",
   "metadata": {
    "id": "D6R4B-hzsrNe"
   },
   "outputs": [],
   "source": [
    "write_off1 = []\n",
    "for i in predict_y_proba_train:\n",
    "  write_off1.append(i[1])\n"
   ]
  },
  {
   "cell_type": "code",
   "execution_count": null,
   "id": "04e1420d",
   "metadata": {
    "id": "lgKcr52ge9Om"
   },
   "outputs": [],
   "source": [
    "check['Predicted_Prob_WO = 1'] = write_off1"
   ]
  },
  {
   "cell_type": "code",
   "execution_count": null,
   "id": "b33dd1f0",
   "metadata": {
    "colab": {
     "base_uri": "https://localhost:8080/",
     "height": 424
    },
    "executionInfo": {
     "elapsed": 7,
     "status": "ok",
     "timestamp": 1662112840237,
     "user": {
      "displayName": "Siddhant Singh",
      "userId": "08343284542219482153"
     },
     "user_tz": -330
    },
    "id": "5QVnu39Egnfk",
    "outputId": "bab4f261-9267-4e95-9bb6-2bc71b140a64"
   },
   "outputs": [
    {
     "data": {
      "text/html": [
       "\n",
       "  <div id=\"df-0d098912-61f0-44ea-a5c9-88b0603cde50\">\n",
       "    <div class=\"colab-df-container\">\n",
       "      <div>\n",
       "<style scoped>\n",
       "    .dataframe tbody tr th:only-of-type {\n",
       "        vertical-align: middle;\n",
       "    }\n",
       "\n",
       "    .dataframe tbody tr th {\n",
       "        vertical-align: top;\n",
       "    }\n",
       "\n",
       "    .dataframe thead th {\n",
       "        text-align: right;\n",
       "    }\n",
       "</style>\n",
       "<table border=\"1\" class=\"dataframe\">\n",
       "  <thead>\n",
       "    <tr style=\"text-align: right;\">\n",
       "      <th></th>\n",
       "      <th>WriteOff_YN</th>\n",
       "      <th>Predicted Values</th>\n",
       "      <th>Predicted_Prob_WO = 1</th>\n",
       "    </tr>\n",
       "  </thead>\n",
       "  <tbody>\n",
       "    <tr>\n",
       "      <th>755</th>\n",
       "      <td>0</td>\n",
       "      <td>0</td>\n",
       "      <td>0.068795</td>\n",
       "    </tr>\n",
       "    <tr>\n",
       "      <th>3123</th>\n",
       "      <td>0</td>\n",
       "      <td>0</td>\n",
       "      <td>0.270630</td>\n",
       "    </tr>\n",
       "    <tr>\n",
       "      <th>221</th>\n",
       "      <td>0</td>\n",
       "      <td>1</td>\n",
       "      <td>0.613042</td>\n",
       "    </tr>\n",
       "    <tr>\n",
       "      <th>543</th>\n",
       "      <td>0</td>\n",
       "      <td>0</td>\n",
       "      <td>0.164155</td>\n",
       "    </tr>\n",
       "    <tr>\n",
       "      <th>1395</th>\n",
       "      <td>0</td>\n",
       "      <td>0</td>\n",
       "      <td>0.195425</td>\n",
       "    </tr>\n",
       "    <tr>\n",
       "      <th>...</th>\n",
       "      <td>...</td>\n",
       "      <td>...</td>\n",
       "      <td>...</td>\n",
       "    </tr>\n",
       "    <tr>\n",
       "      <th>3092</th>\n",
       "      <td>0</td>\n",
       "      <td>0</td>\n",
       "      <td>0.344111</td>\n",
       "    </tr>\n",
       "    <tr>\n",
       "      <th>1095</th>\n",
       "      <td>0</td>\n",
       "      <td>0</td>\n",
       "      <td>0.248948</td>\n",
       "    </tr>\n",
       "    <tr>\n",
       "      <th>1130</th>\n",
       "      <td>0</td>\n",
       "      <td>1</td>\n",
       "      <td>0.703828</td>\n",
       "    </tr>\n",
       "    <tr>\n",
       "      <th>1294</th>\n",
       "      <td>0</td>\n",
       "      <td>0</td>\n",
       "      <td>0.368196</td>\n",
       "    </tr>\n",
       "    <tr>\n",
       "      <th>860</th>\n",
       "      <td>0</td>\n",
       "      <td>0</td>\n",
       "      <td>0.380630</td>\n",
       "    </tr>\n",
       "  </tbody>\n",
       "</table>\n",
       "<p>2507 rows × 3 columns</p>\n",
       "</div>\n",
       "      <button class=\"colab-df-convert\" onclick=\"convertToInteractive('df-0d098912-61f0-44ea-a5c9-88b0603cde50')\"\n",
       "              title=\"Convert this dataframe to an interactive table.\"\n",
       "              style=\"display:none;\">\n",
       "        \n",
       "  <svg xmlns=\"http://www.w3.org/2000/svg\" height=\"24px\"viewBox=\"0 0 24 24\"\n",
       "       width=\"24px\">\n",
       "    <path d=\"M0 0h24v24H0V0z\" fill=\"none\"/>\n",
       "    <path d=\"M18.56 5.44l.94 2.06.94-2.06 2.06-.94-2.06-.94-.94-2.06-.94 2.06-2.06.94zm-11 1L8.5 8.5l.94-2.06 2.06-.94-2.06-.94L8.5 2.5l-.94 2.06-2.06.94zm10 10l.94 2.06.94-2.06 2.06-.94-2.06-.94-.94-2.06-.94 2.06-2.06.94z\"/><path d=\"M17.41 7.96l-1.37-1.37c-.4-.4-.92-.59-1.43-.59-.52 0-1.04.2-1.43.59L10.3 9.45l-7.72 7.72c-.78.78-.78 2.05 0 2.83L4 21.41c.39.39.9.59 1.41.59.51 0 1.02-.2 1.41-.59l7.78-7.78 2.81-2.81c.8-.78.8-2.07 0-2.86zM5.41 20L4 18.59l7.72-7.72 1.47 1.35L5.41 20z\"/>\n",
       "  </svg>\n",
       "      </button>\n",
       "      \n",
       "  <style>\n",
       "    .colab-df-container {\n",
       "      display:flex;\n",
       "      flex-wrap:wrap;\n",
       "      gap: 12px;\n",
       "    }\n",
       "\n",
       "    .colab-df-convert {\n",
       "      background-color: #E8F0FE;\n",
       "      border: none;\n",
       "      border-radius: 50%;\n",
       "      cursor: pointer;\n",
       "      display: none;\n",
       "      fill: #1967D2;\n",
       "      height: 32px;\n",
       "      padding: 0 0 0 0;\n",
       "      width: 32px;\n",
       "    }\n",
       "\n",
       "    .colab-df-convert:hover {\n",
       "      background-color: #E2EBFA;\n",
       "      box-shadow: 0px 1px 2px rgba(60, 64, 67, 0.3), 0px 1px 3px 1px rgba(60, 64, 67, 0.15);\n",
       "      fill: #174EA6;\n",
       "    }\n",
       "\n",
       "    [theme=dark] .colab-df-convert {\n",
       "      background-color: #3B4455;\n",
       "      fill: #D2E3FC;\n",
       "    }\n",
       "\n",
       "    [theme=dark] .colab-df-convert:hover {\n",
       "      background-color: #434B5C;\n",
       "      box-shadow: 0px 1px 3px 1px rgba(0, 0, 0, 0.15);\n",
       "      filter: drop-shadow(0px 1px 2px rgba(0, 0, 0, 0.3));\n",
       "      fill: #FFFFFF;\n",
       "    }\n",
       "  </style>\n",
       "\n",
       "      <script>\n",
       "        const buttonEl =\n",
       "          document.querySelector('#df-0d098912-61f0-44ea-a5c9-88b0603cde50 button.colab-df-convert');\n",
       "        buttonEl.style.display =\n",
       "          google.colab.kernel.accessAllowed ? 'block' : 'none';\n",
       "\n",
       "        async function convertToInteractive(key) {\n",
       "          const element = document.querySelector('#df-0d098912-61f0-44ea-a5c9-88b0603cde50');\n",
       "          const dataTable =\n",
       "            await google.colab.kernel.invokeFunction('convertToInteractive',\n",
       "                                                     [key], {});\n",
       "          if (!dataTable) return;\n",
       "\n",
       "          const docLinkHtml = 'Like what you see? Visit the ' +\n",
       "            '<a target=\"_blank\" href=https://colab.research.google.com/notebooks/data_table.ipynb>data table notebook</a>'\n",
       "            + ' to learn more about interactive tables.';\n",
       "          element.innerHTML = '';\n",
       "          dataTable['output_type'] = 'display_data';\n",
       "          await google.colab.output.renderOutput(dataTable, element);\n",
       "          const docLink = document.createElement('div');\n",
       "          docLink.innerHTML = docLinkHtml;\n",
       "          element.appendChild(docLink);\n",
       "        }\n",
       "      </script>\n",
       "    </div>\n",
       "  </div>\n",
       "  "
      ],
      "text/plain": [
       "      WriteOff_YN  Predicted Values  Predicted_Prob_WO = 1\n",
       "755             0                 0               0.068795\n",
       "3123            0                 0               0.270630\n",
       "221             0                 1               0.613042\n",
       "543             0                 0               0.164155\n",
       "1395            0                 0               0.195425\n",
       "...           ...               ...                    ...\n",
       "3092            0                 0               0.344111\n",
       "1095            0                 0               0.248948\n",
       "1130            0                 1               0.703828\n",
       "1294            0                 0               0.368196\n",
       "860             0                 0               0.380630\n",
       "\n",
       "[2507 rows x 3 columns]"
      ]
     },
     "execution_count": 263,
     "metadata": {},
     "output_type": "execute_result"
    }
   ],
   "source": [
    "check"
   ]
  },
  {
   "cell_type": "code",
   "execution_count": null,
   "id": "836ffbb8",
   "metadata": {
    "id": "dOuDPXb0k7MA"
   },
   "outputs": [],
   "source": [
    "check['OpportunityID'] = None"
   ]
  },
  {
   "cell_type": "code",
   "execution_count": null,
   "id": "32618255",
   "metadata": {
    "colab": {
     "base_uri": "https://localhost:8080/"
    },
    "executionInfo": {
     "elapsed": 802,
     "status": "ok",
     "timestamp": 1662112843681,
     "user": {
      "displayName": "Siddhant Singh",
      "userId": "08343284542219482153"
     },
     "user_tz": -330
    },
    "id": "dwv50qq3k-i1",
    "outputId": "2dcd01dc-1066-4689-9505-ecedca743248"
   },
   "outputs": [
    {
     "name": "stderr",
     "output_type": "stream",
     "text": [
      "/usr/local/lib/python3.7/dist-packages/ipykernel_launcher.py:2: SettingWithCopyWarning: \n",
      "A value is trying to be set on a copy of a slice from a DataFrame\n",
      "\n",
      "See the caveats in the documentation: https://pandas.pydata.org/pandas-docs/stable/user_guide/indexing.html#returning-a-view-versus-a-copy\n",
      "  \n"
     ]
    }
   ],
   "source": [
    "for i in check.index:\n",
    "  check['OpportunityID'][i] = data['OpportunityID'][i]"
   ]
  },
  {
   "cell_type": "code",
   "execution_count": null,
   "id": "0574eebc",
   "metadata": {
    "colab": {
     "base_uri": "https://localhost:8080/",
     "height": 424
    },
    "executionInfo": {
     "elapsed": 8,
     "status": "ok",
     "timestamp": 1662112843682,
     "user": {
      "displayName": "Siddhant Singh",
      "userId": "08343284542219482153"
     },
     "user_tz": -330
    },
    "id": "x_jfYX2GlKvy",
    "outputId": "14e83111-c6e0-4d15-b8ac-3395dbbe481f"
   },
   "outputs": [
    {
     "data": {
      "text/html": [
       "\n",
       "  <div id=\"df-9ba46553-0e0c-4ab4-aef5-5a142f3511fb\">\n",
       "    <div class=\"colab-df-container\">\n",
       "      <div>\n",
       "<style scoped>\n",
       "    .dataframe tbody tr th:only-of-type {\n",
       "        vertical-align: middle;\n",
       "    }\n",
       "\n",
       "    .dataframe tbody tr th {\n",
       "        vertical-align: top;\n",
       "    }\n",
       "\n",
       "    .dataframe thead th {\n",
       "        text-align: right;\n",
       "    }\n",
       "</style>\n",
       "<table border=\"1\" class=\"dataframe\">\n",
       "  <thead>\n",
       "    <tr style=\"text-align: right;\">\n",
       "      <th></th>\n",
       "      <th>WriteOff_YN</th>\n",
       "      <th>Predicted Values</th>\n",
       "      <th>Predicted_Prob_WO = 1</th>\n",
       "      <th>OpportunityID</th>\n",
       "    </tr>\n",
       "  </thead>\n",
       "  <tbody>\n",
       "    <tr>\n",
       "      <th>755</th>\n",
       "      <td>0</td>\n",
       "      <td>0</td>\n",
       "      <td>0.068795</td>\n",
       "      <td>0062M00000it89gQAA</td>\n",
       "    </tr>\n",
       "    <tr>\n",
       "      <th>3123</th>\n",
       "      <td>0</td>\n",
       "      <td>0</td>\n",
       "      <td>0.270630</td>\n",
       "      <td>0062M00000o7yiwQAA</td>\n",
       "    </tr>\n",
       "    <tr>\n",
       "      <th>221</th>\n",
       "      <td>0</td>\n",
       "      <td>1</td>\n",
       "      <td>0.613042</td>\n",
       "      <td>0062M00000ePjypQAC</td>\n",
       "    </tr>\n",
       "    <tr>\n",
       "      <th>543</th>\n",
       "      <td>0</td>\n",
       "      <td>0</td>\n",
       "      <td>0.164155</td>\n",
       "      <td>0062M00000ibbMMQAY</td>\n",
       "    </tr>\n",
       "    <tr>\n",
       "      <th>1395</th>\n",
       "      <td>0</td>\n",
       "      <td>0</td>\n",
       "      <td>0.195425</td>\n",
       "      <td>0062M00000lrPFdQAM</td>\n",
       "    </tr>\n",
       "    <tr>\n",
       "      <th>...</th>\n",
       "      <td>...</td>\n",
       "      <td>...</td>\n",
       "      <td>...</td>\n",
       "      <td>...</td>\n",
       "    </tr>\n",
       "    <tr>\n",
       "      <th>3092</th>\n",
       "      <td>0</td>\n",
       "      <td>0</td>\n",
       "      <td>0.344111</td>\n",
       "      <td>0062M00000nZiUUQA0</td>\n",
       "    </tr>\n",
       "    <tr>\n",
       "      <th>1095</th>\n",
       "      <td>0</td>\n",
       "      <td>0</td>\n",
       "      <td>0.248948</td>\n",
       "      <td>0062M00000ky5tQQAQ</td>\n",
       "    </tr>\n",
       "    <tr>\n",
       "      <th>1130</th>\n",
       "      <td>0</td>\n",
       "      <td>1</td>\n",
       "      <td>0.703828</td>\n",
       "      <td>0062M00000kypOWQAY</td>\n",
       "    </tr>\n",
       "    <tr>\n",
       "      <th>1294</th>\n",
       "      <td>0</td>\n",
       "      <td>0</td>\n",
       "      <td>0.368196</td>\n",
       "      <td>0062M00000lpNKnQAM</td>\n",
       "    </tr>\n",
       "    <tr>\n",
       "      <th>860</th>\n",
       "      <td>0</td>\n",
       "      <td>0</td>\n",
       "      <td>0.380630</td>\n",
       "      <td>0062M00000jLg8aQAC</td>\n",
       "    </tr>\n",
       "  </tbody>\n",
       "</table>\n",
       "<p>2507 rows × 4 columns</p>\n",
       "</div>\n",
       "      <button class=\"colab-df-convert\" onclick=\"convertToInteractive('df-9ba46553-0e0c-4ab4-aef5-5a142f3511fb')\"\n",
       "              title=\"Convert this dataframe to an interactive table.\"\n",
       "              style=\"display:none;\">\n",
       "        \n",
       "  <svg xmlns=\"http://www.w3.org/2000/svg\" height=\"24px\"viewBox=\"0 0 24 24\"\n",
       "       width=\"24px\">\n",
       "    <path d=\"M0 0h24v24H0V0z\" fill=\"none\"/>\n",
       "    <path d=\"M18.56 5.44l.94 2.06.94-2.06 2.06-.94-2.06-.94-.94-2.06-.94 2.06-2.06.94zm-11 1L8.5 8.5l.94-2.06 2.06-.94-2.06-.94L8.5 2.5l-.94 2.06-2.06.94zm10 10l.94 2.06.94-2.06 2.06-.94-2.06-.94-.94-2.06-.94 2.06-2.06.94z\"/><path d=\"M17.41 7.96l-1.37-1.37c-.4-.4-.92-.59-1.43-.59-.52 0-1.04.2-1.43.59L10.3 9.45l-7.72 7.72c-.78.78-.78 2.05 0 2.83L4 21.41c.39.39.9.59 1.41.59.51 0 1.02-.2 1.41-.59l7.78-7.78 2.81-2.81c.8-.78.8-2.07 0-2.86zM5.41 20L4 18.59l7.72-7.72 1.47 1.35L5.41 20z\"/>\n",
       "  </svg>\n",
       "      </button>\n",
       "      \n",
       "  <style>\n",
       "    .colab-df-container {\n",
       "      display:flex;\n",
       "      flex-wrap:wrap;\n",
       "      gap: 12px;\n",
       "    }\n",
       "\n",
       "    .colab-df-convert {\n",
       "      background-color: #E8F0FE;\n",
       "      border: none;\n",
       "      border-radius: 50%;\n",
       "      cursor: pointer;\n",
       "      display: none;\n",
       "      fill: #1967D2;\n",
       "      height: 32px;\n",
       "      padding: 0 0 0 0;\n",
       "      width: 32px;\n",
       "    }\n",
       "\n",
       "    .colab-df-convert:hover {\n",
       "      background-color: #E2EBFA;\n",
       "      box-shadow: 0px 1px 2px rgba(60, 64, 67, 0.3), 0px 1px 3px 1px rgba(60, 64, 67, 0.15);\n",
       "      fill: #174EA6;\n",
       "    }\n",
       "\n",
       "    [theme=dark] .colab-df-convert {\n",
       "      background-color: #3B4455;\n",
       "      fill: #D2E3FC;\n",
       "    }\n",
       "\n",
       "    [theme=dark] .colab-df-convert:hover {\n",
       "      background-color: #434B5C;\n",
       "      box-shadow: 0px 1px 3px 1px rgba(0, 0, 0, 0.15);\n",
       "      filter: drop-shadow(0px 1px 2px rgba(0, 0, 0, 0.3));\n",
       "      fill: #FFFFFF;\n",
       "    }\n",
       "  </style>\n",
       "\n",
       "      <script>\n",
       "        const buttonEl =\n",
       "          document.querySelector('#df-9ba46553-0e0c-4ab4-aef5-5a142f3511fb button.colab-df-convert');\n",
       "        buttonEl.style.display =\n",
       "          google.colab.kernel.accessAllowed ? 'block' : 'none';\n",
       "\n",
       "        async function convertToInteractive(key) {\n",
       "          const element = document.querySelector('#df-9ba46553-0e0c-4ab4-aef5-5a142f3511fb');\n",
       "          const dataTable =\n",
       "            await google.colab.kernel.invokeFunction('convertToInteractive',\n",
       "                                                     [key], {});\n",
       "          if (!dataTable) return;\n",
       "\n",
       "          const docLinkHtml = 'Like what you see? Visit the ' +\n",
       "            '<a target=\"_blank\" href=https://colab.research.google.com/notebooks/data_table.ipynb>data table notebook</a>'\n",
       "            + ' to learn more about interactive tables.';\n",
       "          element.innerHTML = '';\n",
       "          dataTable['output_type'] = 'display_data';\n",
       "          await google.colab.output.renderOutput(dataTable, element);\n",
       "          const docLink = document.createElement('div');\n",
       "          docLink.innerHTML = docLinkHtml;\n",
       "          element.appendChild(docLink);\n",
       "        }\n",
       "      </script>\n",
       "    </div>\n",
       "  </div>\n",
       "  "
      ],
      "text/plain": [
       "      WriteOff_YN  Predicted Values  Predicted_Prob_WO = 1       OpportunityID\n",
       "755             0                 0               0.068795  0062M00000it89gQAA\n",
       "3123            0                 0               0.270630  0062M00000o7yiwQAA\n",
       "221             0                 1               0.613042  0062M00000ePjypQAC\n",
       "543             0                 0               0.164155  0062M00000ibbMMQAY\n",
       "1395            0                 0               0.195425  0062M00000lrPFdQAM\n",
       "...           ...               ...                    ...                 ...\n",
       "3092            0                 0               0.344111  0062M00000nZiUUQA0\n",
       "1095            0                 0               0.248948  0062M00000ky5tQQAQ\n",
       "1130            0                 1               0.703828  0062M00000kypOWQAY\n",
       "1294            0                 0               0.368196  0062M00000lpNKnQAM\n",
       "860             0                 0               0.380630  0062M00000jLg8aQAC\n",
       "\n",
       "[2507 rows x 4 columns]"
      ]
     },
     "execution_count": 266,
     "metadata": {},
     "output_type": "execute_result"
    }
   ],
   "source": [
    "check"
   ]
  },
  {
   "cell_type": "code",
   "execution_count": null,
   "id": "d881b2e1",
   "metadata": {
    "colab": {
     "base_uri": "https://localhost:8080/"
    },
    "executionInfo": {
     "elapsed": 4,
     "status": "ok",
     "timestamp": 1662112844195,
     "user": {
      "displayName": "Siddhant Singh",
      "userId": "08343284542219482153"
     },
     "user_tz": -330
    },
    "id": "YNC6h3dwc4X4",
    "outputId": "6ab0577b-1aac-4d7a-dc16-cd3ba0ebdfc6"
   },
   "outputs": [
    {
     "name": "stdout",
     "output_type": "stream",
     "text": [
      "Max_propability_value:  0.9284971\n",
      "Min_propability_value:  0.01565796\n"
     ]
    }
   ],
   "source": [
    "print(\"Max_propability_value: \", check[\"Predicted_Prob_WO = 1\"].max())\n",
    "print(\"Min_propability_value: \", check[\"Predicted_Prob_WO = 1\"].min())"
   ]
  },
  {
   "cell_type": "markdown",
   "id": "440a0f66",
   "metadata": {
    "id": "L2h4CYUywNjQ"
   },
   "source": [
    "Max_Probabilty - 0.89, Min_Probabilty - 0.15 - 0 percentile value\n",
    "Explaination - In the range of 0 to 1, .89 - 100 percentile value\n",
    "\n",
    "How deciles are made:\n",
    "1) 10 deciles are formed based on the distribution of quantiles - we need to break percentile into 10 bins"
   ]
  },
  {
   "cell_type": "code",
   "execution_count": null,
   "id": "75d067be",
   "metadata": {
    "id": "IGiFzSQwljff"
   },
   "outputs": [],
   "source": [
    "check['Decile'] = None"
   ]
  },
  {
   "cell_type": "code",
   "execution_count": null,
   "id": "b01c5641",
   "metadata": {
    "colab": {
     "base_uri": "https://localhost:8080/"
    },
    "executionInfo": {
     "elapsed": 16778,
     "status": "ok",
     "timestamp": 1662112862928,
     "user": {
      "displayName": "Siddhant Singh",
      "userId": "08343284542219482153"
     },
     "user_tz": -330
    },
    "id": "n2lNWTSiljb3",
    "outputId": "e680b1cc-f1da-43ae-9833-ce67ede0077e"
   },
   "outputs": [
    {
     "name": "stderr",
     "output_type": "stream",
     "text": [
      "/usr/local/lib/python3.7/dist-packages/ipykernel_launcher.py:56: SettingWithCopyWarning: \n",
      "A value is trying to be set on a copy of a slice from a DataFrame\n",
      "\n",
      "See the caveats in the documentation: https://pandas.pydata.org/pandas-docs/stable/user_guide/indexing.html#returning-a-view-versus-a-copy\n"
     ]
    }
   ],
   "source": [
    "funded_amt_d1, funded_amt_d2, funded_amt_d3, funded_amt_d4, funded_amt_d5, funded_amt_d6, funded_amt_d7, funded_amt_d8, funded_amt_d9, funded_amt_d10 = 0,0,0,0,0,0,0,0,0,0\n",
    "gross_amt_d1, gross_amt_d2, gross_amt_d3, gross_amt_d4, gross_amt_d5, gross_amt_d6, gross_amt_d7, gross_amt_d8, gross_amt_d9, gross_amt_d10 = 0,0,0,0,0,0,0,0,0,0\n",
    "advanced_amt_d1, advanced_amt_d2, advanced_amt_d3, advanced_amt_d4, advanced_amt_d5, advanced_amt_d6, advanced_amt_d7, advanced_amt_d8, advanced_amt_d9, advanced_amt_d10 = 0,0,0,0,0,0,0,0,0,0\n",
    "for i in check.index:\n",
    "  \n",
    "  if check[\"Predicted_Prob_WO = 1\"][i]>check[\"Predicted_Prob_WO = 1\"].quantile(0.90):\n",
    "    d=10\n",
    "    funded_amt_d10 = funded_amt_d10+data['FundedAmount'][i]\n",
    "    gross_amt_d10 = gross_amt_d10 + data['FundedWriteOffAmount_Gross'][i]\n",
    "    advanced_amt_d10 = advanced_amt_d10 + data['WOGross_AdvanceBalance'][i]\n",
    "  elif (check[\"Predicted_Prob_WO = 1\"][i] > check[\"Predicted_Prob_WO = 1\"].quantile(0.80)) & (check[\"Predicted_Prob_WO = 1\"][i] <= check[\"Predicted_Prob_WO = 1\"].quantile(0.90)):\n",
    "    d=9\n",
    "    funded_amt_d9 = funded_amt_d9+data['FundedAmount'][i]\n",
    "    gross_amt_d9 = gross_amt_d9 + data['FundedWriteOffAmount_Gross'][i]\n",
    "    advanced_amt_d9 = advanced_amt_d9 + data['WOGross_AdvanceBalance'][i]\n",
    "  elif (check[\"Predicted_Prob_WO = 1\"][i] > check[\"Predicted_Prob_WO = 1\"].quantile(0.70)) & (check[\"Predicted_Prob_WO = 1\"][i] <= check[\"Predicted_Prob_WO = 1\"].quantile(0.80)):\n",
    "    d=8\n",
    "    funded_amt_d8 = funded_amt_d8+data['FundedAmount'][i]\n",
    "    gross_amt_d8 = gross_amt_d8 + data['FundedWriteOffAmount_Gross'][i]\n",
    "    advanced_amt_d8 = advanced_amt_d8 + data['WOGross_AdvanceBalance'][i]\n",
    "  elif (check[\"Predicted_Prob_WO = 1\"][i] > check[\"Predicted_Prob_WO = 1\"].quantile(0.60)) & (check[\"Predicted_Prob_WO = 1\"][i] <= check[\"Predicted_Prob_WO = 1\"].quantile(0.70)):\n",
    "    d=7\n",
    "    funded_amt_d7 = funded_amt_d7+data['FundedAmount'][i]\n",
    "    gross_amt_d7 = gross_amt_d7 + data['FundedWriteOffAmount_Gross'][i]\n",
    "    advanced_amt_d7 = advanced_amt_d7+ data['WOGross_AdvanceBalance'][i]\n",
    "  elif (check[\"Predicted_Prob_WO = 1\"][i] > check[\"Predicted_Prob_WO = 1\"].quantile(0.50)) & (check[\"Predicted_Prob_WO = 1\"][i] <= check[\"Predicted_Prob_WO = 1\"].quantile(0.60)):\n",
    "    d=6\n",
    "    funded_amt_d6 = funded_amt_d6+data['FundedAmount'][i]\n",
    "    gross_amt_d6 = gross_amt_d6+ data['FundedWriteOffAmount_Gross'][i]\n",
    "    advanced_amt_d6 = advanced_amt_d6 + data['WOGross_AdvanceBalance'][i]\n",
    "  elif (check[\"Predicted_Prob_WO = 1\"][i] > check[\"Predicted_Prob_WO = 1\"].quantile(0.40)) & (check[\"Predicted_Prob_WO = 1\"][i] <= check[\"Predicted_Prob_WO = 1\"].quantile(0.50)):\n",
    "    d=5\n",
    "    funded_amt_d5 = funded_amt_d5+data['FundedAmount'][i]\n",
    "    gross_amt_d5 = gross_amt_d5 + data['FundedWriteOffAmount_Gross'][i]\n",
    "    advanced_amt_d5 = advanced_amt_d5 + data['WOGross_AdvanceBalance'][i]\n",
    "  elif (check[\"Predicted_Prob_WO = 1\"][i] > check[\"Predicted_Prob_WO = 1\"].quantile(0.30)) & (check[\"Predicted_Prob_WO = 1\"][i] <= check[\"Predicted_Prob_WO = 1\"].quantile(0.40)):\n",
    "    d=4\n",
    "    funded_amt_d4 = funded_amt_d4+data['FundedAmount'][i]\n",
    "    gross_amt_d4 = gross_amt_d4 + data['FundedWriteOffAmount_Gross'][i]\n",
    "    advanced_amt_d4 = advanced_amt_d4 + data['WOGross_AdvanceBalance'][i]\n",
    "  elif (check[\"Predicted_Prob_WO = 1\"][i] > check[\"Predicted_Prob_WO = 1\"].quantile(0.20)) & (check[\"Predicted_Prob_WO = 1\"][i] <= check[\"Predicted_Prob_WO = 1\"].quantile(0.30)):\n",
    "    d=3\n",
    "    funded_amt_d3 = funded_amt_d3+data['FundedAmount'][i]\n",
    "    gross_amt_d3 = gross_amt_d3 + data['FundedWriteOffAmount_Gross'][i]\n",
    "    advanced_amt_d3 = advanced_amt_d3 + data['WOGross_AdvanceBalance'][i]\n",
    "  elif (check[\"Predicted_Prob_WO = 1\"][i] > check[\"Predicted_Prob_WO = 1\"].quantile(0.10)) & (check[\"Predicted_Prob_WO = 1\"][i] <= check[\"Predicted_Prob_WO = 1\"].quantile(0.20)):\n",
    "    d=2\n",
    "    funded_amt_d2 = funded_amt_d2+data['FundedAmount'][i]\n",
    "    gross_amt_d2 = gross_amt_d2 + data['FundedWriteOffAmount_Gross'][i]\n",
    "    advanced_amt_d2 = advanced_amt_d2 + data['WOGross_AdvanceBalance'][i]\n",
    "  else:\n",
    "    d = 1\n",
    "    funded_amt_d1 = funded_amt_d1+data['FundedAmount'][i]\n",
    "    gross_amt_d1 = gross_amt_d1 + data['FundedWriteOffAmount_Gross'][i]\n",
    "    advanced_amt_d1 = advanced_amt_d1 + data['WOGross_AdvanceBalance'][i]\n",
    "  check['Decile'][i] = d"
   ]
  },
  {
   "cell_type": "code",
   "execution_count": null,
   "id": "969e4d62",
   "metadata": {
    "colab": {
     "base_uri": "https://localhost:8080/",
     "height": 424
    },
    "executionInfo": {
     "elapsed": 70,
     "status": "ok",
     "timestamp": 1662112862929,
     "user": {
      "displayName": "Siddhant Singh",
      "userId": "08343284542219482153"
     },
     "user_tz": -330
    },
    "id": "DnAi_av6h8PU",
    "outputId": "e00b18d1-2798-494e-dc90-e31c8915d7fb"
   },
   "outputs": [
    {
     "data": {
      "text/html": [
       "\n",
       "  <div id=\"df-a2fd4448-bc2d-4b16-9b79-1d5355965a19\">\n",
       "    <div class=\"colab-df-container\">\n",
       "      <div>\n",
       "<style scoped>\n",
       "    .dataframe tbody tr th:only-of-type {\n",
       "        vertical-align: middle;\n",
       "    }\n",
       "\n",
       "    .dataframe tbody tr th {\n",
       "        vertical-align: top;\n",
       "    }\n",
       "\n",
       "    .dataframe thead th {\n",
       "        text-align: right;\n",
       "    }\n",
       "</style>\n",
       "<table border=\"1\" class=\"dataframe\">\n",
       "  <thead>\n",
       "    <tr style=\"text-align: right;\">\n",
       "      <th></th>\n",
       "      <th>WriteOff_YN</th>\n",
       "      <th>Predicted Values</th>\n",
       "      <th>Predicted_Prob_WO = 1</th>\n",
       "      <th>OpportunityID</th>\n",
       "      <th>Decile</th>\n",
       "    </tr>\n",
       "  </thead>\n",
       "  <tbody>\n",
       "    <tr>\n",
       "      <th>755</th>\n",
       "      <td>0</td>\n",
       "      <td>0</td>\n",
       "      <td>0.068795</td>\n",
       "      <td>0062M00000it89gQAA</td>\n",
       "      <td>2</td>\n",
       "    </tr>\n",
       "    <tr>\n",
       "      <th>3123</th>\n",
       "      <td>0</td>\n",
       "      <td>0</td>\n",
       "      <td>0.270630</td>\n",
       "      <td>0062M00000o7yiwQAA</td>\n",
       "      <td>5</td>\n",
       "    </tr>\n",
       "    <tr>\n",
       "      <th>221</th>\n",
       "      <td>0</td>\n",
       "      <td>1</td>\n",
       "      <td>0.613042</td>\n",
       "      <td>0062M00000ePjypQAC</td>\n",
       "      <td>9</td>\n",
       "    </tr>\n",
       "    <tr>\n",
       "      <th>543</th>\n",
       "      <td>0</td>\n",
       "      <td>0</td>\n",
       "      <td>0.164155</td>\n",
       "      <td>0062M00000ibbMMQAY</td>\n",
       "      <td>4</td>\n",
       "    </tr>\n",
       "    <tr>\n",
       "      <th>1395</th>\n",
       "      <td>0</td>\n",
       "      <td>0</td>\n",
       "      <td>0.195425</td>\n",
       "      <td>0062M00000lrPFdQAM</td>\n",
       "      <td>4</td>\n",
       "    </tr>\n",
       "    <tr>\n",
       "      <th>...</th>\n",
       "      <td>...</td>\n",
       "      <td>...</td>\n",
       "      <td>...</td>\n",
       "      <td>...</td>\n",
       "      <td>...</td>\n",
       "    </tr>\n",
       "    <tr>\n",
       "      <th>3092</th>\n",
       "      <td>0</td>\n",
       "      <td>0</td>\n",
       "      <td>0.344111</td>\n",
       "      <td>0062M00000nZiUUQA0</td>\n",
       "      <td>6</td>\n",
       "    </tr>\n",
       "    <tr>\n",
       "      <th>1095</th>\n",
       "      <td>0</td>\n",
       "      <td>0</td>\n",
       "      <td>0.248948</td>\n",
       "      <td>0062M00000ky5tQQAQ</td>\n",
       "      <td>5</td>\n",
       "    </tr>\n",
       "    <tr>\n",
       "      <th>1130</th>\n",
       "      <td>0</td>\n",
       "      <td>1</td>\n",
       "      <td>0.703828</td>\n",
       "      <td>0062M00000kypOWQAY</td>\n",
       "      <td>10</td>\n",
       "    </tr>\n",
       "    <tr>\n",
       "      <th>1294</th>\n",
       "      <td>0</td>\n",
       "      <td>0</td>\n",
       "      <td>0.368196</td>\n",
       "      <td>0062M00000lpNKnQAM</td>\n",
       "      <td>6</td>\n",
       "    </tr>\n",
       "    <tr>\n",
       "      <th>860</th>\n",
       "      <td>0</td>\n",
       "      <td>0</td>\n",
       "      <td>0.380630</td>\n",
       "      <td>0062M00000jLg8aQAC</td>\n",
       "      <td>7</td>\n",
       "    </tr>\n",
       "  </tbody>\n",
       "</table>\n",
       "<p>2507 rows × 5 columns</p>\n",
       "</div>\n",
       "      <button class=\"colab-df-convert\" onclick=\"convertToInteractive('df-a2fd4448-bc2d-4b16-9b79-1d5355965a19')\"\n",
       "              title=\"Convert this dataframe to an interactive table.\"\n",
       "              style=\"display:none;\">\n",
       "        \n",
       "  <svg xmlns=\"http://www.w3.org/2000/svg\" height=\"24px\"viewBox=\"0 0 24 24\"\n",
       "       width=\"24px\">\n",
       "    <path d=\"M0 0h24v24H0V0z\" fill=\"none\"/>\n",
       "    <path d=\"M18.56 5.44l.94 2.06.94-2.06 2.06-.94-2.06-.94-.94-2.06-.94 2.06-2.06.94zm-11 1L8.5 8.5l.94-2.06 2.06-.94-2.06-.94L8.5 2.5l-.94 2.06-2.06.94zm10 10l.94 2.06.94-2.06 2.06-.94-2.06-.94-.94-2.06-.94 2.06-2.06.94z\"/><path d=\"M17.41 7.96l-1.37-1.37c-.4-.4-.92-.59-1.43-.59-.52 0-1.04.2-1.43.59L10.3 9.45l-7.72 7.72c-.78.78-.78 2.05 0 2.83L4 21.41c.39.39.9.59 1.41.59.51 0 1.02-.2 1.41-.59l7.78-7.78 2.81-2.81c.8-.78.8-2.07 0-2.86zM5.41 20L4 18.59l7.72-7.72 1.47 1.35L5.41 20z\"/>\n",
       "  </svg>\n",
       "      </button>\n",
       "      \n",
       "  <style>\n",
       "    .colab-df-container {\n",
       "      display:flex;\n",
       "      flex-wrap:wrap;\n",
       "      gap: 12px;\n",
       "    }\n",
       "\n",
       "    .colab-df-convert {\n",
       "      background-color: #E8F0FE;\n",
       "      border: none;\n",
       "      border-radius: 50%;\n",
       "      cursor: pointer;\n",
       "      display: none;\n",
       "      fill: #1967D2;\n",
       "      height: 32px;\n",
       "      padding: 0 0 0 0;\n",
       "      width: 32px;\n",
       "    }\n",
       "\n",
       "    .colab-df-convert:hover {\n",
       "      background-color: #E2EBFA;\n",
       "      box-shadow: 0px 1px 2px rgba(60, 64, 67, 0.3), 0px 1px 3px 1px rgba(60, 64, 67, 0.15);\n",
       "      fill: #174EA6;\n",
       "    }\n",
       "\n",
       "    [theme=dark] .colab-df-convert {\n",
       "      background-color: #3B4455;\n",
       "      fill: #D2E3FC;\n",
       "    }\n",
       "\n",
       "    [theme=dark] .colab-df-convert:hover {\n",
       "      background-color: #434B5C;\n",
       "      box-shadow: 0px 1px 3px 1px rgba(0, 0, 0, 0.15);\n",
       "      filter: drop-shadow(0px 1px 2px rgba(0, 0, 0, 0.3));\n",
       "      fill: #FFFFFF;\n",
       "    }\n",
       "  </style>\n",
       "\n",
       "      <script>\n",
       "        const buttonEl =\n",
       "          document.querySelector('#df-a2fd4448-bc2d-4b16-9b79-1d5355965a19 button.colab-df-convert');\n",
       "        buttonEl.style.display =\n",
       "          google.colab.kernel.accessAllowed ? 'block' : 'none';\n",
       "\n",
       "        async function convertToInteractive(key) {\n",
       "          const element = document.querySelector('#df-a2fd4448-bc2d-4b16-9b79-1d5355965a19');\n",
       "          const dataTable =\n",
       "            await google.colab.kernel.invokeFunction('convertToInteractive',\n",
       "                                                     [key], {});\n",
       "          if (!dataTable) return;\n",
       "\n",
       "          const docLinkHtml = 'Like what you see? Visit the ' +\n",
       "            '<a target=\"_blank\" href=https://colab.research.google.com/notebooks/data_table.ipynb>data table notebook</a>'\n",
       "            + ' to learn more about interactive tables.';\n",
       "          element.innerHTML = '';\n",
       "          dataTable['output_type'] = 'display_data';\n",
       "          await google.colab.output.renderOutput(dataTable, element);\n",
       "          const docLink = document.createElement('div');\n",
       "          docLink.innerHTML = docLinkHtml;\n",
       "          element.appendChild(docLink);\n",
       "        }\n",
       "      </script>\n",
       "    </div>\n",
       "  </div>\n",
       "  "
      ],
      "text/plain": [
       "      WriteOff_YN  Predicted Values  Predicted_Prob_WO = 1  \\\n",
       "755             0                 0               0.068795   \n",
       "3123            0                 0               0.270630   \n",
       "221             0                 1               0.613042   \n",
       "543             0                 0               0.164155   \n",
       "1395            0                 0               0.195425   \n",
       "...           ...               ...                    ...   \n",
       "3092            0                 0               0.344111   \n",
       "1095            0                 0               0.248948   \n",
       "1130            0                 1               0.703828   \n",
       "1294            0                 0               0.368196   \n",
       "860             0                 0               0.380630   \n",
       "\n",
       "           OpportunityID Decile  \n",
       "755   0062M00000it89gQAA      2  \n",
       "3123  0062M00000o7yiwQAA      5  \n",
       "221   0062M00000ePjypQAC      9  \n",
       "543   0062M00000ibbMMQAY      4  \n",
       "1395  0062M00000lrPFdQAM      4  \n",
       "...                  ...    ...  \n",
       "3092  0062M00000nZiUUQA0      6  \n",
       "1095  0062M00000ky5tQQAQ      5  \n",
       "1130  0062M00000kypOWQAY     10  \n",
       "1294  0062M00000lpNKnQAM      6  \n",
       "860   0062M00000jLg8aQAC      7  \n",
       "\n",
       "[2507 rows x 5 columns]"
      ]
     },
     "execution_count": 270,
     "metadata": {},
     "output_type": "execute_result"
    }
   ],
   "source": [
    "check"
   ]
  },
  {
   "cell_type": "code",
   "execution_count": null,
   "id": "f286f364",
   "metadata": {
    "colab": {
     "base_uri": "https://localhost:8080/"
    },
    "executionInfo": {
     "elapsed": 66,
     "status": "ok",
     "timestamp": 1662112862929,
     "user": {
      "displayName": "Siddhant Singh",
      "userId": "08343284542219482153"
     },
     "user_tz": -330
    },
    "id": "mzfjSkQdtopO",
    "outputId": "2c39bb3a-ebb6-41ee-de17-30668dd13803"
   },
   "outputs": [
    {
     "data": {
      "text/plain": [
       "2494"
      ]
     },
     "execution_count": 271,
     "metadata": {},
     "output_type": "execute_result"
    }
   ],
   "source": [
    "check['Predicted_Prob_WO = 1'].nunique()"
   ]
  },
  {
   "cell_type": "code",
   "execution_count": null,
   "id": "40013b18",
   "metadata": {
    "colab": {
     "base_uri": "https://localhost:8080/"
    },
    "executionInfo": {
     "elapsed": 57,
     "status": "ok",
     "timestamp": 1662112862930,
     "user": {
      "displayName": "Siddhant Singh",
      "userId": "08343284542219482153"
     },
     "user_tz": -330
    },
    "id": "P_yOAY9OcQju",
    "outputId": "03122d09-0499-44a3-e1ad-77086613e5ff"
   },
   "outputs": [
    {
     "data": {
      "text/plain": [
       "0.9284971"
      ]
     },
     "execution_count": 272,
     "metadata": {},
     "output_type": "execute_result"
    }
   ],
   "source": [
    "check['Predicted_Prob_WO = 1'].max()"
   ]
  },
  {
   "cell_type": "code",
   "execution_count": null,
   "id": "92ed98ab",
   "metadata": {
    "colab": {
     "base_uri": "https://localhost:8080/"
    },
    "executionInfo": {
     "elapsed": 52,
     "status": "ok",
     "timestamp": 1662112862931,
     "user": {
      "displayName": "Siddhant Singh",
      "userId": "08343284542219482153"
     },
     "user_tz": -330
    },
    "id": "-nOFTE-8cICh",
    "outputId": "d6aae23e-4351-493e-d4ef-692c140f2ca7"
   },
   "outputs": [
    {
     "data": {
      "text/plain": [
       "0.6744416236877444"
      ]
     },
     "execution_count": 273,
     "metadata": {},
     "output_type": "execute_result"
    }
   ],
   "source": [
    "check['Predicted_Prob_WO = 1'].quantile(0.9)"
   ]
  },
  {
   "cell_type": "code",
   "execution_count": null,
   "id": "fc095198",
   "metadata": {
    "colab": {
     "base_uri": "https://localhost:8080/"
    },
    "executionInfo": {
     "elapsed": 47,
     "status": "ok",
     "timestamp": 1662112862931,
     "user": {
      "displayName": "Siddhant Singh",
      "userId": "08343284542219482153"
     },
     "user_tz": -330
    },
    "id": "BNp9BshybcM-",
    "outputId": "b78288cc-cc89-4af0-9c38-9689e225235d"
   },
   "outputs": [
    {
     "data": {
      "text/plain": [
       "251"
      ]
     },
     "execution_count": 274,
     "metadata": {},
     "output_type": "execute_result"
    }
   ],
   "source": [
    "len(check[check['Decile']==10])"
   ]
  },
  {
   "cell_type": "code",
   "execution_count": null,
   "id": "c9fd4024",
   "metadata": {
    "id": "6WL1CWN0ljZA"
   },
   "outputs": [],
   "source": [
    "check.sort_values([\"Predicted_Prob_WO = 1\"], ascending = True, inplace = True)"
   ]
  },
  {
   "cell_type": "code",
   "execution_count": null,
   "id": "8c87b5d2",
   "metadata": {
    "colab": {
     "base_uri": "https://localhost:8080/",
     "height": 424
    },
    "executionInfo": {
     "elapsed": 42,
     "status": "ok",
     "timestamp": 1662112862932,
     "user": {
      "displayName": "Siddhant Singh",
      "userId": "08343284542219482153"
     },
     "user_tz": -330
    },
    "id": "e1QAPV9wEa5Y",
    "outputId": "6eb882c8-9365-4935-c3e1-a2526296cfd4"
   },
   "outputs": [
    {
     "data": {
      "text/html": [
       "\n",
       "  <div id=\"df-6f2c787e-fb93-4ed4-9ef0-41f7364d102c\">\n",
       "    <div class=\"colab-df-container\">\n",
       "      <div>\n",
       "<style scoped>\n",
       "    .dataframe tbody tr th:only-of-type {\n",
       "        vertical-align: middle;\n",
       "    }\n",
       "\n",
       "    .dataframe tbody tr th {\n",
       "        vertical-align: top;\n",
       "    }\n",
       "\n",
       "    .dataframe thead th {\n",
       "        text-align: right;\n",
       "    }\n",
       "</style>\n",
       "<table border=\"1\" class=\"dataframe\">\n",
       "  <thead>\n",
       "    <tr style=\"text-align: right;\">\n",
       "      <th></th>\n",
       "      <th>WriteOff_YN</th>\n",
       "      <th>Predicted Values</th>\n",
       "      <th>Predicted_Prob_WO = 1</th>\n",
       "      <th>OpportunityID</th>\n",
       "      <th>Decile</th>\n",
       "    </tr>\n",
       "  </thead>\n",
       "  <tbody>\n",
       "    <tr>\n",
       "      <th>1844</th>\n",
       "      <td>0</td>\n",
       "      <td>0</td>\n",
       "      <td>0.015658</td>\n",
       "      <td>0062M00000lxUwqQAE</td>\n",
       "      <td>1</td>\n",
       "    </tr>\n",
       "    <tr>\n",
       "      <th>1884</th>\n",
       "      <td>0</td>\n",
       "      <td>0</td>\n",
       "      <td>0.016171</td>\n",
       "      <td>0062M00000mdrysQAA</td>\n",
       "      <td>1</td>\n",
       "    </tr>\n",
       "    <tr>\n",
       "      <th>453</th>\n",
       "      <td>0</td>\n",
       "      <td>0</td>\n",
       "      <td>0.017237</td>\n",
       "      <td>0062M00000gZi5tQAC</td>\n",
       "      <td>1</td>\n",
       "    </tr>\n",
       "    <tr>\n",
       "      <th>419</th>\n",
       "      <td>0</td>\n",
       "      <td>0</td>\n",
       "      <td>0.018237</td>\n",
       "      <td>0062M00000gYJs1QAG</td>\n",
       "      <td>1</td>\n",
       "    </tr>\n",
       "    <tr>\n",
       "      <th>2457</th>\n",
       "      <td>0</td>\n",
       "      <td>0</td>\n",
       "      <td>0.019112</td>\n",
       "      <td>0062M00000n2jgwQAA</td>\n",
       "      <td>1</td>\n",
       "    </tr>\n",
       "    <tr>\n",
       "      <th>...</th>\n",
       "      <td>...</td>\n",
       "      <td>...</td>\n",
       "      <td>...</td>\n",
       "      <td>...</td>\n",
       "      <td>...</td>\n",
       "    </tr>\n",
       "    <tr>\n",
       "      <th>3034</th>\n",
       "      <td>1</td>\n",
       "      <td>1</td>\n",
       "      <td>0.885965</td>\n",
       "      <td>0062M00000nYPkbQAG</td>\n",
       "      <td>10</td>\n",
       "    </tr>\n",
       "    <tr>\n",
       "      <th>1077</th>\n",
       "      <td>1</td>\n",
       "      <td>1</td>\n",
       "      <td>0.891296</td>\n",
       "      <td>0062M00000kxTpzQAE</td>\n",
       "      <td>10</td>\n",
       "    </tr>\n",
       "    <tr>\n",
       "      <th>2977</th>\n",
       "      <td>1</td>\n",
       "      <td>1</td>\n",
       "      <td>0.893767</td>\n",
       "      <td>0062M00000nXvKlQAK</td>\n",
       "      <td>10</td>\n",
       "    </tr>\n",
       "    <tr>\n",
       "      <th>536</th>\n",
       "      <td>1</td>\n",
       "      <td>1</td>\n",
       "      <td>0.926152</td>\n",
       "      <td>0062M00000iauvvQAA</td>\n",
       "      <td>10</td>\n",
       "    </tr>\n",
       "    <tr>\n",
       "      <th>1137</th>\n",
       "      <td>1</td>\n",
       "      <td>1</td>\n",
       "      <td>0.928497</td>\n",
       "      <td>0062M00000kyu98QAA</td>\n",
       "      <td>10</td>\n",
       "    </tr>\n",
       "  </tbody>\n",
       "</table>\n",
       "<p>2507 rows × 5 columns</p>\n",
       "</div>\n",
       "      <button class=\"colab-df-convert\" onclick=\"convertToInteractive('df-6f2c787e-fb93-4ed4-9ef0-41f7364d102c')\"\n",
       "              title=\"Convert this dataframe to an interactive table.\"\n",
       "              style=\"display:none;\">\n",
       "        \n",
       "  <svg xmlns=\"http://www.w3.org/2000/svg\" height=\"24px\"viewBox=\"0 0 24 24\"\n",
       "       width=\"24px\">\n",
       "    <path d=\"M0 0h24v24H0V0z\" fill=\"none\"/>\n",
       "    <path d=\"M18.56 5.44l.94 2.06.94-2.06 2.06-.94-2.06-.94-.94-2.06-.94 2.06-2.06.94zm-11 1L8.5 8.5l.94-2.06 2.06-.94-2.06-.94L8.5 2.5l-.94 2.06-2.06.94zm10 10l.94 2.06.94-2.06 2.06-.94-2.06-.94-.94-2.06-.94 2.06-2.06.94z\"/><path d=\"M17.41 7.96l-1.37-1.37c-.4-.4-.92-.59-1.43-.59-.52 0-1.04.2-1.43.59L10.3 9.45l-7.72 7.72c-.78.78-.78 2.05 0 2.83L4 21.41c.39.39.9.59 1.41.59.51 0 1.02-.2 1.41-.59l7.78-7.78 2.81-2.81c.8-.78.8-2.07 0-2.86zM5.41 20L4 18.59l7.72-7.72 1.47 1.35L5.41 20z\"/>\n",
       "  </svg>\n",
       "      </button>\n",
       "      \n",
       "  <style>\n",
       "    .colab-df-container {\n",
       "      display:flex;\n",
       "      flex-wrap:wrap;\n",
       "      gap: 12px;\n",
       "    }\n",
       "\n",
       "    .colab-df-convert {\n",
       "      background-color: #E8F0FE;\n",
       "      border: none;\n",
       "      border-radius: 50%;\n",
       "      cursor: pointer;\n",
       "      display: none;\n",
       "      fill: #1967D2;\n",
       "      height: 32px;\n",
       "      padding: 0 0 0 0;\n",
       "      width: 32px;\n",
       "    }\n",
       "\n",
       "    .colab-df-convert:hover {\n",
       "      background-color: #E2EBFA;\n",
       "      box-shadow: 0px 1px 2px rgba(60, 64, 67, 0.3), 0px 1px 3px 1px rgba(60, 64, 67, 0.15);\n",
       "      fill: #174EA6;\n",
       "    }\n",
       "\n",
       "    [theme=dark] .colab-df-convert {\n",
       "      background-color: #3B4455;\n",
       "      fill: #D2E3FC;\n",
       "    }\n",
       "\n",
       "    [theme=dark] .colab-df-convert:hover {\n",
       "      background-color: #434B5C;\n",
       "      box-shadow: 0px 1px 3px 1px rgba(0, 0, 0, 0.15);\n",
       "      filter: drop-shadow(0px 1px 2px rgba(0, 0, 0, 0.3));\n",
       "      fill: #FFFFFF;\n",
       "    }\n",
       "  </style>\n",
       "\n",
       "      <script>\n",
       "        const buttonEl =\n",
       "          document.querySelector('#df-6f2c787e-fb93-4ed4-9ef0-41f7364d102c button.colab-df-convert');\n",
       "        buttonEl.style.display =\n",
       "          google.colab.kernel.accessAllowed ? 'block' : 'none';\n",
       "\n",
       "        async function convertToInteractive(key) {\n",
       "          const element = document.querySelector('#df-6f2c787e-fb93-4ed4-9ef0-41f7364d102c');\n",
       "          const dataTable =\n",
       "            await google.colab.kernel.invokeFunction('convertToInteractive',\n",
       "                                                     [key], {});\n",
       "          if (!dataTable) return;\n",
       "\n",
       "          const docLinkHtml = 'Like what you see? Visit the ' +\n",
       "            '<a target=\"_blank\" href=https://colab.research.google.com/notebooks/data_table.ipynb>data table notebook</a>'\n",
       "            + ' to learn more about interactive tables.';\n",
       "          element.innerHTML = '';\n",
       "          dataTable['output_type'] = 'display_data';\n",
       "          await google.colab.output.renderOutput(dataTable, element);\n",
       "          const docLink = document.createElement('div');\n",
       "          docLink.innerHTML = docLinkHtml;\n",
       "          element.appendChild(docLink);\n",
       "        }\n",
       "      </script>\n",
       "    </div>\n",
       "  </div>\n",
       "  "
      ],
      "text/plain": [
       "      WriteOff_YN  Predicted Values  Predicted_Prob_WO = 1  \\\n",
       "1844            0                 0               0.015658   \n",
       "1884            0                 0               0.016171   \n",
       "453             0                 0               0.017237   \n",
       "419             0                 0               0.018237   \n",
       "2457            0                 0               0.019112   \n",
       "...           ...               ...                    ...   \n",
       "3034            1                 1               0.885965   \n",
       "1077            1                 1               0.891296   \n",
       "2977            1                 1               0.893767   \n",
       "536             1                 1               0.926152   \n",
       "1137            1                 1               0.928497   \n",
       "\n",
       "           OpportunityID Decile  \n",
       "1844  0062M00000lxUwqQAE      1  \n",
       "1884  0062M00000mdrysQAA      1  \n",
       "453   0062M00000gZi5tQAC      1  \n",
       "419   0062M00000gYJs1QAG      1  \n",
       "2457  0062M00000n2jgwQAA      1  \n",
       "...                  ...    ...  \n",
       "3034  0062M00000nYPkbQAG     10  \n",
       "1077  0062M00000kxTpzQAE     10  \n",
       "2977  0062M00000nXvKlQAK     10  \n",
       "536   0062M00000iauvvQAA     10  \n",
       "1137  0062M00000kyu98QAA     10  \n",
       "\n",
       "[2507 rows x 5 columns]"
      ]
     },
     "execution_count": 276,
     "metadata": {},
     "output_type": "execute_result"
    }
   ],
   "source": [
    "check"
   ]
  },
  {
   "cell_type": "code",
   "execution_count": null,
   "id": "a4b858cd",
   "metadata": {
    "colab": {
     "base_uri": "https://localhost:8080/"
    },
    "executionInfo": {
     "elapsed": 42,
     "status": "ok",
     "timestamp": 1662112862933,
     "user": {
      "displayName": "Siddhant Singh",
      "userId": "08343284542219482153"
     },
     "user_tz": -330
    },
    "id": "mQzUj7IoljUP",
    "outputId": "149c962c-3551-44a6-8954-6e299a10dee8"
   },
   "outputs": [
    {
     "data": {
      "text/plain": [
       "array([1, 2, 3, 4, 5, 6, 7, 8, 9, 10], dtype=object)"
      ]
     },
     "execution_count": 277,
     "metadata": {},
     "output_type": "execute_result"
    }
   ],
   "source": [
    "# this will check nan values, missing_values by itself\n",
    "check['Decile'].unique()"
   ]
  },
  {
   "cell_type": "code",
   "execution_count": null,
   "id": "e7a62cf9",
   "metadata": {
    "id": "UyLgS1N5sHdK"
   },
   "outputs": [],
   "source": [
    "exp_df = check.copy()"
   ]
  },
  {
   "cell_type": "code",
   "execution_count": null,
   "id": "2e86cca7",
   "metadata": {
    "colab": {
     "base_uri": "https://localhost:8080/",
     "height": 424
    },
    "executionInfo": {
     "elapsed": 37,
     "status": "ok",
     "timestamp": 1662112862934,
     "user": {
      "displayName": "Siddhant Singh",
      "userId": "08343284542219482153"
     },
     "user_tz": -330
    },
    "id": "92Le7YLJ7WOr",
    "outputId": "24d733a3-a480-4277-ab16-0836e68cca5d"
   },
   "outputs": [
    {
     "data": {
      "text/html": [
       "\n",
       "  <div id=\"df-f7baa1d0-35d4-46d1-a046-650d55af6f55\">\n",
       "    <div class=\"colab-df-container\">\n",
       "      <div>\n",
       "<style scoped>\n",
       "    .dataframe tbody tr th:only-of-type {\n",
       "        vertical-align: middle;\n",
       "    }\n",
       "\n",
       "    .dataframe tbody tr th {\n",
       "        vertical-align: top;\n",
       "    }\n",
       "\n",
       "    .dataframe thead th {\n",
       "        text-align: right;\n",
       "    }\n",
       "</style>\n",
       "<table border=\"1\" class=\"dataframe\">\n",
       "  <thead>\n",
       "    <tr style=\"text-align: right;\">\n",
       "      <th></th>\n",
       "      <th>WriteOff_YN</th>\n",
       "      <th>Predicted Values</th>\n",
       "      <th>Predicted_Prob_WO = 1</th>\n",
       "      <th>OpportunityID</th>\n",
       "      <th>Decile</th>\n",
       "    </tr>\n",
       "  </thead>\n",
       "  <tbody>\n",
       "    <tr>\n",
       "      <th>1844</th>\n",
       "      <td>0</td>\n",
       "      <td>0</td>\n",
       "      <td>0.015658</td>\n",
       "      <td>0062M00000lxUwqQAE</td>\n",
       "      <td>1</td>\n",
       "    </tr>\n",
       "    <tr>\n",
       "      <th>1884</th>\n",
       "      <td>0</td>\n",
       "      <td>0</td>\n",
       "      <td>0.016171</td>\n",
       "      <td>0062M00000mdrysQAA</td>\n",
       "      <td>1</td>\n",
       "    </tr>\n",
       "    <tr>\n",
       "      <th>453</th>\n",
       "      <td>0</td>\n",
       "      <td>0</td>\n",
       "      <td>0.017237</td>\n",
       "      <td>0062M00000gZi5tQAC</td>\n",
       "      <td>1</td>\n",
       "    </tr>\n",
       "    <tr>\n",
       "      <th>419</th>\n",
       "      <td>0</td>\n",
       "      <td>0</td>\n",
       "      <td>0.018237</td>\n",
       "      <td>0062M00000gYJs1QAG</td>\n",
       "      <td>1</td>\n",
       "    </tr>\n",
       "    <tr>\n",
       "      <th>2457</th>\n",
       "      <td>0</td>\n",
       "      <td>0</td>\n",
       "      <td>0.019112</td>\n",
       "      <td>0062M00000n2jgwQAA</td>\n",
       "      <td>1</td>\n",
       "    </tr>\n",
       "    <tr>\n",
       "      <th>...</th>\n",
       "      <td>...</td>\n",
       "      <td>...</td>\n",
       "      <td>...</td>\n",
       "      <td>...</td>\n",
       "      <td>...</td>\n",
       "    </tr>\n",
       "    <tr>\n",
       "      <th>3034</th>\n",
       "      <td>1</td>\n",
       "      <td>1</td>\n",
       "      <td>0.885965</td>\n",
       "      <td>0062M00000nYPkbQAG</td>\n",
       "      <td>10</td>\n",
       "    </tr>\n",
       "    <tr>\n",
       "      <th>1077</th>\n",
       "      <td>1</td>\n",
       "      <td>1</td>\n",
       "      <td>0.891296</td>\n",
       "      <td>0062M00000kxTpzQAE</td>\n",
       "      <td>10</td>\n",
       "    </tr>\n",
       "    <tr>\n",
       "      <th>2977</th>\n",
       "      <td>1</td>\n",
       "      <td>1</td>\n",
       "      <td>0.893767</td>\n",
       "      <td>0062M00000nXvKlQAK</td>\n",
       "      <td>10</td>\n",
       "    </tr>\n",
       "    <tr>\n",
       "      <th>536</th>\n",
       "      <td>1</td>\n",
       "      <td>1</td>\n",
       "      <td>0.926152</td>\n",
       "      <td>0062M00000iauvvQAA</td>\n",
       "      <td>10</td>\n",
       "    </tr>\n",
       "    <tr>\n",
       "      <th>1137</th>\n",
       "      <td>1</td>\n",
       "      <td>1</td>\n",
       "      <td>0.928497</td>\n",
       "      <td>0062M00000kyu98QAA</td>\n",
       "      <td>10</td>\n",
       "    </tr>\n",
       "  </tbody>\n",
       "</table>\n",
       "<p>2507 rows × 5 columns</p>\n",
       "</div>\n",
       "      <button class=\"colab-df-convert\" onclick=\"convertToInteractive('df-f7baa1d0-35d4-46d1-a046-650d55af6f55')\"\n",
       "              title=\"Convert this dataframe to an interactive table.\"\n",
       "              style=\"display:none;\">\n",
       "        \n",
       "  <svg xmlns=\"http://www.w3.org/2000/svg\" height=\"24px\"viewBox=\"0 0 24 24\"\n",
       "       width=\"24px\">\n",
       "    <path d=\"M0 0h24v24H0V0z\" fill=\"none\"/>\n",
       "    <path d=\"M18.56 5.44l.94 2.06.94-2.06 2.06-.94-2.06-.94-.94-2.06-.94 2.06-2.06.94zm-11 1L8.5 8.5l.94-2.06 2.06-.94-2.06-.94L8.5 2.5l-.94 2.06-2.06.94zm10 10l.94 2.06.94-2.06 2.06-.94-2.06-.94-.94-2.06-.94 2.06-2.06.94z\"/><path d=\"M17.41 7.96l-1.37-1.37c-.4-.4-.92-.59-1.43-.59-.52 0-1.04.2-1.43.59L10.3 9.45l-7.72 7.72c-.78.78-.78 2.05 0 2.83L4 21.41c.39.39.9.59 1.41.59.51 0 1.02-.2 1.41-.59l7.78-7.78 2.81-2.81c.8-.78.8-2.07 0-2.86zM5.41 20L4 18.59l7.72-7.72 1.47 1.35L5.41 20z\"/>\n",
       "  </svg>\n",
       "      </button>\n",
       "      \n",
       "  <style>\n",
       "    .colab-df-container {\n",
       "      display:flex;\n",
       "      flex-wrap:wrap;\n",
       "      gap: 12px;\n",
       "    }\n",
       "\n",
       "    .colab-df-convert {\n",
       "      background-color: #E8F0FE;\n",
       "      border: none;\n",
       "      border-radius: 50%;\n",
       "      cursor: pointer;\n",
       "      display: none;\n",
       "      fill: #1967D2;\n",
       "      height: 32px;\n",
       "      padding: 0 0 0 0;\n",
       "      width: 32px;\n",
       "    }\n",
       "\n",
       "    .colab-df-convert:hover {\n",
       "      background-color: #E2EBFA;\n",
       "      box-shadow: 0px 1px 2px rgba(60, 64, 67, 0.3), 0px 1px 3px 1px rgba(60, 64, 67, 0.15);\n",
       "      fill: #174EA6;\n",
       "    }\n",
       "\n",
       "    [theme=dark] .colab-df-convert {\n",
       "      background-color: #3B4455;\n",
       "      fill: #D2E3FC;\n",
       "    }\n",
       "\n",
       "    [theme=dark] .colab-df-convert:hover {\n",
       "      background-color: #434B5C;\n",
       "      box-shadow: 0px 1px 3px 1px rgba(0, 0, 0, 0.15);\n",
       "      filter: drop-shadow(0px 1px 2px rgba(0, 0, 0, 0.3));\n",
       "      fill: #FFFFFF;\n",
       "    }\n",
       "  </style>\n",
       "\n",
       "      <script>\n",
       "        const buttonEl =\n",
       "          document.querySelector('#df-f7baa1d0-35d4-46d1-a046-650d55af6f55 button.colab-df-convert');\n",
       "        buttonEl.style.display =\n",
       "          google.colab.kernel.accessAllowed ? 'block' : 'none';\n",
       "\n",
       "        async function convertToInteractive(key) {\n",
       "          const element = document.querySelector('#df-f7baa1d0-35d4-46d1-a046-650d55af6f55');\n",
       "          const dataTable =\n",
       "            await google.colab.kernel.invokeFunction('convertToInteractive',\n",
       "                                                     [key], {});\n",
       "          if (!dataTable) return;\n",
       "\n",
       "          const docLinkHtml = 'Like what you see? Visit the ' +\n",
       "            '<a target=\"_blank\" href=https://colab.research.google.com/notebooks/data_table.ipynb>data table notebook</a>'\n",
       "            + ' to learn more about interactive tables.';\n",
       "          element.innerHTML = '';\n",
       "          dataTable['output_type'] = 'display_data';\n",
       "          await google.colab.output.renderOutput(dataTable, element);\n",
       "          const docLink = document.createElement('div');\n",
       "          docLink.innerHTML = docLinkHtml;\n",
       "          element.appendChild(docLink);\n",
       "        }\n",
       "      </script>\n",
       "    </div>\n",
       "  </div>\n",
       "  "
      ],
      "text/plain": [
       "      WriteOff_YN  Predicted Values  Predicted_Prob_WO = 1  \\\n",
       "1844            0                 0               0.015658   \n",
       "1884            0                 0               0.016171   \n",
       "453             0                 0               0.017237   \n",
       "419             0                 0               0.018237   \n",
       "2457            0                 0               0.019112   \n",
       "...           ...               ...                    ...   \n",
       "3034            1                 1               0.885965   \n",
       "1077            1                 1               0.891296   \n",
       "2977            1                 1               0.893767   \n",
       "536             1                 1               0.926152   \n",
       "1137            1                 1               0.928497   \n",
       "\n",
       "           OpportunityID Decile  \n",
       "1844  0062M00000lxUwqQAE      1  \n",
       "1884  0062M00000mdrysQAA      1  \n",
       "453   0062M00000gZi5tQAC      1  \n",
       "419   0062M00000gYJs1QAG      1  \n",
       "2457  0062M00000n2jgwQAA      1  \n",
       "...                  ...    ...  \n",
       "3034  0062M00000nYPkbQAG     10  \n",
       "1077  0062M00000kxTpzQAE     10  \n",
       "2977  0062M00000nXvKlQAK     10  \n",
       "536   0062M00000iauvvQAA     10  \n",
       "1137  0062M00000kyu98QAA     10  \n",
       "\n",
       "[2507 rows x 5 columns]"
      ]
     },
     "execution_count": 279,
     "metadata": {},
     "output_type": "execute_result"
    }
   ],
   "source": [
    "exp_df"
   ]
  },
  {
   "cell_type": "code",
   "execution_count": null,
   "id": "8fc98b0b",
   "metadata": {
    "colab": {
     "base_uri": "https://localhost:8080/"
    },
    "executionInfo": {
     "elapsed": 37,
     "status": "ok",
     "timestamp": 1662112862935,
     "user": {
      "displayName": "Siddhant Singh",
      "userId": "08343284542219482153"
     },
     "user_tz": -330
    },
    "id": "pqXxCjOSbPpa",
    "outputId": "ed3f3942-307b-4fea-a93c-49ef7228ad7c"
   },
   "outputs": [
    {
     "data": {
      "text/plain": [
       "251"
      ]
     },
     "execution_count": 280,
     "metadata": {},
     "output_type": "execute_result"
    }
   ],
   "source": [
    "len(exp_df[exp_df['Decile']==1])"
   ]
  },
  {
   "cell_type": "markdown",
   "id": "737d3c7b",
   "metadata": {
    "id": "HV8-8wyFZ0NG"
   },
   "source": [
    "Approach for decile analyses:\n",
    "- Let N = total of data points, P = total no data points with label 1\n",
    "- Sort all N data points using their probability score.\n",
    "- Form decile bins. There will be ten bins with equal no of data points in each bin. Size of each bin will be n = N/10.\n",
    "- For i = 1 to 10\n",
    "           - Let m_i = no data points with label 1 in the ith bin\n",
    "           - Let M_i = no data points with label 1 in bins 1 to i  (i.e. M_i = m_i + M_{i-1})\n",
    "- compute response rate = rr_i = 100*m_i/n.\n",
    "- compute cumulative gain = cg_i = 100*M_i/P.\n",
    "- compute lift = cg_i/(10*i) \n"
   ]
  },
  {
   "cell_type": "code",
   "execution_count": null,
   "id": "0276cbb6",
   "metadata": {
    "colab": {
     "base_uri": "https://localhost:8080/"
    },
    "executionInfo": {
     "elapsed": 32,
     "status": "ok",
     "timestamp": 1662112862935,
     "user": {
      "displayName": "Siddhant Singh",
      "userId": "08343284542219482153"
     },
     "user_tz": -330
    },
    "id": "ujZyZjBphbhj",
    "outputId": "6cd299ce-3766-4fc2-ac61-7d98b75dc086"
   },
   "outputs": [
    {
     "data": {
      "text/plain": [
       "2507"
      ]
     },
     "execution_count": 281,
     "metadata": {},
     "output_type": "execute_result"
    }
   ],
   "source": [
    "N = len(exp_df)\n",
    "N"
   ]
  },
  {
   "cell_type": "code",
   "execution_count": null,
   "id": "a10e407c",
   "metadata": {
    "colab": {
     "base_uri": "https://localhost:8080/"
    },
    "executionInfo": {
     "elapsed": 29,
     "status": "ok",
     "timestamp": 1662112862936,
     "user": {
      "displayName": "Siddhant Singh",
      "userId": "08343284542219482153"
     },
     "user_tz": -330
    },
    "id": "TrkANjwChbjt",
    "outputId": "a93f6762-9b98-42b8-b240-93ec1b0ae6b6"
   },
   "outputs": [
    {
     "data": {
      "text/plain": [
       "648"
      ]
     },
     "execution_count": 282,
     "metadata": {},
     "output_type": "execute_result"
    }
   ],
   "source": [
    "P = len(exp_df[exp_df[\"WriteOff_YN\"] == 1])\n",
    "P"
   ]
  },
  {
   "cell_type": "code",
   "execution_count": null,
   "id": "a09dca4d",
   "metadata": {
    "colab": {
     "base_uri": "https://localhost:8080/"
    },
    "executionInfo": {
     "elapsed": 25,
     "status": "ok",
     "timestamp": 1662112862937,
     "user": {
      "displayName": "Siddhant Singh",
      "userId": "08343284542219482153"
     },
     "user_tz": -330
    },
    "id": "LoMr_Ri5hbp8",
    "outputId": "942babd2-03c1-4fc9-fd28-e565d5580729"
   },
   "outputs": [
    {
     "data": {
      "text/plain": [
       "0    250\n",
       "1      1\n",
       "Name: WriteOff_YN, dtype: int64"
      ]
     },
     "execution_count": 283,
     "metadata": {},
     "output_type": "execute_result"
    }
   ],
   "source": [
    "# As per the standard - total data points in each decile bin should be 57 (where we assume that Precited_WriteOff_YN = 1) but as our model is not performing good - each bin is providing only 23/57 = 39% \n",
    "# = 24% as predicted_WriteOff_Yn = 1\n",
    "exp_df[exp_df[\"Decile\"] == 1][\"WriteOff_YN\"].value_counts()"
   ]
  },
  {
   "cell_type": "code",
   "execution_count": null,
   "id": "60a45bc8",
   "metadata": {
    "id": "fK-ETUFUhbwK"
   },
   "outputs": [],
   "source": [
    "m_1 = len(exp_df[(exp_df[\"Decile\"] == 1) & (exp_df[\"WriteOff_YN\"] ==1)])\n",
    "m_2 = len(exp_df[(exp_df[\"Decile\"] == 2) & (exp_df[\"WriteOff_YN\"] ==1)])\n",
    "m_3 = len(exp_df[(exp_df[\"Decile\"] == 3) & (exp_df[\"WriteOff_YN\"] ==1)])\n",
    "m_4 = len(exp_df[(exp_df[\"Decile\"] == 4) & (exp_df[\"WriteOff_YN\"] ==1)])\n",
    "m_5 = len(exp_df[(exp_df[\"Decile\"] == 5) & (exp_df[\"WriteOff_YN\"] ==1)])\n",
    "m_6 = len(exp_df[(exp_df[\"Decile\"] == 6) & (exp_df[\"WriteOff_YN\"] ==1)])\n",
    "m_7 = len(exp_df[(exp_df[\"Decile\"] == 7) & (exp_df[\"WriteOff_YN\"] ==1)])\n",
    "m_8 = len(exp_df[(exp_df[\"Decile\"] == 8) & (exp_df[\"WriteOff_YN\"] ==1)])\n",
    "m_9 = len(exp_df[(exp_df[\"Decile\"] == 9) & (exp_df[\"WriteOff_YN\"] ==1)])\n",
    "m_10 = len(exp_df[(exp_df[\"Decile\"] == 10) & (exp_df[\"WriteOff_YN\"] ==1)])"
   ]
  },
  {
   "cell_type": "code",
   "execution_count": null,
   "id": "c74aaef7",
   "metadata": {
    "colab": {
     "base_uri": "https://localhost:8080/"
    },
    "executionInfo": {
     "elapsed": 79,
     "status": "ok",
     "timestamp": 1662112863390,
     "user": {
      "displayName": "Siddhant Singh",
      "userId": "08343284542219482153"
     },
     "user_tz": -330
    },
    "id": "9xhzZ7cu1dBC",
    "outputId": "f05aee10-b177-4dbe-8365-93e1774cfad1"
   },
   "outputs": [
    {
     "data": {
      "text/plain": [
       "(1, 6, 7, 17, 32, 55, 61, 114, 150, 205)"
      ]
     },
     "execution_count": 285,
     "metadata": {},
     "output_type": "execute_result"
    }
   ],
   "source": [
    "#No of writeoffs per decile\n",
    "m_1,m_2,m_3,m_4,m_5,m_6,m_7,m_8,m_9,m_10"
   ]
  },
  {
   "cell_type": "code",
   "execution_count": null,
   "id": "b7d0f655",
   "metadata": {
    "id": "-0cusZnwhbuR"
   },
   "outputs": [],
   "source": [
    "# this is necessary to calculate cummulative gain\n",
    "M_1 = m_1\n",
    "M_2 = M_1 + m_2\n",
    "M_3 = M_2 + m_3\n",
    "M_4 = M_3 + m_4\n",
    "M_5 = M_4 + m_5\n",
    "M_6 = M_5 + m_6\n",
    "M_7 = M_6 + m_7\n",
    "M_8 = M_7 + m_8\n",
    "M_9 = M_8 + m_9\n",
    "M_10 = M_9 + m_10"
   ]
  },
  {
   "cell_type": "code",
   "execution_count": null,
   "id": "0f6f8ca8",
   "metadata": {
    "colab": {
     "base_uri": "https://localhost:8080/"
    },
    "executionInfo": {
     "elapsed": 78,
     "status": "ok",
     "timestamp": 1662112863391,
     "user": {
      "displayName": "Siddhant Singh",
      "userId": "08343284542219482153"
     },
     "user_tz": -330
    },
    "id": "9hl0IfkejRi_",
    "outputId": "6ba0f52b-bf4b-48b9-86a4-06ec6aa17e4c"
   },
   "outputs": [
    {
     "data": {
      "text/plain": [
       "(1, 7, 14, 31, 63, 118, 179, 293, 443, 648)"
      ]
     },
     "execution_count": 287,
     "metadata": {},
     "output_type": "execute_result"
    }
   ],
   "source": [
    "#Cumulative no of writeoffs per decile\n",
    "M_1,M_2,M_3,M_4,M_5,M_6,M_7,M_8,M_9,M_10"
   ]
  },
  {
   "cell_type": "code",
   "execution_count": null,
   "id": "df68c0d7",
   "metadata": {
    "id": "alUaMY7uhb0a"
   },
   "outputs": [],
   "source": [
    "# What is a response rate? How many percentage of merchants are present in decile 1 having WriteOff_YN = 1 - as we are likely dealing to remove defaulty merchants\n",
    "# compute response rate = rr_i = 100*m_i/n\n",
    "rr_1 = 100 * m_1/len(exp_df[exp_df[\"Decile\"] == 1])\n",
    "rr_2 = 100 * m_2/len(exp_df[exp_df[\"Decile\"] == 2])\n",
    "rr_3 = 100 * m_3/len(exp_df[exp_df[\"Decile\"] == 3])\n",
    "rr_4 = 100 * m_4/len(exp_df[exp_df[\"Decile\"] == 4])\n",
    "rr_5 = 100 * m_5/len(exp_df[exp_df[\"Decile\"] == 5])\n",
    "rr_6 = 100 * m_6/len(exp_df[exp_df[\"Decile\"] == 6])\n",
    "rr_7 = 100 * m_7/len(exp_df[exp_df[\"Decile\"] == 7])\n",
    "rr_8 = 100 * m_8/len(exp_df[exp_df[\"Decile\"] == 8])\n",
    "rr_9 = 100 * m_9/len(exp_df[exp_df[\"Decile\"] == 9])\n",
    "rr_10 = 100 * m_10/len(exp_df[exp_df[\"Decile\"] == 10])"
   ]
  },
  {
   "cell_type": "code",
   "execution_count": null,
   "id": "e0a2b65d",
   "metadata": {
    "colab": {
     "base_uri": "https://localhost:8080/"
    },
    "executionInfo": {
     "elapsed": 64,
     "status": "ok",
     "timestamp": 1662112863392,
     "user": {
      "displayName": "Siddhant Singh",
      "userId": "08343284542219482153"
     },
     "user_tz": -330
    },
    "id": "WCWevTCY225E",
    "outputId": "1bed4b9a-e12c-4033-ad2c-ad7fef24a592"
   },
   "outputs": [
    {
     "name": "stdout",
     "output_type": "stream",
     "text": [
      "0.398406374501992 2.3904382470119523 2.8 6.772908366533865 12.749003984063744 22.0 24.302788844621514 45.6 59.7609561752988 81.67330677290836\n"
     ]
    }
   ],
   "source": [
    "# rr_i - > basically its a percentage calculation of no. of merchants in each decile bin having writeOff_YN = 0\n",
    "# rr1_1 = (231/231) %\n",
    "print(rr_1,rr_2,rr_3,rr_4,rr_5,rr_6,rr_7,rr_8,rr_9,rr_10) "
   ]
  },
  {
   "cell_type": "markdown",
   "id": "9454856d",
   "metadata": {
    "id": "E9tyO1dxaMyT"
   },
   "source": [
    "- What is a cummulative gain? - this is being done to check till how many deciles bins - how many % of merchants (i.e. WriteOff_YN = 0) respond in each decile \n",
    "- What is gain chart - A Gain Chart can be used to assess what % of merchants respond in each decile. So, rather than targeting customers from lower deciles, \n",
    "- customers can be picked up from the top deciles only.\n",
    "- compute cumulative% of responders  or gain  = cg_i = 100*M_i/P"
   ]
  },
  {
   "cell_type": "code",
   "execution_count": null,
   "id": "dc526bc2",
   "metadata": {
    "id": "zfAuHaoEhb4l"
   },
   "outputs": [],
   "source": [
    "cg_1 = 100*(M_1/P)\n",
    "cg_2 = 100*(M_2/P)\n",
    "cg_3 = 100*(M_3/P)\n",
    "cg_4 = 100*(M_4/P)\n",
    "cg_5 = 100*(M_5/P)\n",
    "cg_6 = 100*(M_6/P)\n",
    "cg_7 = 100*(M_7/P)\n",
    "cg_8 = 100*(M_8/P)\n",
    "cg_9 = 100*(M_9/P)\n",
    "cg_10 = 100*(M_10/P)"
   ]
  },
  {
   "cell_type": "code",
   "execution_count": null,
   "id": "8093861a",
   "metadata": {
    "colab": {
     "base_uri": "https://localhost:8080/"
    },
    "executionInfo": {
     "elapsed": 57,
     "status": "ok",
     "timestamp": 1662112863392,
     "user": {
      "displayName": "Siddhant Singh",
      "userId": "08343284542219482153"
     },
     "user_tz": -330
    },
    "id": "zdrGceiqjqm4",
    "outputId": "26cf71c9-3768-4e9c-9dca-424338065fe3"
   },
   "outputs": [
    {
     "name": "stdout",
     "output_type": "stream",
     "text": [
      "0.15432098765432098 1.0802469135802468 2.1604938271604937 4.78395061728395 9.722222222222223 18.209876543209877 27.623456790123456 45.21604938271605 68.3641975308642 100.0\n"
     ]
    }
   ],
   "source": [
    "print(cg_1,cg_2,cg_3,cg_4,cg_5,cg_6,cg_7,cg_8,cg_9,cg_10)"
   ]
  },
  {
   "cell_type": "markdown",
   "id": "e93bdc0a",
   "metadata": {
    "id": "1rHPhYTKQwFh"
   },
   "source": [
    "How to interpret Lift :\n",
    "\n",
    "- If we target the top two deciles, then we would target 20% of the customers. In the same deciles, the cumulative % of responders is 28.3%. Hence, there is a lift of 1.41\n",
    "\n",
    "- A lift of 1 means there is no gain compared with the no. of customers targeted at random. Lift greater than 1 means the model approach is better than selecting the customers at random.\n",
    "\n",
    "- Lift - > (dependent on) - Gain - > (dependent on ) - > % responder (response rate)\n",
    "\n",
    "- In general, the value of lift will go down as we are adding more deciles. Work will be increased. Lift = 1 means - we are considering every sample, so we are not performing every decile analyses \n",
    "\n",
    "- The value of lift in case of good model should be high.s"
   ]
  },
  {
   "cell_type": "code",
   "execution_count": null,
   "id": "5ee5bc53",
   "metadata": {
    "colab": {
     "base_uri": "https://localhost:8080/"
    },
    "executionInfo": {
     "elapsed": 52,
     "status": "ok",
     "timestamp": 1662112863393,
     "user": {
      "displayName": "Siddhant Singh",
      "userId": "08343284542219482153"
     },
     "user_tz": -330
    },
    "id": "eqwBF4jMvIwK",
    "outputId": "7480813f-8ff6-40b5-83a8-964dbab0062f"
   },
   "outputs": [
    {
     "name": "stdout",
     "output_type": "stream",
     "text": [
      "0.015432098765432098 0.05401234567901234 0.07201646090534979 0.11959876543209876 0.19444444444444448 0.30349794238683125 0.39462081128747795 0.5652006172839507 0.75960219478738 1.0\n"
     ]
    }
   ],
   "source": [
    "# Lift formnula = gain / customers % at each decile\n",
    "# This can be used to identify the deciles which have a higher Lift.\n",
    "# compute lift = cg_i/(10*i) \n",
    "lift_1 = cg_1/(10*1)\n",
    "lift_2 = cg_2/(10*2)\n",
    "lift_3 = cg_3/(10*3)\n",
    "lift_4 = cg_4/(10*4)\n",
    "lift_5 = cg_5/(10*5)\n",
    "lift_6 = cg_6/(10*6)\n",
    "lift_7 = cg_7/(10*7)\n",
    "lift_8 = cg_8/(10*8)\n",
    "lift_9 = cg_9/(10*9)\n",
    "lift_10 = cg_10/(10*10)\n",
    "print(lift_1,lift_2,lift_3,lift_4,lift_5,lift_6,lift_7,lift_8,lift_9,lift_10)"
   ]
  },
  {
   "cell_type": "code",
   "execution_count": null,
   "id": "178e060c",
   "metadata": {
    "id": "0jfiBS6LCQV1"
   },
   "outputs": [],
   "source": [
    "rr = [rr_1,rr_2,rr_3,rr_4,rr_5,rr_6,rr_7,rr_8,rr_9,rr_10]\n",
    "cg = [cg_1,cg_2,cg_3,cg_4,cg_5,cg_6,cg_7,cg_8,cg_9,cg_10]\n",
    "lift = [lift_1,lift_2,lift_3,lift_4,lift_5,lift_6,lift_7,lift_8,lift_9,lift_10]\n",
    "funded_amt = [funded_amt_d1,funded_amt_d2,funded_amt_d3,funded_amt_d4,funded_amt_d5,funded_amt_d6,funded_amt_d7,funded_amt_d8,funded_amt_d9,funded_amt_d10]\n",
    "gross_amt = [gross_amt_d1, gross_amt_d2, gross_amt_d3, gross_amt_d4, gross_amt_d5, gross_amt_d6, gross_amt_d7, gross_amt_d8, gross_amt_d9, gross_amt_d10]\n",
    "advanced_amt = [advanced_amt_d1, advanced_amt_d2, advanced_amt_d3, advanced_amt_d4, advanced_amt_d5, advanced_amt_d6, advanced_amt_d7, advanced_amt_d8, advanced_amt_d9, advanced_amt_d10]"
   ]
  },
  {
   "cell_type": "code",
   "execution_count": null,
   "id": "201b2f7e",
   "metadata": {
    "colab": {
     "base_uri": "https://localhost:8080/"
    },
    "executionInfo": {
     "elapsed": 46,
     "status": "ok",
     "timestamp": 1662112863393,
     "user": {
      "displayName": "Siddhant Singh",
      "userId": "08343284542219482153"
     },
     "user_tz": -330
    },
    "id": "0DbjA6eaGAzm",
    "outputId": "60b9fc12-ac86-4067-cfc4-3e78931c5e76"
   },
   "outputs": [
    {
     "data": {
      "text/plain": [
       "[0.06430839,\n",
       " 0.104265355,\n",
       " 0.1576544,\n",
       " 0.22500584,\n",
       " 0.30393,\n",
       " 0.3801815,\n",
       " 0.4730651,\n",
       " 0.567828,\n",
       " 0.6733421,\n",
       " 0.9284971]"
      ]
     },
     "execution_count": 294,
     "metadata": {},
     "output_type": "execute_result"
    }
   ],
   "source": [
    "max_range = [exp_df[exp_df['Decile']==1]['Predicted_Prob_WO = 1'].max(),exp_df[exp_df['Decile']==2]['Predicted_Prob_WO = 1'].max(),exp_df[exp_df['Decile']==3]['Predicted_Prob_WO = 1'].max(),\n",
    "             exp_df[exp_df['Decile']==4]['Predicted_Prob_WO = 1'].max(),exp_df[exp_df['Decile']==5]['Predicted_Prob_WO = 1'].max(),exp_df[exp_df['Decile']==6]['Predicted_Prob_WO = 1'].max(),\n",
    "             exp_df[exp_df['Decile']==7]['Predicted_Prob_WO = 1'].max(),exp_df[exp_df['Decile']==8]['Predicted_Prob_WO = 1'].max(),\n",
    "             exp_df[exp_df['Decile']==9]['Predicted_Prob_WO = 1'].max(),\n",
    "             exp_df[exp_df['Decile']==10]['Predicted_Prob_WO = 1'].max()]\n",
    "max_range_dec = [round(100*i,2) for i in max_range]\n",
    "max_range"
   ]
  },
  {
   "cell_type": "code",
   "execution_count": null,
   "id": "0ecc455a",
   "metadata": {
    "colab": {
     "base_uri": "https://localhost:8080/"
    },
    "executionInfo": {
     "elapsed": 40,
     "status": "ok",
     "timestamp": 1662112863394,
     "user": {
      "displayName": "Siddhant Singh",
      "userId": "08343284542219482153"
     },
     "user_tz": -330
    },
    "id": "L6vVV8hqG2wn",
    "outputId": "2be28958-0577-48d2-a18e-83bd6ec925b4"
   },
   "outputs": [
    {
     "data": {
      "text/plain": [
       "[0.01565796,\n",
       " 0.064383104,\n",
       " 0.10479473,\n",
       " 0.15785286,\n",
       " 0.22515929,\n",
       " 0.3041986,\n",
       " 0.38057134,\n",
       " 0.47385764,\n",
       " 0.5679967,\n",
       " 0.6760909]"
      ]
     },
     "execution_count": 295,
     "metadata": {},
     "output_type": "execute_result"
    }
   ],
   "source": [
    "min_range = [exp_df[exp_df['Decile']==1]['Predicted_Prob_WO = 1'].min(),exp_df[exp_df['Decile']==2]['Predicted_Prob_WO = 1'].min(),exp_df[exp_df['Decile']==3]['Predicted_Prob_WO = 1'].min(),\n",
    "             exp_df[exp_df['Decile']==4]['Predicted_Prob_WO = 1'].min(),exp_df[exp_df['Decile']==5]['Predicted_Prob_WO = 1'].min(),exp_df[exp_df['Decile']==6]['Predicted_Prob_WO = 1'].min(),\n",
    "             exp_df[exp_df['Decile']==7]['Predicted_Prob_WO = 1'].min(),exp_df[exp_df['Decile']==8]['Predicted_Prob_WO = 1'].min(),\n",
    "             exp_df[exp_df['Decile']==9]['Predicted_Prob_WO = 1'].min(),\n",
    "             exp_df[exp_df['Decile']==10]['Predicted_Prob_WO = 1'].min()]\n",
    "min_range_dec = [round(100*i,2) for i in min_range]\n",
    "min_range"
   ]
  },
  {
   "cell_type": "code",
   "execution_count": null,
   "id": "9bcd0ef2",
   "metadata": {
    "colab": {
     "base_uri": "https://localhost:8080/"
    },
    "executionInfo": {
     "elapsed": 34,
     "status": "ok",
     "timestamp": 1662112863394,
     "user": {
      "displayName": "Siddhant Singh",
      "userId": "08343284542219482153"
     },
     "user_tz": -330
    },
    "id": "7eI29OyGmsax",
    "outputId": "1d288863-cc8e-43ef-d367-71472bf49506"
   },
   "outputs": [
    {
     "data": {
      "text/plain": [
       "[4.56, 8.28, 13.01, 19.3, 26.66, 34.14, 42.65, 52.13, 61.84, 75.76]"
      ]
     },
     "execution_count": 296,
     "metadata": {},
     "output_type": "execute_result"
    }
   ],
   "source": [
    "avg_range = [exp_df[exp_df['Decile']==1]['Predicted_Prob_WO = 1'].mean(),exp_df[exp_df['Decile']==2]['Predicted_Prob_WO = 1'].mean(),exp_df[exp_df['Decile']==3]['Predicted_Prob_WO = 1'].mean(),\n",
    "             exp_df[exp_df['Decile']==4]['Predicted_Prob_WO = 1'].mean(),exp_df[exp_df['Decile']==5]['Predicted_Prob_WO = 1'].mean(),exp_df[exp_df['Decile']==6]['Predicted_Prob_WO = 1'].mean(),\n",
    "             exp_df[exp_df['Decile']==7]['Predicted_Prob_WO = 1'].mean(),exp_df[exp_df['Decile']==8]['Predicted_Prob_WO = 1'].mean(),\n",
    "             exp_df[exp_df['Decile']==9]['Predicted_Prob_WO = 1'].mean(),\n",
    "             exp_df[exp_df['Decile']==10]['Predicted_Prob_WO = 1'].mean()]\n",
    "avg_range_dec = [round(100*i,2) for i in avg_range]\n",
    "avg_range_dec"
   ]
  },
  {
   "cell_type": "code",
   "execution_count": null,
   "id": "41d92efb",
   "metadata": {
    "id": "eJ6vImQJdizs"
   },
   "outputs": [],
   "source": [
    "no_of_wos = [m_1,m_2,m_3,m_4,m_5,m_6,m_7,m_8,m_9,m_10]"
   ]
  },
  {
   "cell_type": "code",
   "execution_count": null,
   "id": "0bc8737c",
   "metadata": {
    "id": "_ivNUr6WeETE"
   },
   "outputs": [],
   "source": [
    "no_of_opps = [len(exp_df[exp_df['Decile']==1]),len(exp_df[exp_df['Decile']==2]),len(exp_df[exp_df['Decile']==3]),\n",
    "              len(exp_df[exp_df['Decile']==4]),len(exp_df[exp_df['Decile']==5]),len(exp_df[exp_df['Decile']==6]),\n",
    "              len(exp_df[exp_df['Decile']==7]),len(exp_df[exp_df['Decile']==8]),len(exp_df[exp_df['Decile']==9]),\n",
    "              len(exp_df[exp_df['Decile']==10])]"
   ]
  },
  {
   "cell_type": "code",
   "execution_count": null,
   "id": "f46fe00f",
   "metadata": {
    "colab": {
     "base_uri": "https://localhost:8080/"
    },
    "executionInfo": {
     "elapsed": 30,
     "status": "ok",
     "timestamp": 1662112863395,
     "user": {
      "displayName": "Siddhant Singh",
      "userId": "08343284542219482153"
     },
     "user_tz": -330
    },
    "id": "iqMEU5Mbemg0",
    "outputId": "1e580533-86ca-4516-d7ee-de65d48bfa3f"
   },
   "outputs": [
    {
     "data": {
      "text/plain": [
       "[251, 251, 250, 251, 251, 250, 251, 250, 251, 251]"
      ]
     },
     "execution_count": 299,
     "metadata": {},
     "output_type": "execute_result"
    }
   ],
   "source": [
    "no_of_opps"
   ]
  },
  {
   "cell_type": "code",
   "execution_count": null,
   "id": "11193b6b",
   "metadata": {
    "colab": {
     "base_uri": "https://localhost:8080/"
    },
    "executionInfo": {
     "elapsed": 25,
     "status": "ok",
     "timestamp": 1662112863396,
     "user": {
      "displayName": "Siddhant Singh",
      "userId": "08343284542219482153"
     },
     "user_tz": -330
    },
    "id": "Op3NIfzAhzGl",
    "outputId": "27a1fc9e-7036-4207-aa2f-48209f0c53c9"
   },
   "outputs": [
    {
     "data": {
      "text/plain": [
       "[3977050.0,\n",
       " 4193375.0,\n",
       " 5735250.0,\n",
       " 4860895.0,\n",
       " 5524462.0,\n",
       " 7167265.0,\n",
       " 6040192.79,\n",
       " 5059057.0,\n",
       " 6095180.92,\n",
       " 6930349.93]"
      ]
     },
     "execution_count": 300,
     "metadata": {},
     "output_type": "execute_result"
    }
   ],
   "source": [
    "funded_amt"
   ]
  },
  {
   "cell_type": "code",
   "execution_count": null,
   "id": "1af0c0dd",
   "metadata": {
    "colab": {
     "base_uri": "https://localhost:8080/"
    },
    "executionInfo": {
     "elapsed": 20,
     "status": "ok",
     "timestamp": 1662112863396,
     "user": {
      "displayName": "Siddhant Singh",
      "userId": "08343284542219482153"
     },
     "user_tz": -330
    },
    "id": "Y2wqa4eYifXE",
    "outputId": "c3934880-278f-4c2a-f3d4-e2f03e7c9ff7"
   },
   "outputs": [
    {
     "data": {
      "text/plain": [
       "array([0.07155145, 0.07544338, 0.10318338, 0.08745279, 0.09939108,\n",
       "       0.12894689, 0.10866964, 0.09101794, 0.10965893, 0.12468453])"
      ]
     },
     "execution_count": 301,
     "metadata": {},
     "output_type": "execute_result"
    }
   ],
   "source": [
    "funded_amt_pct = funded_amt/sum(funded_amt)\n",
    "funded_amt_pct"
   ]
  },
  {
   "cell_type": "code",
   "execution_count": null,
   "id": "3a9b35e9",
   "metadata": {
    "colab": {
     "base_uri": "https://localhost:8080/"
    },
    "executionInfo": {
     "elapsed": 11,
     "status": "ok",
     "timestamp": 1662112864367,
     "user": {
      "displayName": "Siddhant Singh",
      "userId": "08343284542219482153"
     },
     "user_tz": -330
    },
    "id": "UX-qJpHwh-PJ",
    "outputId": "386b1bb7-15fb-421b-8946-caf591a6565f"
   },
   "outputs": [
    {
     "data": {
      "text/plain": [
       "[1043.29,\n",
       " 22093.81,\n",
       " 9594.98,\n",
       " 29415.389999999996,\n",
       " 243366.86,\n",
       " 239168.58,\n",
       " 369888.30999999994,\n",
       " 774984.27,\n",
       " 1499884.2900000003,\n",
       " 2781851.5300000007]"
      ]
     },
     "execution_count": 302,
     "metadata": {},
     "output_type": "execute_result"
    }
   ],
   "source": [
    "gross_amt"
   ]
  },
  {
   "cell_type": "code",
   "execution_count": null,
   "id": "4d237014",
   "metadata": {
    "colab": {
     "base_uri": "https://localhost:8080/"
    },
    "executionInfo": {
     "elapsed": 17,
     "status": "ok",
     "timestamp": 1662112865105,
     "user": {
      "displayName": "Siddhant Singh",
      "userId": "08343284542219482153"
     },
     "user_tz": -330
    },
    "id": "EuludaXmlCdb",
    "outputId": "e543d8b2-d7a0-4dd0-e435-253bf62cfe5f"
   },
   "outputs": [
    {
     "data": {
      "text/plain": [
       "[0.0001747176524871301,\n",
       " 0.0038747230370845868,\n",
       " 0.005481574805299525,\n",
       " 0.010407710288044882,\n",
       " 0.05116386291326322,\n",
       " 0.09121693813326952,\n",
       " 0.15316138043179806,\n",
       " 0.2829464185025667,\n",
       " 0.5341289872525077,\n",
       " 1.0]"
      ]
     },
     "execution_count": 303,
     "metadata": {},
     "output_type": "execute_result"
    }
   ],
   "source": [
    "cum_gross_pct = []\n",
    "for i in range(1,11):\n",
    "  cum_gross_pct.append(sum(gross_amt[0:i])/sum(gross_amt))\n",
    "cum_gross_pct"
   ]
  },
  {
   "cell_type": "code",
   "execution_count": null,
   "id": "0311405c",
   "metadata": {
    "colab": {
     "base_uri": "https://localhost:8080/"
    },
    "executionInfo": {
     "elapsed": 14,
     "status": "ok",
     "timestamp": 1662112865106,
     "user": {
      "displayName": "Siddhant Singh",
      "userId": "08343284542219482153"
     },
     "user_tz": -330
    },
    "id": "q-QgQOGai7iz",
    "outputId": "df123b90-0d83-459a-856c-42637fd1f01b"
   },
   "outputs": [
    {
     "data": {
      "text/plain": [
       "[0.0002623276046315736,\n",
       " 0.005268741765284526,\n",
       " 0.001672983740900571,\n",
       " 0.006051434972366199,\n",
       " 0.04405259009836614,\n",
       " 0.03336957402858692,\n",
       " 0.061237831781193845,\n",
       " 0.15318749521897065,\n",
       " 0.24607707460798395,\n",
       " 0.40140130846177935]"
      ]
     },
     "execution_count": 304,
     "metadata": {},
     "output_type": "execute_result"
    }
   ],
   "source": [
    "gross_amt_pct = []\n",
    "for i in range(10):\n",
    "  gross_amt_pct.append(gross_amt[i]/funded_amt[i])\n",
    "gross_amt_pct"
   ]
  },
  {
   "cell_type": "code",
   "execution_count": null,
   "id": "4303979b",
   "metadata": {
    "colab": {
     "base_uri": "https://localhost:8080/",
     "height": 407
    },
    "executionInfo": {
     "elapsed": 6,
     "status": "ok",
     "timestamp": 1662112865502,
     "user": {
      "displayName": "Siddhant Singh",
      "userId": "08343284542219482153"
     },
     "user_tz": -330
    },
    "id": "I3oHzm2ZvItr",
    "outputId": "7f72e9a1-69f4-4a96-ac64-0a0ca4c70685"
   },
   "outputs": [
    {
     "data": {
      "text/html": [
       "\n",
       "  <div id=\"df-4846d533-981d-4d89-8325-42b910508d42\">\n",
       "    <div class=\"colab-df-container\">\n",
       "      <div>\n",
       "<style scoped>\n",
       "    .dataframe tbody tr th:only-of-type {\n",
       "        vertical-align: middle;\n",
       "    }\n",
       "\n",
       "    .dataframe tbody tr th {\n",
       "        vertical-align: top;\n",
       "    }\n",
       "\n",
       "    .dataframe thead th {\n",
       "        text-align: right;\n",
       "    }\n",
       "</style>\n",
       "<table border=\"1\" class=\"dataframe\">\n",
       "  <thead>\n",
       "    <tr style=\"text-align: right;\">\n",
       "      <th></th>\n",
       "      <th>Decile</th>\n",
       "      <th>No_of_Opps</th>\n",
       "      <th>No_of_WOs</th>\n",
       "      <th>%_Unit_WO</th>\n",
       "      <th>Cum_Unit_WOs</th>\n",
       "      <th>Funded_$</th>\n",
       "      <th>%_Funded_$</th>\n",
       "      <th>Funded_WO_Gross_$</th>\n",
       "      <th>%_Funded_WO_Gross_$</th>\n",
       "      <th>Cum_WO_$</th>\n",
       "      <th>WOGross_Adv_Bal</th>\n",
       "      <th>Avg_Score</th>\n",
       "      <th>Min_Score</th>\n",
       "      <th>Max_Score</th>\n",
       "    </tr>\n",
       "  </thead>\n",
       "  <tbody>\n",
       "    <tr>\n",
       "      <th>0</th>\n",
       "      <td>1</td>\n",
       "      <td>251</td>\n",
       "      <td>1</td>\n",
       "      <td>0.398406</td>\n",
       "      <td>0.154321</td>\n",
       "      <td>3977050.00</td>\n",
       "      <td>0.071551</td>\n",
       "      <td>1043.29</td>\n",
       "      <td>0.000262</td>\n",
       "      <td>0.000175</td>\n",
       "      <td>5943.29</td>\n",
       "      <td>4.56</td>\n",
       "      <td>1.57</td>\n",
       "      <td>6.43</td>\n",
       "    </tr>\n",
       "    <tr>\n",
       "      <th>1</th>\n",
       "      <td>2</td>\n",
       "      <td>251</td>\n",
       "      <td>6</td>\n",
       "      <td>2.390438</td>\n",
       "      <td>1.080247</td>\n",
       "      <td>4193375.00</td>\n",
       "      <td>0.075443</td>\n",
       "      <td>22093.81</td>\n",
       "      <td>0.005269</td>\n",
       "      <td>0.003875</td>\n",
       "      <td>43996.91</td>\n",
       "      <td>8.28</td>\n",
       "      <td>6.44</td>\n",
       "      <td>10.43</td>\n",
       "    </tr>\n",
       "    <tr>\n",
       "      <th>2</th>\n",
       "      <td>3</td>\n",
       "      <td>250</td>\n",
       "      <td>7</td>\n",
       "      <td>2.800000</td>\n",
       "      <td>2.160494</td>\n",
       "      <td>5735250.00</td>\n",
       "      <td>0.103183</td>\n",
       "      <td>9594.98</td>\n",
       "      <td>0.001673</td>\n",
       "      <td>0.005482</td>\n",
       "      <td>78372.91</td>\n",
       "      <td>13.01</td>\n",
       "      <td>10.48</td>\n",
       "      <td>15.77</td>\n",
       "    </tr>\n",
       "    <tr>\n",
       "      <th>3</th>\n",
       "      <td>4</td>\n",
       "      <td>251</td>\n",
       "      <td>17</td>\n",
       "      <td>6.772908</td>\n",
       "      <td>4.783951</td>\n",
       "      <td>4860895.00</td>\n",
       "      <td>0.087453</td>\n",
       "      <td>29415.39</td>\n",
       "      <td>0.006051</td>\n",
       "      <td>0.010408</td>\n",
       "      <td>214967.54</td>\n",
       "      <td>19.30</td>\n",
       "      <td>15.79</td>\n",
       "      <td>22.50</td>\n",
       "    </tr>\n",
       "    <tr>\n",
       "      <th>4</th>\n",
       "      <td>5</td>\n",
       "      <td>251</td>\n",
       "      <td>32</td>\n",
       "      <td>12.749004</td>\n",
       "      <td>9.722222</td>\n",
       "      <td>5524462.00</td>\n",
       "      <td>0.099391</td>\n",
       "      <td>243366.86</td>\n",
       "      <td>0.044053</td>\n",
       "      <td>0.051164</td>\n",
       "      <td>531012.72</td>\n",
       "      <td>26.66</td>\n",
       "      <td>22.52</td>\n",
       "      <td>30.39</td>\n",
       "    </tr>\n",
       "    <tr>\n",
       "      <th>5</th>\n",
       "      <td>6</td>\n",
       "      <td>250</td>\n",
       "      <td>55</td>\n",
       "      <td>22.000000</td>\n",
       "      <td>18.209877</td>\n",
       "      <td>7167265.00</td>\n",
       "      <td>0.128947</td>\n",
       "      <td>239168.58</td>\n",
       "      <td>0.033370</td>\n",
       "      <td>0.091217</td>\n",
       "      <td>535826.08</td>\n",
       "      <td>34.14</td>\n",
       "      <td>30.42</td>\n",
       "      <td>38.02</td>\n",
       "    </tr>\n",
       "    <tr>\n",
       "      <th>6</th>\n",
       "      <td>7</td>\n",
       "      <td>251</td>\n",
       "      <td>61</td>\n",
       "      <td>24.302789</td>\n",
       "      <td>27.623457</td>\n",
       "      <td>6040192.79</td>\n",
       "      <td>0.108670</td>\n",
       "      <td>369888.31</td>\n",
       "      <td>0.061238</td>\n",
       "      <td>0.153161</td>\n",
       "      <td>958454.44</td>\n",
       "      <td>42.65</td>\n",
       "      <td>38.06</td>\n",
       "      <td>47.31</td>\n",
       "    </tr>\n",
       "    <tr>\n",
       "      <th>7</th>\n",
       "      <td>8</td>\n",
       "      <td>250</td>\n",
       "      <td>114</td>\n",
       "      <td>45.600000</td>\n",
       "      <td>45.216049</td>\n",
       "      <td>5059057.00</td>\n",
       "      <td>0.091018</td>\n",
       "      <td>774984.27</td>\n",
       "      <td>0.153187</td>\n",
       "      <td>0.282946</td>\n",
       "      <td>1642597.98</td>\n",
       "      <td>52.13</td>\n",
       "      <td>47.39</td>\n",
       "      <td>56.78</td>\n",
       "    </tr>\n",
       "    <tr>\n",
       "      <th>8</th>\n",
       "      <td>9</td>\n",
       "      <td>251</td>\n",
       "      <td>150</td>\n",
       "      <td>59.760956</td>\n",
       "      <td>68.364198</td>\n",
       "      <td>6095180.92</td>\n",
       "      <td>0.109659</td>\n",
       "      <td>1499884.29</td>\n",
       "      <td>0.246077</td>\n",
       "      <td>0.534129</td>\n",
       "      <td>3252328.57</td>\n",
       "      <td>61.84</td>\n",
       "      <td>56.80</td>\n",
       "      <td>67.33</td>\n",
       "    </tr>\n",
       "    <tr>\n",
       "      <th>9</th>\n",
       "      <td>10</td>\n",
       "      <td>251</td>\n",
       "      <td>205</td>\n",
       "      <td>81.673307</td>\n",
       "      <td>100.000000</td>\n",
       "      <td>6930349.93</td>\n",
       "      <td>0.124685</td>\n",
       "      <td>2781851.53</td>\n",
       "      <td>0.401401</td>\n",
       "      <td>1.000000</td>\n",
       "      <td>5571524.87</td>\n",
       "      <td>75.76</td>\n",
       "      <td>67.61</td>\n",
       "      <td>92.85</td>\n",
       "    </tr>\n",
       "  </tbody>\n",
       "</table>\n",
       "</div>\n",
       "      <button class=\"colab-df-convert\" onclick=\"convertToInteractive('df-4846d533-981d-4d89-8325-42b910508d42')\"\n",
       "              title=\"Convert this dataframe to an interactive table.\"\n",
       "              style=\"display:none;\">\n",
       "        \n",
       "  <svg xmlns=\"http://www.w3.org/2000/svg\" height=\"24px\"viewBox=\"0 0 24 24\"\n",
       "       width=\"24px\">\n",
       "    <path d=\"M0 0h24v24H0V0z\" fill=\"none\"/>\n",
       "    <path d=\"M18.56 5.44l.94 2.06.94-2.06 2.06-.94-2.06-.94-.94-2.06-.94 2.06-2.06.94zm-11 1L8.5 8.5l.94-2.06 2.06-.94-2.06-.94L8.5 2.5l-.94 2.06-2.06.94zm10 10l.94 2.06.94-2.06 2.06-.94-2.06-.94-.94-2.06-.94 2.06-2.06.94z\"/><path d=\"M17.41 7.96l-1.37-1.37c-.4-.4-.92-.59-1.43-.59-.52 0-1.04.2-1.43.59L10.3 9.45l-7.72 7.72c-.78.78-.78 2.05 0 2.83L4 21.41c.39.39.9.59 1.41.59.51 0 1.02-.2 1.41-.59l7.78-7.78 2.81-2.81c.8-.78.8-2.07 0-2.86zM5.41 20L4 18.59l7.72-7.72 1.47 1.35L5.41 20z\"/>\n",
       "  </svg>\n",
       "      </button>\n",
       "      \n",
       "  <style>\n",
       "    .colab-df-container {\n",
       "      display:flex;\n",
       "      flex-wrap:wrap;\n",
       "      gap: 12px;\n",
       "    }\n",
       "\n",
       "    .colab-df-convert {\n",
       "      background-color: #E8F0FE;\n",
       "      border: none;\n",
       "      border-radius: 50%;\n",
       "      cursor: pointer;\n",
       "      display: none;\n",
       "      fill: #1967D2;\n",
       "      height: 32px;\n",
       "      padding: 0 0 0 0;\n",
       "      width: 32px;\n",
       "    }\n",
       "\n",
       "    .colab-df-convert:hover {\n",
       "      background-color: #E2EBFA;\n",
       "      box-shadow: 0px 1px 2px rgba(60, 64, 67, 0.3), 0px 1px 3px 1px rgba(60, 64, 67, 0.15);\n",
       "      fill: #174EA6;\n",
       "    }\n",
       "\n",
       "    [theme=dark] .colab-df-convert {\n",
       "      background-color: #3B4455;\n",
       "      fill: #D2E3FC;\n",
       "    }\n",
       "\n",
       "    [theme=dark] .colab-df-convert:hover {\n",
       "      background-color: #434B5C;\n",
       "      box-shadow: 0px 1px 3px 1px rgba(0, 0, 0, 0.15);\n",
       "      filter: drop-shadow(0px 1px 2px rgba(0, 0, 0, 0.3));\n",
       "      fill: #FFFFFF;\n",
       "    }\n",
       "  </style>\n",
       "\n",
       "      <script>\n",
       "        const buttonEl =\n",
       "          document.querySelector('#df-4846d533-981d-4d89-8325-42b910508d42 button.colab-df-convert');\n",
       "        buttonEl.style.display =\n",
       "          google.colab.kernel.accessAllowed ? 'block' : 'none';\n",
       "\n",
       "        async function convertToInteractive(key) {\n",
       "          const element = document.querySelector('#df-4846d533-981d-4d89-8325-42b910508d42');\n",
       "          const dataTable =\n",
       "            await google.colab.kernel.invokeFunction('convertToInteractive',\n",
       "                                                     [key], {});\n",
       "          if (!dataTable) return;\n",
       "\n",
       "          const docLinkHtml = 'Like what you see? Visit the ' +\n",
       "            '<a target=\"_blank\" href=https://colab.research.google.com/notebooks/data_table.ipynb>data table notebook</a>'\n",
       "            + ' to learn more about interactive tables.';\n",
       "          element.innerHTML = '';\n",
       "          dataTable['output_type'] = 'display_data';\n",
       "          await google.colab.output.renderOutput(dataTable, element);\n",
       "          const docLink = document.createElement('div');\n",
       "          docLink.innerHTML = docLinkHtml;\n",
       "          element.appendChild(docLink);\n",
       "        }\n",
       "      </script>\n",
       "    </div>\n",
       "  </div>\n",
       "  "
      ],
      "text/plain": [
       "   Decile  No_of_Opps  No_of_WOs  %_Unit_WO  Cum_Unit_WOs    Funded_$  \\\n",
       "0       1         251          1   0.398406      0.154321  3977050.00   \n",
       "1       2         251          6   2.390438      1.080247  4193375.00   \n",
       "2       3         250          7   2.800000      2.160494  5735250.00   \n",
       "3       4         251         17   6.772908      4.783951  4860895.00   \n",
       "4       5         251         32  12.749004      9.722222  5524462.00   \n",
       "5       6         250         55  22.000000     18.209877  7167265.00   \n",
       "6       7         251         61  24.302789     27.623457  6040192.79   \n",
       "7       8         250        114  45.600000     45.216049  5059057.00   \n",
       "8       9         251        150  59.760956     68.364198  6095180.92   \n",
       "9      10         251        205  81.673307    100.000000  6930349.93   \n",
       "\n",
       "   %_Funded_$  Funded_WO_Gross_$  %_Funded_WO_Gross_$  Cum_WO_$  \\\n",
       "0    0.071551            1043.29             0.000262  0.000175   \n",
       "1    0.075443           22093.81             0.005269  0.003875   \n",
       "2    0.103183            9594.98             0.001673  0.005482   \n",
       "3    0.087453           29415.39             0.006051  0.010408   \n",
       "4    0.099391          243366.86             0.044053  0.051164   \n",
       "5    0.128947          239168.58             0.033370  0.091217   \n",
       "6    0.108670          369888.31             0.061238  0.153161   \n",
       "7    0.091018          774984.27             0.153187  0.282946   \n",
       "8    0.109659         1499884.29             0.246077  0.534129   \n",
       "9    0.124685         2781851.53             0.401401  1.000000   \n",
       "\n",
       "   WOGross_Adv_Bal  Avg_Score  Min_Score  Max_Score  \n",
       "0          5943.29       4.56       1.57       6.43  \n",
       "1         43996.91       8.28       6.44      10.43  \n",
       "2         78372.91      13.01      10.48      15.77  \n",
       "3        214967.54      19.30      15.79      22.50  \n",
       "4        531012.72      26.66      22.52      30.39  \n",
       "5        535826.08      34.14      30.42      38.02  \n",
       "6        958454.44      42.65      38.06      47.31  \n",
       "7       1642597.98      52.13      47.39      56.78  \n",
       "8       3252328.57      61.84      56.80      67.33  \n",
       "9       5571524.87      75.76      67.61      92.85  "
      ]
     },
     "execution_count": 305,
     "metadata": {},
     "output_type": "execute_result"
    }
   ],
   "source": [
    "dict_try = {\"Decile\": [i for i in range(1,11)],\n",
    "            \"No_of_Opps\" : no_of_opps, \n",
    "            \"No_of_WOs\" : no_of_wos,\n",
    "            \"%_Unit_WO\": rr,\n",
    "            \"Cum_Unit_WOs\" : cg,\n",
    "            #'Lift': lift,\n",
    "            'Funded_$':funded_amt,\n",
    "            '%_Funded_$':funded_amt_pct,\n",
    "            'Funded_WO_Gross_$':gross_amt,\n",
    "            '%_Funded_WO_Gross_$':gross_amt_pct,\n",
    "            \"Cum_WO_$\" :cum_gross_pct,\n",
    "            'WOGross_Adv_Bal':advanced_amt,\n",
    "            'Avg_Score':avg_range_dec,\n",
    "            'Min_Score': min_range_dec,\n",
    "            'Max_Score': max_range_dec}\n",
    "\n",
    "final_df = pd.DataFrame(dict_try)\n",
    "final_df\n"
   ]
  },
  {
   "cell_type": "code",
   "execution_count": null,
   "id": "5eda90a0",
   "metadata": {
    "colab": {
     "base_uri": "https://localhost:8080/",
     "height": 407
    },
    "executionInfo": {
     "elapsed": 8,
     "status": "ok",
     "timestamp": 1662112865924,
     "user": {
      "displayName": "Siddhant Singh",
      "userId": "08343284542219482153"
     },
     "user_tz": -330
    },
    "id": "Awm7qiLrFNWD",
    "outputId": "391cb81b-752f-4f3c-e9e4-b277f46b7720"
   },
   "outputs": [
    {
     "data": {
      "text/html": [
       "\n",
       "  <div id=\"df-0c52d510-c98e-4779-9a54-863912521e96\">\n",
       "    <div class=\"colab-df-container\">\n",
       "      <div>\n",
       "<style scoped>\n",
       "    .dataframe tbody tr th:only-of-type {\n",
       "        vertical-align: middle;\n",
       "    }\n",
       "\n",
       "    .dataframe tbody tr th {\n",
       "        vertical-align: top;\n",
       "    }\n",
       "\n",
       "    .dataframe thead th {\n",
       "        text-align: right;\n",
       "    }\n",
       "</style>\n",
       "<table border=\"1\" class=\"dataframe\">\n",
       "  <thead>\n",
       "    <tr style=\"text-align: right;\">\n",
       "      <th></th>\n",
       "      <th>Decile</th>\n",
       "      <th>No_of_Opps</th>\n",
       "      <th>No_of_WOs</th>\n",
       "      <th>%_Unit_WO</th>\n",
       "      <th>Cum_Unit_WOs</th>\n",
       "      <th>Funded_$</th>\n",
       "      <th>%_Funded_$</th>\n",
       "      <th>Funded_WO_Gross_$</th>\n",
       "      <th>%_Funded_WO_Gross_$</th>\n",
       "      <th>Cum_WO_$</th>\n",
       "      <th>WOGross_Adv_Bal</th>\n",
       "      <th>Avg_Score</th>\n",
       "      <th>Min_Score</th>\n",
       "      <th>Max_Score</th>\n",
       "    </tr>\n",
       "  </thead>\n",
       "  <tbody>\n",
       "    <tr>\n",
       "      <th>0</th>\n",
       "      <td>1</td>\n",
       "      <td>251</td>\n",
       "      <td>1</td>\n",
       "      <td>0.40</td>\n",
       "      <td>0.15</td>\n",
       "      <td>3977050.00</td>\n",
       "      <td>7.16</td>\n",
       "      <td>1043.29</td>\n",
       "      <td>0.03</td>\n",
       "      <td>0.02</td>\n",
       "      <td>5943.29</td>\n",
       "      <td>4.56</td>\n",
       "      <td>1.57</td>\n",
       "      <td>6.43</td>\n",
       "    </tr>\n",
       "    <tr>\n",
       "      <th>1</th>\n",
       "      <td>2</td>\n",
       "      <td>251</td>\n",
       "      <td>6</td>\n",
       "      <td>2.39</td>\n",
       "      <td>1.08</td>\n",
       "      <td>4193375.00</td>\n",
       "      <td>7.54</td>\n",
       "      <td>22093.81</td>\n",
       "      <td>0.53</td>\n",
       "      <td>0.39</td>\n",
       "      <td>43996.91</td>\n",
       "      <td>8.28</td>\n",
       "      <td>6.44</td>\n",
       "      <td>10.43</td>\n",
       "    </tr>\n",
       "    <tr>\n",
       "      <th>2</th>\n",
       "      <td>3</td>\n",
       "      <td>250</td>\n",
       "      <td>7</td>\n",
       "      <td>2.80</td>\n",
       "      <td>2.16</td>\n",
       "      <td>5735250.00</td>\n",
       "      <td>10.32</td>\n",
       "      <td>9594.98</td>\n",
       "      <td>0.17</td>\n",
       "      <td>0.55</td>\n",
       "      <td>78372.91</td>\n",
       "      <td>13.01</td>\n",
       "      <td>10.48</td>\n",
       "      <td>15.77</td>\n",
       "    </tr>\n",
       "    <tr>\n",
       "      <th>3</th>\n",
       "      <td>4</td>\n",
       "      <td>251</td>\n",
       "      <td>17</td>\n",
       "      <td>6.77</td>\n",
       "      <td>4.78</td>\n",
       "      <td>4860895.00</td>\n",
       "      <td>8.75</td>\n",
       "      <td>29415.39</td>\n",
       "      <td>0.61</td>\n",
       "      <td>1.04</td>\n",
       "      <td>214967.54</td>\n",
       "      <td>19.30</td>\n",
       "      <td>15.79</td>\n",
       "      <td>22.50</td>\n",
       "    </tr>\n",
       "    <tr>\n",
       "      <th>4</th>\n",
       "      <td>5</td>\n",
       "      <td>251</td>\n",
       "      <td>32</td>\n",
       "      <td>12.75</td>\n",
       "      <td>9.72</td>\n",
       "      <td>5524462.00</td>\n",
       "      <td>9.94</td>\n",
       "      <td>243366.86</td>\n",
       "      <td>4.41</td>\n",
       "      <td>5.12</td>\n",
       "      <td>531012.72</td>\n",
       "      <td>26.66</td>\n",
       "      <td>22.52</td>\n",
       "      <td>30.39</td>\n",
       "    </tr>\n",
       "    <tr>\n",
       "      <th>5</th>\n",
       "      <td>6</td>\n",
       "      <td>250</td>\n",
       "      <td>55</td>\n",
       "      <td>22.00</td>\n",
       "      <td>18.21</td>\n",
       "      <td>7167265.00</td>\n",
       "      <td>12.89</td>\n",
       "      <td>239168.58</td>\n",
       "      <td>3.34</td>\n",
       "      <td>9.12</td>\n",
       "      <td>535826.08</td>\n",
       "      <td>34.14</td>\n",
       "      <td>30.42</td>\n",
       "      <td>38.02</td>\n",
       "    </tr>\n",
       "    <tr>\n",
       "      <th>6</th>\n",
       "      <td>7</td>\n",
       "      <td>251</td>\n",
       "      <td>61</td>\n",
       "      <td>24.30</td>\n",
       "      <td>27.62</td>\n",
       "      <td>6040192.79</td>\n",
       "      <td>10.87</td>\n",
       "      <td>369888.31</td>\n",
       "      <td>6.12</td>\n",
       "      <td>15.32</td>\n",
       "      <td>958454.44</td>\n",
       "      <td>42.65</td>\n",
       "      <td>38.06</td>\n",
       "      <td>47.31</td>\n",
       "    </tr>\n",
       "    <tr>\n",
       "      <th>7</th>\n",
       "      <td>8</td>\n",
       "      <td>250</td>\n",
       "      <td>114</td>\n",
       "      <td>45.60</td>\n",
       "      <td>45.22</td>\n",
       "      <td>5059057.00</td>\n",
       "      <td>9.10</td>\n",
       "      <td>774984.27</td>\n",
       "      <td>15.32</td>\n",
       "      <td>28.29</td>\n",
       "      <td>1642597.98</td>\n",
       "      <td>52.13</td>\n",
       "      <td>47.39</td>\n",
       "      <td>56.78</td>\n",
       "    </tr>\n",
       "    <tr>\n",
       "      <th>8</th>\n",
       "      <td>9</td>\n",
       "      <td>251</td>\n",
       "      <td>150</td>\n",
       "      <td>59.76</td>\n",
       "      <td>68.36</td>\n",
       "      <td>6095180.92</td>\n",
       "      <td>10.97</td>\n",
       "      <td>1499884.29</td>\n",
       "      <td>24.61</td>\n",
       "      <td>53.41</td>\n",
       "      <td>3252328.57</td>\n",
       "      <td>61.84</td>\n",
       "      <td>56.80</td>\n",
       "      <td>67.33</td>\n",
       "    </tr>\n",
       "    <tr>\n",
       "      <th>9</th>\n",
       "      <td>10</td>\n",
       "      <td>251</td>\n",
       "      <td>205</td>\n",
       "      <td>81.67</td>\n",
       "      <td>100.00</td>\n",
       "      <td>6930349.93</td>\n",
       "      <td>12.47</td>\n",
       "      <td>2781851.53</td>\n",
       "      <td>40.14</td>\n",
       "      <td>100.00</td>\n",
       "      <td>5571524.87</td>\n",
       "      <td>75.76</td>\n",
       "      <td>67.61</td>\n",
       "      <td>92.85</td>\n",
       "    </tr>\n",
       "  </tbody>\n",
       "</table>\n",
       "</div>\n",
       "      <button class=\"colab-df-convert\" onclick=\"convertToInteractive('df-0c52d510-c98e-4779-9a54-863912521e96')\"\n",
       "              title=\"Convert this dataframe to an interactive table.\"\n",
       "              style=\"display:none;\">\n",
       "        \n",
       "  <svg xmlns=\"http://www.w3.org/2000/svg\" height=\"24px\"viewBox=\"0 0 24 24\"\n",
       "       width=\"24px\">\n",
       "    <path d=\"M0 0h24v24H0V0z\" fill=\"none\"/>\n",
       "    <path d=\"M18.56 5.44l.94 2.06.94-2.06 2.06-.94-2.06-.94-.94-2.06-.94 2.06-2.06.94zm-11 1L8.5 8.5l.94-2.06 2.06-.94-2.06-.94L8.5 2.5l-.94 2.06-2.06.94zm10 10l.94 2.06.94-2.06 2.06-.94-2.06-.94-.94-2.06-.94 2.06-2.06.94z\"/><path d=\"M17.41 7.96l-1.37-1.37c-.4-.4-.92-.59-1.43-.59-.52 0-1.04.2-1.43.59L10.3 9.45l-7.72 7.72c-.78.78-.78 2.05 0 2.83L4 21.41c.39.39.9.59 1.41.59.51 0 1.02-.2 1.41-.59l7.78-7.78 2.81-2.81c.8-.78.8-2.07 0-2.86zM5.41 20L4 18.59l7.72-7.72 1.47 1.35L5.41 20z\"/>\n",
       "  </svg>\n",
       "      </button>\n",
       "      \n",
       "  <style>\n",
       "    .colab-df-container {\n",
       "      display:flex;\n",
       "      flex-wrap:wrap;\n",
       "      gap: 12px;\n",
       "    }\n",
       "\n",
       "    .colab-df-convert {\n",
       "      background-color: #E8F0FE;\n",
       "      border: none;\n",
       "      border-radius: 50%;\n",
       "      cursor: pointer;\n",
       "      display: none;\n",
       "      fill: #1967D2;\n",
       "      height: 32px;\n",
       "      padding: 0 0 0 0;\n",
       "      width: 32px;\n",
       "    }\n",
       "\n",
       "    .colab-df-convert:hover {\n",
       "      background-color: #E2EBFA;\n",
       "      box-shadow: 0px 1px 2px rgba(60, 64, 67, 0.3), 0px 1px 3px 1px rgba(60, 64, 67, 0.15);\n",
       "      fill: #174EA6;\n",
       "    }\n",
       "\n",
       "    [theme=dark] .colab-df-convert {\n",
       "      background-color: #3B4455;\n",
       "      fill: #D2E3FC;\n",
       "    }\n",
       "\n",
       "    [theme=dark] .colab-df-convert:hover {\n",
       "      background-color: #434B5C;\n",
       "      box-shadow: 0px 1px 3px 1px rgba(0, 0, 0, 0.15);\n",
       "      filter: drop-shadow(0px 1px 2px rgba(0, 0, 0, 0.3));\n",
       "      fill: #FFFFFF;\n",
       "    }\n",
       "  </style>\n",
       "\n",
       "      <script>\n",
       "        const buttonEl =\n",
       "          document.querySelector('#df-0c52d510-c98e-4779-9a54-863912521e96 button.colab-df-convert');\n",
       "        buttonEl.style.display =\n",
       "          google.colab.kernel.accessAllowed ? 'block' : 'none';\n",
       "\n",
       "        async function convertToInteractive(key) {\n",
       "          const element = document.querySelector('#df-0c52d510-c98e-4779-9a54-863912521e96');\n",
       "          const dataTable =\n",
       "            await google.colab.kernel.invokeFunction('convertToInteractive',\n",
       "                                                     [key], {});\n",
       "          if (!dataTable) return;\n",
       "\n",
       "          const docLinkHtml = 'Like what you see? Visit the ' +\n",
       "            '<a target=\"_blank\" href=https://colab.research.google.com/notebooks/data_table.ipynb>data table notebook</a>'\n",
       "            + ' to learn more about interactive tables.';\n",
       "          element.innerHTML = '';\n",
       "          dataTable['output_type'] = 'display_data';\n",
       "          await google.colab.output.renderOutput(dataTable, element);\n",
       "          const docLink = document.createElement('div');\n",
       "          docLink.innerHTML = docLinkHtml;\n",
       "          element.appendChild(docLink);\n",
       "        }\n",
       "      </script>\n",
       "    </div>\n",
       "  </div>\n",
       "  "
      ],
      "text/plain": [
       "   Decile  No_of_Opps  No_of_WOs  %_Unit_WO  Cum_Unit_WOs    Funded_$  \\\n",
       "0       1         251          1       0.40          0.15  3977050.00   \n",
       "1       2         251          6       2.39          1.08  4193375.00   \n",
       "2       3         250          7       2.80          2.16  5735250.00   \n",
       "3       4         251         17       6.77          4.78  4860895.00   \n",
       "4       5         251         32      12.75          9.72  5524462.00   \n",
       "5       6         250         55      22.00         18.21  7167265.00   \n",
       "6       7         251         61      24.30         27.62  6040192.79   \n",
       "7       8         250        114      45.60         45.22  5059057.00   \n",
       "8       9         251        150      59.76         68.36  6095180.92   \n",
       "9      10         251        205      81.67        100.00  6930349.93   \n",
       "\n",
       "   %_Funded_$  Funded_WO_Gross_$  %_Funded_WO_Gross_$  Cum_WO_$  \\\n",
       "0        7.16            1043.29                 0.03      0.02   \n",
       "1        7.54           22093.81                 0.53      0.39   \n",
       "2       10.32            9594.98                 0.17      0.55   \n",
       "3        8.75           29415.39                 0.61      1.04   \n",
       "4        9.94          243366.86                 4.41      5.12   \n",
       "5       12.89          239168.58                 3.34      9.12   \n",
       "6       10.87          369888.31                 6.12     15.32   \n",
       "7        9.10          774984.27                15.32     28.29   \n",
       "8       10.97         1499884.29                24.61     53.41   \n",
       "9       12.47         2781851.53                40.14    100.00   \n",
       "\n",
       "   WOGross_Adv_Bal  Avg_Score  Min_Score  Max_Score  \n",
       "0          5943.29       4.56       1.57       6.43  \n",
       "1         43996.91       8.28       6.44      10.43  \n",
       "2         78372.91      13.01      10.48      15.77  \n",
       "3        214967.54      19.30      15.79      22.50  \n",
       "4        531012.72      26.66      22.52      30.39  \n",
       "5        535826.08      34.14      30.42      38.02  \n",
       "6        958454.44      42.65      38.06      47.31  \n",
       "7       1642597.98      52.13      47.39      56.78  \n",
       "8       3252328.57      61.84      56.80      67.33  \n",
       "9       5571524.87      75.76      67.61      92.85  "
      ]
     },
     "execution_count": 306,
     "metadata": {},
     "output_type": "execute_result"
    }
   ],
   "source": [
    "final_df['%_Funded_$'] = 100*final_df['%_Funded_$']\n",
    "final_df['%_Funded_WO_Gross_$'] = 100*final_df['%_Funded_WO_Gross_$']\n",
    "final_df['Cum_WO_$'] = 100*final_df['Cum_WO_$']\n",
    "final_df = final_df.round(2)\n",
    "final_df"
   ]
  },
  {
   "cell_type": "markdown",
   "id": "6edc5dfc",
   "metadata": {
    "id": "wtqRacBoRVBn"
   },
   "source": [
    "Analyses from above DataFrame:\n",
    "- %_Response_Rate - In decile_1 - 100% {231/231} of merchants are captured out of \n",
    "total_merchants (231 in that decile) who are likely stable merchants. Same goes with other deciles as well\n",
    "- Cumulative_Gain - for 10% of merchant base (in each decile) - there are 23 (out of 58) responders (merchants) who are riskier \n",
    "- Similarly for 20 % of merchant base (2 deciles) - there are 28.38 % responses who are likely riskier merchants\n",
    "- Lift - If we target the top 4 deciles, then we would target 40% of the merchants. In the same deciles, the cumulative % of responders is 56.1%. Hence, there is a lift of 1.40"
   ]
  },
  {
   "cell_type": "code",
   "execution_count": null,
   "id": "058312fa",
   "metadata": {
    "colab": {
     "base_uri": "https://localhost:8080/",
     "height": 639
    },
    "executionInfo": {
     "elapsed": 425,
     "status": "ok",
     "timestamp": 1662112934266,
     "user": {
      "displayName": "Siddhant Singh",
      "userId": "08343284542219482153"
     },
     "user_tz": -330
    },
    "id": "U7IS8JvGvIrg",
    "outputId": "a955b637-ef5a-43c3-df9d-2ff3c974d6c3"
   },
   "outputs": [
    {
     "data": {
      "text/plain": [
       "<BarContainer object of 10 artists>"
      ]
     },
     "execution_count": 307,
     "metadata": {},
     "output_type": "execute_result"
    },
    {
     "data": {
      "image/png": "[encoded data removed]",
      "text/plain": [
       "<Figure size 1440x720 with 1 Axes>"
      ]
     },
     "metadata": {},
     "output_type": "display_data"
    }
   ],
   "source": [
    "plt.figure(figsize=(20,10))\n",
    "plt.xlabel(\"Decile_numbers\")\n",
    "plt.ylabel(\"%_Unit_WOs\")\n",
    "plt.title(\"%_unit WOs w.r.t. Deciles\")\n",
    "plt.bar(final_df['Decile'],final_df['%_Unit_WO'])"
   ]
  },
  {
   "cell_type": "code",
   "execution_count": null,
   "id": "7582d5ad",
   "metadata": {
    "colab": {
     "base_uri": "https://localhost:8080/",
     "height": 638
    },
    "executionInfo": {
     "elapsed": 526,
     "status": "ok",
     "timestamp": 1662112945334,
     "user": {
      "displayName": "Siddhant Singh",
      "userId": "08343284542219482153"
     },
     "user_tz": -330
    },
    "id": "I3LIrbK_FSjy",
    "outputId": "9ffae58e-e60d-4fed-864d-bc251ec8adbe"
   },
   "outputs": [
    {
     "data": {
      "text/plain": [
       "[<matplotlib.lines.Line2D at 0x7f5511b51c50>]"
      ]
     },
     "execution_count": 308,
     "metadata": {},
     "output_type": "execute_result"
    },
    {
     "data": {
      "image/png": "[encoded data removed]",
      "text/plain": [
       "<Figure size 1440x720 with 1 Axes>"
      ]
     },
     "metadata": {},
     "output_type": "display_data"
    }
   ],
   "source": [
    "plt.figure(figsize=(20,10))\n",
    "plt.xlabel(\"Decile number\")\n",
    "plt.ylabel(\"Cumulative_Unit_WOs\")\n",
    "plt.title(\"Cumulative_Unit_WOs w.r.t Decile_Numbers\")\n",
    "plt.plot(final_df[\"Decile\"], final_df['Cum_Unit_WOs'],marker='o')\n",
    "\n",
    "# this graph looks correct to me. {small check - cg_10 = 100*(M_10/P) = 100.00 (we are correct)}"
   ]
  },
  {
   "cell_type": "code",
   "execution_count": null,
   "id": "ec0ae949",
   "metadata": {
    "id": "UhLtFj6UyIJL"
   },
   "outputs": [],
   "source": []
  },
  {
   "cell_type": "code",
   "execution_count": null,
   "id": "f51bc9d2",
   "metadata": {
    "id": "pyx2KlMb1Bud"
   },
   "outputs": [],
   "source": []
  },
  {
   "cell_type": "code",
   "execution_count": null,
   "id": "207a97c5",
   "metadata": {
    "id": "kGw9nT0S1BsG"
   },
   "outputs": [],
   "source": []
  },
  {
   "cell_type": "markdown",
   "id": "d8da723e",
   "metadata": {
    "id": "yxFdnRQWHW0q"
   },
   "source": [
    "# For Validation data"
   ]
  },
  {
   "cell_type": "code",
   "execution_count": null,
   "id": "33dee900",
   "metadata": {
    "colab": {
     "base_uri": "https://localhost:8080/",
     "height": 424
    },
    "executionInfo": {
     "elapsed": 7,
     "status": "ok",
     "timestamp": 1662112948758,
     "user": {
      "displayName": "Siddhant Singh",
      "userId": "08343284542219482153"
     },
     "user_tz": -330
    },
    "id": "1gviOV_11CVI",
    "outputId": "fdd8c0da-24a6-4958-c0f2-6604d1cd5c23"
   },
   "outputs": [
    {
     "data": {
      "text/html": [
       "\n",
       "  <div id=\"df-5ce51c8a-014c-4498-ac2d-ff25e91a4459\">\n",
       "    <div class=\"colab-df-container\">\n",
       "      <div>\n",
       "<style scoped>\n",
       "    .dataframe tbody tr th:only-of-type {\n",
       "        vertical-align: middle;\n",
       "    }\n",
       "\n",
       "    .dataframe tbody tr th {\n",
       "        vertical-align: top;\n",
       "    }\n",
       "\n",
       "    .dataframe thead th {\n",
       "        text-align: right;\n",
       "    }\n",
       "</style>\n",
       "<table border=\"1\" class=\"dataframe\">\n",
       "  <thead>\n",
       "    <tr style=\"text-align: right;\">\n",
       "      <th></th>\n",
       "      <th>WriteOff_YN</th>\n",
       "    </tr>\n",
       "  </thead>\n",
       "  <tbody>\n",
       "    <tr>\n",
       "      <th>1786</th>\n",
       "      <td>0</td>\n",
       "    </tr>\n",
       "    <tr>\n",
       "      <th>528</th>\n",
       "      <td>0</td>\n",
       "    </tr>\n",
       "    <tr>\n",
       "      <th>449</th>\n",
       "      <td>0</td>\n",
       "    </tr>\n",
       "    <tr>\n",
       "      <th>1292</th>\n",
       "      <td>1</td>\n",
       "    </tr>\n",
       "    <tr>\n",
       "      <th>1097</th>\n",
       "      <td>0</td>\n",
       "    </tr>\n",
       "    <tr>\n",
       "      <th>...</th>\n",
       "      <td>...</td>\n",
       "    </tr>\n",
       "    <tr>\n",
       "      <th>2684</th>\n",
       "      <td>1</td>\n",
       "    </tr>\n",
       "    <tr>\n",
       "      <th>1237</th>\n",
       "      <td>0</td>\n",
       "    </tr>\n",
       "    <tr>\n",
       "      <th>2912</th>\n",
       "      <td>1</td>\n",
       "    </tr>\n",
       "    <tr>\n",
       "      <th>2721</th>\n",
       "      <td>1</td>\n",
       "    </tr>\n",
       "    <tr>\n",
       "      <th>2347</th>\n",
       "      <td>0</td>\n",
       "    </tr>\n",
       "  </tbody>\n",
       "</table>\n",
       "<p>627 rows × 1 columns</p>\n",
       "</div>\n",
       "      <button class=\"colab-df-convert\" onclick=\"convertToInteractive('df-5ce51c8a-014c-4498-ac2d-ff25e91a4459')\"\n",
       "              title=\"Convert this dataframe to an interactive table.\"\n",
       "              style=\"display:none;\">\n",
       "        \n",
       "  <svg xmlns=\"http://www.w3.org/2000/svg\" height=\"24px\"viewBox=\"0 0 24 24\"\n",
       "       width=\"24px\">\n",
       "    <path d=\"M0 0h24v24H0V0z\" fill=\"none\"/>\n",
       "    <path d=\"M18.56 5.44l.94 2.06.94-2.06 2.06-.94-2.06-.94-.94-2.06-.94 2.06-2.06.94zm-11 1L8.5 8.5l.94-2.06 2.06-.94-2.06-.94L8.5 2.5l-.94 2.06-2.06.94zm10 10l.94 2.06.94-2.06 2.06-.94-2.06-.94-.94-2.06-.94 2.06-2.06.94z\"/><path d=\"M17.41 7.96l-1.37-1.37c-.4-.4-.92-.59-1.43-.59-.52 0-1.04.2-1.43.59L10.3 9.45l-7.72 7.72c-.78.78-.78 2.05 0 2.83L4 21.41c.39.39.9.59 1.41.59.51 0 1.02-.2 1.41-.59l7.78-7.78 2.81-2.81c.8-.78.8-2.07 0-2.86zM5.41 20L4 18.59l7.72-7.72 1.47 1.35L5.41 20z\"/>\n",
       "  </svg>\n",
       "      </button>\n",
       "      \n",
       "  <style>\n",
       "    .colab-df-container {\n",
       "      display:flex;\n",
       "      flex-wrap:wrap;\n",
       "      gap: 12px;\n",
       "    }\n",
       "\n",
       "    .colab-df-convert {\n",
       "      background-color: #E8F0FE;\n",
       "      border: none;\n",
       "      border-radius: 50%;\n",
       "      cursor: pointer;\n",
       "      display: none;\n",
       "      fill: #1967D2;\n",
       "      height: 32px;\n",
       "      padding: 0 0 0 0;\n",
       "      width: 32px;\n",
       "    }\n",
       "\n",
       "    .colab-df-convert:hover {\n",
       "      background-color: #E2EBFA;\n",
       "      box-shadow: 0px 1px 2px rgba(60, 64, 67, 0.3), 0px 1px 3px 1px rgba(60, 64, 67, 0.15);\n",
       "      fill: #174EA6;\n",
       "    }\n",
       "\n",
       "    [theme=dark] .colab-df-convert {\n",
       "      background-color: #3B4455;\n",
       "      fill: #D2E3FC;\n",
       "    }\n",
       "\n",
       "    [theme=dark] .colab-df-convert:hover {\n",
       "      background-color: #434B5C;\n",
       "      box-shadow: 0px 1px 3px 1px rgba(0, 0, 0, 0.15);\n",
       "      filter: drop-shadow(0px 1px 2px rgba(0, 0, 0, 0.3));\n",
       "      fill: #FFFFFF;\n",
       "    }\n",
       "  </style>\n",
       "\n",
       "      <script>\n",
       "        const buttonEl =\n",
       "          document.querySelector('#df-5ce51c8a-014c-4498-ac2d-ff25e91a4459 button.colab-df-convert');\n",
       "        buttonEl.style.display =\n",
       "          google.colab.kernel.accessAllowed ? 'block' : 'none';\n",
       "\n",
       "        async function convertToInteractive(key) {\n",
       "          const element = document.querySelector('#df-5ce51c8a-014c-4498-ac2d-ff25e91a4459');\n",
       "          const dataTable =\n",
       "            await google.colab.kernel.invokeFunction('convertToInteractive',\n",
       "                                                     [key], {});\n",
       "          if (!dataTable) return;\n",
       "\n",
       "          const docLinkHtml = 'Like what you see? Visit the ' +\n",
       "            '<a target=\"_blank\" href=https://colab.research.google.com/notebooks/data_table.ipynb>data table notebook</a>'\n",
       "            + ' to learn more about interactive tables.';\n",
       "          element.innerHTML = '';\n",
       "          dataTable['output_type'] = 'display_data';\n",
       "          await google.colab.output.renderOutput(dataTable, element);\n",
       "          const docLink = document.createElement('div');\n",
       "          docLink.innerHTML = docLinkHtml;\n",
       "          element.appendChild(docLink);\n",
       "        }\n",
       "      </script>\n",
       "    </div>\n",
       "  </div>\n",
       "  "
      ],
      "text/plain": [
       "      WriteOff_YN\n",
       "1786            0\n",
       "528             0\n",
       "449             0\n",
       "1292            1\n",
       "1097            0\n",
       "...           ...\n",
       "2684            1\n",
       "1237            0\n",
       "2912            1\n",
       "2721            1\n",
       "2347            0\n",
       "\n",
       "[627 rows x 1 columns]"
      ]
     },
     "execution_count": 309,
     "metadata": {},
     "output_type": "execute_result"
    }
   ],
   "source": [
    "#converting this into a dataframe as y_val is a series {we get retained indexes}\n",
    "check = pd.DataFrame(y_val)\n",
    "check"
   ]
  },
  {
   "cell_type": "code",
   "execution_count": null,
   "id": "6468ab01",
   "metadata": {
    "id": "hKYXD2Xf1CVJ"
   },
   "outputs": [],
   "source": [
    "check['Predicted Values'] = predict_y_val"
   ]
  },
  {
   "cell_type": "code",
   "execution_count": null,
   "id": "4e2aac1b",
   "metadata": {
    "colab": {
     "base_uri": "https://localhost:8080/",
     "height": 424
    },
    "executionInfo": {
     "elapsed": 6,
     "status": "ok",
     "timestamp": 1662112949290,
     "user": {
      "displayName": "Siddhant Singh",
      "userId": "08343284542219482153"
     },
     "user_tz": -330
    },
    "id": "hQ98TJDm1CVK",
    "outputId": "a2e1c99f-1cdc-4056-dc5e-1f840d46d30a"
   },
   "outputs": [
    {
     "data": {
      "text/html": [
       "\n",
       "  <div id=\"df-db8d24ea-f3e1-48e2-80f9-51b7e8b53175\">\n",
       "    <div class=\"colab-df-container\">\n",
       "      <div>\n",
       "<style scoped>\n",
       "    .dataframe tbody tr th:only-of-type {\n",
       "        vertical-align: middle;\n",
       "    }\n",
       "\n",
       "    .dataframe tbody tr th {\n",
       "        vertical-align: top;\n",
       "    }\n",
       "\n",
       "    .dataframe thead th {\n",
       "        text-align: right;\n",
       "    }\n",
       "</style>\n",
       "<table border=\"1\" class=\"dataframe\">\n",
       "  <thead>\n",
       "    <tr style=\"text-align: right;\">\n",
       "      <th></th>\n",
       "      <th>WriteOff_YN</th>\n",
       "      <th>Predicted Values</th>\n",
       "    </tr>\n",
       "  </thead>\n",
       "  <tbody>\n",
       "    <tr>\n",
       "      <th>1786</th>\n",
       "      <td>0</td>\n",
       "      <td>0</td>\n",
       "    </tr>\n",
       "    <tr>\n",
       "      <th>528</th>\n",
       "      <td>0</td>\n",
       "      <td>0</td>\n",
       "    </tr>\n",
       "    <tr>\n",
       "      <th>449</th>\n",
       "      <td>0</td>\n",
       "      <td>1</td>\n",
       "    </tr>\n",
       "    <tr>\n",
       "      <th>1292</th>\n",
       "      <td>1</td>\n",
       "      <td>1</td>\n",
       "    </tr>\n",
       "    <tr>\n",
       "      <th>1097</th>\n",
       "      <td>0</td>\n",
       "      <td>0</td>\n",
       "    </tr>\n",
       "    <tr>\n",
       "      <th>...</th>\n",
       "      <td>...</td>\n",
       "      <td>...</td>\n",
       "    </tr>\n",
       "    <tr>\n",
       "      <th>2684</th>\n",
       "      <td>1</td>\n",
       "      <td>1</td>\n",
       "    </tr>\n",
       "    <tr>\n",
       "      <th>1237</th>\n",
       "      <td>0</td>\n",
       "      <td>0</td>\n",
       "    </tr>\n",
       "    <tr>\n",
       "      <th>2912</th>\n",
       "      <td>1</td>\n",
       "      <td>0</td>\n",
       "    </tr>\n",
       "    <tr>\n",
       "      <th>2721</th>\n",
       "      <td>1</td>\n",
       "      <td>0</td>\n",
       "    </tr>\n",
       "    <tr>\n",
       "      <th>2347</th>\n",
       "      <td>0</td>\n",
       "      <td>0</td>\n",
       "    </tr>\n",
       "  </tbody>\n",
       "</table>\n",
       "<p>627 rows × 2 columns</p>\n",
       "</div>\n",
       "      <button class=\"colab-df-convert\" onclick=\"convertToInteractive('df-db8d24ea-f3e1-48e2-80f9-51b7e8b53175')\"\n",
       "              title=\"Convert this dataframe to an interactive table.\"\n",
       "              style=\"display:none;\">\n",
       "        \n",
       "  <svg xmlns=\"http://www.w3.org/2000/svg\" height=\"24px\"viewBox=\"0 0 24 24\"\n",
       "       width=\"24px\">\n",
       "    <path d=\"M0 0h24v24H0V0z\" fill=\"none\"/>\n",
       "    <path d=\"M18.56 5.44l.94 2.06.94-2.06 2.06-.94-2.06-.94-.94-2.06-.94 2.06-2.06.94zm-11 1L8.5 8.5l.94-2.06 2.06-.94-2.06-.94L8.5 2.5l-.94 2.06-2.06.94zm10 10l.94 2.06.94-2.06 2.06-.94-2.06-.94-.94-2.06-.94 2.06-2.06.94z\"/><path d=\"M17.41 7.96l-1.37-1.37c-.4-.4-.92-.59-1.43-.59-.52 0-1.04.2-1.43.59L10.3 9.45l-7.72 7.72c-.78.78-.78 2.05 0 2.83L4 21.41c.39.39.9.59 1.41.59.51 0 1.02-.2 1.41-.59l7.78-7.78 2.81-2.81c.8-.78.8-2.07 0-2.86zM5.41 20L4 18.59l7.72-7.72 1.47 1.35L5.41 20z\"/>\n",
       "  </svg>\n",
       "      </button>\n",
       "      \n",
       "  <style>\n",
       "    .colab-df-container {\n",
       "      display:flex;\n",
       "      flex-wrap:wrap;\n",
       "      gap: 12px;\n",
       "    }\n",
       "\n",
       "    .colab-df-convert {\n",
       "      background-color: #E8F0FE;\n",
       "      border: none;\n",
       "      border-radius: 50%;\n",
       "      cursor: pointer;\n",
       "      display: none;\n",
       "      fill: #1967D2;\n",
       "      height: 32px;\n",
       "      padding: 0 0 0 0;\n",
       "      width: 32px;\n",
       "    }\n",
       "\n",
       "    .colab-df-convert:hover {\n",
       "      background-color: #E2EBFA;\n",
       "      box-shadow: 0px 1px 2px rgba(60, 64, 67, 0.3), 0px 1px 3px 1px rgba(60, 64, 67, 0.15);\n",
       "      fill: #174EA6;\n",
       "    }\n",
       "\n",
       "    [theme=dark] .colab-df-convert {\n",
       "      background-color: #3B4455;\n",
       "      fill: #D2E3FC;\n",
       "    }\n",
       "\n",
       "    [theme=dark] .colab-df-convert:hover {\n",
       "      background-color: #434B5C;\n",
       "      box-shadow: 0px 1px 3px 1px rgba(0, 0, 0, 0.15);\n",
       "      filter: drop-shadow(0px 1px 2px rgba(0, 0, 0, 0.3));\n",
       "      fill: #FFFFFF;\n",
       "    }\n",
       "  </style>\n",
       "\n",
       "      <script>\n",
       "        const buttonEl =\n",
       "          document.querySelector('#df-db8d24ea-f3e1-48e2-80f9-51b7e8b53175 button.colab-df-convert');\n",
       "        buttonEl.style.display =\n",
       "          google.colab.kernel.accessAllowed ? 'block' : 'none';\n",
       "\n",
       "        async function convertToInteractive(key) {\n",
       "          const element = document.querySelector('#df-db8d24ea-f3e1-48e2-80f9-51b7e8b53175');\n",
       "          const dataTable =\n",
       "            await google.colab.kernel.invokeFunction('convertToInteractive',\n",
       "                                                     [key], {});\n",
       "          if (!dataTable) return;\n",
       "\n",
       "          const docLinkHtml = 'Like what you see? Visit the ' +\n",
       "            '<a target=\"_blank\" href=https://colab.research.google.com/notebooks/data_table.ipynb>data table notebook</a>'\n",
       "            + ' to learn more about interactive tables.';\n",
       "          element.innerHTML = '';\n",
       "          dataTable['output_type'] = 'display_data';\n",
       "          await google.colab.output.renderOutput(dataTable, element);\n",
       "          const docLink = document.createElement('div');\n",
       "          docLink.innerHTML = docLinkHtml;\n",
       "          element.appendChild(docLink);\n",
       "        }\n",
       "      </script>\n",
       "    </div>\n",
       "  </div>\n",
       "  "
      ],
      "text/plain": [
       "      WriteOff_YN  Predicted Values\n",
       "1786            0                 0\n",
       "528             0                 0\n",
       "449             0                 1\n",
       "1292            1                 1\n",
       "1097            0                 0\n",
       "...           ...               ...\n",
       "2684            1                 1\n",
       "1237            0                 0\n",
       "2912            1                 0\n",
       "2721            1                 0\n",
       "2347            0                 0\n",
       "\n",
       "[627 rows x 2 columns]"
      ]
     },
     "execution_count": 311,
     "metadata": {},
     "output_type": "execute_result"
    }
   ],
   "source": [
    "check"
   ]
  },
  {
   "cell_type": "code",
   "execution_count": null,
   "id": "08c6005f",
   "metadata": {
    "colab": {
     "base_uri": "https://localhost:8080/"
    },
    "executionInfo": {
     "elapsed": 4,
     "status": "ok",
     "timestamp": 1662112949717,
     "user": {
      "displayName": "Siddhant Singh",
      "userId": "08343284542219482153"
     },
     "user_tz": -330
    },
    "id": "fTUwGUHI1CVL",
    "outputId": "6a41600c-1cb3-49b3-cac6-35912ad12ef2"
   },
   "outputs": [
    {
     "data": {
      "text/plain": [
       "array([[0.5789025 , 0.42109752],\n",
       "       [0.7268082 , 0.27319184],\n",
       "       [0.4944927 , 0.5055073 ],\n",
       "       ...,\n",
       "       [0.6321957 , 0.3678043 ],\n",
       "       [0.76543814, 0.23456188],\n",
       "       [0.9073677 , 0.09263232]], dtype=float32)"
      ]
     },
     "execution_count": 312,
     "metadata": {},
     "output_type": "execute_result"
    }
   ],
   "source": [
    "predict_y_proba_val"
   ]
  },
  {
   "cell_type": "code",
   "execution_count": null,
   "id": "d93cc826",
   "metadata": {
    "id": "r1Bn89qi1CVL"
   },
   "outputs": [],
   "source": [
    "write_off1 = []\n",
    "for i in predict_y_proba_val:\n",
    "  write_off1.append(i[1])\n"
   ]
  },
  {
   "cell_type": "code",
   "execution_count": null,
   "id": "eb56cdc2",
   "metadata": {
    "id": "gRYGEzwK1CVM"
   },
   "outputs": [],
   "source": [
    "check['Predicted_Prob_WO = 1'] = write_off1"
   ]
  },
  {
   "cell_type": "code",
   "execution_count": null,
   "id": "b48f0a97",
   "metadata": {
    "colab": {
     "base_uri": "https://localhost:8080/",
     "height": 424
    },
    "executionInfo": {
     "elapsed": 4,
     "status": "ok",
     "timestamp": 1662112950295,
     "user": {
      "displayName": "Siddhant Singh",
      "userId": "08343284542219482153"
     },
     "user_tz": -330
    },
    "id": "x01yn5md1CVM",
    "outputId": "dce86620-6437-480a-ea63-7b1ba00739af"
   },
   "outputs": [
    {
     "data": {
      "text/html": [
       "\n",
       "  <div id=\"df-fa6fb087-d759-453b-bbf6-d98e41338447\">\n",
       "    <div class=\"colab-df-container\">\n",
       "      <div>\n",
       "<style scoped>\n",
       "    .dataframe tbody tr th:only-of-type {\n",
       "        vertical-align: middle;\n",
       "    }\n",
       "\n",
       "    .dataframe tbody tr th {\n",
       "        vertical-align: top;\n",
       "    }\n",
       "\n",
       "    .dataframe thead th {\n",
       "        text-align: right;\n",
       "    }\n",
       "</style>\n",
       "<table border=\"1\" class=\"dataframe\">\n",
       "  <thead>\n",
       "    <tr style=\"text-align: right;\">\n",
       "      <th></th>\n",
       "      <th>WriteOff_YN</th>\n",
       "      <th>Predicted Values</th>\n",
       "      <th>Predicted_Prob_WO = 1</th>\n",
       "    </tr>\n",
       "  </thead>\n",
       "  <tbody>\n",
       "    <tr>\n",
       "      <th>1786</th>\n",
       "      <td>0</td>\n",
       "      <td>0</td>\n",
       "      <td>0.421098</td>\n",
       "    </tr>\n",
       "    <tr>\n",
       "      <th>528</th>\n",
       "      <td>0</td>\n",
       "      <td>0</td>\n",
       "      <td>0.273192</td>\n",
       "    </tr>\n",
       "    <tr>\n",
       "      <th>449</th>\n",
       "      <td>0</td>\n",
       "      <td>1</td>\n",
       "      <td>0.505507</td>\n",
       "    </tr>\n",
       "    <tr>\n",
       "      <th>1292</th>\n",
       "      <td>1</td>\n",
       "      <td>1</td>\n",
       "      <td>0.751052</td>\n",
       "    </tr>\n",
       "    <tr>\n",
       "      <th>1097</th>\n",
       "      <td>0</td>\n",
       "      <td>0</td>\n",
       "      <td>0.083135</td>\n",
       "    </tr>\n",
       "    <tr>\n",
       "      <th>...</th>\n",
       "      <td>...</td>\n",
       "      <td>...</td>\n",
       "      <td>...</td>\n",
       "    </tr>\n",
       "    <tr>\n",
       "      <th>2684</th>\n",
       "      <td>1</td>\n",
       "      <td>1</td>\n",
       "      <td>0.828017</td>\n",
       "    </tr>\n",
       "    <tr>\n",
       "      <th>1237</th>\n",
       "      <td>0</td>\n",
       "      <td>0</td>\n",
       "      <td>0.078300</td>\n",
       "    </tr>\n",
       "    <tr>\n",
       "      <th>2912</th>\n",
       "      <td>1</td>\n",
       "      <td>0</td>\n",
       "      <td>0.367804</td>\n",
       "    </tr>\n",
       "    <tr>\n",
       "      <th>2721</th>\n",
       "      <td>1</td>\n",
       "      <td>0</td>\n",
       "      <td>0.234562</td>\n",
       "    </tr>\n",
       "    <tr>\n",
       "      <th>2347</th>\n",
       "      <td>0</td>\n",
       "      <td>0</td>\n",
       "      <td>0.092632</td>\n",
       "    </tr>\n",
       "  </tbody>\n",
       "</table>\n",
       "<p>627 rows × 3 columns</p>\n",
       "</div>\n",
       "      <button class=\"colab-df-convert\" onclick=\"convertToInteractive('df-fa6fb087-d759-453b-bbf6-d98e41338447')\"\n",
       "              title=\"Convert this dataframe to an interactive table.\"\n",
       "              style=\"display:none;\">\n",
       "        \n",
       "  <svg xmlns=\"http://www.w3.org/2000/svg\" height=\"24px\"viewBox=\"0 0 24 24\"\n",
       "       width=\"24px\">\n",
       "    <path d=\"M0 0h24v24H0V0z\" fill=\"none\"/>\n",
       "    <path d=\"M18.56 5.44l.94 2.06.94-2.06 2.06-.94-2.06-.94-.94-2.06-.94 2.06-2.06.94zm-11 1L8.5 8.5l.94-2.06 2.06-.94-2.06-.94L8.5 2.5l-.94 2.06-2.06.94zm10 10l.94 2.06.94-2.06 2.06-.94-2.06-.94-.94-2.06-.94 2.06-2.06.94z\"/><path d=\"M17.41 7.96l-1.37-1.37c-.4-.4-.92-.59-1.43-.59-.52 0-1.04.2-1.43.59L10.3 9.45l-7.72 7.72c-.78.78-.78 2.05 0 2.83L4 21.41c.39.39.9.59 1.41.59.51 0 1.02-.2 1.41-.59l7.78-7.78 2.81-2.81c.8-.78.8-2.07 0-2.86zM5.41 20L4 18.59l7.72-7.72 1.47 1.35L5.41 20z\"/>\n",
       "  </svg>\n",
       "      </button>\n",
       "      \n",
       "  <style>\n",
       "    .colab-df-container {\n",
       "      display:flex;\n",
       "      flex-wrap:wrap;\n",
       "      gap: 12px;\n",
       "    }\n",
       "\n",
       "    .colab-df-convert {\n",
       "      background-color: #E8F0FE;\n",
       "      border: none;\n",
       "      border-radius: 50%;\n",
       "      cursor: pointer;\n",
       "      display: none;\n",
       "      fill: #1967D2;\n",
       "      height: 32px;\n",
       "      padding: 0 0 0 0;\n",
       "      width: 32px;\n",
       "    }\n",
       "\n",
       "    .colab-df-convert:hover {\n",
       "      background-color: #E2EBFA;\n",
       "      box-shadow: 0px 1px 2px rgba(60, 64, 67, 0.3), 0px 1px 3px 1px rgba(60, 64, 67, 0.15);\n",
       "      fill: #174EA6;\n",
       "    }\n",
       "\n",
       "    [theme=dark] .colab-df-convert {\n",
       "      background-color: #3B4455;\n",
       "      fill: #D2E3FC;\n",
       "    }\n",
       "\n",
       "    [theme=dark] .colab-df-convert:hover {\n",
       "      background-color: #434B5C;\n",
       "      box-shadow: 0px 1px 3px 1px rgba(0, 0, 0, 0.15);\n",
       "      filter: drop-shadow(0px 1px 2px rgba(0, 0, 0, 0.3));\n",
       "      fill: #FFFFFF;\n",
       "    }\n",
       "  </style>\n",
       "\n",
       "      <script>\n",
       "        const buttonEl =\n",
       "          document.querySelector('#df-fa6fb087-d759-453b-bbf6-d98e41338447 button.colab-df-convert');\n",
       "        buttonEl.style.display =\n",
       "          google.colab.kernel.accessAllowed ? 'block' : 'none';\n",
       "\n",
       "        async function convertToInteractive(key) {\n",
       "          const element = document.querySelector('#df-fa6fb087-d759-453b-bbf6-d98e41338447');\n",
       "          const dataTable =\n",
       "            await google.colab.kernel.invokeFunction('convertToInteractive',\n",
       "                                                     [key], {});\n",
       "          if (!dataTable) return;\n",
       "\n",
       "          const docLinkHtml = 'Like what you see? Visit the ' +\n",
       "            '<a target=\"_blank\" href=https://colab.research.google.com/notebooks/data_table.ipynb>data table notebook</a>'\n",
       "            + ' to learn more about interactive tables.';\n",
       "          element.innerHTML = '';\n",
       "          dataTable['output_type'] = 'display_data';\n",
       "          await google.colab.output.renderOutput(dataTable, element);\n",
       "          const docLink = document.createElement('div');\n",
       "          docLink.innerHTML = docLinkHtml;\n",
       "          element.appendChild(docLink);\n",
       "        }\n",
       "      </script>\n",
       "    </div>\n",
       "  </div>\n",
       "  "
      ],
      "text/plain": [
       "      WriteOff_YN  Predicted Values  Predicted_Prob_WO = 1\n",
       "1786            0                 0               0.421098\n",
       "528             0                 0               0.273192\n",
       "449             0                 1               0.505507\n",
       "1292            1                 1               0.751052\n",
       "1097            0                 0               0.083135\n",
       "...           ...               ...                    ...\n",
       "2684            1                 1               0.828017\n",
       "1237            0                 0               0.078300\n",
       "2912            1                 0               0.367804\n",
       "2721            1                 0               0.234562\n",
       "2347            0                 0               0.092632\n",
       "\n",
       "[627 rows x 3 columns]"
      ]
     },
     "execution_count": 315,
     "metadata": {},
     "output_type": "execute_result"
    }
   ],
   "source": [
    "check"
   ]
  },
  {
   "cell_type": "code",
   "execution_count": null,
   "id": "0a79f714",
   "metadata": {
    "id": "sIaehNX71CVN"
   },
   "outputs": [],
   "source": [
    "check['OpportunityID'] = None"
   ]
  },
  {
   "cell_type": "code",
   "execution_count": null,
   "id": "b2b37263",
   "metadata": {
    "colab": {
     "base_uri": "https://localhost:8080/"
    },
    "executionInfo": {
     "elapsed": 9,
     "status": "ok",
     "timestamp": 1662112951337,
     "user": {
      "displayName": "Siddhant Singh",
      "userId": "08343284542219482153"
     },
     "user_tz": -330
    },
    "id": "fjUbVWfx1CVN",
    "outputId": "eea3a0c8-b3d5-4a0d-ee59-b99176b3d72e"
   },
   "outputs": [
    {
     "name": "stderr",
     "output_type": "stream",
     "text": [
      "/usr/local/lib/python3.7/dist-packages/ipykernel_launcher.py:2: SettingWithCopyWarning: \n",
      "A value is trying to be set on a copy of a slice from a DataFrame\n",
      "\n",
      "See the caveats in the documentation: https://pandas.pydata.org/pandas-docs/stable/user_guide/indexing.html#returning-a-view-versus-a-copy\n",
      "  \n"
     ]
    }
   ],
   "source": [
    "for i in check.index:\n",
    "  check['OpportunityID'][i] = data['OpportunityID'][i]"
   ]
  },
  {
   "cell_type": "code",
   "execution_count": null,
   "id": "bea9d463",
   "metadata": {
    "colab": {
     "base_uri": "https://localhost:8080/",
     "height": 424
    },
    "executionInfo": {
     "elapsed": 9,
     "status": "ok",
     "timestamp": 1662112951339,
     "user": {
      "displayName": "Siddhant Singh",
      "userId": "08343284542219482153"
     },
     "user_tz": -330
    },
    "id": "nQEJwJPH1CVO",
    "outputId": "cde85d26-7034-42cc-d158-02270e3b2c66"
   },
   "outputs": [
    {
     "data": {
      "text/html": [
       "\n",
       "  <div id=\"df-9060f297-0c8d-4017-964e-81797b4d36a2\">\n",
       "    <div class=\"colab-df-container\">\n",
       "      <div>\n",
       "<style scoped>\n",
       "    .dataframe tbody tr th:only-of-type {\n",
       "        vertical-align: middle;\n",
       "    }\n",
       "\n",
       "    .dataframe tbody tr th {\n",
       "        vertical-align: top;\n",
       "    }\n",
       "\n",
       "    .dataframe thead th {\n",
       "        text-align: right;\n",
       "    }\n",
       "</style>\n",
       "<table border=\"1\" class=\"dataframe\">\n",
       "  <thead>\n",
       "    <tr style=\"text-align: right;\">\n",
       "      <th></th>\n",
       "      <th>WriteOff_YN</th>\n",
       "      <th>Predicted Values</th>\n",
       "      <th>Predicted_Prob_WO = 1</th>\n",
       "      <th>OpportunityID</th>\n",
       "    </tr>\n",
       "  </thead>\n",
       "  <tbody>\n",
       "    <tr>\n",
       "      <th>1786</th>\n",
       "      <td>0</td>\n",
       "      <td>0</td>\n",
       "      <td>0.421098</td>\n",
       "      <td>0062M00000lXc3SQAS</td>\n",
       "    </tr>\n",
       "    <tr>\n",
       "      <th>528</th>\n",
       "      <td>0</td>\n",
       "      <td>0</td>\n",
       "      <td>0.273192</td>\n",
       "      <td>0062M00000iap0AQAQ</td>\n",
       "    </tr>\n",
       "    <tr>\n",
       "      <th>449</th>\n",
       "      <td>0</td>\n",
       "      <td>1</td>\n",
       "      <td>0.505507</td>\n",
       "      <td>0062M00000gZCzBQAW</td>\n",
       "    </tr>\n",
       "    <tr>\n",
       "      <th>1292</th>\n",
       "      <td>1</td>\n",
       "      <td>1</td>\n",
       "      <td>0.751052</td>\n",
       "      <td>0062M00000lpNB6QAM</td>\n",
       "    </tr>\n",
       "    <tr>\n",
       "      <th>1097</th>\n",
       "      <td>0</td>\n",
       "      <td>0</td>\n",
       "      <td>0.083135</td>\n",
       "      <td>0062M00000ky8eKQAQ</td>\n",
       "    </tr>\n",
       "    <tr>\n",
       "      <th>...</th>\n",
       "      <td>...</td>\n",
       "      <td>...</td>\n",
       "      <td>...</td>\n",
       "      <td>...</td>\n",
       "    </tr>\n",
       "    <tr>\n",
       "      <th>2684</th>\n",
       "      <td>1</td>\n",
       "      <td>1</td>\n",
       "      <td>0.828017</td>\n",
       "      <td>0062M00000nomOBQAY</td>\n",
       "    </tr>\n",
       "    <tr>\n",
       "      <th>1237</th>\n",
       "      <td>0</td>\n",
       "      <td>0</td>\n",
       "      <td>0.078300</td>\n",
       "      <td>0062M00000l0bcDQAQ</td>\n",
       "    </tr>\n",
       "    <tr>\n",
       "      <th>2912</th>\n",
       "      <td>1</td>\n",
       "      <td>0</td>\n",
       "      <td>0.367804</td>\n",
       "      <td>0062M00000nX2oIQAS</td>\n",
       "    </tr>\n",
       "    <tr>\n",
       "      <th>2721</th>\n",
       "      <td>1</td>\n",
       "      <td>0</td>\n",
       "      <td>0.234562</td>\n",
       "      <td>0062M00000npHaPQAU</td>\n",
       "    </tr>\n",
       "    <tr>\n",
       "      <th>2347</th>\n",
       "      <td>0</td>\n",
       "      <td>0</td>\n",
       "      <td>0.092632</td>\n",
       "      <td>0062M00000n0sLoQAI</td>\n",
       "    </tr>\n",
       "  </tbody>\n",
       "</table>\n",
       "<p>627 rows × 4 columns</p>\n",
       "</div>\n",
       "      <button class=\"colab-df-convert\" onclick=\"convertToInteractive('df-9060f297-0c8d-4017-964e-81797b4d36a2')\"\n",
       "              title=\"Convert this dataframe to an interactive table.\"\n",
       "              style=\"display:none;\">\n",
       "        \n",
       "  <svg xmlns=\"http://www.w3.org/2000/svg\" height=\"24px\"viewBox=\"0 0 24 24\"\n",
       "       width=\"24px\">\n",
       "    <path d=\"M0 0h24v24H0V0z\" fill=\"none\"/>\n",
       "    <path d=\"M18.56 5.44l.94 2.06.94-2.06 2.06-.94-2.06-.94-.94-2.06-.94 2.06-2.06.94zm-11 1L8.5 8.5l.94-2.06 2.06-.94-2.06-.94L8.5 2.5l-.94 2.06-2.06.94zm10 10l.94 2.06.94-2.06 2.06-.94-2.06-.94-.94-2.06-.94 2.06-2.06.94z\"/><path d=\"M17.41 7.96l-1.37-1.37c-.4-.4-.92-.59-1.43-.59-.52 0-1.04.2-1.43.59L10.3 9.45l-7.72 7.72c-.78.78-.78 2.05 0 2.83L4 21.41c.39.39.9.59 1.41.59.51 0 1.02-.2 1.41-.59l7.78-7.78 2.81-2.81c.8-.78.8-2.07 0-2.86zM5.41 20L4 18.59l7.72-7.72 1.47 1.35L5.41 20z\"/>\n",
       "  </svg>\n",
       "      </button>\n",
       "      \n",
       "  <style>\n",
       "    .colab-df-container {\n",
       "      display:flex;\n",
       "      flex-wrap:wrap;\n",
       "      gap: 12px;\n",
       "    }\n",
       "\n",
       "    .colab-df-convert {\n",
       "      background-color: #E8F0FE;\n",
       "      border: none;\n",
       "      border-radius: 50%;\n",
       "      cursor: pointer;\n",
       "      display: none;\n",
       "      fill: #1967D2;\n",
       "      height: 32px;\n",
       "      padding: 0 0 0 0;\n",
       "      width: 32px;\n",
       "    }\n",
       "\n",
       "    .colab-df-convert:hover {\n",
       "      background-color: #E2EBFA;\n",
       "      box-shadow: 0px 1px 2px rgba(60, 64, 67, 0.3), 0px 1px 3px 1px rgba(60, 64, 67, 0.15);\n",
       "      fill: #174EA6;\n",
       "    }\n",
       "\n",
       "    [theme=dark] .colab-df-convert {\n",
       "      background-color: #3B4455;\n",
       "      fill: #D2E3FC;\n",
       "    }\n",
       "\n",
       "    [theme=dark] .colab-df-convert:hover {\n",
       "      background-color: #434B5C;\n",
       "      box-shadow: 0px 1px 3px 1px rgba(0, 0, 0, 0.15);\n",
       "      filter: drop-shadow(0px 1px 2px rgba(0, 0, 0, 0.3));\n",
       "      fill: #FFFFFF;\n",
       "    }\n",
       "  </style>\n",
       "\n",
       "      <script>\n",
       "        const buttonEl =\n",
       "          document.querySelector('#df-9060f297-0c8d-4017-964e-81797b4d36a2 button.colab-df-convert');\n",
       "        buttonEl.style.display =\n",
       "          google.colab.kernel.accessAllowed ? 'block' : 'none';\n",
       "\n",
       "        async function convertToInteractive(key) {\n",
       "          const element = document.querySelector('#df-9060f297-0c8d-4017-964e-81797b4d36a2');\n",
       "          const dataTable =\n",
       "            await google.colab.kernel.invokeFunction('convertToInteractive',\n",
       "                                                     [key], {});\n",
       "          if (!dataTable) return;\n",
       "\n",
       "          const docLinkHtml = 'Like what you see? Visit the ' +\n",
       "            '<a target=\"_blank\" href=https://colab.research.google.com/notebooks/data_table.ipynb>data table notebook</a>'\n",
       "            + ' to learn more about interactive tables.';\n",
       "          element.innerHTML = '';\n",
       "          dataTable['output_type'] = 'display_data';\n",
       "          await google.colab.output.renderOutput(dataTable, element);\n",
       "          const docLink = document.createElement('div');\n",
       "          docLink.innerHTML = docLinkHtml;\n",
       "          element.appendChild(docLink);\n",
       "        }\n",
       "      </script>\n",
       "    </div>\n",
       "  </div>\n",
       "  "
      ],
      "text/plain": [
       "      WriteOff_YN  Predicted Values  Predicted_Prob_WO = 1       OpportunityID\n",
       "1786            0                 0               0.421098  0062M00000lXc3SQAS\n",
       "528             0                 0               0.273192  0062M00000iap0AQAQ\n",
       "449             0                 1               0.505507  0062M00000gZCzBQAW\n",
       "1292            1                 1               0.751052  0062M00000lpNB6QAM\n",
       "1097            0                 0               0.083135  0062M00000ky8eKQAQ\n",
       "...           ...               ...                    ...                 ...\n",
       "2684            1                 1               0.828017  0062M00000nomOBQAY\n",
       "1237            0                 0               0.078300  0062M00000l0bcDQAQ\n",
       "2912            1                 0               0.367804  0062M00000nX2oIQAS\n",
       "2721            1                 0               0.234562  0062M00000npHaPQAU\n",
       "2347            0                 0               0.092632  0062M00000n0sLoQAI\n",
       "\n",
       "[627 rows x 4 columns]"
      ]
     },
     "execution_count": 318,
     "metadata": {},
     "output_type": "execute_result"
    }
   ],
   "source": [
    "check"
   ]
  },
  {
   "cell_type": "code",
   "execution_count": null,
   "id": "c9276611",
   "metadata": {
    "colab": {
     "base_uri": "https://localhost:8080/"
    },
    "executionInfo": {
     "elapsed": 4,
     "status": "ok",
     "timestamp": 1662112951695,
     "user": {
      "displayName": "Siddhant Singh",
      "userId": "08343284542219482153"
     },
     "user_tz": -330
    },
    "id": "ItA50dEr1CVO",
    "outputId": "25a423c1-bab8-4839-9d1f-3d6cbb80e78a"
   },
   "outputs": [
    {
     "name": "stdout",
     "output_type": "stream",
     "text": [
      "Max_propability_value:  0.90478456\n",
      "Min_propability_value:  0.014321851\n"
     ]
    }
   ],
   "source": [
    "print(\"Max_propability_value: \", check[\"Predicted_Prob_WO = 1\"].max())\n",
    "print(\"Min_propability_value: \", check[\"Predicted_Prob_WO = 1\"].min())"
   ]
  },
  {
   "cell_type": "code",
   "execution_count": null,
   "id": "5dc41ab5",
   "metadata": {
    "id": "UzYTeoA-1CVP"
   },
   "outputs": [],
   "source": [
    "check['Decile'] = None"
   ]
  },
  {
   "cell_type": "code",
   "execution_count": null,
   "id": "8c4c8571",
   "metadata": {
    "colab": {
     "base_uri": "https://localhost:8080/"
    },
    "executionInfo": {
     "elapsed": 578,
     "status": "ok",
     "timestamp": 1662112952270,
     "user": {
      "displayName": "Siddhant Singh",
      "userId": "08343284542219482153"
     },
     "user_tz": -330
    },
    "id": "9kaUKj2H1CVP",
    "outputId": "3b9a0c0c-1f3f-4045-ac53-7488be281460"
   },
   "outputs": [
    {
     "name": "stderr",
     "output_type": "stream",
     "text": [
      "/usr/local/lib/python3.7/dist-packages/ipykernel_launcher.py:57: SettingWithCopyWarning: \n",
      "A value is trying to be set on a copy of a slice from a DataFrame\n",
      "\n",
      "See the caveats in the documentation: https://pandas.pydata.org/pandas-docs/stable/user_guide/indexing.html#returning-a-view-versus-a-copy\n"
     ]
    }
   ],
   "source": [
    "funded_amt_d1, funded_amt_d2, funded_amt_d3, funded_amt_d4, funded_amt_d5, funded_amt_d6, funded_amt_d7, funded_amt_d8, funded_amt_d9, funded_amt_d10 = 0,0,0,0,0,0,0,0,0,0\n",
    "gross_amt_d1, gross_amt_d2, gross_amt_d3, gross_amt_d4, gross_amt_d5, gross_amt_d6, gross_amt_d7, gross_amt_d8, gross_amt_d9, gross_amt_d10 = 0,0,0,0,0,0,0,0,0,0\n",
    "advanced_amt_d1, advanced_amt_d2, advanced_amt_d3, advanced_amt_d4, advanced_amt_d5, advanced_amt_d6, advanced_amt_d7, advanced_amt_d8, advanced_amt_d9, advanced_amt_d10 = 0,0,0,0,0,0,0,0,0,0\n",
    "\n",
    "for i in check.index:\n",
    "  \n",
    "  if check[\"Predicted_Prob_WO = 1\"][i]>=min_range[9]:\n",
    "    d=10\n",
    "    funded_amt_d10 = funded_amt_d10+data['FundedAmount'][i]\n",
    "    gross_amt_d10 = gross_amt_d10 + data['FundedWriteOffAmount_Gross'][i]\n",
    "    advanced_amt_d10 = advanced_amt_d10 + data['WOGross_AdvanceBalance'][i]\n",
    "  elif (check[\"Predicted_Prob_WO = 1\"][i] >= min_range[8]) & (check[\"Predicted_Prob_WO = 1\"][i] <= max_range[8]):\n",
    "    d=9\n",
    "    funded_amt_d9 = funded_amt_d9+data['FundedAmount'][i]\n",
    "    gross_amt_d9 = gross_amt_d9 + data['FundedWriteOffAmount_Gross'][i]\n",
    "    advanced_amt_d9 = advanced_amt_d9 + data['WOGross_AdvanceBalance'][i]\n",
    "  elif (check[\"Predicted_Prob_WO = 1\"][i] >= min_range[7]) & (check[\"Predicted_Prob_WO = 1\"][i] <= max_range[7]):\n",
    "    d=8\n",
    "    funded_amt_d8 = funded_amt_d8+data['FundedAmount'][i]\n",
    "    gross_amt_d8 = gross_amt_d8 + data['FundedWriteOffAmount_Gross'][i]\n",
    "    advanced_amt_d8 = advanced_amt_d8 + data['WOGross_AdvanceBalance'][i]\n",
    "  elif (check[\"Predicted_Prob_WO = 1\"][i] >= min_range[6]) & (check[\"Predicted_Prob_WO = 1\"][i] <= max_range[6]):\n",
    "    d=7\n",
    "    funded_amt_d7 = funded_amt_d7+data['FundedAmount'][i]\n",
    "    gross_amt_d7 = gross_amt_d7 + data['FundedWriteOffAmount_Gross'][i]\n",
    "    advanced_amt_d7 = advanced_amt_d7 + data['WOGross_AdvanceBalance'][i]\n",
    "  elif (check[\"Predicted_Prob_WO = 1\"][i] >= min_range[5]) & (check[\"Predicted_Prob_WO = 1\"][i] <= max_range[5]):\n",
    "    d=6\n",
    "    funded_amt_d6 = funded_amt_d6+data['FundedAmount'][i]\n",
    "    gross_amt_d6 = gross_amt_d6+ data['FundedWriteOffAmount_Gross'][i]\n",
    "    advanced_amt_d6 = advanced_amt_d6 + data['WOGross_AdvanceBalance'][i]\n",
    "  elif (check[\"Predicted_Prob_WO = 1\"][i] >= min_range[4]) & (check[\"Predicted_Prob_WO = 1\"][i] <= max_range[4]):\n",
    "    d=5\n",
    "    funded_amt_d5 = funded_amt_d5+data['FundedAmount'][i]\n",
    "    gross_amt_d5 = gross_amt_d5 + data['FundedWriteOffAmount_Gross'][i]\n",
    "    advanced_amt_d5 = advanced_amt_d5 + data['WOGross_AdvanceBalance'][i]\n",
    "  elif (check[\"Predicted_Prob_WO = 1\"][i] >= min_range[3]) & (check[\"Predicted_Prob_WO = 1\"][i] <= max_range[3]):\n",
    "    d=4\n",
    "    funded_amt_d4 = funded_amt_d4+data['FundedAmount'][i]\n",
    "    gross_amt_d4 = gross_amt_d4 + data['FundedWriteOffAmount_Gross'][i]\n",
    "    advanced_amt_d4 = advanced_amt_d4 + data['WOGross_AdvanceBalance'][i]\n",
    "  elif (check[\"Predicted_Prob_WO = 1\"][i] >= min_range[2]) & (check[\"Predicted_Prob_WO = 1\"][i] <= max_range[2]):\n",
    "    d=3\n",
    "    funded_amt_d3 = funded_amt_d3+data['FundedAmount'][i]\n",
    "    gross_amt_d3 = gross_amt_d3 + data['FundedWriteOffAmount_Gross'][i]\n",
    "    advanced_amt_d3 = advanced_amt_d3 + data['WOGross_AdvanceBalance'][i]\n",
    "  elif (check[\"Predicted_Prob_WO = 1\"][i] >= min_range[1]) & (check[\"Predicted_Prob_WO = 1\"][i] <= max_range[1]):\n",
    "    d=2\n",
    "    funded_amt_d2 = funded_amt_d2+data['FundedAmount'][i]\n",
    "    gross_amt_d2 = gross_amt_d2 + data['FundedWriteOffAmount_Gross'][i]\n",
    "    advanced_amt_d2 = advanced_amt_d2 + data['WOGross_AdvanceBalance'][i]\n",
    "  else:\n",
    "    d = 1\n",
    "    funded_amt_d1 = funded_amt_d1+data['FundedAmount'][i]\n",
    "    gross_amt_d1 = gross_amt_d1 + data['FundedWriteOffAmount_Gross'][i]\n",
    "    advanced_amt_d1 = advanced_amt_d1 + data['WOGross_AdvanceBalance'][i]\n",
    "  check['Decile'][i] = d"
   ]
  },
  {
   "cell_type": "code",
   "execution_count": null,
   "id": "25f74807",
   "metadata": {
    "colab": {
     "base_uri": "https://localhost:8080/",
     "height": 424
    },
    "executionInfo": {
     "elapsed": 7,
     "status": "ok",
     "timestamp": 1662112952272,
     "user": {
      "displayName": "Siddhant Singh",
      "userId": "08343284542219482153"
     },
     "user_tz": -330
    },
    "id": "-or8eYss1CVP",
    "outputId": "70ad357a-a0d3-4aba-b8fa-e8e3a6bad570"
   },
   "outputs": [
    {
     "data": {
      "text/html": [
       "\n",
       "  <div id=\"df-0dc182d8-d322-4f58-abcd-660dc6ecf0ad\">\n",
       "    <div class=\"colab-df-container\">\n",
       "      <div>\n",
       "<style scoped>\n",
       "    .dataframe tbody tr th:only-of-type {\n",
       "        vertical-align: middle;\n",
       "    }\n",
       "\n",
       "    .dataframe tbody tr th {\n",
       "        vertical-align: top;\n",
       "    }\n",
       "\n",
       "    .dataframe thead th {\n",
       "        text-align: right;\n",
       "    }\n",
       "</style>\n",
       "<table border=\"1\" class=\"dataframe\">\n",
       "  <thead>\n",
       "    <tr style=\"text-align: right;\">\n",
       "      <th></th>\n",
       "      <th>WriteOff_YN</th>\n",
       "      <th>Predicted Values</th>\n",
       "      <th>Predicted_Prob_WO = 1</th>\n",
       "      <th>OpportunityID</th>\n",
       "      <th>Decile</th>\n",
       "    </tr>\n",
       "  </thead>\n",
       "  <tbody>\n",
       "    <tr>\n",
       "      <th>1786</th>\n",
       "      <td>0</td>\n",
       "      <td>0</td>\n",
       "      <td>0.421098</td>\n",
       "      <td>0062M00000lXc3SQAS</td>\n",
       "      <td>7</td>\n",
       "    </tr>\n",
       "    <tr>\n",
       "      <th>528</th>\n",
       "      <td>0</td>\n",
       "      <td>0</td>\n",
       "      <td>0.273192</td>\n",
       "      <td>0062M00000iap0AQAQ</td>\n",
       "      <td>5</td>\n",
       "    </tr>\n",
       "    <tr>\n",
       "      <th>449</th>\n",
       "      <td>0</td>\n",
       "      <td>1</td>\n",
       "      <td>0.505507</td>\n",
       "      <td>0062M00000gZCzBQAW</td>\n",
       "      <td>8</td>\n",
       "    </tr>\n",
       "    <tr>\n",
       "      <th>1292</th>\n",
       "      <td>1</td>\n",
       "      <td>1</td>\n",
       "      <td>0.751052</td>\n",
       "      <td>0062M00000lpNB6QAM</td>\n",
       "      <td>10</td>\n",
       "    </tr>\n",
       "    <tr>\n",
       "      <th>1097</th>\n",
       "      <td>0</td>\n",
       "      <td>0</td>\n",
       "      <td>0.083135</td>\n",
       "      <td>0062M00000ky8eKQAQ</td>\n",
       "      <td>2</td>\n",
       "    </tr>\n",
       "    <tr>\n",
       "      <th>...</th>\n",
       "      <td>...</td>\n",
       "      <td>...</td>\n",
       "      <td>...</td>\n",
       "      <td>...</td>\n",
       "      <td>...</td>\n",
       "    </tr>\n",
       "    <tr>\n",
       "      <th>2684</th>\n",
       "      <td>1</td>\n",
       "      <td>1</td>\n",
       "      <td>0.828017</td>\n",
       "      <td>0062M00000nomOBQAY</td>\n",
       "      <td>10</td>\n",
       "    </tr>\n",
       "    <tr>\n",
       "      <th>1237</th>\n",
       "      <td>0</td>\n",
       "      <td>0</td>\n",
       "      <td>0.078300</td>\n",
       "      <td>0062M00000l0bcDQAQ</td>\n",
       "      <td>2</td>\n",
       "    </tr>\n",
       "    <tr>\n",
       "      <th>2912</th>\n",
       "      <td>1</td>\n",
       "      <td>0</td>\n",
       "      <td>0.367804</td>\n",
       "      <td>0062M00000nX2oIQAS</td>\n",
       "      <td>6</td>\n",
       "    </tr>\n",
       "    <tr>\n",
       "      <th>2721</th>\n",
       "      <td>1</td>\n",
       "      <td>0</td>\n",
       "      <td>0.234562</td>\n",
       "      <td>0062M00000npHaPQAU</td>\n",
       "      <td>5</td>\n",
       "    </tr>\n",
       "    <tr>\n",
       "      <th>2347</th>\n",
       "      <td>0</td>\n",
       "      <td>0</td>\n",
       "      <td>0.092632</td>\n",
       "      <td>0062M00000n0sLoQAI</td>\n",
       "      <td>2</td>\n",
       "    </tr>\n",
       "  </tbody>\n",
       "</table>\n",
       "<p>627 rows × 5 columns</p>\n",
       "</div>\n",
       "      <button class=\"colab-df-convert\" onclick=\"convertToInteractive('df-0dc182d8-d322-4f58-abcd-660dc6ecf0ad')\"\n",
       "              title=\"Convert this dataframe to an interactive table.\"\n",
       "              style=\"display:none;\">\n",
       "        \n",
       "  <svg xmlns=\"http://www.w3.org/2000/svg\" height=\"24px\"viewBox=\"0 0 24 24\"\n",
       "       width=\"24px\">\n",
       "    <path d=\"M0 0h24v24H0V0z\" fill=\"none\"/>\n",
       "    <path d=\"M18.56 5.44l.94 2.06.94-2.06 2.06-.94-2.06-.94-.94-2.06-.94 2.06-2.06.94zm-11 1L8.5 8.5l.94-2.06 2.06-.94-2.06-.94L8.5 2.5l-.94 2.06-2.06.94zm10 10l.94 2.06.94-2.06 2.06-.94-2.06-.94-.94-2.06-.94 2.06-2.06.94z\"/><path d=\"M17.41 7.96l-1.37-1.37c-.4-.4-.92-.59-1.43-.59-.52 0-1.04.2-1.43.59L10.3 9.45l-7.72 7.72c-.78.78-.78 2.05 0 2.83L4 21.41c.39.39.9.59 1.41.59.51 0 1.02-.2 1.41-.59l7.78-7.78 2.81-2.81c.8-.78.8-2.07 0-2.86zM5.41 20L4 18.59l7.72-7.72 1.47 1.35L5.41 20z\"/>\n",
       "  </svg>\n",
       "      </button>\n",
       "      \n",
       "  <style>\n",
       "    .colab-df-container {\n",
       "      display:flex;\n",
       "      flex-wrap:wrap;\n",
       "      gap: 12px;\n",
       "    }\n",
       "\n",
       "    .colab-df-convert {\n",
       "      background-color: #E8F0FE;\n",
       "      border: none;\n",
       "      border-radius: 50%;\n",
       "      cursor: pointer;\n",
       "      display: none;\n",
       "      fill: #1967D2;\n",
       "      height: 32px;\n",
       "      padding: 0 0 0 0;\n",
       "      width: 32px;\n",
       "    }\n",
       "\n",
       "    .colab-df-convert:hover {\n",
       "      background-color: #E2EBFA;\n",
       "      box-shadow: 0px 1px 2px rgba(60, 64, 67, 0.3), 0px 1px 3px 1px rgba(60, 64, 67, 0.15);\n",
       "      fill: #174EA6;\n",
       "    }\n",
       "\n",
       "    [theme=dark] .colab-df-convert {\n",
       "      background-color: #3B4455;\n",
       "      fill: #D2E3FC;\n",
       "    }\n",
       "\n",
       "    [theme=dark] .colab-df-convert:hover {\n",
       "      background-color: #434B5C;\n",
       "      box-shadow: 0px 1px 3px 1px rgba(0, 0, 0, 0.15);\n",
       "      filter: drop-shadow(0px 1px 2px rgba(0, 0, 0, 0.3));\n",
       "      fill: #FFFFFF;\n",
       "    }\n",
       "  </style>\n",
       "\n",
       "      <script>\n",
       "        const buttonEl =\n",
       "          document.querySelector('#df-0dc182d8-d322-4f58-abcd-660dc6ecf0ad button.colab-df-convert');\n",
       "        buttonEl.style.display =\n",
       "          google.colab.kernel.accessAllowed ? 'block' : 'none';\n",
       "\n",
       "        async function convertToInteractive(key) {\n",
       "          const element = document.querySelector('#df-0dc182d8-d322-4f58-abcd-660dc6ecf0ad');\n",
       "          const dataTable =\n",
       "            await google.colab.kernel.invokeFunction('convertToInteractive',\n",
       "                                                     [key], {});\n",
       "          if (!dataTable) return;\n",
       "\n",
       "          const docLinkHtml = 'Like what you see? Visit the ' +\n",
       "            '<a target=\"_blank\" href=https://colab.research.google.com/notebooks/data_table.ipynb>data table notebook</a>'\n",
       "            + ' to learn more about interactive tables.';\n",
       "          element.innerHTML = '';\n",
       "          dataTable['output_type'] = 'display_data';\n",
       "          await google.colab.output.renderOutput(dataTable, element);\n",
       "          const docLink = document.createElement('div');\n",
       "          docLink.innerHTML = docLinkHtml;\n",
       "          element.appendChild(docLink);\n",
       "        }\n",
       "      </script>\n",
       "    </div>\n",
       "  </div>\n",
       "  "
      ],
      "text/plain": [
       "      WriteOff_YN  Predicted Values  Predicted_Prob_WO = 1  \\\n",
       "1786            0                 0               0.421098   \n",
       "528             0                 0               0.273192   \n",
       "449             0                 1               0.505507   \n",
       "1292            1                 1               0.751052   \n",
       "1097            0                 0               0.083135   \n",
       "...           ...               ...                    ...   \n",
       "2684            1                 1               0.828017   \n",
       "1237            0                 0               0.078300   \n",
       "2912            1                 0               0.367804   \n",
       "2721            1                 0               0.234562   \n",
       "2347            0                 0               0.092632   \n",
       "\n",
       "           OpportunityID Decile  \n",
       "1786  0062M00000lXc3SQAS      7  \n",
       "528   0062M00000iap0AQAQ      5  \n",
       "449   0062M00000gZCzBQAW      8  \n",
       "1292  0062M00000lpNB6QAM     10  \n",
       "1097  0062M00000ky8eKQAQ      2  \n",
       "...                  ...    ...  \n",
       "2684  0062M00000nomOBQAY     10  \n",
       "1237  0062M00000l0bcDQAQ      2  \n",
       "2912  0062M00000nX2oIQAS      6  \n",
       "2721  0062M00000npHaPQAU      5  \n",
       "2347  0062M00000n0sLoQAI      2  \n",
       "\n",
       "[627 rows x 5 columns]"
      ]
     },
     "execution_count": 322,
     "metadata": {},
     "output_type": "execute_result"
    }
   ],
   "source": [
    "check"
   ]
  },
  {
   "cell_type": "code",
   "execution_count": null,
   "id": "d744365b",
   "metadata": {
    "id": "XFt7gZTb1CVQ"
   },
   "outputs": [],
   "source": [
    "check.sort_values([\"Predicted_Prob_WO = 1\"], ascending = True, inplace = True)"
   ]
  },
  {
   "cell_type": "code",
   "execution_count": null,
   "id": "672b516a",
   "metadata": {
    "colab": {
     "base_uri": "https://localhost:8080/",
     "height": 424
    },
    "executionInfo": {
     "elapsed": 5,
     "status": "ok",
     "timestamp": 1662112953107,
     "user": {
      "displayName": "Siddhant Singh",
      "userId": "08343284542219482153"
     },
     "user_tz": -330
    },
    "id": "E046-jrZ1CVQ",
    "outputId": "1dce12a0-58b9-4095-e8e1-60f454d89fa7"
   },
   "outputs": [
    {
     "data": {
      "text/html": [
       "\n",
       "  <div id=\"df-4bf376b8-3049-442f-97c7-a19ac4767675\">\n",
       "    <div class=\"colab-df-container\">\n",
       "      <div>\n",
       "<style scoped>\n",
       "    .dataframe tbody tr th:only-of-type {\n",
       "        vertical-align: middle;\n",
       "    }\n",
       "\n",
       "    .dataframe tbody tr th {\n",
       "        vertical-align: top;\n",
       "    }\n",
       "\n",
       "    .dataframe thead th {\n",
       "        text-align: right;\n",
       "    }\n",
       "</style>\n",
       "<table border=\"1\" class=\"dataframe\">\n",
       "  <thead>\n",
       "    <tr style=\"text-align: right;\">\n",
       "      <th></th>\n",
       "      <th>WriteOff_YN</th>\n",
       "      <th>Predicted Values</th>\n",
       "      <th>Predicted_Prob_WO = 1</th>\n",
       "      <th>OpportunityID</th>\n",
       "      <th>Decile</th>\n",
       "    </tr>\n",
       "  </thead>\n",
       "  <tbody>\n",
       "    <tr>\n",
       "      <th>1356</th>\n",
       "      <td>0</td>\n",
       "      <td>0</td>\n",
       "      <td>0.014322</td>\n",
       "      <td>0062M00000lr5eRQAQ</td>\n",
       "      <td>1</td>\n",
       "    </tr>\n",
       "    <tr>\n",
       "      <th>1651</th>\n",
       "      <td>0</td>\n",
       "      <td>0</td>\n",
       "      <td>0.015413</td>\n",
       "      <td>0062M00000lw0k5QAA</td>\n",
       "      <td>1</td>\n",
       "    </tr>\n",
       "    <tr>\n",
       "      <th>1283</th>\n",
       "      <td>0</td>\n",
       "      <td>0</td>\n",
       "      <td>0.019581</td>\n",
       "      <td>0062M00000lpfYYQAY</td>\n",
       "      <td>1</td>\n",
       "    </tr>\n",
       "    <tr>\n",
       "      <th>2132</th>\n",
       "      <td>0</td>\n",
       "      <td>0</td>\n",
       "      <td>0.026516</td>\n",
       "      <td>0062M00000mTGsbQAG</td>\n",
       "      <td>1</td>\n",
       "    </tr>\n",
       "    <tr>\n",
       "      <th>438</th>\n",
       "      <td>0</td>\n",
       "      <td>0</td>\n",
       "      <td>0.026791</td>\n",
       "      <td>0062M00000gZ0GrQAK</td>\n",
       "      <td>1</td>\n",
       "    </tr>\n",
       "    <tr>\n",
       "      <th>...</th>\n",
       "      <td>...</td>\n",
       "      <td>...</td>\n",
       "      <td>...</td>\n",
       "      <td>...</td>\n",
       "      <td>...</td>\n",
       "    </tr>\n",
       "    <tr>\n",
       "      <th>1961</th>\n",
       "      <td>1</td>\n",
       "      <td>1</td>\n",
       "      <td>0.864678</td>\n",
       "      <td>0062M00000mfOU2QAM</td>\n",
       "      <td>10</td>\n",
       "    </tr>\n",
       "    <tr>\n",
       "      <th>120</th>\n",
       "      <td>0</td>\n",
       "      <td>1</td>\n",
       "      <td>0.873549</td>\n",
       "      <td>0062M00000dhsQwQAI</td>\n",
       "      <td>10</td>\n",
       "    </tr>\n",
       "    <tr>\n",
       "      <th>332</th>\n",
       "      <td>0</td>\n",
       "      <td>1</td>\n",
       "      <td>0.890555</td>\n",
       "      <td>0062M00000ga93OQAQ</td>\n",
       "      <td>10</td>\n",
       "    </tr>\n",
       "    <tr>\n",
       "      <th>756</th>\n",
       "      <td>1</td>\n",
       "      <td>1</td>\n",
       "      <td>0.900068</td>\n",
       "      <td>0062M00000it8QXQAY</td>\n",
       "      <td>10</td>\n",
       "    </tr>\n",
       "    <tr>\n",
       "      <th>1926</th>\n",
       "      <td>1</td>\n",
       "      <td>1</td>\n",
       "      <td>0.904785</td>\n",
       "      <td>0062M00000meXBHQA2</td>\n",
       "      <td>10</td>\n",
       "    </tr>\n",
       "  </tbody>\n",
       "</table>\n",
       "<p>627 rows × 5 columns</p>\n",
       "</div>\n",
       "      <button class=\"colab-df-convert\" onclick=\"convertToInteractive('df-4bf376b8-3049-442f-97c7-a19ac4767675')\"\n",
       "              title=\"Convert this dataframe to an interactive table.\"\n",
       "              style=\"display:none;\">\n",
       "        \n",
       "  <svg xmlns=\"http://www.w3.org/2000/svg\" height=\"24px\"viewBox=\"0 0 24 24\"\n",
       "       width=\"24px\">\n",
       "    <path d=\"M0 0h24v24H0V0z\" fill=\"none\"/>\n",
       "    <path d=\"M18.56 5.44l.94 2.06.94-2.06 2.06-.94-2.06-.94-.94-2.06-.94 2.06-2.06.94zm-11 1L8.5 8.5l.94-2.06 2.06-.94-2.06-.94L8.5 2.5l-.94 2.06-2.06.94zm10 10l.94 2.06.94-2.06 2.06-.94-2.06-.94-.94-2.06-.94 2.06-2.06.94z\"/><path d=\"M17.41 7.96l-1.37-1.37c-.4-.4-.92-.59-1.43-.59-.52 0-1.04.2-1.43.59L10.3 9.45l-7.72 7.72c-.78.78-.78 2.05 0 2.83L4 21.41c.39.39.9.59 1.41.59.51 0 1.02-.2 1.41-.59l7.78-7.78 2.81-2.81c.8-.78.8-2.07 0-2.86zM5.41 20L4 18.59l7.72-7.72 1.47 1.35L5.41 20z\"/>\n",
       "  </svg>\n",
       "      </button>\n",
       "      \n",
       "  <style>\n",
       "    .colab-df-container {\n",
       "      display:flex;\n",
       "      flex-wrap:wrap;\n",
       "      gap: 12px;\n",
       "    }\n",
       "\n",
       "    .colab-df-convert {\n",
       "      background-color: #E8F0FE;\n",
       "      border: none;\n",
       "      border-radius: 50%;\n",
       "      cursor: pointer;\n",
       "      display: none;\n",
       "      fill: #1967D2;\n",
       "      height: 32px;\n",
       "      padding: 0 0 0 0;\n",
       "      width: 32px;\n",
       "    }\n",
       "\n",
       "    .colab-df-convert:hover {\n",
       "      background-color: #E2EBFA;\n",
       "      box-shadow: 0px 1px 2px rgba(60, 64, 67, 0.3), 0px 1px 3px 1px rgba(60, 64, 67, 0.15);\n",
       "      fill: #174EA6;\n",
       "    }\n",
       "\n",
       "    [theme=dark] .colab-df-convert {\n",
       "      background-color: #3B4455;\n",
       "      fill: #D2E3FC;\n",
       "    }\n",
       "\n",
       "    [theme=dark] .colab-df-convert:hover {\n",
       "      background-color: #434B5C;\n",
       "      box-shadow: 0px 1px 3px 1px rgba(0, 0, 0, 0.15);\n",
       "      filter: drop-shadow(0px 1px 2px rgba(0, 0, 0, 0.3));\n",
       "      fill: #FFFFFF;\n",
       "    }\n",
       "  </style>\n",
       "\n",
       "      <script>\n",
       "        const buttonEl =\n",
       "          document.querySelector('#df-4bf376b8-3049-442f-97c7-a19ac4767675 button.colab-df-convert');\n",
       "        buttonEl.style.display =\n",
       "          google.colab.kernel.accessAllowed ? 'block' : 'none';\n",
       "\n",
       "        async function convertToInteractive(key) {\n",
       "          const element = document.querySelector('#df-4bf376b8-3049-442f-97c7-a19ac4767675');\n",
       "          const dataTable =\n",
       "            await google.colab.kernel.invokeFunction('convertToInteractive',\n",
       "                                                     [key], {});\n",
       "          if (!dataTable) return;\n",
       "\n",
       "          const docLinkHtml = 'Like what you see? Visit the ' +\n",
       "            '<a target=\"_blank\" href=https://colab.research.google.com/notebooks/data_table.ipynb>data table notebook</a>'\n",
       "            + ' to learn more about interactive tables.';\n",
       "          element.innerHTML = '';\n",
       "          dataTable['output_type'] = 'display_data';\n",
       "          await google.colab.output.renderOutput(dataTable, element);\n",
       "          const docLink = document.createElement('div');\n",
       "          docLink.innerHTML = docLinkHtml;\n",
       "          element.appendChild(docLink);\n",
       "        }\n",
       "      </script>\n",
       "    </div>\n",
       "  </div>\n",
       "  "
      ],
      "text/plain": [
       "      WriteOff_YN  Predicted Values  Predicted_Prob_WO = 1  \\\n",
       "1356            0                 0               0.014322   \n",
       "1651            0                 0               0.015413   \n",
       "1283            0                 0               0.019581   \n",
       "2132            0                 0               0.026516   \n",
       "438             0                 0               0.026791   \n",
       "...           ...               ...                    ...   \n",
       "1961            1                 1               0.864678   \n",
       "120             0                 1               0.873549   \n",
       "332             0                 1               0.890555   \n",
       "756             1                 1               0.900068   \n",
       "1926            1                 1               0.904785   \n",
       "\n",
       "           OpportunityID Decile  \n",
       "1356  0062M00000lr5eRQAQ      1  \n",
       "1651  0062M00000lw0k5QAA      1  \n",
       "1283  0062M00000lpfYYQAY      1  \n",
       "2132  0062M00000mTGsbQAG      1  \n",
       "438   0062M00000gZ0GrQAK      1  \n",
       "...                  ...    ...  \n",
       "1961  0062M00000mfOU2QAM     10  \n",
       "120   0062M00000dhsQwQAI     10  \n",
       "332   0062M00000ga93OQAQ     10  \n",
       "756   0062M00000it8QXQAY     10  \n",
       "1926  0062M00000meXBHQA2     10  \n",
       "\n",
       "[627 rows x 5 columns]"
      ]
     },
     "execution_count": 324,
     "metadata": {},
     "output_type": "execute_result"
    }
   ],
   "source": [
    "check"
   ]
  },
  {
   "cell_type": "code",
   "execution_count": null,
   "id": "025da773",
   "metadata": {
    "colab": {
     "base_uri": "https://localhost:8080/"
    },
    "executionInfo": {
     "elapsed": 4,
     "status": "ok",
     "timestamp": 1662112953613,
     "user": {
      "displayName": "Siddhant Singh",
      "userId": "08343284542219482153"
     },
     "user_tz": -330
    },
    "id": "KRDN3Wfg1CVR",
    "outputId": "7629783d-294c-4281-d65e-0fc2da43a016"
   },
   "outputs": [
    {
     "data": {
      "text/plain": [
       "array([1, 2, 3, 4, 5, 6, 7, 8, 9, 10], dtype=object)"
      ]
     },
     "execution_count": 325,
     "metadata": {},
     "output_type": "execute_result"
    }
   ],
   "source": [
    "# this will check nan values, missing_values by itself\n",
    "check['Decile'].unique()"
   ]
  },
  {
   "cell_type": "code",
   "execution_count": null,
   "id": "94b4f29c",
   "metadata": {
    "id": "K2MnfNFw1CVR"
   },
   "outputs": [],
   "source": [
    "exp_df = check.copy()"
   ]
  },
  {
   "cell_type": "code",
   "execution_count": null,
   "id": "c945b14a",
   "metadata": {
    "colab": {
     "base_uri": "https://localhost:8080/",
     "height": 424
    },
    "executionInfo": {
     "elapsed": 6,
     "status": "ok",
     "timestamp": 1662112954158,
     "user": {
      "displayName": "Siddhant Singh",
      "userId": "08343284542219482153"
     },
     "user_tz": -330
    },
    "id": "CqPRLsDm1CVS",
    "outputId": "93da0f93-0247-494a-e051-8afa084b5c17"
   },
   "outputs": [
    {
     "data": {
      "text/html": [
       "\n",
       "  <div id=\"df-8e4f1e50-2ac7-4426-bb84-03d11a60b633\">\n",
       "    <div class=\"colab-df-container\">\n",
       "      <div>\n",
       "<style scoped>\n",
       "    .dataframe tbody tr th:only-of-type {\n",
       "        vertical-align: middle;\n",
       "    }\n",
       "\n",
       "    .dataframe tbody tr th {\n",
       "        vertical-align: top;\n",
       "    }\n",
       "\n",
       "    .dataframe thead th {\n",
       "        text-align: right;\n",
       "    }\n",
       "</style>\n",
       "<table border=\"1\" class=\"dataframe\">\n",
       "  <thead>\n",
       "    <tr style=\"text-align: right;\">\n",
       "      <th></th>\n",
       "      <th>WriteOff_YN</th>\n",
       "      <th>Predicted Values</th>\n",
       "      <th>Predicted_Prob_WO = 1</th>\n",
       "      <th>OpportunityID</th>\n",
       "      <th>Decile</th>\n",
       "    </tr>\n",
       "  </thead>\n",
       "  <tbody>\n",
       "    <tr>\n",
       "      <th>1356</th>\n",
       "      <td>0</td>\n",
       "      <td>0</td>\n",
       "      <td>0.014322</td>\n",
       "      <td>0062M00000lr5eRQAQ</td>\n",
       "      <td>1</td>\n",
       "    </tr>\n",
       "    <tr>\n",
       "      <th>1651</th>\n",
       "      <td>0</td>\n",
       "      <td>0</td>\n",
       "      <td>0.015413</td>\n",
       "      <td>0062M00000lw0k5QAA</td>\n",
       "      <td>1</td>\n",
       "    </tr>\n",
       "    <tr>\n",
       "      <th>1283</th>\n",
       "      <td>0</td>\n",
       "      <td>0</td>\n",
       "      <td>0.019581</td>\n",
       "      <td>0062M00000lpfYYQAY</td>\n",
       "      <td>1</td>\n",
       "    </tr>\n",
       "    <tr>\n",
       "      <th>2132</th>\n",
       "      <td>0</td>\n",
       "      <td>0</td>\n",
       "      <td>0.026516</td>\n",
       "      <td>0062M00000mTGsbQAG</td>\n",
       "      <td>1</td>\n",
       "    </tr>\n",
       "    <tr>\n",
       "      <th>438</th>\n",
       "      <td>0</td>\n",
       "      <td>0</td>\n",
       "      <td>0.026791</td>\n",
       "      <td>0062M00000gZ0GrQAK</td>\n",
       "      <td>1</td>\n",
       "    </tr>\n",
       "    <tr>\n",
       "      <th>...</th>\n",
       "      <td>...</td>\n",
       "      <td>...</td>\n",
       "      <td>...</td>\n",
       "      <td>...</td>\n",
       "      <td>...</td>\n",
       "    </tr>\n",
       "    <tr>\n",
       "      <th>1961</th>\n",
       "      <td>1</td>\n",
       "      <td>1</td>\n",
       "      <td>0.864678</td>\n",
       "      <td>0062M00000mfOU2QAM</td>\n",
       "      <td>10</td>\n",
       "    </tr>\n",
       "    <tr>\n",
       "      <th>120</th>\n",
       "      <td>0</td>\n",
       "      <td>1</td>\n",
       "      <td>0.873549</td>\n",
       "      <td>0062M00000dhsQwQAI</td>\n",
       "      <td>10</td>\n",
       "    </tr>\n",
       "    <tr>\n",
       "      <th>332</th>\n",
       "      <td>0</td>\n",
       "      <td>1</td>\n",
       "      <td>0.890555</td>\n",
       "      <td>0062M00000ga93OQAQ</td>\n",
       "      <td>10</td>\n",
       "    </tr>\n",
       "    <tr>\n",
       "      <th>756</th>\n",
       "      <td>1</td>\n",
       "      <td>1</td>\n",
       "      <td>0.900068</td>\n",
       "      <td>0062M00000it8QXQAY</td>\n",
       "      <td>10</td>\n",
       "    </tr>\n",
       "    <tr>\n",
       "      <th>1926</th>\n",
       "      <td>1</td>\n",
       "      <td>1</td>\n",
       "      <td>0.904785</td>\n",
       "      <td>0062M00000meXBHQA2</td>\n",
       "      <td>10</td>\n",
       "    </tr>\n",
       "  </tbody>\n",
       "</table>\n",
       "<p>627 rows × 5 columns</p>\n",
       "</div>\n",
       "      <button class=\"colab-df-convert\" onclick=\"convertToInteractive('df-8e4f1e50-2ac7-4426-bb84-03d11a60b633')\"\n",
       "              title=\"Convert this dataframe to an interactive table.\"\n",
       "              style=\"display:none;\">\n",
       "        \n",
       "  <svg xmlns=\"http://www.w3.org/2000/svg\" height=\"24px\"viewBox=\"0 0 24 24\"\n",
       "       width=\"24px\">\n",
       "    <path d=\"M0 0h24v24H0V0z\" fill=\"none\"/>\n",
       "    <path d=\"M18.56 5.44l.94 2.06.94-2.06 2.06-.94-2.06-.94-.94-2.06-.94 2.06-2.06.94zm-11 1L8.5 8.5l.94-2.06 2.06-.94-2.06-.94L8.5 2.5l-.94 2.06-2.06.94zm10 10l.94 2.06.94-2.06 2.06-.94-2.06-.94-.94-2.06-.94 2.06-2.06.94z\"/><path d=\"M17.41 7.96l-1.37-1.37c-.4-.4-.92-.59-1.43-.59-.52 0-1.04.2-1.43.59L10.3 9.45l-7.72 7.72c-.78.78-.78 2.05 0 2.83L4 21.41c.39.39.9.59 1.41.59.51 0 1.02-.2 1.41-.59l7.78-7.78 2.81-2.81c.8-.78.8-2.07 0-2.86zM5.41 20L4 18.59l7.72-7.72 1.47 1.35L5.41 20z\"/>\n",
       "  </svg>\n",
       "      </button>\n",
       "      \n",
       "  <style>\n",
       "    .colab-df-container {\n",
       "      display:flex;\n",
       "      flex-wrap:wrap;\n",
       "      gap: 12px;\n",
       "    }\n",
       "\n",
       "    .colab-df-convert {\n",
       "      background-color: #E8F0FE;\n",
       "      border: none;\n",
       "      border-radius: 50%;\n",
       "      cursor: pointer;\n",
       "      display: none;\n",
       "      fill: #1967D2;\n",
       "      height: 32px;\n",
       "      padding: 0 0 0 0;\n",
       "      width: 32px;\n",
       "    }\n",
       "\n",
       "    .colab-df-convert:hover {\n",
       "      background-color: #E2EBFA;\n",
       "      box-shadow: 0px 1px 2px rgba(60, 64, 67, 0.3), 0px 1px 3px 1px rgba(60, 64, 67, 0.15);\n",
       "      fill: #174EA6;\n",
       "    }\n",
       "\n",
       "    [theme=dark] .colab-df-convert {\n",
       "      background-color: #3B4455;\n",
       "      fill: #D2E3FC;\n",
       "    }\n",
       "\n",
       "    [theme=dark] .colab-df-convert:hover {\n",
       "      background-color: #434B5C;\n",
       "      box-shadow: 0px 1px 3px 1px rgba(0, 0, 0, 0.15);\n",
       "      filter: drop-shadow(0px 1px 2px rgba(0, 0, 0, 0.3));\n",
       "      fill: #FFFFFF;\n",
       "    }\n",
       "  </style>\n",
       "\n",
       "      <script>\n",
       "        const buttonEl =\n",
       "          document.querySelector('#df-8e4f1e50-2ac7-4426-bb84-03d11a60b633 button.colab-df-convert');\n",
       "        buttonEl.style.display =\n",
       "          google.colab.kernel.accessAllowed ? 'block' : 'none';\n",
       "\n",
       "        async function convertToInteractive(key) {\n",
       "          const element = document.querySelector('#df-8e4f1e50-2ac7-4426-bb84-03d11a60b633');\n",
       "          const dataTable =\n",
       "            await google.colab.kernel.invokeFunction('convertToInteractive',\n",
       "                                                     [key], {});\n",
       "          if (!dataTable) return;\n",
       "\n",
       "          const docLinkHtml = 'Like what you see? Visit the ' +\n",
       "            '<a target=\"_blank\" href=https://colab.research.google.com/notebooks/data_table.ipynb>data table notebook</a>'\n",
       "            + ' to learn more about interactive tables.';\n",
       "          element.innerHTML = '';\n",
       "          dataTable['output_type'] = 'display_data';\n",
       "          await google.colab.output.renderOutput(dataTable, element);\n",
       "          const docLink = document.createElement('div');\n",
       "          docLink.innerHTML = docLinkHtml;\n",
       "          element.appendChild(docLink);\n",
       "        }\n",
       "      </script>\n",
       "    </div>\n",
       "  </div>\n",
       "  "
      ],
      "text/plain": [
       "      WriteOff_YN  Predicted Values  Predicted_Prob_WO = 1  \\\n",
       "1356            0                 0               0.014322   \n",
       "1651            0                 0               0.015413   \n",
       "1283            0                 0               0.019581   \n",
       "2132            0                 0               0.026516   \n",
       "438             0                 0               0.026791   \n",
       "...           ...               ...                    ...   \n",
       "1961            1                 1               0.864678   \n",
       "120             0                 1               0.873549   \n",
       "332             0                 1               0.890555   \n",
       "756             1                 1               0.900068   \n",
       "1926            1                 1               0.904785   \n",
       "\n",
       "           OpportunityID Decile  \n",
       "1356  0062M00000lr5eRQAQ      1  \n",
       "1651  0062M00000lw0k5QAA      1  \n",
       "1283  0062M00000lpfYYQAY      1  \n",
       "2132  0062M00000mTGsbQAG      1  \n",
       "438   0062M00000gZ0GrQAK      1  \n",
       "...                  ...    ...  \n",
       "1961  0062M00000mfOU2QAM     10  \n",
       "120   0062M00000dhsQwQAI     10  \n",
       "332   0062M00000ga93OQAQ     10  \n",
       "756   0062M00000it8QXQAY     10  \n",
       "1926  0062M00000meXBHQA2     10  \n",
       "\n",
       "[627 rows x 5 columns]"
      ]
     },
     "execution_count": 327,
     "metadata": {},
     "output_type": "execute_result"
    }
   ],
   "source": [
    "exp_df"
   ]
  },
  {
   "cell_type": "markdown",
   "id": "1ba72e6a",
   "metadata": {
    "id": "4SrsRWm51CVS"
   },
   "source": [
    "Approach for decile analyses:\n",
    "- Let N = total of data points, P = total no data points with label 1\n",
    "- Sort all N data points using their probability score.\n",
    "- Form decile bins. There will be ten bins with equal no of data points in each bin. Size of each bin will be n = N/10.\n",
    "- For i = 1 to 10\n",
    "           - Let m_i = no data points with label 1 in the ith bin\n",
    "           - Let M_i = no data points with label 1 in bins 1 to i  (i.e. M_i = m_i + M_{i-1})\n",
    "- compute response rate = rr_i = 100*m_i/n.\n",
    "- compute cumulative gain = cg_i = 100*M_i/P.\n",
    "- compute lift = cg_i/(10*i) \n"
   ]
  },
  {
   "cell_type": "code",
   "execution_count": null,
   "id": "df57ac4f",
   "metadata": {
    "colab": {
     "base_uri": "https://localhost:8080/"
    },
    "executionInfo": {
     "elapsed": 10,
     "status": "ok",
     "timestamp": 1662112954977,
     "user": {
      "displayName": "Siddhant Singh",
      "userId": "08343284542219482153"
     },
     "user_tz": -330
    },
    "id": "LXBCuFst1CVS",
    "outputId": "37fa4fd9-eb11-4538-9564-1ef43c2a72b0"
   },
   "outputs": [
    {
     "data": {
      "text/plain": [
       "627"
      ]
     },
     "execution_count": 328,
     "metadata": {},
     "output_type": "execute_result"
    }
   ],
   "source": [
    "N = len(exp_df)\n",
    "N"
   ]
  },
  {
   "cell_type": "code",
   "execution_count": null,
   "id": "4468261c",
   "metadata": {
    "colab": {
     "base_uri": "https://localhost:8080/"
    },
    "executionInfo": {
     "elapsed": 8,
     "status": "ok",
     "timestamp": 1662112954977,
     "user": {
      "displayName": "Siddhant Singh",
      "userId": "08343284542219482153"
     },
     "user_tz": -330
    },
    "id": "awfFSHCj1CVT",
    "outputId": "9c96663d-f9d2-440a-a502-f96033d5d664"
   },
   "outputs": [
    {
     "data": {
      "text/plain": [
       "162"
      ]
     },
     "execution_count": 329,
     "metadata": {},
     "output_type": "execute_result"
    }
   ],
   "source": [
    "P = len(exp_df[exp_df[\"WriteOff_YN\"] == 1])\n",
    "P"
   ]
  },
  {
   "cell_type": "code",
   "execution_count": null,
   "id": "3fc3c8b2",
   "metadata": {
    "colab": {
     "base_uri": "https://localhost:8080/"
    },
    "executionInfo": {
     "elapsed": 5,
     "status": "ok",
     "timestamp": 1662112955519,
     "user": {
      "displayName": "Siddhant Singh",
      "userId": "08343284542219482153"
     },
     "user_tz": -330
    },
    "id": "mFC8Gs201CVT",
    "outputId": "7933260d-3bb6-4dac-aa31-0500cd8818ae"
   },
   "outputs": [
    {
     "data": {
      "text/plain": [
       "0    49\n",
       "1     4\n",
       "Name: WriteOff_YN, dtype: int64"
      ]
     },
     "execution_count": 330,
     "metadata": {},
     "output_type": "execute_result"
    }
   ],
   "source": [
    "# As per the standard - total data points in each decile bin should be 57 (where we assume that Precited_WriteOff_YN = 1) but as our model is not performing good - each bin is providing only 23/57 = 39% \n",
    "# = 24% as predicted_WriteOff_Yn = 1\n",
    "exp_df[exp_df[\"Decile\"] == 1][\"WriteOff_YN\"].value_counts()"
   ]
  },
  {
   "cell_type": "code",
   "execution_count": null,
   "id": "18b96961",
   "metadata": {
    "id": "v9Ux60DY1CVT"
   },
   "outputs": [],
   "source": [
    "m_1 = len(exp_df[(exp_df[\"Decile\"] == 1) & (exp_df[\"WriteOff_YN\"] ==1)])\n",
    "m_2 = len(exp_df[(exp_df[\"Decile\"] == 2) & (exp_df[\"WriteOff_YN\"] ==1)])\n",
    "m_3 = len(exp_df[(exp_df[\"Decile\"] == 3) & (exp_df[\"WriteOff_YN\"] ==1)])\n",
    "m_4 = len(exp_df[(exp_df[\"Decile\"] == 4) & (exp_df[\"WriteOff_YN\"] ==1)])\n",
    "m_5 = len(exp_df[(exp_df[\"Decile\"] == 5) & (exp_df[\"WriteOff_YN\"] ==1)])\n",
    "m_6 = len(exp_df[(exp_df[\"Decile\"] == 6) & (exp_df[\"WriteOff_YN\"] ==1)])\n",
    "m_7 = len(exp_df[(exp_df[\"Decile\"] == 7) & (exp_df[\"WriteOff_YN\"] ==1)])\n",
    "m_8 = len(exp_df[(exp_df[\"Decile\"] == 8) & (exp_df[\"WriteOff_YN\"] ==1)])\n",
    "m_9 = len(exp_df[(exp_df[\"Decile\"] == 9) & (exp_df[\"WriteOff_YN\"] ==1)])\n",
    "m_10 = len(exp_df[(exp_df[\"Decile\"] == 10) & (exp_df[\"WriteOff_YN\"] ==1)])"
   ]
  },
  {
   "cell_type": "code",
   "execution_count": null,
   "id": "26681363",
   "metadata": {
    "colab": {
     "base_uri": "https://localhost:8080/"
    },
    "executionInfo": {
     "elapsed": 5,
     "status": "ok",
     "timestamp": 1662112956574,
     "user": {
      "displayName": "Siddhant Singh",
      "userId": "08343284542219482153"
     },
     "user_tz": -330
    },
    "id": "9cMudgmT1CVU",
    "outputId": "9d20aec5-ca89-4333-afb0-cf5e393b673c"
   },
   "outputs": [
    {
     "data": {
      "text/plain": [
       "(4, 7, 6, 9, 9, 15, 20, 30, 33, 29)"
      ]
     },
     "execution_count": 332,
     "metadata": {},
     "output_type": "execute_result"
    }
   ],
   "source": [
    "#No of writeoffs per decile\n",
    "m_1,m_2,m_3,m_4,m_5,m_6,m_7,m_8,m_9,m_10"
   ]
  },
  {
   "cell_type": "code",
   "execution_count": null,
   "id": "1c0ae9d4",
   "metadata": {
    "id": "9FUMxwYy1CVU"
   },
   "outputs": [],
   "source": [
    "# this is necessary to calculate cummulative gain\n",
    "M_1 = m_1\n",
    "M_2 = M_1 + m_2\n",
    "M_3 = M_2 + m_3\n",
    "M_4 = M_3 + m_4\n",
    "M_5 = M_4 + m_5\n",
    "M_6 = M_5 + m_6\n",
    "M_7 = M_6 + m_7\n",
    "M_8 = M_7 + m_8\n",
    "M_9 = M_8 + m_9\n",
    "M_10 = M_9 + m_10"
   ]
  },
  {
   "cell_type": "code",
   "execution_count": null,
   "id": "86df3165",
   "metadata": {
    "colab": {
     "base_uri": "https://localhost:8080/"
    },
    "executionInfo": {
     "elapsed": 2,
     "status": "ok",
     "timestamp": 1662112957353,
     "user": {
      "displayName": "Siddhant Singh",
      "userId": "08343284542219482153"
     },
     "user_tz": -330
    },
    "id": "J35NM_gI1CVU",
    "outputId": "51ef2601-41f3-4e07-af40-b488fb8b24a0"
   },
   "outputs": [
    {
     "data": {
      "text/plain": [
       "(4, 11, 17, 26, 35, 50, 70, 100, 133, 162)"
      ]
     },
     "execution_count": 334,
     "metadata": {},
     "output_type": "execute_result"
    }
   ],
   "source": [
    "#Cumulative no of writeoffs per decile\n",
    "M_1,M_2,M_3,M_4,M_5,M_6,M_7,M_8,M_9,M_10"
   ]
  },
  {
   "cell_type": "code",
   "execution_count": null,
   "id": "ce3f881d",
   "metadata": {
    "id": "DzLe5hZN1CVV"
   },
   "outputs": [],
   "source": [
    "# What is a response rate? How many percentage of merchants are present in decile 1 having WriteOff_YN = 1 - as we are likely dealing to remove defaulty merchants\n",
    "# compute response rate = rr_i = 100*m_i/n\n",
    "rr_1 = 100 * m_1/len(exp_df[exp_df[\"Decile\"] == 1])\n",
    "rr_2 = 100 * m_2/len(exp_df[exp_df[\"Decile\"] == 2])\n",
    "rr_3 = 100 * m_3/len(exp_df[exp_df[\"Decile\"] == 3])\n",
    "rr_4 = 100 * m_4/len(exp_df[exp_df[\"Decile\"] == 4])\n",
    "rr_5 = 100 * m_5/len(exp_df[exp_df[\"Decile\"] == 5])\n",
    "rr_6 = 100 * m_6/len(exp_df[exp_df[\"Decile\"] == 6])\n",
    "rr_7 = 100 * m_7/len(exp_df[exp_df[\"Decile\"] == 7])\n",
    "rr_8 = 100 * m_8/len(exp_df[exp_df[\"Decile\"] == 8])\n",
    "rr_9 = 100 * m_9/len(exp_df[exp_df[\"Decile\"] == 9])\n",
    "rr_10 = 100 * m_10/len(exp_df[exp_df[\"Decile\"] == 10])"
   ]
  },
  {
   "cell_type": "code",
   "execution_count": null,
   "id": "8471569d",
   "metadata": {
    "colab": {
     "base_uri": "https://localhost:8080/"
    },
    "executionInfo": {
     "elapsed": 6,
     "status": "ok",
     "timestamp": 1662112957900,
     "user": {
      "displayName": "Siddhant Singh",
      "userId": "08343284542219482153"
     },
     "user_tz": -330
    },
    "id": "BzyYHMOk1CVV",
    "outputId": "2013d826-cd2f-4e27-dddd-5a1844a38d70"
   },
   "outputs": [
    {
     "name": "stdout",
     "output_type": "stream",
     "text": [
      "7.547169811320755 9.333333333333334 10.169491525423728 15.0 16.071428571428573 25.423728813559322 25.0 40.54054054054054 56.89655172413793 54.716981132075475\n"
     ]
    }
   ],
   "source": [
    "# rr_i - > basically its a percentage calculation of no. of merchants in each decile bin having writeOff_YN = 0\n",
    "# rr1_1 = (231/231) %\n",
    "print(rr_1,rr_2,rr_3,rr_4,rr_5,rr_6,rr_7,rr_8,rr_9,rr_10) "
   ]
  },
  {
   "cell_type": "code",
   "execution_count": null,
   "id": "ea6d507f",
   "metadata": {
    "id": "rqpWP0rs1CVV"
   },
   "outputs": [],
   "source": [
    "cg_1 = 100*(M_1/P)\n",
    "cg_2 = 100*(M_2/P)\n",
    "cg_3 = 100*(M_3/P)\n",
    "cg_4 = 100*(M_4/P)\n",
    "cg_5 = 100*(M_5/P)\n",
    "cg_6 = 100*(M_6/P)\n",
    "cg_7 = 100*(M_7/P)\n",
    "cg_8 = 100*(M_8/P)\n",
    "cg_9 = 100*(M_9/P)\n",
    "cg_10 = 100*(M_10/P)"
   ]
  },
  {
   "cell_type": "code",
   "execution_count": null,
   "id": "2a5826cb",
   "metadata": {
    "colab": {
     "base_uri": "https://localhost:8080/"
    },
    "executionInfo": {
     "elapsed": 3,
     "status": "ok",
     "timestamp": 1662112958885,
     "user": {
      "displayName": "Siddhant Singh",
      "userId": "08343284542219482153"
     },
     "user_tz": -330
    },
    "id": "3lruLYCF1CVV",
    "outputId": "e75512dd-7503-48d0-9d87-8cb08b0d2268"
   },
   "outputs": [
    {
     "name": "stdout",
     "output_type": "stream",
     "text": [
      "2.4691358024691357 6.790123456790123 10.493827160493826 16.049382716049383 21.604938271604937 30.864197530864196 43.20987654320987 61.72839506172839 82.09876543209876 100.0\n"
     ]
    }
   ],
   "source": [
    "print(cg_1,cg_2,cg_3,cg_4,cg_5,cg_6,cg_7,cg_8,cg_9,cg_10)"
   ]
  },
  {
   "cell_type": "code",
   "execution_count": null,
   "id": "69f5b454",
   "metadata": {
    "colab": {
     "base_uri": "https://localhost:8080/"
    },
    "executionInfo": {
     "elapsed": 2,
     "status": "ok",
     "timestamp": 1662112959311,
     "user": {
      "displayName": "Siddhant Singh",
      "userId": "08343284542219482153"
     },
     "user_tz": -330
    },
    "id": "HnfWYaM61CVW",
    "outputId": "6a8c44ff-1174-4229-f582-c0b9cdcb610c"
   },
   "outputs": [
    {
     "name": "stdout",
     "output_type": "stream",
     "text": [
      "0.24691358024691357 0.3395061728395062 0.34979423868312753 0.4012345679012346 0.43209876543209874 0.51440329218107 0.6172839506172839 0.7716049382716049 0.9122085048010973 1.0\n"
     ]
    }
   ],
   "source": [
    "# Lift formnula = gain / customers % at each decile\n",
    "# This can be used to identify the deciles which have a higher Lift.\n",
    "# compute lift = cg_i/(10*i) \n",
    "lift_1 = cg_1/(10*1)\n",
    "lift_2 = cg_2/(10*2)\n",
    "lift_3 = cg_3/(10*3)\n",
    "lift_4 = cg_4/(10*4)\n",
    "lift_5 = cg_5/(10*5)\n",
    "lift_6 = cg_6/(10*6)\n",
    "lift_7 = cg_7/(10*7)\n",
    "lift_8 = cg_8/(10*8)\n",
    "lift_9 = cg_9/(10*9)\n",
    "lift_10 = cg_10/(10*10)\n",
    "print(lift_1,lift_2,lift_3,lift_4,lift_5,lift_6,lift_7,lift_8,lift_9,lift_10)"
   ]
  },
  {
   "cell_type": "code",
   "execution_count": null,
   "id": "fef329f4",
   "metadata": {
    "id": "3zr9ZNTb1CVW"
   },
   "outputs": [],
   "source": [
    "rr = [rr_1,rr_2,rr_3,rr_4,rr_5,rr_6,rr_7,rr_8,rr_9,rr_10]\n",
    "cg = [cg_1,cg_2,cg_3,cg_4,cg_5,cg_6,cg_7,cg_8,cg_9,cg_10]\n",
    "lift = [lift_1,lift_2,lift_3,lift_4,lift_5,lift_6,lift_7,lift_8,lift_9,lift_10]\n",
    "funded_amt = [funded_amt_d1,funded_amt_d2,funded_amt_d3,funded_amt_d4,funded_amt_d5,funded_amt_d6,funded_amt_d7,funded_amt_d8,funded_amt_d9,funded_amt_d10]\n",
    "gross_amt = [gross_amt_d1, gross_amt_d2, gross_amt_d3, gross_amt_d4, gross_amt_d5, gross_amt_d6, gross_amt_d7, gross_amt_d8, gross_amt_d9, gross_amt_d10]\n",
    "advanced_amt = [advanced_amt_d1, advanced_amt_d2, advanced_amt_d3, advanced_amt_d4, advanced_amt_d5, advanced_amt_d6, advanced_amt_d7, advanced_amt_d8, advanced_amt_d9, advanced_amt_d10]"
   ]
  },
  {
   "cell_type": "code",
   "execution_count": null,
   "id": "3ce3ec37",
   "metadata": {
    "id": "tvdVIKIc1CVW"
   },
   "outputs": [],
   "source": [
    "no_of_wos = [m_1,m_2,m_3,m_4,m_5,m_6,m_7,m_8,m_9,m_10]"
   ]
  },
  {
   "cell_type": "code",
   "execution_count": null,
   "id": "0b558cb8",
   "metadata": {
    "id": "no2xyBsU1CVW"
   },
   "outputs": [],
   "source": [
    "no_of_opps = [len(exp_df[exp_df['Decile']==1]),len(exp_df[exp_df['Decile']==2]),len(exp_df[exp_df['Decile']==3]),\n",
    "              len(exp_df[exp_df['Decile']==4]),len(exp_df[exp_df['Decile']==5]),len(exp_df[exp_df['Decile']==6]),\n",
    "              len(exp_df[exp_df['Decile']==7]),len(exp_df[exp_df['Decile']==8]),len(exp_df[exp_df['Decile']==9]),\n",
    "              len(exp_df[exp_df['Decile']==10])]"
   ]
  },
  {
   "cell_type": "code",
   "execution_count": null,
   "id": "05937d74",
   "metadata": {
    "colab": {
     "base_uri": "https://localhost:8080/"
    },
    "executionInfo": {
     "elapsed": 2,
     "status": "ok",
     "timestamp": 1662112961269,
     "user": {
      "displayName": "Siddhant Singh",
      "userId": "08343284542219482153"
     },
     "user_tz": -330
    },
    "id": "ME9snR7k1CVX",
    "outputId": "6221413d-3099-4369-de5d-dcae370bd815"
   },
   "outputs": [
    {
     "data": {
      "text/plain": [
       "[53, 75, 59, 60, 56, 59, 80, 74, 58, 53]"
      ]
     },
     "execution_count": 343,
     "metadata": {},
     "output_type": "execute_result"
    }
   ],
   "source": [
    "no_of_opps"
   ]
  },
  {
   "cell_type": "code",
   "execution_count": null,
   "id": "779cb31d",
   "metadata": {
    "colab": {
     "base_uri": "https://localhost:8080/"
    },
    "executionInfo": {
     "elapsed": 3,
     "status": "ok",
     "timestamp": 1662112961769,
     "user": {
      "displayName": "Siddhant Singh",
      "userId": "08343284542219482153"
     },
     "user_tz": -330
    },
    "id": "edNtJqdH3hbU",
    "outputId": "9aed601b-f0f5-43a7-fbca-59bb544639d5"
   },
   "outputs": [
    {
     "data": {
      "text/plain": [
       "627"
      ]
     },
     "execution_count": 344,
     "metadata": {},
     "output_type": "execute_result"
    }
   ],
   "source": [
    "sum(no_of_opps)"
   ]
  },
  {
   "cell_type": "code",
   "execution_count": null,
   "id": "fef0c91a",
   "metadata": {
    "colab": {
     "base_uri": "https://localhost:8080/"
    },
    "executionInfo": {
     "elapsed": 6,
     "status": "ok",
     "timestamp": 1662112962242,
     "user": {
      "displayName": "Siddhant Singh",
      "userId": "08343284542219482153"
     },
     "user_tz": -330
    },
    "id": "VuNOqMEE1CVX",
    "outputId": "b5e3dfaa-ea52-441f-8314-b01ae1c58754"
   },
   "outputs": [
    {
     "data": {
      "text/plain": [
       "[730400.0,\n",
       " 1184000.0,\n",
       " 1002350.0,\n",
       " 1382200.0,\n",
       " 1491000.0,\n",
       " 1636245.0,\n",
       " 1218021.0,\n",
       " 1875700.0,\n",
       " 1266000.0,\n",
       " 875000.0]"
      ]
     },
     "execution_count": 345,
     "metadata": {},
     "output_type": "execute_result"
    }
   ],
   "source": [
    "funded_amt"
   ]
  },
  {
   "cell_type": "code",
   "execution_count": null,
   "id": "decee330",
   "metadata": {
    "colab": {
     "base_uri": "https://localhost:8080/"
    },
    "executionInfo": {
     "elapsed": 5,
     "status": "ok",
     "timestamp": 1662112962708,
     "user": {
      "displayName": "Siddhant Singh",
      "userId": "08343284542219482153"
     },
     "user_tz": -330
    },
    "id": "47hwUmAW1CVX",
    "outputId": "8d9f9ca7-b4ae-49c5-895f-de5aeb90b45e"
   },
   "outputs": [
    {
     "data": {
      "text/plain": [
       "array([0.05768935, 0.09351614, 0.07916884, 0.10917062, 0.11776399,\n",
       "       0.12923591, 0.09620323, 0.14814884, 0.09999277, 0.06911032])"
      ]
     },
     "execution_count": 346,
     "metadata": {},
     "output_type": "execute_result"
    }
   ],
   "source": [
    "funded_amt_pct = funded_amt/sum(funded_amt)\n",
    "funded_amt_pct"
   ]
  },
  {
   "cell_type": "code",
   "execution_count": null,
   "id": "c6f49b46",
   "metadata": {
    "colab": {
     "base_uri": "https://localhost:8080/"
    },
    "executionInfo": {
     "elapsed": 10,
     "status": "ok",
     "timestamp": 1662112963167,
     "user": {
      "displayName": "Siddhant Singh",
      "userId": "08343284542219482153"
     },
     "user_tz": -330
    },
    "id": "i8Eg33Tz1CVY",
    "outputId": "bc7bbcd6-d4be-4587-de6a-e085babc5b7c"
   },
   "outputs": [
    {
     "data": {
      "text/plain": [
       "[6182.44,\n",
       " 17352.01,\n",
       " 19177.92,\n",
       " 44369.22,\n",
       " 186085.25,\n",
       " 221336.73999999996,\n",
       " 63824.68,\n",
       " 254764.16000000003,\n",
       " 380293.06,\n",
       " 159925.59999999998]"
      ]
     },
     "execution_count": 347,
     "metadata": {},
     "output_type": "execute_result"
    }
   ],
   "source": [
    "gross_amt"
   ]
  },
  {
   "cell_type": "code",
   "execution_count": null,
   "id": "77517485",
   "metadata": {
    "colab": {
     "base_uri": "https://localhost:8080/"
    },
    "executionInfo": {
     "elapsed": 3,
     "status": "ok",
     "timestamp": 1662112963555,
     "user": {
      "displayName": "Siddhant Singh",
      "userId": "08343284542219482153"
     },
     "user_tz": -330
    },
    "id": "2SEvu-Mp1CVY",
    "outputId": "b06c3ad3-77ab-4f37-c7f2-72dac40e8ccb"
   },
   "outputs": [
    {
     "data": {
      "text/plain": [
       "[0.004568380538198209,\n",
       " 0.01739027363908082,\n",
       " 0.03156138350688741,\n",
       " 0.06434706054427633,\n",
       " 0.20185073782149182,\n",
       " 0.36540274243524257,\n",
       " 0.4125646115304103,\n",
       " 0.6008170863420405,\n",
       " 0.8818264312149132,\n",
       " 1.0]"
      ]
     },
     "execution_count": 348,
     "metadata": {},
     "output_type": "execute_result"
    }
   ],
   "source": [
    "cum_gross_pct = []\n",
    "for i in range(1,11):\n",
    "  cum_gross_pct.append(sum(gross_amt[0:i])/sum(gross_amt))\n",
    "cum_gross_pct"
   ]
  },
  {
   "cell_type": "code",
   "execution_count": null,
   "id": "227e63c5",
   "metadata": {
    "colab": {
     "base_uri": "https://localhost:8080/"
    },
    "executionInfo": {
     "elapsed": 3,
     "status": "ok",
     "timestamp": 1662112964035,
     "user": {
      "displayName": "Siddhant Singh",
      "userId": "08343284542219482153"
     },
     "user_tz": -330
    },
    "id": "w6YN4OHb1CVY",
    "outputId": "7c811e24-3542-46b1-cf5b-206c08f9ee56"
   },
   "outputs": [
    {
     "data": {
      "text/plain": [
       "[0.0084644578313253,\n",
       " 0.01465541385135135,\n",
       " 0.019132957549758068,\n",
       " 0.032100434090580235,\n",
       " 0.12480566733735748,\n",
       " 0.13527114826936062,\n",
       " 0.052400311653083155,\n",
       " 0.13582351122247696,\n",
       " 0.30038946287519747,\n",
       " 0.18277211428571427]"
      ]
     },
     "execution_count": 349,
     "metadata": {},
     "output_type": "execute_result"
    }
   ],
   "source": [
    "gross_amt_pct = []\n",
    "for i in range(10):\n",
    "  gross_amt_pct.append(gross_amt[i]/funded_amt[i])\n",
    "gross_amt_pct"
   ]
  },
  {
   "cell_type": "code",
   "execution_count": null,
   "id": "55bd388e",
   "metadata": {
    "colab": {
     "base_uri": "https://localhost:8080/",
     "height": 407
    },
    "executionInfo": {
     "elapsed": 597,
     "status": "ok",
     "timestamp": 1662112965133,
     "user": {
      "displayName": "Siddhant Singh",
      "userId": "08343284542219482153"
     },
     "user_tz": -330
    },
    "id": "IVMkZf0f1CVY",
    "outputId": "378dd80f-de52-487e-cbe0-e3ff4d3ba945"
   },
   "outputs": [
    {
     "data": {
      "text/html": [
       "\n",
       "  <div id=\"df-1a0b3a89-505c-40fd-af34-3fba7a00166a\">\n",
       "    <div class=\"colab-df-container\">\n",
       "      <div>\n",
       "<style scoped>\n",
       "    .dataframe tbody tr th:only-of-type {\n",
       "        vertical-align: middle;\n",
       "    }\n",
       "\n",
       "    .dataframe tbody tr th {\n",
       "        vertical-align: top;\n",
       "    }\n",
       "\n",
       "    .dataframe thead th {\n",
       "        text-align: right;\n",
       "    }\n",
       "</style>\n",
       "<table border=\"1\" class=\"dataframe\">\n",
       "  <thead>\n",
       "    <tr style=\"text-align: right;\">\n",
       "      <th></th>\n",
       "      <th>Decile</th>\n",
       "      <th>No_of_Opps</th>\n",
       "      <th>No_of_WOs</th>\n",
       "      <th>%_Unit_WO</th>\n",
       "      <th>Cum_Unit_WOs</th>\n",
       "      <th>Funded_$</th>\n",
       "      <th>%_Funded_$</th>\n",
       "      <th>Funded_WO_Gross_$</th>\n",
       "      <th>%_Funded_WO_Gross_$</th>\n",
       "      <th>Cum_WO_$</th>\n",
       "      <th>WOGross_Adv_Bal</th>\n",
       "      <th>Avg_Score</th>\n",
       "      <th>Min_Score</th>\n",
       "      <th>Max_Score</th>\n",
       "    </tr>\n",
       "  </thead>\n",
       "  <tbody>\n",
       "    <tr>\n",
       "      <th>0</th>\n",
       "      <td>1</td>\n",
       "      <td>53</td>\n",
       "      <td>4</td>\n",
       "      <td>7.547170</td>\n",
       "      <td>2.469136</td>\n",
       "      <td>730400.0</td>\n",
       "      <td>0.057689</td>\n",
       "      <td>6182.44</td>\n",
       "      <td>0.008464</td>\n",
       "      <td>0.004568</td>\n",
       "      <td>45737.92</td>\n",
       "      <td>4.56</td>\n",
       "      <td>1.57</td>\n",
       "      <td>6.43</td>\n",
       "    </tr>\n",
       "    <tr>\n",
       "      <th>1</th>\n",
       "      <td>2</td>\n",
       "      <td>75</td>\n",
       "      <td>7</td>\n",
       "      <td>9.333333</td>\n",
       "      <td>6.790123</td>\n",
       "      <td>1184000.0</td>\n",
       "      <td>0.093516</td>\n",
       "      <td>17352.01</td>\n",
       "      <td>0.014655</td>\n",
       "      <td>0.017390</td>\n",
       "      <td>66642.95</td>\n",
       "      <td>8.28</td>\n",
       "      <td>6.44</td>\n",
       "      <td>10.43</td>\n",
       "    </tr>\n",
       "    <tr>\n",
       "      <th>2</th>\n",
       "      <td>3</td>\n",
       "      <td>59</td>\n",
       "      <td>6</td>\n",
       "      <td>10.169492</td>\n",
       "      <td>10.493827</td>\n",
       "      <td>1002350.0</td>\n",
       "      <td>0.079169</td>\n",
       "      <td>19177.92</td>\n",
       "      <td>0.019133</td>\n",
       "      <td>0.031561</td>\n",
       "      <td>61280.72</td>\n",
       "      <td>13.01</td>\n",
       "      <td>10.48</td>\n",
       "      <td>15.77</td>\n",
       "    </tr>\n",
       "    <tr>\n",
       "      <th>3</th>\n",
       "      <td>4</td>\n",
       "      <td>60</td>\n",
       "      <td>9</td>\n",
       "      <td>15.000000</td>\n",
       "      <td>16.049383</td>\n",
       "      <td>1382200.0</td>\n",
       "      <td>0.109171</td>\n",
       "      <td>44369.22</td>\n",
       "      <td>0.032100</td>\n",
       "      <td>0.064347</td>\n",
       "      <td>82068.47</td>\n",
       "      <td>19.30</td>\n",
       "      <td>15.79</td>\n",
       "      <td>22.50</td>\n",
       "    </tr>\n",
       "    <tr>\n",
       "      <th>4</th>\n",
       "      <td>5</td>\n",
       "      <td>56</td>\n",
       "      <td>9</td>\n",
       "      <td>16.071429</td>\n",
       "      <td>21.604938</td>\n",
       "      <td>1491000.0</td>\n",
       "      <td>0.117764</td>\n",
       "      <td>186085.25</td>\n",
       "      <td>0.124806</td>\n",
       "      <td>0.201851</td>\n",
       "      <td>371743.71</td>\n",
       "      <td>26.66</td>\n",
       "      <td>22.52</td>\n",
       "      <td>30.39</td>\n",
       "    </tr>\n",
       "    <tr>\n",
       "      <th>5</th>\n",
       "      <td>6</td>\n",
       "      <td>59</td>\n",
       "      <td>15</td>\n",
       "      <td>25.423729</td>\n",
       "      <td>30.864198</td>\n",
       "      <td>1636245.0</td>\n",
       "      <td>0.129236</td>\n",
       "      <td>221336.74</td>\n",
       "      <td>0.135271</td>\n",
       "      <td>0.365403</td>\n",
       "      <td>577656.94</td>\n",
       "      <td>34.14</td>\n",
       "      <td>30.42</td>\n",
       "      <td>38.02</td>\n",
       "    </tr>\n",
       "    <tr>\n",
       "      <th>6</th>\n",
       "      <td>7</td>\n",
       "      <td>80</td>\n",
       "      <td>20</td>\n",
       "      <td>25.000000</td>\n",
       "      <td>43.209877</td>\n",
       "      <td>1218021.0</td>\n",
       "      <td>0.096203</td>\n",
       "      <td>63824.68</td>\n",
       "      <td>0.052400</td>\n",
       "      <td>0.412565</td>\n",
       "      <td>151339.59</td>\n",
       "      <td>42.65</td>\n",
       "      <td>38.06</td>\n",
       "      <td>47.31</td>\n",
       "    </tr>\n",
       "    <tr>\n",
       "      <th>7</th>\n",
       "      <td>8</td>\n",
       "      <td>74</td>\n",
       "      <td>30</td>\n",
       "      <td>40.540541</td>\n",
       "      <td>61.728395</td>\n",
       "      <td>1875700.0</td>\n",
       "      <td>0.148149</td>\n",
       "      <td>254764.16</td>\n",
       "      <td>0.135824</td>\n",
       "      <td>0.600817</td>\n",
       "      <td>695403.53</td>\n",
       "      <td>52.13</td>\n",
       "      <td>47.39</td>\n",
       "      <td>56.78</td>\n",
       "    </tr>\n",
       "    <tr>\n",
       "      <th>8</th>\n",
       "      <td>9</td>\n",
       "      <td>58</td>\n",
       "      <td>33</td>\n",
       "      <td>56.896552</td>\n",
       "      <td>82.098765</td>\n",
       "      <td>1266000.0</td>\n",
       "      <td>0.099993</td>\n",
       "      <td>380293.06</td>\n",
       "      <td>0.300389</td>\n",
       "      <td>0.881826</td>\n",
       "      <td>698976.06</td>\n",
       "      <td>61.84</td>\n",
       "      <td>56.80</td>\n",
       "      <td>67.33</td>\n",
       "    </tr>\n",
       "    <tr>\n",
       "      <th>9</th>\n",
       "      <td>10</td>\n",
       "      <td>53</td>\n",
       "      <td>29</td>\n",
       "      <td>54.716981</td>\n",
       "      <td>100.000000</td>\n",
       "      <td>875000.0</td>\n",
       "      <td>0.069110</td>\n",
       "      <td>159925.60</td>\n",
       "      <td>0.182772</td>\n",
       "      <td>1.000000</td>\n",
       "      <td>330814.17</td>\n",
       "      <td>75.76</td>\n",
       "      <td>67.61</td>\n",
       "      <td>92.85</td>\n",
       "    </tr>\n",
       "  </tbody>\n",
       "</table>\n",
       "</div>\n",
       "      <button class=\"colab-df-convert\" onclick=\"convertToInteractive('df-1a0b3a89-505c-40fd-af34-3fba7a00166a')\"\n",
       "              title=\"Convert this dataframe to an interactive table.\"\n",
       "              style=\"display:none;\">\n",
       "        \n",
       "  <svg xmlns=\"http://www.w3.org/2000/svg\" height=\"24px\"viewBox=\"0 0 24 24\"\n",
       "       width=\"24px\">\n",
       "    <path d=\"M0 0h24v24H0V0z\" fill=\"none\"/>\n",
       "    <path d=\"M18.56 5.44l.94 2.06.94-2.06 2.06-.94-2.06-.94-.94-2.06-.94 2.06-2.06.94zm-11 1L8.5 8.5l.94-2.06 2.06-.94-2.06-.94L8.5 2.5l-.94 2.06-2.06.94zm10 10l.94 2.06.94-2.06 2.06-.94-2.06-.94-.94-2.06-.94 2.06-2.06.94z\"/><path d=\"M17.41 7.96l-1.37-1.37c-.4-.4-.92-.59-1.43-.59-.52 0-1.04.2-1.43.59L10.3 9.45l-7.72 7.72c-.78.78-.78 2.05 0 2.83L4 21.41c.39.39.9.59 1.41.59.51 0 1.02-.2 1.41-.59l7.78-7.78 2.81-2.81c.8-.78.8-2.07 0-2.86zM5.41 20L4 18.59l7.72-7.72 1.47 1.35L5.41 20z\"/>\n",
       "  </svg>\n",
       "      </button>\n",
       "      \n",
       "  <style>\n",
       "    .colab-df-container {\n",
       "      display:flex;\n",
       "      flex-wrap:wrap;\n",
       "      gap: 12px;\n",
       "    }\n",
       "\n",
       "    .colab-df-convert {\n",
       "      background-color: #E8F0FE;\n",
       "      border: none;\n",
       "      border-radius: 50%;\n",
       "      cursor: pointer;\n",
       "      display: none;\n",
       "      fill: #1967D2;\n",
       "      height: 32px;\n",
       "      padding: 0 0 0 0;\n",
       "      width: 32px;\n",
       "    }\n",
       "\n",
       "    .colab-df-convert:hover {\n",
       "      background-color: #E2EBFA;\n",
       "      box-shadow: 0px 1px 2px rgba(60, 64, 67, 0.3), 0px 1px 3px 1px rgba(60, 64, 67, 0.15);\n",
       "      fill: #174EA6;\n",
       "    }\n",
       "\n",
       "    [theme=dark] .colab-df-convert {\n",
       "      background-color: #3B4455;\n",
       "      fill: #D2E3FC;\n",
       "    }\n",
       "\n",
       "    [theme=dark] .colab-df-convert:hover {\n",
       "      background-color: #434B5C;\n",
       "      box-shadow: 0px 1px 3px 1px rgba(0, 0, 0, 0.15);\n",
       "      filter: drop-shadow(0px 1px 2px rgba(0, 0, 0, 0.3));\n",
       "      fill: #FFFFFF;\n",
       "    }\n",
       "  </style>\n",
       "\n",
       "      <script>\n",
       "        const buttonEl =\n",
       "          document.querySelector('#df-1a0b3a89-505c-40fd-af34-3fba7a00166a button.colab-df-convert');\n",
       "        buttonEl.style.display =\n",
       "          google.colab.kernel.accessAllowed ? 'block' : 'none';\n",
       "\n",
       "        async function convertToInteractive(key) {\n",
       "          const element = document.querySelector('#df-1a0b3a89-505c-40fd-af34-3fba7a00166a');\n",
       "          const dataTable =\n",
       "            await google.colab.kernel.invokeFunction('convertToInteractive',\n",
       "                                                     [key], {});\n",
       "          if (!dataTable) return;\n",
       "\n",
       "          const docLinkHtml = 'Like what you see? Visit the ' +\n",
       "            '<a target=\"_blank\" href=https://colab.research.google.com/notebooks/data_table.ipynb>data table notebook</a>'\n",
       "            + ' to learn more about interactive tables.';\n",
       "          element.innerHTML = '';\n",
       "          dataTable['output_type'] = 'display_data';\n",
       "          await google.colab.output.renderOutput(dataTable, element);\n",
       "          const docLink = document.createElement('div');\n",
       "          docLink.innerHTML = docLinkHtml;\n",
       "          element.appendChild(docLink);\n",
       "        }\n",
       "      </script>\n",
       "    </div>\n",
       "  </div>\n",
       "  "
      ],
      "text/plain": [
       "   Decile  No_of_Opps  No_of_WOs  %_Unit_WO  Cum_Unit_WOs   Funded_$  \\\n",
       "0       1          53          4   7.547170      2.469136   730400.0   \n",
       "1       2          75          7   9.333333      6.790123  1184000.0   \n",
       "2       3          59          6  10.169492     10.493827  1002350.0   \n",
       "3       4          60          9  15.000000     16.049383  1382200.0   \n",
       "4       5          56          9  16.071429     21.604938  1491000.0   \n",
       "5       6          59         15  25.423729     30.864198  1636245.0   \n",
       "6       7          80         20  25.000000     43.209877  1218021.0   \n",
       "7       8          74         30  40.540541     61.728395  1875700.0   \n",
       "8       9          58         33  56.896552     82.098765  1266000.0   \n",
       "9      10          53         29  54.716981    100.000000   875000.0   \n",
       "\n",
       "   %_Funded_$  Funded_WO_Gross_$  %_Funded_WO_Gross_$  Cum_WO_$  \\\n",
       "0    0.057689            6182.44             0.008464  0.004568   \n",
       "1    0.093516           17352.01             0.014655  0.017390   \n",
       "2    0.079169           19177.92             0.019133  0.031561   \n",
       "3    0.109171           44369.22             0.032100  0.064347   \n",
       "4    0.117764          186085.25             0.124806  0.201851   \n",
       "5    0.129236          221336.74             0.135271  0.365403   \n",
       "6    0.096203           63824.68             0.052400  0.412565   \n",
       "7    0.148149          254764.16             0.135824  0.600817   \n",
       "8    0.099993          380293.06             0.300389  0.881826   \n",
       "9    0.069110          159925.60             0.182772  1.000000   \n",
       "\n",
       "   WOGross_Adv_Bal  Avg_Score  Min_Score  Max_Score  \n",
       "0         45737.92       4.56       1.57       6.43  \n",
       "1         66642.95       8.28       6.44      10.43  \n",
       "2         61280.72      13.01      10.48      15.77  \n",
       "3         82068.47      19.30      15.79      22.50  \n",
       "4        371743.71      26.66      22.52      30.39  \n",
       "5        577656.94      34.14      30.42      38.02  \n",
       "6        151339.59      42.65      38.06      47.31  \n",
       "7        695403.53      52.13      47.39      56.78  \n",
       "8        698976.06      61.84      56.80      67.33  \n",
       "9        330814.17      75.76      67.61      92.85  "
      ]
     },
     "execution_count": 350,
     "metadata": {},
     "output_type": "execute_result"
    }
   ],
   "source": [
    "dict_try = {\"Decile\": [i for i in range(1,11)],\n",
    "            \"No_of_Opps\" : no_of_opps, \n",
    "            \"No_of_WOs\" : no_of_wos,\n",
    "            \"%_Unit_WO\": rr,\n",
    "            \"Cum_Unit_WOs\" : cg,\n",
    "            #'Lift': lift,\n",
    "            'Funded_$':funded_amt,\n",
    "            '%_Funded_$':funded_amt_pct,\n",
    "            'Funded_WO_Gross_$':gross_amt,\n",
    "            '%_Funded_WO_Gross_$':gross_amt_pct,\n",
    "            \"Cum_WO_$\" :cum_gross_pct,\n",
    "            'WOGross_Adv_Bal':advanced_amt,\n",
    "            'Avg_Score':avg_range_dec,\n",
    "            'Min_Score': min_range_dec,\n",
    "            'Max_Score': max_range_dec}\n",
    "\n",
    "final_df = pd.DataFrame(dict_try)\n",
    "final_df\n"
   ]
  },
  {
   "cell_type": "code",
   "execution_count": null,
   "id": "f3b485c6",
   "metadata": {
    "colab": {
     "base_uri": "https://localhost:8080/",
     "height": 407
    },
    "executionInfo": {
     "elapsed": 18,
     "status": "ok",
     "timestamp": 1662112965135,
     "user": {
      "displayName": "Siddhant Singh",
      "userId": "08343284542219482153"
     },
     "user_tz": -330
    },
    "id": "XSG3EgayF1AM",
    "outputId": "c61f3852-53b5-489a-b54d-e459cfcb0e1f"
   },
   "outputs": [
    {
     "data": {
      "text/html": [
       "\n",
       "  <div id=\"df-ad3d0200-bc85-4695-9b9b-d8268253b9d3\">\n",
       "    <div class=\"colab-df-container\">\n",
       "      <div>\n",
       "<style scoped>\n",
       "    .dataframe tbody tr th:only-of-type {\n",
       "        vertical-align: middle;\n",
       "    }\n",
       "\n",
       "    .dataframe tbody tr th {\n",
       "        vertical-align: top;\n",
       "    }\n",
       "\n",
       "    .dataframe thead th {\n",
       "        text-align: right;\n",
       "    }\n",
       "</style>\n",
       "<table border=\"1\" class=\"dataframe\">\n",
       "  <thead>\n",
       "    <tr style=\"text-align: right;\">\n",
       "      <th></th>\n",
       "      <th>Decile</th>\n",
       "      <th>No_of_Opps</th>\n",
       "      <th>No_of_WOs</th>\n",
       "      <th>%_Unit_WO</th>\n",
       "      <th>Cum_Unit_WOs</th>\n",
       "      <th>Funded_$</th>\n",
       "      <th>%_Funded_$</th>\n",
       "      <th>Funded_WO_Gross_$</th>\n",
       "      <th>%_Funded_WO_Gross_$</th>\n",
       "      <th>Cum_WO_$</th>\n",
       "      <th>WOGross_Adv_Bal</th>\n",
       "      <th>Avg_Score</th>\n",
       "      <th>Min_Score</th>\n",
       "      <th>Max_Score</th>\n",
       "    </tr>\n",
       "  </thead>\n",
       "  <tbody>\n",
       "    <tr>\n",
       "      <th>0</th>\n",
       "      <td>1</td>\n",
       "      <td>53</td>\n",
       "      <td>4</td>\n",
       "      <td>7.55</td>\n",
       "      <td>2.47</td>\n",
       "      <td>730400.0</td>\n",
       "      <td>5.77</td>\n",
       "      <td>6182.44</td>\n",
       "      <td>0.85</td>\n",
       "      <td>0.46</td>\n",
       "      <td>45737.92</td>\n",
       "      <td>4.56</td>\n",
       "      <td>1.57</td>\n",
       "      <td>6.43</td>\n",
       "    </tr>\n",
       "    <tr>\n",
       "      <th>1</th>\n",
       "      <td>2</td>\n",
       "      <td>75</td>\n",
       "      <td>7</td>\n",
       "      <td>9.33</td>\n",
       "      <td>6.79</td>\n",
       "      <td>1184000.0</td>\n",
       "      <td>9.35</td>\n",
       "      <td>17352.01</td>\n",
       "      <td>1.47</td>\n",
       "      <td>1.74</td>\n",
       "      <td>66642.95</td>\n",
       "      <td>8.28</td>\n",
       "      <td>6.44</td>\n",
       "      <td>10.43</td>\n",
       "    </tr>\n",
       "    <tr>\n",
       "      <th>2</th>\n",
       "      <td>3</td>\n",
       "      <td>59</td>\n",
       "      <td>6</td>\n",
       "      <td>10.17</td>\n",
       "      <td>10.49</td>\n",
       "      <td>1002350.0</td>\n",
       "      <td>7.92</td>\n",
       "      <td>19177.92</td>\n",
       "      <td>1.91</td>\n",
       "      <td>3.16</td>\n",
       "      <td>61280.72</td>\n",
       "      <td>13.01</td>\n",
       "      <td>10.48</td>\n",
       "      <td>15.77</td>\n",
       "    </tr>\n",
       "    <tr>\n",
       "      <th>3</th>\n",
       "      <td>4</td>\n",
       "      <td>60</td>\n",
       "      <td>9</td>\n",
       "      <td>15.00</td>\n",
       "      <td>16.05</td>\n",
       "      <td>1382200.0</td>\n",
       "      <td>10.92</td>\n",
       "      <td>44369.22</td>\n",
       "      <td>3.21</td>\n",
       "      <td>6.43</td>\n",
       "      <td>82068.47</td>\n",
       "      <td>19.30</td>\n",
       "      <td>15.79</td>\n",
       "      <td>22.50</td>\n",
       "    </tr>\n",
       "    <tr>\n",
       "      <th>4</th>\n",
       "      <td>5</td>\n",
       "      <td>56</td>\n",
       "      <td>9</td>\n",
       "      <td>16.07</td>\n",
       "      <td>21.60</td>\n",
       "      <td>1491000.0</td>\n",
       "      <td>11.78</td>\n",
       "      <td>186085.25</td>\n",
       "      <td>12.48</td>\n",
       "      <td>20.19</td>\n",
       "      <td>371743.71</td>\n",
       "      <td>26.66</td>\n",
       "      <td>22.52</td>\n",
       "      <td>30.39</td>\n",
       "    </tr>\n",
       "    <tr>\n",
       "      <th>5</th>\n",
       "      <td>6</td>\n",
       "      <td>59</td>\n",
       "      <td>15</td>\n",
       "      <td>25.42</td>\n",
       "      <td>30.86</td>\n",
       "      <td>1636245.0</td>\n",
       "      <td>12.92</td>\n",
       "      <td>221336.74</td>\n",
       "      <td>13.53</td>\n",
       "      <td>36.54</td>\n",
       "      <td>577656.94</td>\n",
       "      <td>34.14</td>\n",
       "      <td>30.42</td>\n",
       "      <td>38.02</td>\n",
       "    </tr>\n",
       "    <tr>\n",
       "      <th>6</th>\n",
       "      <td>7</td>\n",
       "      <td>80</td>\n",
       "      <td>20</td>\n",
       "      <td>25.00</td>\n",
       "      <td>43.21</td>\n",
       "      <td>1218021.0</td>\n",
       "      <td>9.62</td>\n",
       "      <td>63824.68</td>\n",
       "      <td>5.24</td>\n",
       "      <td>41.26</td>\n",
       "      <td>151339.59</td>\n",
       "      <td>42.65</td>\n",
       "      <td>38.06</td>\n",
       "      <td>47.31</td>\n",
       "    </tr>\n",
       "    <tr>\n",
       "      <th>7</th>\n",
       "      <td>8</td>\n",
       "      <td>74</td>\n",
       "      <td>30</td>\n",
       "      <td>40.54</td>\n",
       "      <td>61.73</td>\n",
       "      <td>1875700.0</td>\n",
       "      <td>14.81</td>\n",
       "      <td>254764.16</td>\n",
       "      <td>13.58</td>\n",
       "      <td>60.08</td>\n",
       "      <td>695403.53</td>\n",
       "      <td>52.13</td>\n",
       "      <td>47.39</td>\n",
       "      <td>56.78</td>\n",
       "    </tr>\n",
       "    <tr>\n",
       "      <th>8</th>\n",
       "      <td>9</td>\n",
       "      <td>58</td>\n",
       "      <td>33</td>\n",
       "      <td>56.90</td>\n",
       "      <td>82.10</td>\n",
       "      <td>1266000.0</td>\n",
       "      <td>10.00</td>\n",
       "      <td>380293.06</td>\n",
       "      <td>30.04</td>\n",
       "      <td>88.18</td>\n",
       "      <td>698976.06</td>\n",
       "      <td>61.84</td>\n",
       "      <td>56.80</td>\n",
       "      <td>67.33</td>\n",
       "    </tr>\n",
       "    <tr>\n",
       "      <th>9</th>\n",
       "      <td>10</td>\n",
       "      <td>53</td>\n",
       "      <td>29</td>\n",
       "      <td>54.72</td>\n",
       "      <td>100.00</td>\n",
       "      <td>875000.0</td>\n",
       "      <td>6.91</td>\n",
       "      <td>159925.60</td>\n",
       "      <td>18.28</td>\n",
       "      <td>100.00</td>\n",
       "      <td>330814.17</td>\n",
       "      <td>75.76</td>\n",
       "      <td>67.61</td>\n",
       "      <td>92.85</td>\n",
       "    </tr>\n",
       "  </tbody>\n",
       "</table>\n",
       "</div>\n",
       "      <button class=\"colab-df-convert\" onclick=\"convertToInteractive('df-ad3d0200-bc85-4695-9b9b-d8268253b9d3')\"\n",
       "              title=\"Convert this dataframe to an interactive table.\"\n",
       "              style=\"display:none;\">\n",
       "        \n",
       "  <svg xmlns=\"http://www.w3.org/2000/svg\" height=\"24px\"viewBox=\"0 0 24 24\"\n",
       "       width=\"24px\">\n",
       "    <path d=\"M0 0h24v24H0V0z\" fill=\"none\"/>\n",
       "    <path d=\"M18.56 5.44l.94 2.06.94-2.06 2.06-.94-2.06-.94-.94-2.06-.94 2.06-2.06.94zm-11 1L8.5 8.5l.94-2.06 2.06-.94-2.06-.94L8.5 2.5l-.94 2.06-2.06.94zm10 10l.94 2.06.94-2.06 2.06-.94-2.06-.94-.94-2.06-.94 2.06-2.06.94z\"/><path d=\"M17.41 7.96l-1.37-1.37c-.4-.4-.92-.59-1.43-.59-.52 0-1.04.2-1.43.59L10.3 9.45l-7.72 7.72c-.78.78-.78 2.05 0 2.83L4 21.41c.39.39.9.59 1.41.59.51 0 1.02-.2 1.41-.59l7.78-7.78 2.81-2.81c.8-.78.8-2.07 0-2.86zM5.41 20L4 18.59l7.72-7.72 1.47 1.35L5.41 20z\"/>\n",
       "  </svg>\n",
       "      </button>\n",
       "      \n",
       "  <style>\n",
       "    .colab-df-container {\n",
       "      display:flex;\n",
       "      flex-wrap:wrap;\n",
       "      gap: 12px;\n",
       "    }\n",
       "\n",
       "    .colab-df-convert {\n",
       "      background-color: #E8F0FE;\n",
       "      border: none;\n",
       "      border-radius: 50%;\n",
       "      cursor: pointer;\n",
       "      display: none;\n",
       "      fill: #1967D2;\n",
       "      height: 32px;\n",
       "      padding: 0 0 0 0;\n",
       "      width: 32px;\n",
       "    }\n",
       "\n",
       "    .colab-df-convert:hover {\n",
       "      background-color: #E2EBFA;\n",
       "      box-shadow: 0px 1px 2px rgba(60, 64, 67, 0.3), 0px 1px 3px 1px rgba(60, 64, 67, 0.15);\n",
       "      fill: #174EA6;\n",
       "    }\n",
       "\n",
       "    [theme=dark] .colab-df-convert {\n",
       "      background-color: #3B4455;\n",
       "      fill: #D2E3FC;\n",
       "    }\n",
       "\n",
       "    [theme=dark] .colab-df-convert:hover {\n",
       "      background-color: #434B5C;\n",
       "      box-shadow: 0px 1px 3px 1px rgba(0, 0, 0, 0.15);\n",
       "      filter: drop-shadow(0px 1px 2px rgba(0, 0, 0, 0.3));\n",
       "      fill: #FFFFFF;\n",
       "    }\n",
       "  </style>\n",
       "\n",
       "      <script>\n",
       "        const buttonEl =\n",
       "          document.querySelector('#df-ad3d0200-bc85-4695-9b9b-d8268253b9d3 button.colab-df-convert');\n",
       "        buttonEl.style.display =\n",
       "          google.colab.kernel.accessAllowed ? 'block' : 'none';\n",
       "\n",
       "        async function convertToInteractive(key) {\n",
       "          const element = document.querySelector('#df-ad3d0200-bc85-4695-9b9b-d8268253b9d3');\n",
       "          const dataTable =\n",
       "            await google.colab.kernel.invokeFunction('convertToInteractive',\n",
       "                                                     [key], {});\n",
       "          if (!dataTable) return;\n",
       "\n",
       "          const docLinkHtml = 'Like what you see? Visit the ' +\n",
       "            '<a target=\"_blank\" href=https://colab.research.google.com/notebooks/data_table.ipynb>data table notebook</a>'\n",
       "            + ' to learn more about interactive tables.';\n",
       "          element.innerHTML = '';\n",
       "          dataTable['output_type'] = 'display_data';\n",
       "          await google.colab.output.renderOutput(dataTable, element);\n",
       "          const docLink = document.createElement('div');\n",
       "          docLink.innerHTML = docLinkHtml;\n",
       "          element.appendChild(docLink);\n",
       "        }\n",
       "      </script>\n",
       "    </div>\n",
       "  </div>\n",
       "  "
      ],
      "text/plain": [
       "   Decile  No_of_Opps  No_of_WOs  %_Unit_WO  Cum_Unit_WOs   Funded_$  \\\n",
       "0       1          53          4       7.55          2.47   730400.0   \n",
       "1       2          75          7       9.33          6.79  1184000.0   \n",
       "2       3          59          6      10.17         10.49  1002350.0   \n",
       "3       4          60          9      15.00         16.05  1382200.0   \n",
       "4       5          56          9      16.07         21.60  1491000.0   \n",
       "5       6          59         15      25.42         30.86  1636245.0   \n",
       "6       7          80         20      25.00         43.21  1218021.0   \n",
       "7       8          74         30      40.54         61.73  1875700.0   \n",
       "8       9          58         33      56.90         82.10  1266000.0   \n",
       "9      10          53         29      54.72        100.00   875000.0   \n",
       "\n",
       "   %_Funded_$  Funded_WO_Gross_$  %_Funded_WO_Gross_$  Cum_WO_$  \\\n",
       "0        5.77            6182.44                 0.85      0.46   \n",
       "1        9.35           17352.01                 1.47      1.74   \n",
       "2        7.92           19177.92                 1.91      3.16   \n",
       "3       10.92           44369.22                 3.21      6.43   \n",
       "4       11.78          186085.25                12.48     20.19   \n",
       "5       12.92          221336.74                13.53     36.54   \n",
       "6        9.62           63824.68                 5.24     41.26   \n",
       "7       14.81          254764.16                13.58     60.08   \n",
       "8       10.00          380293.06                30.04     88.18   \n",
       "9        6.91          159925.60                18.28    100.00   \n",
       "\n",
       "   WOGross_Adv_Bal  Avg_Score  Min_Score  Max_Score  \n",
       "0         45737.92       4.56       1.57       6.43  \n",
       "1         66642.95       8.28       6.44      10.43  \n",
       "2         61280.72      13.01      10.48      15.77  \n",
       "3         82068.47      19.30      15.79      22.50  \n",
       "4        371743.71      26.66      22.52      30.39  \n",
       "5        577656.94      34.14      30.42      38.02  \n",
       "6        151339.59      42.65      38.06      47.31  \n",
       "7        695403.53      52.13      47.39      56.78  \n",
       "8        698976.06      61.84      56.80      67.33  \n",
       "9        330814.17      75.76      67.61      92.85  "
      ]
     },
     "execution_count": 351,
     "metadata": {},
     "output_type": "execute_result"
    }
   ],
   "source": [
    "final_df['%_Funded_$'] = 100*final_df['%_Funded_$']\n",
    "final_df['%_Funded_WO_Gross_$'] = 100*final_df['%_Funded_WO_Gross_$']\n",
    "final_df['Cum_WO_$'] = 100*final_df['Cum_WO_$']\n",
    "final_df = final_df.round(2)\n",
    "final_df"
   ]
  },
  {
   "cell_type": "code",
   "execution_count": null,
   "id": "c9e33bd4",
   "metadata": {
    "colab": {
     "base_uri": "https://localhost:8080/",
     "height": 639
    },
    "executionInfo": {
     "elapsed": 660,
     "status": "ok",
     "timestamp": 1662112976499,
     "user": {
      "displayName": "Siddhant Singh",
      "userId": "08343284542219482153"
     },
     "user_tz": -330
    },
    "id": "dzpH6WXy39aO",
    "outputId": "e995b5d1-5814-4d67-a189-5124d4fc25b9"
   },
   "outputs": [
    {
     "data": {
      "text/plain": [
       "<BarContainer object of 10 artists>"
      ]
     },
     "execution_count": 352,
     "metadata": {},
     "output_type": "execute_result"
    },
    {
     "data": {
      "image/png": "[encoded data removed]",
      "text/plain": [
       "<Figure size 1440x720 with 1 Axes>"
      ]
     },
     "metadata": {},
     "output_type": "display_data"
    }
   ],
   "source": [
    "plt.figure(figsize=(20,10))\n",
    "plt.xlabel(\"Decile_numbers\")\n",
    "plt.ylabel(\"%_Unit_WOs\")\n",
    "plt.title(\"%_unit WOs w.r.t. Deciles\")\n",
    "plt.bar(final_df['Decile'],final_df['%_Unit_WO'])"
   ]
  },
  {
   "cell_type": "code",
   "execution_count": null,
   "id": "632ffc4f",
   "metadata": {
    "colab": {
     "base_uri": "https://localhost:8080/",
     "height": 638
    },
    "executionInfo": {
     "elapsed": 13,
     "status": "ok",
     "timestamp": 1661415205924,
     "user": {
      "displayName": "Siddhant Singh",
      "userId": "08343284542219482153"
     },
     "user_tz": -330
    },
    "id": "LGCUBs4J39aQ",
    "outputId": "b003ee48-d113-4f57-85c8-c18047a3b989"
   },
   "outputs": [
    {
     "data": {
      "text/plain": [
       "[<matplotlib.lines.Line2D at 0x7f3809a7b250>]"
      ]
     },
     "execution_count": 696,
     "metadata": {},
     "output_type": "execute_result"
    },
    {
     "data": {
      "image/png": "[encoded data removed]",
      "text/plain": [
       "<Figure size 1440x720 with 1 Axes>"
      ]
     },
     "metadata": {},
     "output_type": "display_data"
    }
   ],
   "source": [
    "plt.figure(figsize=(20,10))\n",
    "plt.xlabel(\"Decile number\")\n",
    "plt.ylabel(\"Cumulative_Unit_WOs\")\n",
    "plt.title(\"Cumulative_Unit_WOs w.r.t Decile_Numbers\")\n",
    "plt.plot(final_df[\"Decile\"], final_df['Cum_Unit_WOs'],marker='o')\n",
    "\n",
    "# this graph looks correct to me. {small check - cg_10 = 100*(M_10/P) = 100.00 (we are correct)}"
   ]
  },
  {
   "cell_type": "markdown",
   "id": "789c3a53",
   "metadata": {
    "id": "bvSfF2nBj4wJ"
   },
   "source": [
    "# For Test Set"
   ]
  },
  {
   "cell_type": "code",
   "execution_count": null,
   "id": "86b60a42",
   "metadata": {
    "id": "rqzJka4DPvBr"
   },
   "outputs": [],
   "source": []
  },
  {
   "cell_type": "code",
   "execution_count": null,
   "id": "f567fb71",
   "metadata": {
    "colab": {
     "base_uri": "https://localhost:8080/",
     "height": 424
    },
    "executionInfo": {
     "elapsed": 9,
     "status": "ok",
     "timestamp": 1661415205926,
     "user": {
      "displayName": "Siddhant Singh",
      "userId": "08343284542219482153"
     },
     "user_tz": -330
    },
    "id": "6l81ngq3pfvL",
    "outputId": "c3c8b25c-0f26-4b19-b4c8-857c7307a5ae"
   },
   "outputs": [
    {
     "data": {
      "text/html": [
       "\n",
       "  <div id=\"df-e7744041-5841-4fbf-9f4d-c0060770659d\">\n",
       "    <div class=\"colab-df-container\">\n",
       "      <div>\n",
       "<style scoped>\n",
       "    .dataframe tbody tr th:only-of-type {\n",
       "        vertical-align: middle;\n",
       "    }\n",
       "\n",
       "    .dataframe tbody tr th {\n",
       "        vertical-align: top;\n",
       "    }\n",
       "\n",
       "    .dataframe thead th {\n",
       "        text-align: right;\n",
       "    }\n",
       "</style>\n",
       "<table border=\"1\" class=\"dataframe\">\n",
       "  <thead>\n",
       "    <tr style=\"text-align: right;\">\n",
       "      <th></th>\n",
       "      <th>WriteOff_YN</th>\n",
       "    </tr>\n",
       "  </thead>\n",
       "  <tbody>\n",
       "    <tr>\n",
       "      <th>0</th>\n",
       "      <td>0</td>\n",
       "    </tr>\n",
       "    <tr>\n",
       "      <th>1</th>\n",
       "      <td>0</td>\n",
       "    </tr>\n",
       "    <tr>\n",
       "      <th>2</th>\n",
       "      <td>0</td>\n",
       "    </tr>\n",
       "    <tr>\n",
       "      <th>3</th>\n",
       "      <td>0</td>\n",
       "    </tr>\n",
       "    <tr>\n",
       "      <th>4</th>\n",
       "      <td>0</td>\n",
       "    </tr>\n",
       "    <tr>\n",
       "      <th>...</th>\n",
       "      <td>...</td>\n",
       "    </tr>\n",
       "    <tr>\n",
       "      <th>481</th>\n",
       "      <td>0</td>\n",
       "    </tr>\n",
       "    <tr>\n",
       "      <th>482</th>\n",
       "      <td>0</td>\n",
       "    </tr>\n",
       "    <tr>\n",
       "      <th>483</th>\n",
       "      <td>0</td>\n",
       "    </tr>\n",
       "    <tr>\n",
       "      <th>484</th>\n",
       "      <td>0</td>\n",
       "    </tr>\n",
       "    <tr>\n",
       "      <th>485</th>\n",
       "      <td>0</td>\n",
       "    </tr>\n",
       "  </tbody>\n",
       "</table>\n",
       "<p>486 rows × 1 columns</p>\n",
       "</div>\n",
       "      <button class=\"colab-df-convert\" onclick=\"convertToInteractive('df-e7744041-5841-4fbf-9f4d-c0060770659d')\"\n",
       "              title=\"Convert this dataframe to an interactive table.\"\n",
       "              style=\"display:none;\">\n",
       "        \n",
       "  <svg xmlns=\"http://www.w3.org/2000/svg\" height=\"24px\"viewBox=\"0 0 24 24\"\n",
       "       width=\"24px\">\n",
       "    <path d=\"M0 0h24v24H0V0z\" fill=\"none\"/>\n",
       "    <path d=\"M18.56 5.44l.94 2.06.94-2.06 2.06-.94-2.06-.94-.94-2.06-.94 2.06-2.06.94zm-11 1L8.5 8.5l.94-2.06 2.06-.94-2.06-.94L8.5 2.5l-.94 2.06-2.06.94zm10 10l.94 2.06.94-2.06 2.06-.94-2.06-.94-.94-2.06-.94 2.06-2.06.94z\"/><path d=\"M17.41 7.96l-1.37-1.37c-.4-.4-.92-.59-1.43-.59-.52 0-1.04.2-1.43.59L10.3 9.45l-7.72 7.72c-.78.78-.78 2.05 0 2.83L4 21.41c.39.39.9.59 1.41.59.51 0 1.02-.2 1.41-.59l7.78-7.78 2.81-2.81c.8-.78.8-2.07 0-2.86zM5.41 20L4 18.59l7.72-7.72 1.47 1.35L5.41 20z\"/>\n",
       "  </svg>\n",
       "      </button>\n",
       "      \n",
       "  <style>\n",
       "    .colab-df-container {\n",
       "      display:flex;\n",
       "      flex-wrap:wrap;\n",
       "      gap: 12px;\n",
       "    }\n",
       "\n",
       "    .colab-df-convert {\n",
       "      background-color: #E8F0FE;\n",
       "      border: none;\n",
       "      border-radius: 50%;\n",
       "      cursor: pointer;\n",
       "      display: none;\n",
       "      fill: #1967D2;\n",
       "      height: 32px;\n",
       "      padding: 0 0 0 0;\n",
       "      width: 32px;\n",
       "    }\n",
       "\n",
       "    .colab-df-convert:hover {\n",
       "      background-color: #E2EBFA;\n",
       "      box-shadow: 0px 1px 2px rgba(60, 64, 67, 0.3), 0px 1px 3px 1px rgba(60, 64, 67, 0.15);\n",
       "      fill: #174EA6;\n",
       "    }\n",
       "\n",
       "    [theme=dark] .colab-df-convert {\n",
       "      background-color: #3B4455;\n",
       "      fill: #D2E3FC;\n",
       "    }\n",
       "\n",
       "    [theme=dark] .colab-df-convert:hover {\n",
       "      background-color: #434B5C;\n",
       "      box-shadow: 0px 1px 3px 1px rgba(0, 0, 0, 0.15);\n",
       "      filter: drop-shadow(0px 1px 2px rgba(0, 0, 0, 0.3));\n",
       "      fill: #FFFFFF;\n",
       "    }\n",
       "  </style>\n",
       "\n",
       "      <script>\n",
       "        const buttonEl =\n",
       "          document.querySelector('#df-e7744041-5841-4fbf-9f4d-c0060770659d button.colab-df-convert');\n",
       "        buttonEl.style.display =\n",
       "          google.colab.kernel.accessAllowed ? 'block' : 'none';\n",
       "\n",
       "        async function convertToInteractive(key) {\n",
       "          const element = document.querySelector('#df-e7744041-5841-4fbf-9f4d-c0060770659d');\n",
       "          const dataTable =\n",
       "            await google.colab.kernel.invokeFunction('convertToInteractive',\n",
       "                                                     [key], {});\n",
       "          if (!dataTable) return;\n",
       "\n",
       "          const docLinkHtml = 'Like what you see? Visit the ' +\n",
       "            '<a target=\"_blank\" href=https://colab.research.google.com/notebooks/data_table.ipynb>data table notebook</a>'\n",
       "            + ' to learn more about interactive tables.';\n",
       "          element.innerHTML = '';\n",
       "          dataTable['output_type'] = 'display_data';\n",
       "          await google.colab.output.renderOutput(dataTable, element);\n",
       "          const docLink = document.createElement('div');\n",
       "          docLink.innerHTML = docLinkHtml;\n",
       "          element.appendChild(docLink);\n",
       "        }\n",
       "      </script>\n",
       "    </div>\n",
       "  </div>\n",
       "  "
      ],
      "text/plain": [
       "     WriteOff_YN\n",
       "0              0\n",
       "1              0\n",
       "2              0\n",
       "3              0\n",
       "4              0\n",
       "..           ...\n",
       "481            0\n",
       "482            0\n",
       "483            0\n",
       "484            0\n",
       "485            0\n",
       "\n",
       "[486 rows x 1 columns]"
      ]
     },
     "execution_count": 697,
     "metadata": {},
     "output_type": "execute_result"
    }
   ],
   "source": [
    "#converting this into a dataframe as y_test is a series {we get retained indexes}\n",
    "check = pd.DataFrame(y_test)\n",
    "check"
   ]
  },
  {
   "cell_type": "code",
   "execution_count": null,
   "id": "9fbfa46e",
   "metadata": {
    "id": "LrOWXlWCpfvN"
   },
   "outputs": [],
   "source": [
    "check['Predicted Values'] = predict_y_test"
   ]
  },
  {
   "cell_type": "code",
   "execution_count": null,
   "id": "5d75bb35",
   "metadata": {
    "colab": {
     "base_uri": "https://localhost:8080/",
     "height": 424
    },
    "executionInfo": {
     "elapsed": 26,
     "status": "ok",
     "timestamp": 1661415206552,
     "user": {
      "displayName": "Siddhant Singh",
      "userId": "08343284542219482153"
     },
     "user_tz": -330
    },
    "id": "EvnNSEvSpfvN",
    "outputId": "a7b3688c-1996-4c38-e2d6-7c6ecf4a1f4c"
   },
   "outputs": [
    {
     "data": {
      "text/html": [
       "\n",
       "  <div id=\"df-4b550e58-0a49-4d22-acdf-aa6e55e34ea1\">\n",
       "    <div class=\"colab-df-container\">\n",
       "      <div>\n",
       "<style scoped>\n",
       "    .dataframe tbody tr th:only-of-type {\n",
       "        vertical-align: middle;\n",
       "    }\n",
       "\n",
       "    .dataframe tbody tr th {\n",
       "        vertical-align: top;\n",
       "    }\n",
       "\n",
       "    .dataframe thead th {\n",
       "        text-align: right;\n",
       "    }\n",
       "</style>\n",
       "<table border=\"1\" class=\"dataframe\">\n",
       "  <thead>\n",
       "    <tr style=\"text-align: right;\">\n",
       "      <th></th>\n",
       "      <th>WriteOff_YN</th>\n",
       "      <th>Predicted Values</th>\n",
       "    </tr>\n",
       "  </thead>\n",
       "  <tbody>\n",
       "    <tr>\n",
       "      <th>0</th>\n",
       "      <td>0</td>\n",
       "      <td>0</td>\n",
       "    </tr>\n",
       "    <tr>\n",
       "      <th>1</th>\n",
       "      <td>0</td>\n",
       "      <td>1</td>\n",
       "    </tr>\n",
       "    <tr>\n",
       "      <th>2</th>\n",
       "      <td>0</td>\n",
       "      <td>1</td>\n",
       "    </tr>\n",
       "    <tr>\n",
       "      <th>3</th>\n",
       "      <td>0</td>\n",
       "      <td>0</td>\n",
       "    </tr>\n",
       "    <tr>\n",
       "      <th>4</th>\n",
       "      <td>0</td>\n",
       "      <td>0</td>\n",
       "    </tr>\n",
       "    <tr>\n",
       "      <th>...</th>\n",
       "      <td>...</td>\n",
       "      <td>...</td>\n",
       "    </tr>\n",
       "    <tr>\n",
       "      <th>481</th>\n",
       "      <td>0</td>\n",
       "      <td>0</td>\n",
       "    </tr>\n",
       "    <tr>\n",
       "      <th>482</th>\n",
       "      <td>0</td>\n",
       "      <td>0</td>\n",
       "    </tr>\n",
       "    <tr>\n",
       "      <th>483</th>\n",
       "      <td>0</td>\n",
       "      <td>0</td>\n",
       "    </tr>\n",
       "    <tr>\n",
       "      <th>484</th>\n",
       "      <td>0</td>\n",
       "      <td>1</td>\n",
       "    </tr>\n",
       "    <tr>\n",
       "      <th>485</th>\n",
       "      <td>0</td>\n",
       "      <td>0</td>\n",
       "    </tr>\n",
       "  </tbody>\n",
       "</table>\n",
       "<p>486 rows × 2 columns</p>\n",
       "</div>\n",
       "      <button class=\"colab-df-convert\" onclick=\"convertToInteractive('df-4b550e58-0a49-4d22-acdf-aa6e55e34ea1')\"\n",
       "              title=\"Convert this dataframe to an interactive table.\"\n",
       "              style=\"display:none;\">\n",
       "        \n",
       "  <svg xmlns=\"http://www.w3.org/2000/svg\" height=\"24px\"viewBox=\"0 0 24 24\"\n",
       "       width=\"24px\">\n",
       "    <path d=\"M0 0h24v24H0V0z\" fill=\"none\"/>\n",
       "    <path d=\"M18.56 5.44l.94 2.06.94-2.06 2.06-.94-2.06-.94-.94-2.06-.94 2.06-2.06.94zm-11 1L8.5 8.5l.94-2.06 2.06-.94-2.06-.94L8.5 2.5l-.94 2.06-2.06.94zm10 10l.94 2.06.94-2.06 2.06-.94-2.06-.94-.94-2.06-.94 2.06-2.06.94z\"/><path d=\"M17.41 7.96l-1.37-1.37c-.4-.4-.92-.59-1.43-.59-.52 0-1.04.2-1.43.59L10.3 9.45l-7.72 7.72c-.78.78-.78 2.05 0 2.83L4 21.41c.39.39.9.59 1.41.59.51 0 1.02-.2 1.41-.59l7.78-7.78 2.81-2.81c.8-.78.8-2.07 0-2.86zM5.41 20L4 18.59l7.72-7.72 1.47 1.35L5.41 20z\"/>\n",
       "  </svg>\n",
       "      </button>\n",
       "      \n",
       "  <style>\n",
       "    .colab-df-container {\n",
       "      display:flex;\n",
       "      flex-wrap:wrap;\n",
       "      gap: 12px;\n",
       "    }\n",
       "\n",
       "    .colab-df-convert {\n",
       "      background-color: #E8F0FE;\n",
       "      border: none;\n",
       "      border-radius: 50%;\n",
       "      cursor: pointer;\n",
       "      display: none;\n",
       "      fill: #1967D2;\n",
       "      height: 32px;\n",
       "      padding: 0 0 0 0;\n",
       "      width: 32px;\n",
       "    }\n",
       "\n",
       "    .colab-df-convert:hover {\n",
       "      background-color: #E2EBFA;\n",
       "      box-shadow: 0px 1px 2px rgba(60, 64, 67, 0.3), 0px 1px 3px 1px rgba(60, 64, 67, 0.15);\n",
       "      fill: #174EA6;\n",
       "    }\n",
       "\n",
       "    [theme=dark] .colab-df-convert {\n",
       "      background-color: #3B4455;\n",
       "      fill: #D2E3FC;\n",
       "    }\n",
       "\n",
       "    [theme=dark] .colab-df-convert:hover {\n",
       "      background-color: #434B5C;\n",
       "      box-shadow: 0px 1px 3px 1px rgba(0, 0, 0, 0.15);\n",
       "      filter: drop-shadow(0px 1px 2px rgba(0, 0, 0, 0.3));\n",
       "      fill: #FFFFFF;\n",
       "    }\n",
       "  </style>\n",
       "\n",
       "      <script>\n",
       "        const buttonEl =\n",
       "          document.querySelector('#df-4b550e58-0a49-4d22-acdf-aa6e55e34ea1 button.colab-df-convert');\n",
       "        buttonEl.style.display =\n",
       "          google.colab.kernel.accessAllowed ? 'block' : 'none';\n",
       "\n",
       "        async function convertToInteractive(key) {\n",
       "          const element = document.querySelector('#df-4b550e58-0a49-4d22-acdf-aa6e55e34ea1');\n",
       "          const dataTable =\n",
       "            await google.colab.kernel.invokeFunction('convertToInteractive',\n",
       "                                                     [key], {});\n",
       "          if (!dataTable) return;\n",
       "\n",
       "          const docLinkHtml = 'Like what you see? Visit the ' +\n",
       "            '<a target=\"_blank\" href=https://colab.research.google.com/notebooks/data_table.ipynb>data table notebook</a>'\n",
       "            + ' to learn more about interactive tables.';\n",
       "          element.innerHTML = '';\n",
       "          dataTable['output_type'] = 'display_data';\n",
       "          await google.colab.output.renderOutput(dataTable, element);\n",
       "          const docLink = document.createElement('div');\n",
       "          docLink.innerHTML = docLinkHtml;\n",
       "          element.appendChild(docLink);\n",
       "        }\n",
       "      </script>\n",
       "    </div>\n",
       "  </div>\n",
       "  "
      ],
      "text/plain": [
       "     WriteOff_YN  Predicted Values\n",
       "0              0                 0\n",
       "1              0                 1\n",
       "2              0                 1\n",
       "3              0                 0\n",
       "4              0                 0\n",
       "..           ...               ...\n",
       "481            0                 0\n",
       "482            0                 0\n",
       "483            0                 0\n",
       "484            0                 1\n",
       "485            0                 0\n",
       "\n",
       "[486 rows x 2 columns]"
      ]
     },
     "execution_count": 699,
     "metadata": {},
     "output_type": "execute_result"
    }
   ],
   "source": [
    "check"
   ]
  },
  {
   "cell_type": "code",
   "execution_count": null,
   "id": "92f873db",
   "metadata": {
    "colab": {
     "base_uri": "https://localhost:8080/"
    },
    "executionInfo": {
     "elapsed": 28,
     "status": "ok",
     "timestamp": 1661415206555,
     "user": {
      "displayName": "Siddhant Singh",
      "userId": "08343284542219482153"
     },
     "user_tz": -330
    },
    "id": "XoaqbxNJpfvO",
    "outputId": "690e5579-e0f7-4fe2-abbd-6f8e56bc8947"
   },
   "outputs": [
    {
     "name": "stdout",
     "output_type": "stream",
     "text": [
      "[[0.8507122  0.1492878 ]\n",
      " [0.4810174  0.5189826 ]\n",
      " [0.43178594 0.56821406]\n",
      " [0.8847761  0.11522388]\n",
      " [0.5352453  0.46475467]\n",
      " [0.7830865  0.21691352]\n",
      " [0.80820966 0.19179033]\n",
      " [0.7893996  0.21060038]\n",
      " [0.5421703  0.45782968]\n",
      " [0.7651267  0.23487328]\n",
      " [0.60468185 0.39531812]\n",
      " [0.92384803 0.07615194]\n",
      " [0.8331073  0.16689269]\n",
      " [0.66734415 0.33265585]\n",
      " [0.6040852  0.3959148 ]\n",
      " [0.92965007 0.0703499 ]\n",
      " [0.88261133 0.11738865]\n",
      " [0.49143076 0.50856924]\n",
      " [0.50539815 0.49460188]\n",
      " [0.7409117  0.25908828]\n",
      " [0.825393   0.17460698]\n",
      " [0.9076354  0.09236459]\n",
      " [0.75924855 0.24075143]\n",
      " [0.82393533 0.17606466]\n",
      " [0.89590317 0.10409685]\n",
      " [0.5035623  0.49643773]\n",
      " [0.9056675  0.09433249]\n",
      " [0.6720352  0.32796475]\n",
      " [0.95648193 0.0435181 ]\n",
      " [0.8601836  0.13981637]\n",
      " [0.88219404 0.11780596]\n",
      " [0.58337647 0.41662353]\n",
      " [0.7726771  0.22732286]\n",
      " [0.5142935  0.4857065 ]\n",
      " [0.48293632 0.5170637 ]\n",
      " [0.7590346  0.24096543]\n",
      " [0.7882874  0.21171263]\n",
      " [0.8863606  0.1136394 ]\n",
      " [0.8838926  0.11610742]\n",
      " [0.90941954 0.09058043]\n",
      " [0.43438834 0.56561166]\n",
      " [0.6061988  0.39380118]\n",
      " [0.6877502  0.31224975]\n",
      " [0.6311337  0.3688663 ]\n",
      " [0.72017205 0.27982792]\n",
      " [0.85526395 0.14473604]\n",
      " [0.6489167  0.35108328]\n",
      " [0.557059   0.442941  ]\n",
      " [0.8631156  0.13688438]\n",
      " [0.66048086 0.33951914]\n",
      " [0.74803793 0.25196207]\n",
      " [0.71134126 0.28865874]\n",
      " [0.75036967 0.24963035]\n",
      " [0.78436047 0.21563955]\n",
      " [0.9659473  0.03405271]\n",
      " [0.6155989  0.3844011 ]\n",
      " [0.66586965 0.33413035]\n",
      " [0.61011595 0.38988405]\n",
      " [0.8058644  0.19413562]\n",
      " [0.8398216  0.1601784 ]\n",
      " [0.9344898  0.06551019]\n",
      " [0.7392266  0.26077342]\n",
      " [0.8763352  0.12366477]\n",
      " [0.2209515  0.7790485 ]\n",
      " [0.62812585 0.37187415]\n",
      " [0.825075   0.17492504]\n",
      " [0.83281064 0.16718939]\n",
      " [0.38654625 0.61345375]\n",
      " [0.8438065  0.15619348]\n",
      " [0.6401565  0.3598435 ]\n",
      " [0.681667   0.31833303]\n",
      " [0.6526085  0.34739152]\n",
      " [0.9584918  0.04150823]\n",
      " [0.7217933  0.27820668]\n",
      " [0.61516166 0.38483837]\n",
      " [0.8623021  0.13769789]\n",
      " [0.8606963  0.13930367]\n",
      " [0.7818367  0.21816331]\n",
      " [0.9024179  0.0975821 ]\n",
      " [0.8926545  0.10734551]\n",
      " [0.92375505 0.07624494]\n",
      " [0.5173261  0.4826739 ]\n",
      " [0.60369813 0.39630184]\n",
      " [0.53130364 0.4686964 ]\n",
      " [0.68968964 0.3103104 ]\n",
      " [0.63182646 0.36817354]\n",
      " [0.8176695  0.18233052]\n",
      " [0.8623679  0.13763207]\n",
      " [0.6239878  0.3760122 ]\n",
      " [0.7799853  0.2200147 ]\n",
      " [0.7042378  0.2957622 ]\n",
      " [0.75903475 0.24096526]\n",
      " [0.91954696 0.08045307]\n",
      " [0.758357   0.24164301]\n",
      " [0.72058535 0.27941465]\n",
      " [0.59335506 0.4066449 ]\n",
      " [0.9399007  0.06009931]\n",
      " [0.68127596 0.31872407]\n",
      " [0.72530025 0.27469975]\n",
      " [0.9205435  0.07945649]\n",
      " [0.7877789  0.21222107]\n",
      " [0.77624696 0.22375302]\n",
      " [0.93008363 0.06991639]\n",
      " [0.8540052  0.14599477]\n",
      " [0.8482293  0.15177068]\n",
      " [0.5162054  0.48379463]\n",
      " [0.87919104 0.12080894]\n",
      " [0.38729066 0.61270934]\n",
      " [0.5465187  0.45348132]\n",
      " [0.909526   0.09047404]\n",
      " [0.7947002  0.20529981]\n",
      " [0.75607884 0.24392115]\n",
      " [0.92969257 0.07030745]\n",
      " [0.8703611  0.1296389 ]\n",
      " [0.74027    0.25972998]\n",
      " [0.6071611  0.3928389 ]\n",
      " [0.6629817  0.3370183 ]\n",
      " [0.700326   0.29967397]\n",
      " [0.72255135 0.27744868]\n",
      " [0.493886   0.506114  ]\n",
      " [0.849393   0.15060699]\n",
      " [0.82034975 0.17965023]\n",
      " [0.5747291  0.42527092]\n",
      " [0.8407585  0.15924148]\n",
      " [0.6730963  0.32690373]\n",
      " [0.6911718  0.30882818]\n",
      " [0.78637594 0.21362408]\n",
      " [0.7905829  0.20941712]\n",
      " [0.39594203 0.60405797]\n",
      " [0.7518441  0.24815589]\n",
      " [0.8118261  0.18817392]\n",
      " [0.8207558  0.17924424]\n",
      " [0.9130393  0.08696068]\n",
      " [0.9160338  0.0839662 ]\n",
      " [0.843706   0.15629397]\n",
      " [0.8753319  0.12466814]\n",
      " [0.5061689  0.4938311 ]\n",
      " [0.3767588  0.6232412 ]\n",
      " [0.81938905 0.18061095]\n",
      " [0.88778055 0.11221945]\n",
      " [0.65542465 0.34457535]\n",
      " [0.82052284 0.17947716]\n",
      " [0.37068725 0.62931275]\n",
      " [0.477871   0.522129  ]\n",
      " [0.59219563 0.40780434]\n",
      " [0.85654366 0.14345637]\n",
      " [0.6327871  0.36721286]\n",
      " [0.85739636 0.1426036 ]\n",
      " [0.7112112  0.2887888 ]\n",
      " [0.2860788  0.7139212 ]\n",
      " [0.4399622  0.5600378 ]\n",
      " [0.85776806 0.14223196]\n",
      " [0.5431968  0.4568032 ]\n",
      " [0.8957576  0.10424239]\n",
      " [0.77831256 0.22168744]\n",
      " [0.7567539  0.24324606]\n",
      " [0.72007155 0.27992848]\n",
      " [0.4900015  0.5099985 ]\n",
      " [0.46262252 0.5373775 ]\n",
      " [0.951361   0.04863899]\n",
      " [0.5515651  0.4484349 ]\n",
      " [0.8845877  0.11541231]\n",
      " [0.40519887 0.5948011 ]\n",
      " [0.89267653 0.10732345]\n",
      " [0.45632285 0.54367715]\n",
      " [0.88121736 0.11878265]\n",
      " [0.8464761  0.15352392]\n",
      " [0.50924975 0.49075025]\n",
      " [0.9434546  0.05654539]\n",
      " [0.8638981  0.13610189]\n",
      " [0.8228175  0.17718251]\n",
      " [0.93161523 0.06838476]\n",
      " [0.31499344 0.68500656]\n",
      " [0.8548733  0.14512667]\n",
      " [0.79684794 0.20315205]\n",
      " [0.8033894  0.19661061]\n",
      " [0.725092   0.274908  ]\n",
      " [0.8247758  0.1752242 ]\n",
      " [0.73108804 0.26891193]\n",
      " [0.8464959  0.15350406]\n",
      " [0.78602886 0.21397112]\n",
      " [0.69333553 0.30666447]\n",
      " [0.33952338 0.6604766 ]\n",
      " [0.91470903 0.08529099]\n",
      " [0.92485356 0.07514644]\n",
      " [0.71777093 0.28222907]\n",
      " [0.95239294 0.04760708]\n",
      " [0.7303327  0.26966733]\n",
      " [0.787186   0.21281399]\n",
      " [0.9256423  0.0743577 ]\n",
      " [0.43161613 0.5683839 ]\n",
      " [0.85980576 0.14019425]\n",
      " [0.82952213 0.1704779 ]\n",
      " [0.9211341  0.07886592]\n",
      " [0.7722801  0.22771987]\n",
      " [0.86969215 0.13030787]\n",
      " [0.83477247 0.1652275 ]\n",
      " [0.85907733 0.14092264]\n",
      " [0.62208366 0.3779163 ]\n",
      " [0.76503897 0.23496106]\n",
      " [0.6357781  0.36422187]\n",
      " [0.6646875  0.33531252]\n",
      " [0.8384267  0.16157328]\n",
      " [0.61951303 0.38048697]\n",
      " [0.5271863  0.47281376]\n",
      " [0.8392235  0.16077653]\n",
      " [0.8948897  0.10511027]\n",
      " [0.8039268  0.19607319]\n",
      " [0.68476045 0.31523952]\n",
      " [0.7643301  0.23566991]\n",
      " [0.6183647  0.38163528]\n",
      " [0.9532035  0.04679649]\n",
      " [0.964978   0.03502201]\n",
      " [0.84144247 0.15855752]\n",
      " [0.8653528  0.13464718]\n",
      " [0.7395493  0.26045075]\n",
      " [0.43813908 0.5618609 ]\n",
      " [0.7311711  0.26882893]\n",
      " [0.71243757 0.28756243]\n",
      " [0.8210082  0.17899176]\n",
      " [0.853341   0.14665899]\n",
      " [0.8996517  0.1003483 ]\n",
      " [0.9389975  0.06100251]\n",
      " [0.8506543  0.14934568]\n",
      " [0.78073835 0.21926163]\n",
      " [0.6018975  0.3981025 ]\n",
      " [0.6253028  0.37469724]\n",
      " [0.6770791  0.3229209 ]\n",
      " [0.9305509  0.06944913]\n",
      " [0.394336   0.605664  ]\n",
      " [0.9542724  0.04572761]\n",
      " [0.58976376 0.41023624]\n",
      " [0.61930263 0.38069734]\n",
      " [0.9506364  0.04936362]\n",
      " [0.89783806 0.10216192]\n",
      " [0.90613246 0.09386756]\n",
      " [0.9394902  0.0605098 ]\n",
      " [0.83477247 0.1652275 ]\n",
      " [0.6755996  0.32440042]\n",
      " [0.71169543 0.28830454]\n",
      " [0.6228679  0.37713212]\n",
      " [0.8676056  0.13239436]\n",
      " [0.9090344  0.09096561]\n",
      " [0.7125721  0.28742787]\n",
      " [0.8448268  0.15517321]\n",
      " [0.70924735 0.29075265]\n",
      " [0.91559166 0.08440834]\n",
      " [0.7011402  0.29885978]\n",
      " [0.80606556 0.19393444]\n",
      " [0.8879579  0.11204214]\n",
      " [0.8047006  0.1952994 ]\n",
      " [0.8603357  0.1396643 ]\n",
      " [0.6189985  0.38100144]\n",
      " [0.90460014 0.09539989]\n",
      " [0.8423213  0.15767874]\n",
      " [0.8573986  0.1426014 ]\n",
      " [0.6166401  0.3833599 ]\n",
      " [0.9285954  0.07140459]\n",
      " [0.8857754  0.11422464]\n",
      " [0.375005   0.624995  ]\n",
      " [0.762925   0.23707499]\n",
      " [0.786497   0.21350297]\n",
      " [0.84495616 0.15504383]\n",
      " [0.8752536  0.12474637]\n",
      " [0.9347895  0.0652105 ]\n",
      " [0.8183855  0.18161453]\n",
      " [0.47109014 0.52890986]\n",
      " [0.9647915  0.03520853]\n",
      " [0.75330526 0.24669474]\n",
      " [0.5613096  0.4386904 ]\n",
      " [0.92068046 0.07931954]\n",
      " [0.5663746  0.4336254 ]\n",
      " [0.9010782  0.09892176]\n",
      " [0.8093629  0.1906371 ]\n",
      " [0.90990484 0.09009514]\n",
      " [0.55271876 0.44728127]\n",
      " [0.78958017 0.21041985]\n",
      " [0.90722775 0.09277223]\n",
      " [0.91325676 0.08674323]\n",
      " [0.22108114 0.77891886]\n",
      " [0.81422526 0.18577474]\n",
      " [0.9072934  0.09270661]\n",
      " [0.7906468  0.20935322]\n",
      " [0.8218301  0.17816992]\n",
      " [0.618508   0.38149202]\n",
      " [0.70846707 0.29153293]\n",
      " [0.5671832  0.4328168 ]\n",
      " [0.799853   0.20014697]\n",
      " [0.42402452 0.5759755 ]\n",
      " [0.47317618 0.5268238 ]\n",
      " [0.17623097 0.82376903]\n",
      " [0.5078751  0.49212492]\n",
      " [0.86373764 0.13626234]\n",
      " [0.70967233 0.2903277 ]\n",
      " [0.28167945 0.71832055]\n",
      " [0.8356601  0.16433991]\n",
      " [0.6532178  0.34678218]\n",
      " [0.8193377  0.18066229]\n",
      " [0.88065135 0.11934868]\n",
      " [0.82057965 0.17942034]\n",
      " [0.7748906  0.2251094 ]\n",
      " [0.75328946 0.24671052]\n",
      " [0.8704986  0.12950142]\n",
      " [0.95914316 0.04085684]\n",
      " [0.929658   0.070342  ]\n",
      " [0.8970381  0.1029619 ]\n",
      " [0.91167    0.08832995]\n",
      " [0.964829   0.03517096]\n",
      " [0.89571595 0.10428402]\n",
      " [0.63876545 0.36123458]\n",
      " [0.4730184  0.5269816 ]\n",
      " [0.8007815  0.19921854]\n",
      " [0.86278033 0.1372197 ]\n",
      " [0.80365086 0.19634914]\n",
      " [0.7711593  0.2288407 ]\n",
      " [0.9447058  0.05529422]\n",
      " [0.8393858  0.16061418]\n",
      " [0.7053696  0.29463044]\n",
      " [0.9294458  0.07055419]\n",
      " [0.9144036  0.0855964 ]\n",
      " [0.94231635 0.05768363]\n",
      " [0.8223468  0.17765322]\n",
      " [0.6672739  0.3327261 ]\n",
      " [0.67136765 0.32863235]\n",
      " [0.681088   0.318912  ]\n",
      " [0.9508778  0.04912221]\n",
      " [0.8425906  0.1574094 ]\n",
      " [0.661938   0.338062  ]\n",
      " [0.92891675 0.07108327]\n",
      " [0.95559317 0.04440683]\n",
      " [0.7835291  0.21647088]\n",
      " [0.88320637 0.11679365]\n",
      " [0.8222049  0.17779511]\n",
      " [0.51926064 0.48073938]\n",
      " [0.89035195 0.10964803]\n",
      " [0.90706354 0.09293646]\n",
      " [0.51179975 0.48820025]\n",
      " [0.7661326  0.2338674 ]\n",
      " [0.47365928 0.5263407 ]\n",
      " [0.6402325  0.3597675 ]\n",
      " [0.834582   0.16541804]\n",
      " [0.93222624 0.06777378]\n",
      " [0.41771525 0.58228475]\n",
      " [0.5769835  0.4230165 ]\n",
      " [0.89180005 0.10819998]\n",
      " [0.58506674 0.41493326]\n",
      " [0.44258547 0.55741453]\n",
      " [0.90011334 0.09988665]\n",
      " [0.71126175 0.28873828]\n",
      " [0.7009208  0.2990792 ]\n",
      " [0.384538   0.615462  ]\n",
      " [0.6115848  0.38841522]\n",
      " [0.81566846 0.18433157]\n",
      " [0.7354274  0.26457262]\n",
      " [0.29118127 0.70881873]\n",
      " [0.4705518  0.5294482 ]\n",
      " [0.95059943 0.04940056]\n",
      " [0.7978797  0.20212029]\n",
      " [0.5964755  0.40352452]\n",
      " [0.75974786 0.24025217]\n",
      " [0.74722743 0.25277254]\n",
      " [0.8744147  0.12558532]\n",
      " [0.18896824 0.81103176]\n",
      " [0.36177784 0.63822216]\n",
      " [0.7651267  0.23487328]\n",
      " [0.8434462  0.1565538 ]\n",
      " [0.5375799  0.4624201 ]\n",
      " [0.78053963 0.21946038]\n",
      " [0.4174872  0.5825128 ]\n",
      " [0.5841923  0.41580775]\n",
      " [0.90711707 0.09288295]\n",
      " [0.49820143 0.50179857]\n",
      " [0.9501794  0.04982059]\n",
      " [0.8706114  0.1293886 ]\n",
      " [0.69377124 0.3062288 ]\n",
      " [0.7633921  0.23660788]\n",
      " [0.7979626  0.20203738]\n",
      " [0.8716982  0.1283018 ]\n",
      " [0.8568406  0.14315939]\n",
      " [0.4174872  0.5825128 ]\n",
      " [0.78756535 0.21243466]\n",
      " [0.15864646 0.84135354]\n",
      " [0.5431968  0.4568032 ]\n",
      " [0.96740943 0.03259054]\n",
      " [0.481286   0.518714  ]\n",
      " [0.7523483  0.24765173]\n",
      " [0.6575227  0.34247732]\n",
      " [0.37818635 0.62181365]\n",
      " [0.6505861  0.34941384]\n",
      " [0.8547276  0.14527236]\n",
      " [0.6561036  0.3438964 ]\n",
      " [0.92058563 0.07941435]\n",
      " [0.5652373  0.43476275]\n",
      " [0.7469721  0.25302795]\n",
      " [0.5406121  0.45938787]\n",
      " [0.8241269  0.17587309]\n",
      " [0.8264972  0.17350279]\n",
      " [0.5875251  0.41247484]\n",
      " [0.25426084 0.74573916]\n",
      " [0.944668   0.055332  ]\n",
      " [0.4240548  0.5759452 ]\n",
      " [0.62259233 0.3774077 ]\n",
      " [0.67629874 0.32370126]\n",
      " [0.7767043  0.22329569]\n",
      " [0.80960745 0.19039257]\n",
      " [0.73737013 0.2626299 ]\n",
      " [0.6589209  0.34107915]\n",
      " [0.8088254  0.19117464]\n",
      " [0.96245176 0.03754826]\n",
      " [0.6381763  0.36182365]\n",
      " [0.7677256  0.23227444]\n",
      " [0.7341485  0.2658515 ]\n",
      " [0.85562676 0.14437322]\n",
      " [0.7895645  0.21043552]\n",
      " [0.64447325 0.35552675]\n",
      " [0.78451765 0.21548232]\n",
      " [0.86740005 0.13259995]\n",
      " [0.73117226 0.26882774]\n",
      " [0.673248   0.326752  ]\n",
      " [0.7398052  0.2601948 ]\n",
      " [0.3766454  0.6233546 ]\n",
      " [0.50670105 0.49329895]\n",
      " [0.5094392  0.49056083]\n",
      " [0.87284994 0.12715003]\n",
      " [0.87114453 0.12885548]\n",
      " [0.9398854  0.0601146 ]\n",
      " [0.822031   0.17796896]\n",
      " [0.5661026  0.43389738]\n",
      " [0.70378697 0.296213  ]\n",
      " [0.5975461  0.40245393]\n",
      " [0.59071314 0.4092869 ]\n",
      " [0.6558138  0.34418622]\n",
      " [0.9156513  0.08434866]\n",
      " [0.91412663 0.08587338]\n",
      " [0.643753   0.356247  ]\n",
      " [0.81003064 0.18996936]\n",
      " [0.6801042  0.3198958 ]\n",
      " [0.87780493 0.12219508]\n",
      " [0.9246189  0.07538111]\n",
      " [0.573992   0.42600796]\n",
      " [0.825075   0.17492504]\n",
      " [0.5611141  0.43888596]\n",
      " [0.4423412  0.5576588 ]\n",
      " [0.89315206 0.10684794]\n",
      " [0.5206114  0.4793886 ]\n",
      " [0.7799853  0.2200147 ]\n",
      " [0.8825402  0.1174598 ]\n",
      " [0.94661283 0.05338718]\n",
      " [0.64734715 0.35265285]\n",
      " [0.9372756  0.06272442]\n",
      " [0.8976012  0.10239879]\n",
      " [0.8720857  0.12791431]\n",
      " [0.7466128  0.25338724]\n",
      " [0.7801926  0.21980739]\n",
      " [0.49994928 0.5000507 ]\n",
      " [0.9048143  0.09518569]\n",
      " [0.82490265 0.17509733]\n",
      " [0.8514139  0.14858611]\n",
      " [0.86483175 0.13516825]\n",
      " [0.6002624  0.39973757]\n",
      " [0.8868926  0.11310741]\n",
      " [0.7584241  0.2415759 ]\n",
      " [0.7972164  0.20278361]\n",
      " [0.34171528 0.6582847 ]\n",
      " [0.92228407 0.07771593]\n",
      " [0.92047405 0.07952598]\n",
      " [0.7461387  0.25386134]\n",
      " [0.80948174 0.19051829]\n",
      " [0.8120907  0.1879093 ]\n",
      " [0.2949689  0.7050311 ]\n",
      " [0.5675896  0.43241042]\n",
      " [0.79602283 0.20397718]\n",
      " [0.7622735  0.23772651]\n",
      " [0.834624   0.16537602]\n",
      " [0.8669247  0.1330753 ]\n",
      " [0.78191805 0.21808195]\n",
      " [0.960564   0.03943595]\n",
      " [0.81796074 0.18203928]\n",
      " [0.7821554  0.21784458]\n",
      " [0.7934804  0.20651963]\n",
      " [0.88893735 0.11106266]\n",
      " [0.63928556 0.36071447]\n",
      " [0.61309254 0.3869075 ]\n",
      " [0.54614794 0.4538521 ]\n",
      " [0.46658552 0.5334145 ]\n",
      " [0.57991695 0.42008305]]\n"
     ]
    }
   ],
   "source": [
    "print(predict_y_proba_test)"
   ]
  },
  {
   "cell_type": "code",
   "execution_count": null,
   "id": "d37ac216",
   "metadata": {
    "id": "Q0o4QgGmpfvO"
   },
   "outputs": [],
   "source": [
    "write_off1 = []\n",
    "for i in predict_y_proba_test:\n",
    "  write_off1.append(i[1])\n"
   ]
  },
  {
   "cell_type": "code",
   "execution_count": null,
   "id": "ad3edb84",
   "metadata": {
    "id": "ar5S3SejpfvO"
   },
   "outputs": [],
   "source": [
    "check['Predicted_Prob_WO = 1'] = write_off1"
   ]
  },
  {
   "cell_type": "code",
   "execution_count": null,
   "id": "c0e63126",
   "metadata": {
    "colab": {
     "base_uri": "https://localhost:8080/",
     "height": 424
    },
    "executionInfo": {
     "elapsed": 8,
     "status": "ok",
     "timestamp": 1661415207681,
     "user": {
      "displayName": "Siddhant Singh",
      "userId": "08343284542219482153"
     },
     "user_tz": -330
    },
    "id": "6Dly-S7zpfvO",
    "outputId": "20142603-4691-4564-be20-61a465f87767"
   },
   "outputs": [
    {
     "data": {
      "text/html": [
       "\n",
       "  <div id=\"df-828b876f-502f-4887-a693-9ea9f00b9faf\">\n",
       "    <div class=\"colab-df-container\">\n",
       "      <div>\n",
       "<style scoped>\n",
       "    .dataframe tbody tr th:only-of-type {\n",
       "        vertical-align: middle;\n",
       "    }\n",
       "\n",
       "    .dataframe tbody tr th {\n",
       "        vertical-align: top;\n",
       "    }\n",
       "\n",
       "    .dataframe thead th {\n",
       "        text-align: right;\n",
       "    }\n",
       "</style>\n",
       "<table border=\"1\" class=\"dataframe\">\n",
       "  <thead>\n",
       "    <tr style=\"text-align: right;\">\n",
       "      <th></th>\n",
       "      <th>WriteOff_YN</th>\n",
       "      <th>Predicted Values</th>\n",
       "      <th>Predicted_Prob_WO = 1</th>\n",
       "    </tr>\n",
       "  </thead>\n",
       "  <tbody>\n",
       "    <tr>\n",
       "      <th>0</th>\n",
       "      <td>0</td>\n",
       "      <td>0</td>\n",
       "      <td>0.149288</td>\n",
       "    </tr>\n",
       "    <tr>\n",
       "      <th>1</th>\n",
       "      <td>0</td>\n",
       "      <td>1</td>\n",
       "      <td>0.518983</td>\n",
       "    </tr>\n",
       "    <tr>\n",
       "      <th>2</th>\n",
       "      <td>0</td>\n",
       "      <td>1</td>\n",
       "      <td>0.568214</td>\n",
       "    </tr>\n",
       "    <tr>\n",
       "      <th>3</th>\n",
       "      <td>0</td>\n",
       "      <td>0</td>\n",
       "      <td>0.115224</td>\n",
       "    </tr>\n",
       "    <tr>\n",
       "      <th>4</th>\n",
       "      <td>0</td>\n",
       "      <td>0</td>\n",
       "      <td>0.464755</td>\n",
       "    </tr>\n",
       "    <tr>\n",
       "      <th>...</th>\n",
       "      <td>...</td>\n",
       "      <td>...</td>\n",
       "      <td>...</td>\n",
       "    </tr>\n",
       "    <tr>\n",
       "      <th>481</th>\n",
       "      <td>0</td>\n",
       "      <td>0</td>\n",
       "      <td>0.360714</td>\n",
       "    </tr>\n",
       "    <tr>\n",
       "      <th>482</th>\n",
       "      <td>0</td>\n",
       "      <td>0</td>\n",
       "      <td>0.386907</td>\n",
       "    </tr>\n",
       "    <tr>\n",
       "      <th>483</th>\n",
       "      <td>0</td>\n",
       "      <td>0</td>\n",
       "      <td>0.453852</td>\n",
       "    </tr>\n",
       "    <tr>\n",
       "      <th>484</th>\n",
       "      <td>0</td>\n",
       "      <td>1</td>\n",
       "      <td>0.533414</td>\n",
       "    </tr>\n",
       "    <tr>\n",
       "      <th>485</th>\n",
       "      <td>0</td>\n",
       "      <td>0</td>\n",
       "      <td>0.420083</td>\n",
       "    </tr>\n",
       "  </tbody>\n",
       "</table>\n",
       "<p>486 rows × 3 columns</p>\n",
       "</div>\n",
       "      <button class=\"colab-df-convert\" onclick=\"convertToInteractive('df-828b876f-502f-4887-a693-9ea9f00b9faf')\"\n",
       "              title=\"Convert this dataframe to an interactive table.\"\n",
       "              style=\"display:none;\">\n",
       "        \n",
       "  <svg xmlns=\"http://www.w3.org/2000/svg\" height=\"24px\"viewBox=\"0 0 24 24\"\n",
       "       width=\"24px\">\n",
       "    <path d=\"M0 0h24v24H0V0z\" fill=\"none\"/>\n",
       "    <path d=\"M18.56 5.44l.94 2.06.94-2.06 2.06-.94-2.06-.94-.94-2.06-.94 2.06-2.06.94zm-11 1L8.5 8.5l.94-2.06 2.06-.94-2.06-.94L8.5 2.5l-.94 2.06-2.06.94zm10 10l.94 2.06.94-2.06 2.06-.94-2.06-.94-.94-2.06-.94 2.06-2.06.94z\"/><path d=\"M17.41 7.96l-1.37-1.37c-.4-.4-.92-.59-1.43-.59-.52 0-1.04.2-1.43.59L10.3 9.45l-7.72 7.72c-.78.78-.78 2.05 0 2.83L4 21.41c.39.39.9.59 1.41.59.51 0 1.02-.2 1.41-.59l7.78-7.78 2.81-2.81c.8-.78.8-2.07 0-2.86zM5.41 20L4 18.59l7.72-7.72 1.47 1.35L5.41 20z\"/>\n",
       "  </svg>\n",
       "      </button>\n",
       "      \n",
       "  <style>\n",
       "    .colab-df-container {\n",
       "      display:flex;\n",
       "      flex-wrap:wrap;\n",
       "      gap: 12px;\n",
       "    }\n",
       "\n",
       "    .colab-df-convert {\n",
       "      background-color: #E8F0FE;\n",
       "      border: none;\n",
       "      border-radius: 50%;\n",
       "      cursor: pointer;\n",
       "      display: none;\n",
       "      fill: #1967D2;\n",
       "      height: 32px;\n",
       "      padding: 0 0 0 0;\n",
       "      width: 32px;\n",
       "    }\n",
       "\n",
       "    .colab-df-convert:hover {\n",
       "      background-color: #E2EBFA;\n",
       "      box-shadow: 0px 1px 2px rgba(60, 64, 67, 0.3), 0px 1px 3px 1px rgba(60, 64, 67, 0.15);\n",
       "      fill: #174EA6;\n",
       "    }\n",
       "\n",
       "    [theme=dark] .colab-df-convert {\n",
       "      background-color: #3B4455;\n",
       "      fill: #D2E3FC;\n",
       "    }\n",
       "\n",
       "    [theme=dark] .colab-df-convert:hover {\n",
       "      background-color: #434B5C;\n",
       "      box-shadow: 0px 1px 3px 1px rgba(0, 0, 0, 0.15);\n",
       "      filter: drop-shadow(0px 1px 2px rgba(0, 0, 0, 0.3));\n",
       "      fill: #FFFFFF;\n",
       "    }\n",
       "  </style>\n",
       "\n",
       "      <script>\n",
       "        const buttonEl =\n",
       "          document.querySelector('#df-828b876f-502f-4887-a693-9ea9f00b9faf button.colab-df-convert');\n",
       "        buttonEl.style.display =\n",
       "          google.colab.kernel.accessAllowed ? 'block' : 'none';\n",
       "\n",
       "        async function convertToInteractive(key) {\n",
       "          const element = document.querySelector('#df-828b876f-502f-4887-a693-9ea9f00b9faf');\n",
       "          const dataTable =\n",
       "            await google.colab.kernel.invokeFunction('convertToInteractive',\n",
       "                                                     [key], {});\n",
       "          if (!dataTable) return;\n",
       "\n",
       "          const docLinkHtml = 'Like what you see? Visit the ' +\n",
       "            '<a target=\"_blank\" href=https://colab.research.google.com/notebooks/data_table.ipynb>data table notebook</a>'\n",
       "            + ' to learn more about interactive tables.';\n",
       "          element.innerHTML = '';\n",
       "          dataTable['output_type'] = 'display_data';\n",
       "          await google.colab.output.renderOutput(dataTable, element);\n",
       "          const docLink = document.createElement('div');\n",
       "          docLink.innerHTML = docLinkHtml;\n",
       "          element.appendChild(docLink);\n",
       "        }\n",
       "      </script>\n",
       "    </div>\n",
       "  </div>\n",
       "  "
      ],
      "text/plain": [
       "     WriteOff_YN  Predicted Values  Predicted_Prob_WO = 1\n",
       "0              0                 0               0.149288\n",
       "1              0                 1               0.518983\n",
       "2              0                 1               0.568214\n",
       "3              0                 0               0.115224\n",
       "4              0                 0               0.464755\n",
       "..           ...               ...                    ...\n",
       "481            0                 0               0.360714\n",
       "482            0                 0               0.386907\n",
       "483            0                 0               0.453852\n",
       "484            0                 1               0.533414\n",
       "485            0                 0               0.420083\n",
       "\n",
       "[486 rows x 3 columns]"
      ]
     },
     "execution_count": 703,
     "metadata": {},
     "output_type": "execute_result"
    }
   ],
   "source": [
    "check"
   ]
  },
  {
   "cell_type": "code",
   "execution_count": null,
   "id": "bf0b9e5a",
   "metadata": {
    "id": "dXe_K8PNpfvP"
   },
   "outputs": [],
   "source": [
    "check['OpportunityID'] = None"
   ]
  },
  {
   "cell_type": "code",
   "execution_count": null,
   "id": "57b51a4c",
   "metadata": {
    "colab": {
     "base_uri": "https://localhost:8080/"
    },
    "executionInfo": {
     "elapsed": 554,
     "status": "ok",
     "timestamp": 1661415208230,
     "user": {
      "displayName": "Siddhant Singh",
      "userId": "08343284542219482153"
     },
     "user_tz": -330
    },
    "id": "YQshhNfDpfvP",
    "outputId": "e4e0755f-fa40-4d97-c485-3dcb9981af9e"
   },
   "outputs": [
    {
     "name": "stderr",
     "output_type": "stream",
     "text": [
      "/usr/local/lib/python3.7/dist-packages/ipykernel_launcher.py:2: SettingWithCopyWarning: \n",
      "A value is trying to be set on a copy of a slice from a DataFrame\n",
      "\n",
      "See the caveats in the documentation: https://pandas.pydata.org/pandas-docs/stable/user_guide/indexing.html#returning-a-view-versus-a-copy\n",
      "  \n"
     ]
    }
   ],
   "source": [
    "for i in check.index:\n",
    "  check['OpportunityID'][i] = data_test['OpportunityID'][i]"
   ]
  },
  {
   "cell_type": "code",
   "execution_count": null,
   "id": "b8417779",
   "metadata": {
    "colab": {
     "base_uri": "https://localhost:8080/",
     "height": 424
    },
    "executionInfo": {
     "elapsed": 12,
     "status": "ok",
     "timestamp": 1661415208231,
     "user": {
      "displayName": "Siddhant Singh",
      "userId": "08343284542219482153"
     },
     "user_tz": -330
    },
    "id": "-waywIiYpfvP",
    "outputId": "912d2d95-0207-47b9-f256-bd0b92d18a10"
   },
   "outputs": [
    {
     "data": {
      "text/html": [
       "\n",
       "  <div id=\"df-eaf0b1c4-349b-47f1-b990-4988677377f9\">\n",
       "    <div class=\"colab-df-container\">\n",
       "      <div>\n",
       "<style scoped>\n",
       "    .dataframe tbody tr th:only-of-type {\n",
       "        vertical-align: middle;\n",
       "    }\n",
       "\n",
       "    .dataframe tbody tr th {\n",
       "        vertical-align: top;\n",
       "    }\n",
       "\n",
       "    .dataframe thead th {\n",
       "        text-align: right;\n",
       "    }\n",
       "</style>\n",
       "<table border=\"1\" class=\"dataframe\">\n",
       "  <thead>\n",
       "    <tr style=\"text-align: right;\">\n",
       "      <th></th>\n",
       "      <th>WriteOff_YN</th>\n",
       "      <th>Predicted Values</th>\n",
       "      <th>Predicted_Prob_WO = 1</th>\n",
       "      <th>OpportunityID</th>\n",
       "    </tr>\n",
       "  </thead>\n",
       "  <tbody>\n",
       "    <tr>\n",
       "      <th>0</th>\n",
       "      <td>0</td>\n",
       "      <td>0</td>\n",
       "      <td>0.149288</td>\n",
       "      <td>0062M00000nqf6oQAA</td>\n",
       "    </tr>\n",
       "    <tr>\n",
       "      <th>1</th>\n",
       "      <td>0</td>\n",
       "      <td>1</td>\n",
       "      <td>0.518983</td>\n",
       "      <td>0062M00000nqfF3QAI</td>\n",
       "    </tr>\n",
       "    <tr>\n",
       "      <th>2</th>\n",
       "      <td>0</td>\n",
       "      <td>1</td>\n",
       "      <td>0.568214</td>\n",
       "      <td>0062M00000nqjtvQAA</td>\n",
       "    </tr>\n",
       "    <tr>\n",
       "      <th>3</th>\n",
       "      <td>0</td>\n",
       "      <td>0</td>\n",
       "      <td>0.115224</td>\n",
       "      <td>0062M00000nqs8FQAQ</td>\n",
       "    </tr>\n",
       "    <tr>\n",
       "      <th>4</th>\n",
       "      <td>0</td>\n",
       "      <td>0</td>\n",
       "      <td>0.464755</td>\n",
       "      <td>0062M00000nr94cQAA</td>\n",
       "    </tr>\n",
       "    <tr>\n",
       "      <th>...</th>\n",
       "      <td>...</td>\n",
       "      <td>...</td>\n",
       "      <td>...</td>\n",
       "      <td>...</td>\n",
       "    </tr>\n",
       "    <tr>\n",
       "      <th>481</th>\n",
       "      <td>0</td>\n",
       "      <td>0</td>\n",
       "      <td>0.360714</td>\n",
       "      <td>0062M00000oYVfWQAW</td>\n",
       "    </tr>\n",
       "    <tr>\n",
       "      <th>482</th>\n",
       "      <td>0</td>\n",
       "      <td>0</td>\n",
       "      <td>0.386907</td>\n",
       "      <td>0062M00000oYVWyQAO</td>\n",
       "    </tr>\n",
       "    <tr>\n",
       "      <th>483</th>\n",
       "      <td>0</td>\n",
       "      <td>0</td>\n",
       "      <td>0.453852</td>\n",
       "      <td>0062M00000oYYg7QAG</td>\n",
       "    </tr>\n",
       "    <tr>\n",
       "      <th>484</th>\n",
       "      <td>0</td>\n",
       "      <td>1</td>\n",
       "      <td>0.533414</td>\n",
       "      <td>0062M00000oYZI3QAO</td>\n",
       "    </tr>\n",
       "    <tr>\n",
       "      <th>485</th>\n",
       "      <td>0</td>\n",
       "      <td>0</td>\n",
       "      <td>0.420083</td>\n",
       "      <td>0062M00000oYZTzQAO</td>\n",
       "    </tr>\n",
       "  </tbody>\n",
       "</table>\n",
       "<p>486 rows × 4 columns</p>\n",
       "</div>\n",
       "      <button class=\"colab-df-convert\" onclick=\"convertToInteractive('df-eaf0b1c4-349b-47f1-b990-4988677377f9')\"\n",
       "              title=\"Convert this dataframe to an interactive table.\"\n",
       "              style=\"display:none;\">\n",
       "        \n",
       "  <svg xmlns=\"http://www.w3.org/2000/svg\" height=\"24px\"viewBox=\"0 0 24 24\"\n",
       "       width=\"24px\">\n",
       "    <path d=\"M0 0h24v24H0V0z\" fill=\"none\"/>\n",
       "    <path d=\"M18.56 5.44l.94 2.06.94-2.06 2.06-.94-2.06-.94-.94-2.06-.94 2.06-2.06.94zm-11 1L8.5 8.5l.94-2.06 2.06-.94-2.06-.94L8.5 2.5l-.94 2.06-2.06.94zm10 10l.94 2.06.94-2.06 2.06-.94-2.06-.94-.94-2.06-.94 2.06-2.06.94z\"/><path d=\"M17.41 7.96l-1.37-1.37c-.4-.4-.92-.59-1.43-.59-.52 0-1.04.2-1.43.59L10.3 9.45l-7.72 7.72c-.78.78-.78 2.05 0 2.83L4 21.41c.39.39.9.59 1.41.59.51 0 1.02-.2 1.41-.59l7.78-7.78 2.81-2.81c.8-.78.8-2.07 0-2.86zM5.41 20L4 18.59l7.72-7.72 1.47 1.35L5.41 20z\"/>\n",
       "  </svg>\n",
       "      </button>\n",
       "      \n",
       "  <style>\n",
       "    .colab-df-container {\n",
       "      display:flex;\n",
       "      flex-wrap:wrap;\n",
       "      gap: 12px;\n",
       "    }\n",
       "\n",
       "    .colab-df-convert {\n",
       "      background-color: #E8F0FE;\n",
       "      border: none;\n",
       "      border-radius: 50%;\n",
       "      cursor: pointer;\n",
       "      display: none;\n",
       "      fill: #1967D2;\n",
       "      height: 32px;\n",
       "      padding: 0 0 0 0;\n",
       "      width: 32px;\n",
       "    }\n",
       "\n",
       "    .colab-df-convert:hover {\n",
       "      background-color: #E2EBFA;\n",
       "      box-shadow: 0px 1px 2px rgba(60, 64, 67, 0.3), 0px 1px 3px 1px rgba(60, 64, 67, 0.15);\n",
       "      fill: #174EA6;\n",
       "    }\n",
       "\n",
       "    [theme=dark] .colab-df-convert {\n",
       "      background-color: #3B4455;\n",
       "      fill: #D2E3FC;\n",
       "    }\n",
       "\n",
       "    [theme=dark] .colab-df-convert:hover {\n",
       "      background-color: #434B5C;\n",
       "      box-shadow: 0px 1px 3px 1px rgba(0, 0, 0, 0.15);\n",
       "      filter: drop-shadow(0px 1px 2px rgba(0, 0, 0, 0.3));\n",
       "      fill: #FFFFFF;\n",
       "    }\n",
       "  </style>\n",
       "\n",
       "      <script>\n",
       "        const buttonEl =\n",
       "          document.querySelector('#df-eaf0b1c4-349b-47f1-b990-4988677377f9 button.colab-df-convert');\n",
       "        buttonEl.style.display =\n",
       "          google.colab.kernel.accessAllowed ? 'block' : 'none';\n",
       "\n",
       "        async function convertToInteractive(key) {\n",
       "          const element = document.querySelector('#df-eaf0b1c4-349b-47f1-b990-4988677377f9');\n",
       "          const dataTable =\n",
       "            await google.colab.kernel.invokeFunction('convertToInteractive',\n",
       "                                                     [key], {});\n",
       "          if (!dataTable) return;\n",
       "\n",
       "          const docLinkHtml = 'Like what you see? Visit the ' +\n",
       "            '<a target=\"_blank\" href=https://colab.research.google.com/notebooks/data_table.ipynb>data table notebook</a>'\n",
       "            + ' to learn more about interactive tables.';\n",
       "          element.innerHTML = '';\n",
       "          dataTable['output_type'] = 'display_data';\n",
       "          await google.colab.output.renderOutput(dataTable, element);\n",
       "          const docLink = document.createElement('div');\n",
       "          docLink.innerHTML = docLinkHtml;\n",
       "          element.appendChild(docLink);\n",
       "        }\n",
       "      </script>\n",
       "    </div>\n",
       "  </div>\n",
       "  "
      ],
      "text/plain": [
       "     WriteOff_YN  Predicted Values  Predicted_Prob_WO = 1       OpportunityID\n",
       "0              0                 0               0.149288  0062M00000nqf6oQAA\n",
       "1              0                 1               0.518983  0062M00000nqfF3QAI\n",
       "2              0                 1               0.568214  0062M00000nqjtvQAA\n",
       "3              0                 0               0.115224  0062M00000nqs8FQAQ\n",
       "4              0                 0               0.464755  0062M00000nr94cQAA\n",
       "..           ...               ...                    ...                 ...\n",
       "481            0                 0               0.360714  0062M00000oYVfWQAW\n",
       "482            0                 0               0.386907  0062M00000oYVWyQAO\n",
       "483            0                 0               0.453852  0062M00000oYYg7QAG\n",
       "484            0                 1               0.533414  0062M00000oYZI3QAO\n",
       "485            0                 0               0.420083  0062M00000oYZTzQAO\n",
       "\n",
       "[486 rows x 4 columns]"
      ]
     },
     "execution_count": 706,
     "metadata": {},
     "output_type": "execute_result"
    }
   ],
   "source": [
    "check"
   ]
  },
  {
   "cell_type": "code",
   "execution_count": null,
   "id": "ccffdcbe",
   "metadata": {
    "colab": {
     "base_uri": "https://localhost:8080/"
    },
    "executionInfo": {
     "elapsed": 10,
     "status": "ok",
     "timestamp": 1661415208231,
     "user": {
      "displayName": "Siddhant Singh",
      "userId": "08343284542219482153"
     },
     "user_tz": -330
    },
    "id": "g7V6mH_zpfvP",
    "outputId": "c5e253eb-258d-467a-ffd3-2d2f54d85187"
   },
   "outputs": [
    {
     "name": "stdout",
     "output_type": "stream",
     "text": [
      "Max_propability_value:  0.84135354\n",
      "Min_propability_value:  0.032590542\n"
     ]
    }
   ],
   "source": [
    "print(\"Max_propability_value: \", check[\"Predicted_Prob_WO = 1\"].max())\n",
    "print(\"Min_propability_value: \", check[\"Predicted_Prob_WO = 1\"].min())"
   ]
  },
  {
   "cell_type": "code",
   "execution_count": null,
   "id": "b52c6aa7",
   "metadata": {
    "id": "Uah-hdRkpfvQ"
   },
   "outputs": [],
   "source": [
    "check['Decile'] = None"
   ]
  },
  {
   "cell_type": "code",
   "execution_count": null,
   "id": "8e0f989e",
   "metadata": {
    "colab": {
     "base_uri": "https://localhost:8080/"
    },
    "executionInfo": {
     "elapsed": 9,
     "status": "ok",
     "timestamp": 1661415210622,
     "user": {
      "displayName": "Siddhant Singh",
      "userId": "08343284542219482153"
     },
     "user_tz": -330
    },
    "id": "PQUz_VW4pyq5",
    "outputId": "99a043ea-9a9d-4d5e-c763-aae88ec450e1"
   },
   "outputs": [
    {
     "name": "stderr",
     "output_type": "stream",
     "text": [
      "/usr/local/lib/python3.7/dist-packages/ipykernel_launcher.py:57: SettingWithCopyWarning: \n",
      "A value is trying to be set on a copy of a slice from a DataFrame\n",
      "\n",
      "See the caveats in the documentation: https://pandas.pydata.org/pandas-docs/stable/user_guide/indexing.html#returning-a-view-versus-a-copy\n"
     ]
    }
   ],
   "source": [
    "funded_amt_d1, funded_amt_d2, funded_amt_d3, funded_amt_d4, funded_amt_d5, funded_amt_d6, funded_amt_d7, funded_amt_d8, funded_amt_d9, funded_amt_d10 = 0,0,0,0,0,0,0,0,0,0\n",
    "gross_amt_d1, gross_amt_d2, gross_amt_d3, gross_amt_d4, gross_amt_d5, gross_amt_d6, gross_amt_d7, gross_amt_d8, gross_amt_d9, gross_amt_d10 = 0,0,0,0,0,0,0,0,0,0\n",
    "advanced_amt_d1, advanced_amt_d2, advanced_amt_d3, advanced_amt_d4, advanced_amt_d5, advanced_amt_d6, advanced_amt_d7, advanced_amt_d8, advanced_amt_d9, advanced_amt_d10 = 0,0,0,0,0,0,0,0,0,0\n",
    "\n",
    "for i in check.index:\n",
    "  \n",
    "  if check[\"Predicted_Prob_WO = 1\"][i]>=min_range[9]:\n",
    "    d=10\n",
    "    funded_amt_d10 = funded_amt_d10+data_test['FundedAmount'][i]\n",
    "    gross_amt_d10 = gross_amt_d10 + data_test['FundedWriteOffAmount_Gross'][i]\n",
    "    advanced_amt_d10 = advanced_amt_d10 + data_test['WOGross_AdvanceBalance'][i]\n",
    "  elif (check[\"Predicted_Prob_WO = 1\"][i] >= min_range[8]) & (check[\"Predicted_Prob_WO = 1\"][i] <= max_range[8]):\n",
    "    d=9\n",
    "    funded_amt_d9 = funded_amt_d9+data_test['FundedAmount'][i]\n",
    "    gross_amt_d9 = gross_amt_d9 + data_test['FundedWriteOffAmount_Gross'][i]\n",
    "    advanced_amt_d9 = advanced_amt_d9 + data_test['WOGross_AdvanceBalance'][i]\n",
    "  elif (check[\"Predicted_Prob_WO = 1\"][i] >= min_range[7]) & (check[\"Predicted_Prob_WO = 1\"][i] <= max_range[7]):\n",
    "    d=8\n",
    "    funded_amt_d8 = funded_amt_d8+data_test['FundedAmount'][i]\n",
    "    gross_amt_d8 = gross_amt_d8 + data_test['FundedWriteOffAmount_Gross'][i]\n",
    "    advanced_amt_d8 = advanced_amt_d8 + data_test['WOGross_AdvanceBalance'][i]\n",
    "  elif (check[\"Predicted_Prob_WO = 1\"][i] >= min_range[6]) & (check[\"Predicted_Prob_WO = 1\"][i] <= max_range[6]):\n",
    "    d=7\n",
    "    funded_amt_d7 = funded_amt_d7+data_test['FundedAmount'][i]\n",
    "    gross_amt_d7 = gross_amt_d7 + data_test['FundedWriteOffAmount_Gross'][i]\n",
    "    advanced_amt_d7 = advanced_amt_d7 + data_test['WOGross_AdvanceBalance'][i]\n",
    "  elif (check[\"Predicted_Prob_WO = 1\"][i] >= min_range[5]) & (check[\"Predicted_Prob_WO = 1\"][i] <= max_range[5]):\n",
    "    d=6\n",
    "    funded_amt_d6 = funded_amt_d6+data_test['FundedAmount'][i]\n",
    "    gross_amt_d6 = gross_amt_d6+ data_test['FundedWriteOffAmount_Gross'][i]\n",
    "    advanced_amt_d6 = advanced_amt_d6 + data_test['WOGross_AdvanceBalance'][i]\n",
    "  elif (check[\"Predicted_Prob_WO = 1\"][i] >= min_range[4]) & (check[\"Predicted_Prob_WO = 1\"][i] <= max_range[4]):\n",
    "    d=5\n",
    "    funded_amt_d5 = funded_amt_d5+data_test['FundedAmount'][i]\n",
    "    gross_amt_d5 = gross_amt_d5 + data_test['FundedWriteOffAmount_Gross'][i]\n",
    "    advanced_amt_d5 = advanced_amt_d5 + data_test['WOGross_AdvanceBalance'][i]\n",
    "  elif (check[\"Predicted_Prob_WO = 1\"][i] >= min_range[3]) & (check[\"Predicted_Prob_WO = 1\"][i] <= max_range[3]):\n",
    "    d=4\n",
    "    funded_amt_d4 = funded_amt_d4+data_test['FundedAmount'][i]\n",
    "    gross_amt_d4 = gross_amt_d4 + data_test['FundedWriteOffAmount_Gross'][i]\n",
    "    advanced_amt_d4 = advanced_amt_d4 + data_test['WOGross_AdvanceBalance'][i]\n",
    "  elif (check[\"Predicted_Prob_WO = 1\"][i] >= min_range[2]) & (check[\"Predicted_Prob_WO = 1\"][i] <= max_range[2]):\n",
    "    d=3\n",
    "    funded_amt_d3 = funded_amt_d3+data_test['FundedAmount'][i]\n",
    "    gross_amt_d3 = gross_amt_d3 + data_test['FundedWriteOffAmount_Gross'][i]\n",
    "    advanced_amt_d3 = advanced_amt_d3 + data_test['WOGross_AdvanceBalance'][i]\n",
    "  elif (check[\"Predicted_Prob_WO = 1\"][i] >= min_range[1]) & (check[\"Predicted_Prob_WO = 1\"][i] <= max_range[1]):\n",
    "    d=2\n",
    "    funded_amt_d2 = funded_amt_d2+data_test['FundedAmount'][i]\n",
    "    gross_amt_d2 = gross_amt_d2 + data_test['FundedWriteOffAmount_Gross'][i]\n",
    "    advanced_amt_d2 = advanced_amt_d2 + data_test['WOGross_AdvanceBalance'][i]\n",
    "  else:\n",
    "    d = 1\n",
    "    funded_amt_d1 = funded_amt_d1+data_test['FundedAmount'][i]\n",
    "    gross_amt_d1 = gross_amt_d1 + data_test['FundedWriteOffAmount_Gross'][i]\n",
    "    advanced_amt_d1 = advanced_amt_d1 + data_test['WOGross_AdvanceBalance'][i]\n",
    "  check['Decile'][i] = d"
   ]
  },
  {
   "cell_type": "code",
   "execution_count": null,
   "id": "67c5eb1d",
   "metadata": {
    "colab": {
     "base_uri": "https://localhost:8080/",
     "height": 424
    },
    "executionInfo": {
     "elapsed": 4,
     "status": "ok",
     "timestamp": 1661415211306,
     "user": {
      "displayName": "Siddhant Singh",
      "userId": "08343284542219482153"
     },
     "user_tz": -330
    },
    "id": "LppK-pJhpfvR",
    "outputId": "04a4ca82-3788-406a-b920-0caf8b50878c"
   },
   "outputs": [
    {
     "data": {
      "text/html": [
       "\n",
       "  <div id=\"df-1b94f516-0676-4ebe-afd9-d67490e8f090\">\n",
       "    <div class=\"colab-df-container\">\n",
       "      <div>\n",
       "<style scoped>\n",
       "    .dataframe tbody tr th:only-of-type {\n",
       "        vertical-align: middle;\n",
       "    }\n",
       "\n",
       "    .dataframe tbody tr th {\n",
       "        vertical-align: top;\n",
       "    }\n",
       "\n",
       "    .dataframe thead th {\n",
       "        text-align: right;\n",
       "    }\n",
       "</style>\n",
       "<table border=\"1\" class=\"dataframe\">\n",
       "  <thead>\n",
       "    <tr style=\"text-align: right;\">\n",
       "      <th></th>\n",
       "      <th>WriteOff_YN</th>\n",
       "      <th>Predicted Values</th>\n",
       "      <th>Predicted_Prob_WO = 1</th>\n",
       "      <th>OpportunityID</th>\n",
       "      <th>Decile</th>\n",
       "    </tr>\n",
       "  </thead>\n",
       "  <tbody>\n",
       "    <tr>\n",
       "      <th>0</th>\n",
       "      <td>0</td>\n",
       "      <td>0</td>\n",
       "      <td>0.149288</td>\n",
       "      <td>0062M00000nqf6oQAA</td>\n",
       "      <td>4</td>\n",
       "    </tr>\n",
       "    <tr>\n",
       "      <th>1</th>\n",
       "      <td>0</td>\n",
       "      <td>1</td>\n",
       "      <td>0.518983</td>\n",
       "      <td>0062M00000nqfF3QAI</td>\n",
       "      <td>10</td>\n",
       "    </tr>\n",
       "    <tr>\n",
       "      <th>2</th>\n",
       "      <td>0</td>\n",
       "      <td>1</td>\n",
       "      <td>0.568214</td>\n",
       "      <td>0062M00000nqjtvQAA</td>\n",
       "      <td>10</td>\n",
       "    </tr>\n",
       "    <tr>\n",
       "      <th>3</th>\n",
       "      <td>0</td>\n",
       "      <td>0</td>\n",
       "      <td>0.115224</td>\n",
       "      <td>0062M00000nqs8FQAQ</td>\n",
       "      <td>3</td>\n",
       "    </tr>\n",
       "    <tr>\n",
       "      <th>4</th>\n",
       "      <td>0</td>\n",
       "      <td>0</td>\n",
       "      <td>0.464755</td>\n",
       "      <td>0062M00000nr94cQAA</td>\n",
       "      <td>9</td>\n",
       "    </tr>\n",
       "    <tr>\n",
       "      <th>...</th>\n",
       "      <td>...</td>\n",
       "      <td>...</td>\n",
       "      <td>...</td>\n",
       "      <td>...</td>\n",
       "      <td>...</td>\n",
       "    </tr>\n",
       "    <tr>\n",
       "      <th>481</th>\n",
       "      <td>0</td>\n",
       "      <td>0</td>\n",
       "      <td>0.360714</td>\n",
       "      <td>0062M00000oYVfWQAW</td>\n",
       "      <td>8</td>\n",
       "    </tr>\n",
       "    <tr>\n",
       "      <th>482</th>\n",
       "      <td>0</td>\n",
       "      <td>0</td>\n",
       "      <td>0.386907</td>\n",
       "      <td>0062M00000oYVWyQAO</td>\n",
       "      <td>8</td>\n",
       "    </tr>\n",
       "    <tr>\n",
       "      <th>483</th>\n",
       "      <td>0</td>\n",
       "      <td>0</td>\n",
       "      <td>0.453852</td>\n",
       "      <td>0062M00000oYYg7QAG</td>\n",
       "      <td>9</td>\n",
       "    </tr>\n",
       "    <tr>\n",
       "      <th>484</th>\n",
       "      <td>0</td>\n",
       "      <td>1</td>\n",
       "      <td>0.533414</td>\n",
       "      <td>0062M00000oYZI3QAO</td>\n",
       "      <td>10</td>\n",
       "    </tr>\n",
       "    <tr>\n",
       "      <th>485</th>\n",
       "      <td>0</td>\n",
       "      <td>0</td>\n",
       "      <td>0.420083</td>\n",
       "      <td>0062M00000oYZTzQAO</td>\n",
       "      <td>9</td>\n",
       "    </tr>\n",
       "  </tbody>\n",
       "</table>\n",
       "<p>486 rows × 5 columns</p>\n",
       "</div>\n",
       "      <button class=\"colab-df-convert\" onclick=\"convertToInteractive('df-1b94f516-0676-4ebe-afd9-d67490e8f090')\"\n",
       "              title=\"Convert this dataframe to an interactive table.\"\n",
       "              style=\"display:none;\">\n",
       "        \n",
       "  <svg xmlns=\"http://www.w3.org/2000/svg\" height=\"24px\"viewBox=\"0 0 24 24\"\n",
       "       width=\"24px\">\n",
       "    <path d=\"M0 0h24v24H0V0z\" fill=\"none\"/>\n",
       "    <path d=\"M18.56 5.44l.94 2.06.94-2.06 2.06-.94-2.06-.94-.94-2.06-.94 2.06-2.06.94zm-11 1L8.5 8.5l.94-2.06 2.06-.94-2.06-.94L8.5 2.5l-.94 2.06-2.06.94zm10 10l.94 2.06.94-2.06 2.06-.94-2.06-.94-.94-2.06-.94 2.06-2.06.94z\"/><path d=\"M17.41 7.96l-1.37-1.37c-.4-.4-.92-.59-1.43-.59-.52 0-1.04.2-1.43.59L10.3 9.45l-7.72 7.72c-.78.78-.78 2.05 0 2.83L4 21.41c.39.39.9.59 1.41.59.51 0 1.02-.2 1.41-.59l7.78-7.78 2.81-2.81c.8-.78.8-2.07 0-2.86zM5.41 20L4 18.59l7.72-7.72 1.47 1.35L5.41 20z\"/>\n",
       "  </svg>\n",
       "      </button>\n",
       "      \n",
       "  <style>\n",
       "    .colab-df-container {\n",
       "      display:flex;\n",
       "      flex-wrap:wrap;\n",
       "      gap: 12px;\n",
       "    }\n",
       "\n",
       "    .colab-df-convert {\n",
       "      background-color: #E8F0FE;\n",
       "      border: none;\n",
       "      border-radius: 50%;\n",
       "      cursor: pointer;\n",
       "      display: none;\n",
       "      fill: #1967D2;\n",
       "      height: 32px;\n",
       "      padding: 0 0 0 0;\n",
       "      width: 32px;\n",
       "    }\n",
       "\n",
       "    .colab-df-convert:hover {\n",
       "      background-color: #E2EBFA;\n",
       "      box-shadow: 0px 1px 2px rgba(60, 64, 67, 0.3), 0px 1px 3px 1px rgba(60, 64, 67, 0.15);\n",
       "      fill: #174EA6;\n",
       "    }\n",
       "\n",
       "    [theme=dark] .colab-df-convert {\n",
       "      background-color: #3B4455;\n",
       "      fill: #D2E3FC;\n",
       "    }\n",
       "\n",
       "    [theme=dark] .colab-df-convert:hover {\n",
       "      background-color: #434B5C;\n",
       "      box-shadow: 0px 1px 3px 1px rgba(0, 0, 0, 0.15);\n",
       "      filter: drop-shadow(0px 1px 2px rgba(0, 0, 0, 0.3));\n",
       "      fill: #FFFFFF;\n",
       "    }\n",
       "  </style>\n",
       "\n",
       "      <script>\n",
       "        const buttonEl =\n",
       "          document.querySelector('#df-1b94f516-0676-4ebe-afd9-d67490e8f090 button.colab-df-convert');\n",
       "        buttonEl.style.display =\n",
       "          google.colab.kernel.accessAllowed ? 'block' : 'none';\n",
       "\n",
       "        async function convertToInteractive(key) {\n",
       "          const element = document.querySelector('#df-1b94f516-0676-4ebe-afd9-d67490e8f090');\n",
       "          const dataTable =\n",
       "            await google.colab.kernel.invokeFunction('convertToInteractive',\n",
       "                                                     [key], {});\n",
       "          if (!dataTable) return;\n",
       "\n",
       "          const docLinkHtml = 'Like what you see? Visit the ' +\n",
       "            '<a target=\"_blank\" href=https://colab.research.google.com/notebooks/data_table.ipynb>data table notebook</a>'\n",
       "            + ' to learn more about interactive tables.';\n",
       "          element.innerHTML = '';\n",
       "          dataTable['output_type'] = 'display_data';\n",
       "          await google.colab.output.renderOutput(dataTable, element);\n",
       "          const docLink = document.createElement('div');\n",
       "          docLink.innerHTML = docLinkHtml;\n",
       "          element.appendChild(docLink);\n",
       "        }\n",
       "      </script>\n",
       "    </div>\n",
       "  </div>\n",
       "  "
      ],
      "text/plain": [
       "     WriteOff_YN  Predicted Values  Predicted_Prob_WO = 1       OpportunityID  \\\n",
       "0              0                 0               0.149288  0062M00000nqf6oQAA   \n",
       "1              0                 1               0.518983  0062M00000nqfF3QAI   \n",
       "2              0                 1               0.568214  0062M00000nqjtvQAA   \n",
       "3              0                 0               0.115224  0062M00000nqs8FQAQ   \n",
       "4              0                 0               0.464755  0062M00000nr94cQAA   \n",
       "..           ...               ...                    ...                 ...   \n",
       "481            0                 0               0.360714  0062M00000oYVfWQAW   \n",
       "482            0                 0               0.386907  0062M00000oYVWyQAO   \n",
       "483            0                 0               0.453852  0062M00000oYYg7QAG   \n",
       "484            0                 1               0.533414  0062M00000oYZI3QAO   \n",
       "485            0                 0               0.420083  0062M00000oYZTzQAO   \n",
       "\n",
       "    Decile  \n",
       "0        4  \n",
       "1       10  \n",
       "2       10  \n",
       "3        3  \n",
       "4        9  \n",
       "..     ...  \n",
       "481      8  \n",
       "482      8  \n",
       "483      9  \n",
       "484     10  \n",
       "485      9  \n",
       "\n",
       "[486 rows x 5 columns]"
      ]
     },
     "execution_count": 711,
     "metadata": {},
     "output_type": "execute_result"
    }
   ],
   "source": [
    "check"
   ]
  },
  {
   "cell_type": "code",
   "execution_count": null,
   "id": "0220d9a5",
   "metadata": {
    "id": "NZy3BsM4pfvR"
   },
   "outputs": [],
   "source": [
    "check.sort_values([\"Predicted_Prob_WO = 1\"], ascending = True, inplace = True)"
   ]
  },
  {
   "cell_type": "code",
   "execution_count": null,
   "id": "fb00c33a",
   "metadata": {
    "colab": {
     "base_uri": "https://localhost:8080/",
     "height": 424
    },
    "executionInfo": {
     "elapsed": 4,
     "status": "ok",
     "timestamp": 1661415212270,
     "user": {
      "displayName": "Siddhant Singh",
      "userId": "08343284542219482153"
     },
     "user_tz": -330
    },
    "id": "vtaSCajupfvR",
    "outputId": "713f0b30-93e1-49ee-90b1-8e94745c0039"
   },
   "outputs": [
    {
     "data": {
      "text/html": [
       "\n",
       "  <div id=\"df-cf543966-1ab1-4a59-b467-5fdd341dbc83\">\n",
       "    <div class=\"colab-df-container\">\n",
       "      <div>\n",
       "<style scoped>\n",
       "    .dataframe tbody tr th:only-of-type {\n",
       "        vertical-align: middle;\n",
       "    }\n",
       "\n",
       "    .dataframe tbody tr th {\n",
       "        vertical-align: top;\n",
       "    }\n",
       "\n",
       "    .dataframe thead th {\n",
       "        text-align: right;\n",
       "    }\n",
       "</style>\n",
       "<table border=\"1\" class=\"dataframe\">\n",
       "  <thead>\n",
       "    <tr style=\"text-align: right;\">\n",
       "      <th></th>\n",
       "      <th>WriteOff_YN</th>\n",
       "      <th>Predicted Values</th>\n",
       "      <th>Predicted_Prob_WO = 1</th>\n",
       "      <th>OpportunityID</th>\n",
       "      <th>Decile</th>\n",
       "    </tr>\n",
       "  </thead>\n",
       "  <tbody>\n",
       "    <tr>\n",
       "      <th>383</th>\n",
       "      <td>0</td>\n",
       "      <td>0</td>\n",
       "      <td>0.032591</td>\n",
       "      <td>0062M00000oQBoXQAW</td>\n",
       "      <td>1</td>\n",
       "    </tr>\n",
       "    <tr>\n",
       "      <th>54</th>\n",
       "      <td>0</td>\n",
       "      <td>0</td>\n",
       "      <td>0.034053</td>\n",
       "      <td>0062M00000o8uO4QAI</td>\n",
       "      <td>1</td>\n",
       "    </tr>\n",
       "    <tr>\n",
       "      <th>212</th>\n",
       "      <td>0</td>\n",
       "      <td>0</td>\n",
       "      <td>0.035022</td>\n",
       "      <td>0062M00000oB7wvQAC</td>\n",
       "      <td>1</td>\n",
       "    </tr>\n",
       "    <tr>\n",
       "      <th>307</th>\n",
       "      <td>0</td>\n",
       "      <td>0</td>\n",
       "      <td>0.035171</td>\n",
       "      <td>0062M00000oPjv7QAC</td>\n",
       "      <td>1</td>\n",
       "    </tr>\n",
       "    <tr>\n",
       "      <th>267</th>\n",
       "      <td>0</td>\n",
       "      <td>0</td>\n",
       "      <td>0.035209</td>\n",
       "      <td>0062M00000oOkeoQAC</td>\n",
       "      <td>1</td>\n",
       "    </tr>\n",
       "    <tr>\n",
       "      <th>...</th>\n",
       "      <td>...</td>\n",
       "      <td>...</td>\n",
       "      <td>...</td>\n",
       "      <td>...</td>\n",
       "      <td>...</td>\n",
       "    </tr>\n",
       "    <tr>\n",
       "      <th>279</th>\n",
       "      <td>1</td>\n",
       "      <td>1</td>\n",
       "      <td>0.778919</td>\n",
       "      <td>0062M00000oOzEbQAK</td>\n",
       "      <td>10</td>\n",
       "    </tr>\n",
       "    <tr>\n",
       "      <th>63</th>\n",
       "      <td>0</td>\n",
       "      <td>1</td>\n",
       "      <td>0.779049</td>\n",
       "      <td>0062M00000o8wSvQAI</td>\n",
       "      <td>10</td>\n",
       "    </tr>\n",
       "    <tr>\n",
       "      <th>362</th>\n",
       "      <td>0</td>\n",
       "      <td>1</td>\n",
       "      <td>0.811032</td>\n",
       "      <td>0062M00000oQ0n4QAC</td>\n",
       "      <td>10</td>\n",
       "    </tr>\n",
       "    <tr>\n",
       "      <th>290</th>\n",
       "      <td>0</td>\n",
       "      <td>1</td>\n",
       "      <td>0.823769</td>\n",
       "      <td>0062M00000oPA8rQAG</td>\n",
       "      <td>10</td>\n",
       "    </tr>\n",
       "    <tr>\n",
       "      <th>381</th>\n",
       "      <td>1</td>\n",
       "      <td>1</td>\n",
       "      <td>0.841354</td>\n",
       "      <td>0062M00000oQ7xqQAC</td>\n",
       "      <td>10</td>\n",
       "    </tr>\n",
       "  </tbody>\n",
       "</table>\n",
       "<p>486 rows × 5 columns</p>\n",
       "</div>\n",
       "      <button class=\"colab-df-convert\" onclick=\"convertToInteractive('df-cf543966-1ab1-4a59-b467-5fdd341dbc83')\"\n",
       "              title=\"Convert this dataframe to an interactive table.\"\n",
       "              style=\"display:none;\">\n",
       "        \n",
       "  <svg xmlns=\"http://www.w3.org/2000/svg\" height=\"24px\"viewBox=\"0 0 24 24\"\n",
       "       width=\"24px\">\n",
       "    <path d=\"M0 0h24v24H0V0z\" fill=\"none\"/>\n",
       "    <path d=\"M18.56 5.44l.94 2.06.94-2.06 2.06-.94-2.06-.94-.94-2.06-.94 2.06-2.06.94zm-11 1L8.5 8.5l.94-2.06 2.06-.94-2.06-.94L8.5 2.5l-.94 2.06-2.06.94zm10 10l.94 2.06.94-2.06 2.06-.94-2.06-.94-.94-2.06-.94 2.06-2.06.94z\"/><path d=\"M17.41 7.96l-1.37-1.37c-.4-.4-.92-.59-1.43-.59-.52 0-1.04.2-1.43.59L10.3 9.45l-7.72 7.72c-.78.78-.78 2.05 0 2.83L4 21.41c.39.39.9.59 1.41.59.51 0 1.02-.2 1.41-.59l7.78-7.78 2.81-2.81c.8-.78.8-2.07 0-2.86zM5.41 20L4 18.59l7.72-7.72 1.47 1.35L5.41 20z\"/>\n",
       "  </svg>\n",
       "      </button>\n",
       "      \n",
       "  <style>\n",
       "    .colab-df-container {\n",
       "      display:flex;\n",
       "      flex-wrap:wrap;\n",
       "      gap: 12px;\n",
       "    }\n",
       "\n",
       "    .colab-df-convert {\n",
       "      background-color: #E8F0FE;\n",
       "      border: none;\n",
       "      border-radius: 50%;\n",
       "      cursor: pointer;\n",
       "      display: none;\n",
       "      fill: #1967D2;\n",
       "      height: 32px;\n",
       "      padding: 0 0 0 0;\n",
       "      width: 32px;\n",
       "    }\n",
       "\n",
       "    .colab-df-convert:hover {\n",
       "      background-color: #E2EBFA;\n",
       "      box-shadow: 0px 1px 2px rgba(60, 64, 67, 0.3), 0px 1px 3px 1px rgba(60, 64, 67, 0.15);\n",
       "      fill: #174EA6;\n",
       "    }\n",
       "\n",
       "    [theme=dark] .colab-df-convert {\n",
       "      background-color: #3B4455;\n",
       "      fill: #D2E3FC;\n",
       "    }\n",
       "\n",
       "    [theme=dark] .colab-df-convert:hover {\n",
       "      background-color: #434B5C;\n",
       "      box-shadow: 0px 1px 3px 1px rgba(0, 0, 0, 0.15);\n",
       "      filter: drop-shadow(0px 1px 2px rgba(0, 0, 0, 0.3));\n",
       "      fill: #FFFFFF;\n",
       "    }\n",
       "  </style>\n",
       "\n",
       "      <script>\n",
       "        const buttonEl =\n",
       "          document.querySelector('#df-cf543966-1ab1-4a59-b467-5fdd341dbc83 button.colab-df-convert');\n",
       "        buttonEl.style.display =\n",
       "          google.colab.kernel.accessAllowed ? 'block' : 'none';\n",
       "\n",
       "        async function convertToInteractive(key) {\n",
       "          const element = document.querySelector('#df-cf543966-1ab1-4a59-b467-5fdd341dbc83');\n",
       "          const dataTable =\n",
       "            await google.colab.kernel.invokeFunction('convertToInteractive',\n",
       "                                                     [key], {});\n",
       "          if (!dataTable) return;\n",
       "\n",
       "          const docLinkHtml = 'Like what you see? Visit the ' +\n",
       "            '<a target=\"_blank\" href=https://colab.research.google.com/notebooks/data_table.ipynb>data table notebook</a>'\n",
       "            + ' to learn more about interactive tables.';\n",
       "          element.innerHTML = '';\n",
       "          dataTable['output_type'] = 'display_data';\n",
       "          await google.colab.output.renderOutput(dataTable, element);\n",
       "          const docLink = document.createElement('div');\n",
       "          docLink.innerHTML = docLinkHtml;\n",
       "          element.appendChild(docLink);\n",
       "        }\n",
       "      </script>\n",
       "    </div>\n",
       "  </div>\n",
       "  "
      ],
      "text/plain": [
       "     WriteOff_YN  Predicted Values  Predicted_Prob_WO = 1       OpportunityID  \\\n",
       "383            0                 0               0.032591  0062M00000oQBoXQAW   \n",
       "54             0                 0               0.034053  0062M00000o8uO4QAI   \n",
       "212            0                 0               0.035022  0062M00000oB7wvQAC   \n",
       "307            0                 0               0.035171  0062M00000oPjv7QAC   \n",
       "267            0                 0               0.035209  0062M00000oOkeoQAC   \n",
       "..           ...               ...                    ...                 ...   \n",
       "279            1                 1               0.778919  0062M00000oOzEbQAK   \n",
       "63             0                 1               0.779049  0062M00000o8wSvQAI   \n",
       "362            0                 1               0.811032  0062M00000oQ0n4QAC   \n",
       "290            0                 1               0.823769  0062M00000oPA8rQAG   \n",
       "381            1                 1               0.841354  0062M00000oQ7xqQAC   \n",
       "\n",
       "    Decile  \n",
       "383      1  \n",
       "54       1  \n",
       "212      1  \n",
       "307      1  \n",
       "267      1  \n",
       "..     ...  \n",
       "279     10  \n",
       "63      10  \n",
       "362     10  \n",
       "290     10  \n",
       "381     10  \n",
       "\n",
       "[486 rows x 5 columns]"
      ]
     },
     "execution_count": 713,
     "metadata": {},
     "output_type": "execute_result"
    }
   ],
   "source": [
    "check"
   ]
  },
  {
   "cell_type": "code",
   "execution_count": null,
   "id": "eb331ebf",
   "metadata": {
    "colab": {
     "base_uri": "https://localhost:8080/"
    },
    "executionInfo": {
     "elapsed": 6,
     "status": "ok",
     "timestamp": 1661415212915,
     "user": {
      "displayName": "Siddhant Singh",
      "userId": "08343284542219482153"
     },
     "user_tz": -330
    },
    "id": "1lGeb4ozpfvR",
    "outputId": "ce041e1c-bee6-44cc-f5a9-96aee5b4e0cc"
   },
   "outputs": [
    {
     "data": {
      "text/plain": [
       "array([1, 2, 3, 4, 5, 6, 7, 8, 9, 10], dtype=object)"
      ]
     },
     "execution_count": 714,
     "metadata": {},
     "output_type": "execute_result"
    }
   ],
   "source": [
    "# this will check nan values, missing_values by itself\n",
    "check['Decile'].unique()"
   ]
  },
  {
   "cell_type": "code",
   "execution_count": null,
   "id": "5d970944",
   "metadata": {
    "id": "9QkqiHEDpfvS"
   },
   "outputs": [],
   "source": [
    "exp_df = check.copy()"
   ]
  },
  {
   "cell_type": "code",
   "execution_count": null,
   "id": "ca2ca1b1",
   "metadata": {
    "colab": {
     "base_uri": "https://localhost:8080/",
     "height": 424
    },
    "executionInfo": {
     "elapsed": 11,
     "status": "ok",
     "timestamp": 1661415213575,
     "user": {
      "displayName": "Siddhant Singh",
      "userId": "08343284542219482153"
     },
     "user_tz": -330
    },
    "id": "7cCNj_NbpfvS",
    "outputId": "217eef4e-5b46-4402-db73-f468aba9fc81"
   },
   "outputs": [
    {
     "data": {
      "text/html": [
       "\n",
       "  <div id=\"df-60427cff-07c6-4799-acc4-c6b90592344b\">\n",
       "    <div class=\"colab-df-container\">\n",
       "      <div>\n",
       "<style scoped>\n",
       "    .dataframe tbody tr th:only-of-type {\n",
       "        vertical-align: middle;\n",
       "    }\n",
       "\n",
       "    .dataframe tbody tr th {\n",
       "        vertical-align: top;\n",
       "    }\n",
       "\n",
       "    .dataframe thead th {\n",
       "        text-align: right;\n",
       "    }\n",
       "</style>\n",
       "<table border=\"1\" class=\"dataframe\">\n",
       "  <thead>\n",
       "    <tr style=\"text-align: right;\">\n",
       "      <th></th>\n",
       "      <th>WriteOff_YN</th>\n",
       "      <th>Predicted Values</th>\n",
       "      <th>Predicted_Prob_WO = 1</th>\n",
       "      <th>OpportunityID</th>\n",
       "      <th>Decile</th>\n",
       "    </tr>\n",
       "  </thead>\n",
       "  <tbody>\n",
       "    <tr>\n",
       "      <th>383</th>\n",
       "      <td>0</td>\n",
       "      <td>0</td>\n",
       "      <td>0.032591</td>\n",
       "      <td>0062M00000oQBoXQAW</td>\n",
       "      <td>1</td>\n",
       "    </tr>\n",
       "    <tr>\n",
       "      <th>54</th>\n",
       "      <td>0</td>\n",
       "      <td>0</td>\n",
       "      <td>0.034053</td>\n",
       "      <td>0062M00000o8uO4QAI</td>\n",
       "      <td>1</td>\n",
       "    </tr>\n",
       "    <tr>\n",
       "      <th>212</th>\n",
       "      <td>0</td>\n",
       "      <td>0</td>\n",
       "      <td>0.035022</td>\n",
       "      <td>0062M00000oB7wvQAC</td>\n",
       "      <td>1</td>\n",
       "    </tr>\n",
       "    <tr>\n",
       "      <th>307</th>\n",
       "      <td>0</td>\n",
       "      <td>0</td>\n",
       "      <td>0.035171</td>\n",
       "      <td>0062M00000oPjv7QAC</td>\n",
       "      <td>1</td>\n",
       "    </tr>\n",
       "    <tr>\n",
       "      <th>267</th>\n",
       "      <td>0</td>\n",
       "      <td>0</td>\n",
       "      <td>0.035209</td>\n",
       "      <td>0062M00000oOkeoQAC</td>\n",
       "      <td>1</td>\n",
       "    </tr>\n",
       "    <tr>\n",
       "      <th>...</th>\n",
       "      <td>...</td>\n",
       "      <td>...</td>\n",
       "      <td>...</td>\n",
       "      <td>...</td>\n",
       "      <td>...</td>\n",
       "    </tr>\n",
       "    <tr>\n",
       "      <th>279</th>\n",
       "      <td>1</td>\n",
       "      <td>1</td>\n",
       "      <td>0.778919</td>\n",
       "      <td>0062M00000oOzEbQAK</td>\n",
       "      <td>10</td>\n",
       "    </tr>\n",
       "    <tr>\n",
       "      <th>63</th>\n",
       "      <td>0</td>\n",
       "      <td>1</td>\n",
       "      <td>0.779049</td>\n",
       "      <td>0062M00000o8wSvQAI</td>\n",
       "      <td>10</td>\n",
       "    </tr>\n",
       "    <tr>\n",
       "      <th>362</th>\n",
       "      <td>0</td>\n",
       "      <td>1</td>\n",
       "      <td>0.811032</td>\n",
       "      <td>0062M00000oQ0n4QAC</td>\n",
       "      <td>10</td>\n",
       "    </tr>\n",
       "    <tr>\n",
       "      <th>290</th>\n",
       "      <td>0</td>\n",
       "      <td>1</td>\n",
       "      <td>0.823769</td>\n",
       "      <td>0062M00000oPA8rQAG</td>\n",
       "      <td>10</td>\n",
       "    </tr>\n",
       "    <tr>\n",
       "      <th>381</th>\n",
       "      <td>1</td>\n",
       "      <td>1</td>\n",
       "      <td>0.841354</td>\n",
       "      <td>0062M00000oQ7xqQAC</td>\n",
       "      <td>10</td>\n",
       "    </tr>\n",
       "  </tbody>\n",
       "</table>\n",
       "<p>486 rows × 5 columns</p>\n",
       "</div>\n",
       "      <button class=\"colab-df-convert\" onclick=\"convertToInteractive('df-60427cff-07c6-4799-acc4-c6b90592344b')\"\n",
       "              title=\"Convert this dataframe to an interactive table.\"\n",
       "              style=\"display:none;\">\n",
       "        \n",
       "  <svg xmlns=\"http://www.w3.org/2000/svg\" height=\"24px\"viewBox=\"0 0 24 24\"\n",
       "       width=\"24px\">\n",
       "    <path d=\"M0 0h24v24H0V0z\" fill=\"none\"/>\n",
       "    <path d=\"M18.56 5.44l.94 2.06.94-2.06 2.06-.94-2.06-.94-.94-2.06-.94 2.06-2.06.94zm-11 1L8.5 8.5l.94-2.06 2.06-.94-2.06-.94L8.5 2.5l-.94 2.06-2.06.94zm10 10l.94 2.06.94-2.06 2.06-.94-2.06-.94-.94-2.06-.94 2.06-2.06.94z\"/><path d=\"M17.41 7.96l-1.37-1.37c-.4-.4-.92-.59-1.43-.59-.52 0-1.04.2-1.43.59L10.3 9.45l-7.72 7.72c-.78.78-.78 2.05 0 2.83L4 21.41c.39.39.9.59 1.41.59.51 0 1.02-.2 1.41-.59l7.78-7.78 2.81-2.81c.8-.78.8-2.07 0-2.86zM5.41 20L4 18.59l7.72-7.72 1.47 1.35L5.41 20z\"/>\n",
       "  </svg>\n",
       "      </button>\n",
       "      \n",
       "  <style>\n",
       "    .colab-df-container {\n",
       "      display:flex;\n",
       "      flex-wrap:wrap;\n",
       "      gap: 12px;\n",
       "    }\n",
       "\n",
       "    .colab-df-convert {\n",
       "      background-color: #E8F0FE;\n",
       "      border: none;\n",
       "      border-radius: 50%;\n",
       "      cursor: pointer;\n",
       "      display: none;\n",
       "      fill: #1967D2;\n",
       "      height: 32px;\n",
       "      padding: 0 0 0 0;\n",
       "      width: 32px;\n",
       "    }\n",
       "\n",
       "    .colab-df-convert:hover {\n",
       "      background-color: #E2EBFA;\n",
       "      box-shadow: 0px 1px 2px rgba(60, 64, 67, 0.3), 0px 1px 3px 1px rgba(60, 64, 67, 0.15);\n",
       "      fill: #174EA6;\n",
       "    }\n",
       "\n",
       "    [theme=dark] .colab-df-convert {\n",
       "      background-color: #3B4455;\n",
       "      fill: #D2E3FC;\n",
       "    }\n",
       "\n",
       "    [theme=dark] .colab-df-convert:hover {\n",
       "      background-color: #434B5C;\n",
       "      box-shadow: 0px 1px 3px 1px rgba(0, 0, 0, 0.15);\n",
       "      filter: drop-shadow(0px 1px 2px rgba(0, 0, 0, 0.3));\n",
       "      fill: #FFFFFF;\n",
       "    }\n",
       "  </style>\n",
       "\n",
       "      <script>\n",
       "        const buttonEl =\n",
       "          document.querySelector('#df-60427cff-07c6-4799-acc4-c6b90592344b button.colab-df-convert');\n",
       "        buttonEl.style.display =\n",
       "          google.colab.kernel.accessAllowed ? 'block' : 'none';\n",
       "\n",
       "        async function convertToInteractive(key) {\n",
       "          const element = document.querySelector('#df-60427cff-07c6-4799-acc4-c6b90592344b');\n",
       "          const dataTable =\n",
       "            await google.colab.kernel.invokeFunction('convertToInteractive',\n",
       "                                                     [key], {});\n",
       "          if (!dataTable) return;\n",
       "\n",
       "          const docLinkHtml = 'Like what you see? Visit the ' +\n",
       "            '<a target=\"_blank\" href=https://colab.research.google.com/notebooks/data_table.ipynb>data table notebook</a>'\n",
       "            + ' to learn more about interactive tables.';\n",
       "          element.innerHTML = '';\n",
       "          dataTable['output_type'] = 'display_data';\n",
       "          await google.colab.output.renderOutput(dataTable, element);\n",
       "          const docLink = document.createElement('div');\n",
       "          docLink.innerHTML = docLinkHtml;\n",
       "          element.appendChild(docLink);\n",
       "        }\n",
       "      </script>\n",
       "    </div>\n",
       "  </div>\n",
       "  "
      ],
      "text/plain": [
       "     WriteOff_YN  Predicted Values  Predicted_Prob_WO = 1       OpportunityID  \\\n",
       "383            0                 0               0.032591  0062M00000oQBoXQAW   \n",
       "54             0                 0               0.034053  0062M00000o8uO4QAI   \n",
       "212            0                 0               0.035022  0062M00000oB7wvQAC   \n",
       "307            0                 0               0.035171  0062M00000oPjv7QAC   \n",
       "267            0                 0               0.035209  0062M00000oOkeoQAC   \n",
       "..           ...               ...                    ...                 ...   \n",
       "279            1                 1               0.778919  0062M00000oOzEbQAK   \n",
       "63             0                 1               0.779049  0062M00000o8wSvQAI   \n",
       "362            0                 1               0.811032  0062M00000oQ0n4QAC   \n",
       "290            0                 1               0.823769  0062M00000oPA8rQAG   \n",
       "381            1                 1               0.841354  0062M00000oQ7xqQAC   \n",
       "\n",
       "    Decile  \n",
       "383      1  \n",
       "54       1  \n",
       "212      1  \n",
       "307      1  \n",
       "267      1  \n",
       "..     ...  \n",
       "279     10  \n",
       "63      10  \n",
       "362     10  \n",
       "290     10  \n",
       "381     10  \n",
       "\n",
       "[486 rows x 5 columns]"
      ]
     },
     "execution_count": 716,
     "metadata": {},
     "output_type": "execute_result"
    }
   ],
   "source": [
    "exp_df"
   ]
  },
  {
   "cell_type": "markdown",
   "id": "74864340",
   "metadata": {
    "id": "tDvP-GBOpfvS"
   },
   "source": [
    "Approach for decile analyses:\n",
    "- Let N = total of data points, P = total no data points with label 1\n",
    "- Sort all N data points using their probability score.\n",
    "- Form decile bins. There will be ten bins with equal no of data points in each bin. Size of each bin will be n = N/10.\n",
    "- For i = 1 to 10\n",
    "           - Let m_i = no data points with label 1 in the ith bin\n",
    "           - Let M_i = no data points with label 1 in bins 1 to i  (i.e. M_i = m_i + M_{i-1})\n",
    "- compute response rate = rr_i = 100*m_i/n.\n",
    "- compute cumulative gain = cg_i = 100*M_i/P.\n",
    "- compute lift = cg_i/(10*i) \n"
   ]
  },
  {
   "cell_type": "code",
   "execution_count": null,
   "id": "558217a2",
   "metadata": {
    "colab": {
     "base_uri": "https://localhost:8080/"
    },
    "executionInfo": {
     "elapsed": 12,
     "status": "ok",
     "timestamp": 1661415214726,
     "user": {
      "displayName": "Siddhant Singh",
      "userId": "08343284542219482153"
     },
     "user_tz": -330
    },
    "id": "vtHDtilSpfvS",
    "outputId": "9d057f2e-20cd-4f0b-c03e-5a9069a27788"
   },
   "outputs": [
    {
     "data": {
      "text/plain": [
       "486"
      ]
     },
     "execution_count": 717,
     "metadata": {},
     "output_type": "execute_result"
    }
   ],
   "source": [
    "N = len(exp_df)\n",
    "N"
   ]
  },
  {
   "cell_type": "code",
   "execution_count": null,
   "id": "d10df75d",
   "metadata": {
    "colab": {
     "base_uri": "https://localhost:8080/"
    },
    "executionInfo": {
     "elapsed": 7,
     "status": "ok",
     "timestamp": 1661415214726,
     "user": {
      "displayName": "Siddhant Singh",
      "userId": "08343284542219482153"
     },
     "user_tz": -330
    },
    "id": "J5XVB2CCpfvT",
    "outputId": "44b6e733-1bb1-4af0-90b1-b877b97c4bcf"
   },
   "outputs": [
    {
     "data": {
      "text/plain": [
       "114"
      ]
     },
     "execution_count": 718,
     "metadata": {},
     "output_type": "execute_result"
    }
   ],
   "source": [
    "P = len(exp_df[exp_df[\"WriteOff_YN\"] == 1])\n",
    "P"
   ]
  },
  {
   "cell_type": "code",
   "execution_count": null,
   "id": "171d10d6",
   "metadata": {
    "colab": {
     "base_uri": "https://localhost:8080/"
    },
    "executionInfo": {
     "elapsed": 3,
     "status": "ok",
     "timestamp": 1661415215213,
     "user": {
      "displayName": "Siddhant Singh",
      "userId": "08343284542219482153"
     },
     "user_tz": -330
    },
    "id": "1OKflNKipfvT",
    "outputId": "e71a3ce2-b099-403f-dd0e-90251b326926"
   },
   "outputs": [
    {
     "data": {
      "text/plain": [
       "0    44\n",
       "1    10\n",
       "Name: WriteOff_YN, dtype: int64"
      ]
     },
     "execution_count": 719,
     "metadata": {},
     "output_type": "execute_result"
    }
   ],
   "source": [
    "# As per the standard - total data points in each decile bin should be 57 (where we assume that Precited_WriteOff_YN = 1) but as our model is not performing good - each bin is providing only 23/57 = 39% \n",
    "# = 24% as predicted_WriteOff_Yn = 1\n",
    "exp_df[exp_df[\"Decile\"] == 1][\"WriteOff_YN\"].value_counts()"
   ]
  },
  {
   "cell_type": "code",
   "execution_count": null,
   "id": "55ee5000",
   "metadata": {
    "id": "f2EF70IQpfvT"
   },
   "outputs": [],
   "source": [
    "m_1 = len(exp_df[(exp_df[\"Decile\"] == 1) & (exp_df[\"WriteOff_YN\"] ==1)])\n",
    "m_2 = len(exp_df[(exp_df[\"Decile\"] == 2) & (exp_df[\"WriteOff_YN\"] ==1)])\n",
    "m_3 = len(exp_df[(exp_df[\"Decile\"] == 3) & (exp_df[\"WriteOff_YN\"] ==1)])\n",
    "m_4 = len(exp_df[(exp_df[\"Decile\"] == 4) & (exp_df[\"WriteOff_YN\"] ==1)])\n",
    "m_5 = len(exp_df[(exp_df[\"Decile\"] == 5) & (exp_df[\"WriteOff_YN\"] ==1)])\n",
    "m_6 = len(exp_df[(exp_df[\"Decile\"] == 6) & (exp_df[\"WriteOff_YN\"] ==1)])\n",
    "m_7 = len(exp_df[(exp_df[\"Decile\"] == 7) & (exp_df[\"WriteOff_YN\"] ==1)])\n",
    "m_8 = len(exp_df[(exp_df[\"Decile\"] == 8) & (exp_df[\"WriteOff_YN\"] ==1)])\n",
    "m_9 = len(exp_df[(exp_df[\"Decile\"] == 9) & (exp_df[\"WriteOff_YN\"] ==1)])\n",
    "m_10 = len(exp_df[(exp_df[\"Decile\"] == 10) & (exp_df[\"WriteOff_YN\"] ==1)])"
   ]
  },
  {
   "cell_type": "code",
   "execution_count": null,
   "id": "841d369c",
   "metadata": {
    "colab": {
     "base_uri": "https://localhost:8080/"
    },
    "executionInfo": {
     "elapsed": 7,
     "status": "ok",
     "timestamp": 1661415215995,
     "user": {
      "displayName": "Siddhant Singh",
      "userId": "08343284542219482153"
     },
     "user_tz": -330
    },
    "id": "dvsSZ0R-pfvT",
    "outputId": "644c2cd4-6496-4c2a-be14-547210b4ac67"
   },
   "outputs": [
    {
     "data": {
      "text/plain": [
       "(10, 3, 7, 9, 12, 7, 10, 16, 20, 20)"
      ]
     },
     "execution_count": 721,
     "metadata": {},
     "output_type": "execute_result"
    }
   ],
   "source": [
    "#No of writeoffs per decile\n",
    "m_1,m_2,m_3,m_4,m_5,m_6,m_7,m_8,m_9,m_10"
   ]
  },
  {
   "cell_type": "code",
   "execution_count": null,
   "id": "e523662f",
   "metadata": {
    "id": "2eiYbaa6pfvU"
   },
   "outputs": [],
   "source": [
    "# this is necessary to calculate cummulative gain\n",
    "M_1 = m_1\n",
    "M_2 = M_1 + m_2\n",
    "M_3 = M_2 + m_3\n",
    "M_4 = M_3 + m_4\n",
    "M_5 = M_4 + m_5\n",
    "M_6 = M_5 + m_6\n",
    "M_7 = M_6 + m_7\n",
    "M_8 = M_7 + m_8\n",
    "M_9 = M_8 + m_9\n",
    "M_10 = M_9 + m_10"
   ]
  },
  {
   "cell_type": "code",
   "execution_count": null,
   "id": "4cf59bea",
   "metadata": {
    "colab": {
     "base_uri": "https://localhost:8080/"
    },
    "executionInfo": {
     "elapsed": 6,
     "status": "ok",
     "timestamp": 1661415216569,
     "user": {
      "displayName": "Siddhant Singh",
      "userId": "08343284542219482153"
     },
     "user_tz": -330
    },
    "id": "CdLDbss1pfvU",
    "outputId": "70c2fbee-863a-4e79-f191-5e3c430d3ff1"
   },
   "outputs": [
    {
     "data": {
      "text/plain": [
       "(10, 13, 20, 29, 41, 48, 58, 74, 94, 114)"
      ]
     },
     "execution_count": 723,
     "metadata": {},
     "output_type": "execute_result"
    }
   ],
   "source": [
    "#Cumulative no of writeoffs per decile\n",
    "M_1,M_2,M_3,M_4,M_5,M_6,M_7,M_8,M_9,M_10"
   ]
  },
  {
   "cell_type": "code",
   "execution_count": null,
   "id": "5bf2f3f5",
   "metadata": {
    "id": "Q4wG4xdBpfvU"
   },
   "outputs": [],
   "source": [
    "# What is a response rate? How many percentage of merchants are present in decile 1 having WriteOff_YN = 1 - as we are likely dealing to remove defaulty merchants\n",
    "# compute response rate = rr_i = 100*m_i/n\n",
    "rr_1 = 100 * m_1/len(exp_df[exp_df[\"Decile\"] == 1])\n",
    "rr_2 = 100 * m_2/len(exp_df[exp_df[\"Decile\"] == 2])\n",
    "rr_3 = 100 * m_3/len(exp_df[exp_df[\"Decile\"] == 3])\n",
    "rr_4 = 100 * m_4/len(exp_df[exp_df[\"Decile\"] == 4])\n",
    "rr_5 = 100 * m_5/len(exp_df[exp_df[\"Decile\"] == 5])\n",
    "rr_6 = 100 * m_6/len(exp_df[exp_df[\"Decile\"] == 6])\n",
    "rr_7 = 100 * m_7/len(exp_df[exp_df[\"Decile\"] == 7])\n",
    "rr_8 = 100 * m_8/len(exp_df[exp_df[\"Decile\"] == 8])\n",
    "rr_9 = 100 * m_9/len(exp_df[exp_df[\"Decile\"] == 9])\n",
    "rr_10 = 100 * m_10/len(exp_df[exp_df[\"Decile\"] == 10])"
   ]
  },
  {
   "cell_type": "code",
   "execution_count": null,
   "id": "50378461",
   "metadata": {
    "colab": {
     "base_uri": "https://localhost:8080/"
    },
    "executionInfo": {
     "elapsed": 20,
     "status": "ok",
     "timestamp": 1661415217349,
     "user": {
      "displayName": "Siddhant Singh",
      "userId": "08343284542219482153"
     },
     "user_tz": -330
    },
    "id": "3PVI0CcepfvU",
    "outputId": "3c839333-d75a-4550-a720-0ab4977ee7cd"
   },
   "outputs": [
    {
     "name": "stdout",
     "output_type": "stream",
     "text": [
      "18.51851851851852 7.6923076923076925 17.5 19.565217391304348 21.428571428571427 15.909090909090908 23.80952380952381 28.571428571428573 35.08771929824562 38.46153846153846\n"
     ]
    }
   ],
   "source": [
    "# rr_i - > basically its a percentage calculation of no. of merchants in each decile bin having writeOff_YN = 0\n",
    "# rr1_1 = (231/231) %\n",
    "print(rr_1,rr_2,rr_3,rr_4,rr_5,rr_6,rr_7,rr_8,rr_9,rr_10) "
   ]
  },
  {
   "cell_type": "code",
   "execution_count": null,
   "id": "b1d6fde3",
   "metadata": {
    "id": "GJdi8j0XpfvV"
   },
   "outputs": [],
   "source": [
    "cg_1 = 100*(M_1/P)\n",
    "cg_2 = 100*(M_2/P)\n",
    "cg_3 = 100*(M_3/P)\n",
    "cg_4 = 100*(M_4/P)\n",
    "cg_5 = 100*(M_5/P)\n",
    "cg_6 = 100*(M_6/P)\n",
    "cg_7 = 100*(M_7/P)\n",
    "cg_8 = 100*(M_8/P)\n",
    "cg_9 = 100*(M_9/P)\n",
    "cg_10 = 100*(M_10/P)"
   ]
  },
  {
   "cell_type": "code",
   "execution_count": null,
   "id": "5ff900e8",
   "metadata": {
    "colab": {
     "base_uri": "https://localhost:8080/"
    },
    "executionInfo": {
     "elapsed": 20,
     "status": "ok",
     "timestamp": 1661415217351,
     "user": {
      "displayName": "Siddhant Singh",
      "userId": "08343284542219482153"
     },
     "user_tz": -330
    },
    "id": "HKdfRdoopfvV",
    "outputId": "1c59506a-f686-42ee-ca2b-c155b7420231"
   },
   "outputs": [
    {
     "name": "stdout",
     "output_type": "stream",
     "text": [
      "8.771929824561402 11.403508771929824 17.543859649122805 25.438596491228072 35.96491228070175 42.10526315789473 50.877192982456144 64.91228070175438 82.45614035087719 100.0\n"
     ]
    }
   ],
   "source": [
    "print(cg_1,cg_2,cg_3,cg_4,cg_5,cg_6,cg_7,cg_8,cg_9,cg_10)"
   ]
  },
  {
   "cell_type": "code",
   "execution_count": null,
   "id": "a6a3d096",
   "metadata": {
    "colab": {
     "base_uri": "https://localhost:8080/"
    },
    "executionInfo": {
     "elapsed": 10,
     "status": "ok",
     "timestamp": 1661415217351,
     "user": {
      "displayName": "Siddhant Singh",
      "userId": "08343284542219482153"
     },
     "user_tz": -330
    },
    "id": "JlFFCErzpfvV",
    "outputId": "60b62733-f6b8-46f4-c8e6-fb3479ad1ccc"
   },
   "outputs": [
    {
     "name": "stdout",
     "output_type": "stream",
     "text": [
      "0.8771929824561402 0.5701754385964912 0.5847953216374269 0.6359649122807018 0.7192982456140351 0.7017543859649122 0.7268170426065164 0.8114035087719298 0.9161793372319688 1.0\n"
     ]
    }
   ],
   "source": [
    "# Lift formnula = gain / customers % at each decile\n",
    "# This can be used to identify the deciles which have a higher Lift.\n",
    "# compute lift = cg_i/(10*i) \n",
    "lift_1 = cg_1/(10*1)\n",
    "lift_2 = cg_2/(10*2)\n",
    "lift_3 = cg_3/(10*3)\n",
    "lift_4 = cg_4/(10*4)\n",
    "lift_5 = cg_5/(10*5)\n",
    "lift_6 = cg_6/(10*6)\n",
    "lift_7 = cg_7/(10*7)\n",
    "lift_8 = cg_8/(10*8)\n",
    "lift_9 = cg_9/(10*9)\n",
    "lift_10 = cg_10/(10*10)\n",
    "print(lift_1,lift_2,lift_3,lift_4,lift_5,lift_6,lift_7,lift_8,lift_9,lift_10)"
   ]
  },
  {
   "cell_type": "code",
   "execution_count": null,
   "id": "1e8c3b02",
   "metadata": {
    "id": "n6blFNg3pfvV"
   },
   "outputs": [],
   "source": [
    "rr = [rr_1,rr_2,rr_3,rr_4,rr_5,rr_6,rr_7,rr_8,rr_9,rr_10]\n",
    "cg = [cg_1,cg_2,cg_3,cg_4,cg_5,cg_6,cg_7,cg_8,cg_9,cg_10]\n",
    "lift = [lift_1,lift_2,lift_3,lift_4,lift_5,lift_6,lift_7,lift_8,lift_9,lift_10]\n",
    "funded_amt = [funded_amt_d1,funded_amt_d2,funded_amt_d3,funded_amt_d4,funded_amt_d5,funded_amt_d6,funded_amt_d7,funded_amt_d8,funded_amt_d9,funded_amt_d10]\n",
    "gross_amt = [gross_amt_d1, gross_amt_d2, gross_amt_d3, gross_amt_d4, gross_amt_d5, gross_amt_d6, gross_amt_d7, gross_amt_d8, gross_amt_d9, gross_amt_d10]\n",
    "advanced_amt = [advanced_amt_d1, advanced_amt_d2, advanced_amt_d3, advanced_amt_d4, advanced_amt_d5, advanced_amt_d6, advanced_amt_d7, advanced_amt_d8, advanced_amt_d9, advanced_amt_d10]"
   ]
  },
  {
   "cell_type": "code",
   "execution_count": null,
   "id": "b244f43b",
   "metadata": {
    "id": "2vYfz7BKpfvW"
   },
   "outputs": [],
   "source": [
    "no_of_wos = [m_1,m_2,m_3,m_4,m_5,m_6,m_7,m_8,m_9,m_10]"
   ]
  },
  {
   "cell_type": "code",
   "execution_count": null,
   "id": "38ad2c15",
   "metadata": {
    "id": "egwBJRaipfvW"
   },
   "outputs": [],
   "source": [
    "no_of_opps = [len(exp_df[exp_df['Decile']==1]),len(exp_df[exp_df['Decile']==2]),len(exp_df[exp_df['Decile']==3]),\n",
    "              len(exp_df[exp_df['Decile']==4]),len(exp_df[exp_df['Decile']==5]),len(exp_df[exp_df['Decile']==6]),\n",
    "              len(exp_df[exp_df['Decile']==7]),len(exp_df[exp_df['Decile']==8]),len(exp_df[exp_df['Decile']==9]),\n",
    "              len(exp_df[exp_df['Decile']==10])]"
   ]
  },
  {
   "cell_type": "code",
   "execution_count": null,
   "id": "855154ee",
   "metadata": {
    "colab": {
     "base_uri": "https://localhost:8080/"
    },
    "executionInfo": {
     "elapsed": 3,
     "status": "ok",
     "timestamp": 1661415218710,
     "user": {
      "displayName": "Siddhant Singh",
      "userId": "08343284542219482153"
     },
     "user_tz": -330
    },
    "id": "qp0UJ7lepfvW",
    "outputId": "e548b174-2630-40d4-fbd2-b4a6a01dc735"
   },
   "outputs": [
    {
     "data": {
      "text/plain": [
       "[54, 39, 40, 46, 56, 44, 42, 56, 57, 52]"
      ]
     },
     "execution_count": 732,
     "metadata": {},
     "output_type": "execute_result"
    }
   ],
   "source": [
    "no_of_opps"
   ]
  },
  {
   "cell_type": "code",
   "execution_count": null,
   "id": "64f96cd9",
   "metadata": {
    "colab": {
     "base_uri": "https://localhost:8080/"
    },
    "executionInfo": {
     "elapsed": 18,
     "status": "ok",
     "timestamp": 1661415219330,
     "user": {
      "displayName": "Siddhant Singh",
      "userId": "08343284542219482153"
     },
     "user_tz": -330
    },
    "id": "hklgqdzJpfvW",
    "outputId": "d6bdad2a-3351-4fa8-80d5-4d38a28725fc"
   },
   "outputs": [
    {
     "data": {
      "text/plain": [
       "486"
      ]
     },
     "execution_count": 733,
     "metadata": {},
     "output_type": "execute_result"
    }
   ],
   "source": [
    "sum(no_of_opps)"
   ]
  },
  {
   "cell_type": "code",
   "execution_count": null,
   "id": "f7f3fb11",
   "metadata": {
    "colab": {
     "base_uri": "https://localhost:8080/"
    },
    "executionInfo": {
     "elapsed": 13,
     "status": "ok",
     "timestamp": 1661415219330,
     "user": {
      "displayName": "Siddhant Singh",
      "userId": "08343284542219482153"
     },
     "user_tz": -330
    },
    "id": "LDol1njmpfvW",
    "outputId": "564c977a-d66a-4aab-f85a-8b31dc60eee2"
   },
   "outputs": [
    {
     "data": {
      "text/plain": [
       "[1117500,\n",
       " 771500,\n",
       " 636000,\n",
       " 962500,\n",
       " 3789478,\n",
       " 2030000,\n",
       " 1110000,\n",
       " 1515300,\n",
       " 887123,\n",
       " 1449000]"
      ]
     },
     "execution_count": 734,
     "metadata": {},
     "output_type": "execute_result"
    }
   ],
   "source": [
    "funded_amt"
   ]
  },
  {
   "cell_type": "code",
   "execution_count": null,
   "id": "b8a2a85c",
   "metadata": {
    "colab": {
     "base_uri": "https://localhost:8080/"
    },
    "executionInfo": {
     "elapsed": 4,
     "status": "ok",
     "timestamp": 1661415219899,
     "user": {
      "displayName": "Siddhant Singh",
      "userId": "08343284542219482153"
     },
     "user_tz": -330
    },
    "id": "RLJyXIOrpfvX",
    "outputId": "7d068d8a-33e1-4ace-c35d-6c123587d1e4"
   },
   "outputs": [
    {
     "data": {
      "text/plain": [
       "array([0.07831992, 0.05407053, 0.04457402, 0.06745675, 0.26558533,\n",
       "       0.14227242, 0.07779428, 0.10619971, 0.06217396, 0.10155308])"
      ]
     },
     "execution_count": 735,
     "metadata": {},
     "output_type": "execute_result"
    }
   ],
   "source": [
    "funded_amt_pct = funded_amt/sum(funded_amt)\n",
    "funded_amt_pct"
   ]
  },
  {
   "cell_type": "code",
   "execution_count": null,
   "id": "99831636",
   "metadata": {
    "colab": {
     "base_uri": "https://localhost:8080/"
    },
    "executionInfo": {
     "elapsed": 18,
     "status": "ok",
     "timestamp": 1661415220496,
     "user": {
      "displayName": "Siddhant Singh",
      "userId": "08343284542219482153"
     },
     "user_tz": -330
    },
    "id": "_KF8P0h7pfvX",
    "outputId": "c03e74ca-b737-474d-d9a0-735704ea7f30"
   },
   "outputs": [
    {
     "data": {
      "text/plain": [
       "[51559.91,\n",
       " 8325.630000000001,\n",
       " 45018.84999999999,\n",
       " 92926.06999999999,\n",
       " 77672.76999999999,\n",
       " 267127.33,\n",
       " 44064.74,\n",
       " 126072.97999999998,\n",
       " 86082.04,\n",
       " 195064.02]"
      ]
     },
     "execution_count": 736,
     "metadata": {},
     "output_type": "execute_result"
    }
   ],
   "source": [
    "gross_amt"
   ]
  },
  {
   "cell_type": "code",
   "execution_count": null,
   "id": "b98a02d4",
   "metadata": {
    "colab": {
     "base_uri": "https://localhost:8080/"
    },
    "executionInfo": {
     "elapsed": 13,
     "status": "ok",
     "timestamp": 1661415220496,
     "user": {
      "displayName": "Siddhant Singh",
      "userId": "08343284542219482153"
     },
     "user_tz": -330
    },
    "id": "MA65_yv6pfvX",
    "outputId": "e3f24b5c-9eb1-4d22-a481-2e86460fa4cf"
   },
   "outputs": [
    {
     "data": {
      "text/plain": [
       "[0.05187560730837227,\n",
       " 0.06025221449164322,\n",
       " 0.10554671139969667,\n",
       " 0.1990417604800832,\n",
       " 0.2771901147939972,\n",
       " 0.5459530446054335,\n",
       " 0.5902875895723569,\n",
       " 0.7171325045979314,\n",
       " 0.8037416182163143,\n",
       " 1.0]"
      ]
     },
     "execution_count": 737,
     "metadata": {},
     "output_type": "execute_result"
    }
   ],
   "source": [
    "cum_gross_pct = []\n",
    "for i in range(1,11):\n",
    "  cum_gross_pct.append(sum(gross_amt[0:i])/sum(gross_amt))\n",
    "cum_gross_pct"
   ]
  },
  {
   "cell_type": "code",
   "execution_count": null,
   "id": "38a918aa",
   "metadata": {
    "colab": {
     "base_uri": "https://localhost:8080/"
    },
    "executionInfo": {
     "elapsed": 6,
     "status": "ok",
     "timestamp": 1661415220497,
     "user": {
      "displayName": "Siddhant Singh",
      "userId": "08343284542219482153"
     },
     "user_tz": -330
    },
    "id": "4q7iI5F2pfvX",
    "outputId": "5f705905-3826-49d2-ad16-18104cdac490"
   },
   "outputs": [
    {
     "data": {
      "text/plain": [
       "[0.04613862192393736,\n",
       " 0.010791484121840571,\n",
       " 0.07078435534591193,\n",
       " 0.09654656623376623,\n",
       " 0.02049695762846492,\n",
       " 0.13158981773399014,\n",
       " 0.03969796396396396,\n",
       " 0.08320001319870651,\n",
       " 0.0970350672905561,\n",
       " 0.13461975155279501]"
      ]
     },
     "execution_count": 738,
     "metadata": {},
     "output_type": "execute_result"
    }
   ],
   "source": [
    "gross_amt_pct = []\n",
    "for i in range(10):\n",
    "  gross_amt_pct.append(gross_amt[i]/funded_amt[i])\n",
    "gross_amt_pct"
   ]
  },
  {
   "cell_type": "code",
   "execution_count": null,
   "id": "798f11e5",
   "metadata": {
    "colab": {
     "base_uri": "https://localhost:8080/",
     "height": 407
    },
    "executionInfo": {
     "elapsed": 6,
     "status": "ok",
     "timestamp": 1661415221159,
     "user": {
      "displayName": "Siddhant Singh",
      "userId": "08343284542219482153"
     },
     "user_tz": -330
    },
    "id": "aPfKEs25pfvY",
    "outputId": "032f4fc8-8e6a-4870-b87e-d62b6d1e9151"
   },
   "outputs": [
    {
     "data": {
      "text/html": [
       "\n",
       "  <div id=\"df-ce6fc266-0fb5-4f54-bf03-f19c18ffc385\">\n",
       "    <div class=\"colab-df-container\">\n",
       "      <div>\n",
       "<style scoped>\n",
       "    .dataframe tbody tr th:only-of-type {\n",
       "        vertical-align: middle;\n",
       "    }\n",
       "\n",
       "    .dataframe tbody tr th {\n",
       "        vertical-align: top;\n",
       "    }\n",
       "\n",
       "    .dataframe thead th {\n",
       "        text-align: right;\n",
       "    }\n",
       "</style>\n",
       "<table border=\"1\" class=\"dataframe\">\n",
       "  <thead>\n",
       "    <tr style=\"text-align: right;\">\n",
       "      <th></th>\n",
       "      <th>Decile</th>\n",
       "      <th>No_of_Opps</th>\n",
       "      <th>No_of_WOs</th>\n",
       "      <th>%_Unit_WO</th>\n",
       "      <th>Cum_Unit_WOs</th>\n",
       "      <th>Funded_$</th>\n",
       "      <th>%_Funded_$</th>\n",
       "      <th>Funded_WO_Gross_$</th>\n",
       "      <th>%_Funded_WO_Gross_$</th>\n",
       "      <th>Cum_WO_$</th>\n",
       "      <th>WOGross_Adv_Bal</th>\n",
       "      <th>Avg_Score</th>\n",
       "      <th>Min_Score</th>\n",
       "      <th>Max_Score</th>\n",
       "    </tr>\n",
       "  </thead>\n",
       "  <tbody>\n",
       "    <tr>\n",
       "      <th>0</th>\n",
       "      <td>1</td>\n",
       "      <td>54</td>\n",
       "      <td>10</td>\n",
       "      <td>18.518519</td>\n",
       "      <td>8.771930</td>\n",
       "      <td>1117500</td>\n",
       "      <td>0.078320</td>\n",
       "      <td>51559.91</td>\n",
       "      <td>0.046139</td>\n",
       "      <td>0.051876</td>\n",
       "      <td>95335.66</td>\n",
       "      <td>6.07</td>\n",
       "      <td>2.73</td>\n",
       "      <td>7.97</td>\n",
       "    </tr>\n",
       "    <tr>\n",
       "      <th>1</th>\n",
       "      <td>2</td>\n",
       "      <td>39</td>\n",
       "      <td>3</td>\n",
       "      <td>7.692308</td>\n",
       "      <td>11.403509</td>\n",
       "      <td>771500</td>\n",
       "      <td>0.054071</td>\n",
       "      <td>8325.63</td>\n",
       "      <td>0.010791</td>\n",
       "      <td>0.060252</td>\n",
       "      <td>20028.13</td>\n",
       "      <td>9.38</td>\n",
       "      <td>7.97</td>\n",
       "      <td>10.98</td>\n",
       "    </tr>\n",
       "    <tr>\n",
       "      <th>2</th>\n",
       "      <td>3</td>\n",
       "      <td>40</td>\n",
       "      <td>7</td>\n",
       "      <td>17.500000</td>\n",
       "      <td>17.543860</td>\n",
       "      <td>636000</td>\n",
       "      <td>0.044574</td>\n",
       "      <td>45018.85</td>\n",
       "      <td>0.070784</td>\n",
       "      <td>0.105547</td>\n",
       "      <td>112060.85</td>\n",
       "      <td>12.32</td>\n",
       "      <td>10.99</td>\n",
       "      <td>13.77</td>\n",
       "    </tr>\n",
       "    <tr>\n",
       "      <th>3</th>\n",
       "      <td>4</td>\n",
       "      <td>46</td>\n",
       "      <td>9</td>\n",
       "      <td>19.565217</td>\n",
       "      <td>25.438596</td>\n",
       "      <td>962500</td>\n",
       "      <td>0.067457</td>\n",
       "      <td>92926.07</td>\n",
       "      <td>0.096547</td>\n",
       "      <td>0.199042</td>\n",
       "      <td>174586.07</td>\n",
       "      <td>15.73</td>\n",
       "      <td>13.78</td>\n",
       "      <td>17.49</td>\n",
       "    </tr>\n",
       "    <tr>\n",
       "      <th>4</th>\n",
       "      <td>5</td>\n",
       "      <td>56</td>\n",
       "      <td>12</td>\n",
       "      <td>21.428571</td>\n",
       "      <td>35.964912</td>\n",
       "      <td>3789478</td>\n",
       "      <td>0.265585</td>\n",
       "      <td>77672.77</td>\n",
       "      <td>0.020497</td>\n",
       "      <td>0.277190</td>\n",
       "      <td>161258.67</td>\n",
       "      <td>19.32</td>\n",
       "      <td>17.50</td>\n",
       "      <td>21.40</td>\n",
       "    </tr>\n",
       "    <tr>\n",
       "      <th>5</th>\n",
       "      <td>6</td>\n",
       "      <td>44</td>\n",
       "      <td>7</td>\n",
       "      <td>15.909091</td>\n",
       "      <td>42.105263</td>\n",
       "      <td>2030000</td>\n",
       "      <td>0.142272</td>\n",
       "      <td>267127.33</td>\n",
       "      <td>0.131590</td>\n",
       "      <td>0.545953</td>\n",
       "      <td>512007.33</td>\n",
       "      <td>23.28</td>\n",
       "      <td>21.40</td>\n",
       "      <td>25.30</td>\n",
       "    </tr>\n",
       "    <tr>\n",
       "      <th>6</th>\n",
       "      <td>7</td>\n",
       "      <td>42</td>\n",
       "      <td>10</td>\n",
       "      <td>23.809524</td>\n",
       "      <td>50.877193</td>\n",
       "      <td>1110000</td>\n",
       "      <td>0.077794</td>\n",
       "      <td>44064.74</td>\n",
       "      <td>0.039698</td>\n",
       "      <td>0.590288</td>\n",
       "      <td>91245.38</td>\n",
       "      <td>28.13</td>\n",
       "      <td>25.33</td>\n",
       "      <td>31.23</td>\n",
       "    </tr>\n",
       "    <tr>\n",
       "      <th>7</th>\n",
       "      <td>8</td>\n",
       "      <td>56</td>\n",
       "      <td>16</td>\n",
       "      <td>28.571429</td>\n",
       "      <td>64.912281</td>\n",
       "      <td>1515300</td>\n",
       "      <td>0.106200</td>\n",
       "      <td>126072.98</td>\n",
       "      <td>0.083200</td>\n",
       "      <td>0.717133</td>\n",
       "      <td>217379.98</td>\n",
       "      <td>34.72</td>\n",
       "      <td>31.25</td>\n",
       "      <td>38.92</td>\n",
       "    </tr>\n",
       "    <tr>\n",
       "      <th>8</th>\n",
       "      <td>9</td>\n",
       "      <td>57</td>\n",
       "      <td>20</td>\n",
       "      <td>35.087719</td>\n",
       "      <td>82.456140</td>\n",
       "      <td>887123</td>\n",
       "      <td>0.062174</td>\n",
       "      <td>86082.04</td>\n",
       "      <td>0.097035</td>\n",
       "      <td>0.803742</td>\n",
       "      <td>186891.69</td>\n",
       "      <td>44.08</td>\n",
       "      <td>38.93</td>\n",
       "      <td>50.20</td>\n",
       "    </tr>\n",
       "    <tr>\n",
       "      <th>9</th>\n",
       "      <td>10</td>\n",
       "      <td>52</td>\n",
       "      <td>20</td>\n",
       "      <td>38.461538</td>\n",
       "      <td>100.000000</td>\n",
       "      <td>1449000</td>\n",
       "      <td>0.101553</td>\n",
       "      <td>195064.02</td>\n",
       "      <td>0.134620</td>\n",
       "      <td>1.000000</td>\n",
       "      <td>347976.26</td>\n",
       "      <td>60.29</td>\n",
       "      <td>50.20</td>\n",
       "      <td>86.26</td>\n",
       "    </tr>\n",
       "  </tbody>\n",
       "</table>\n",
       "</div>\n",
       "      <button class=\"colab-df-convert\" onclick=\"convertToInteractive('df-ce6fc266-0fb5-4f54-bf03-f19c18ffc385')\"\n",
       "              title=\"Convert this dataframe to an interactive table.\"\n",
       "              style=\"display:none;\">\n",
       "        \n",
       "  <svg xmlns=\"http://www.w3.org/2000/svg\" height=\"24px\"viewBox=\"0 0 24 24\"\n",
       "       width=\"24px\">\n",
       "    <path d=\"M0 0h24v24H0V0z\" fill=\"none\"/>\n",
       "    <path d=\"M18.56 5.44l.94 2.06.94-2.06 2.06-.94-2.06-.94-.94-2.06-.94 2.06-2.06.94zm-11 1L8.5 8.5l.94-2.06 2.06-.94-2.06-.94L8.5 2.5l-.94 2.06-2.06.94zm10 10l.94 2.06.94-2.06 2.06-.94-2.06-.94-.94-2.06-.94 2.06-2.06.94z\"/><path d=\"M17.41 7.96l-1.37-1.37c-.4-.4-.92-.59-1.43-.59-.52 0-1.04.2-1.43.59L10.3 9.45l-7.72 7.72c-.78.78-.78 2.05 0 2.83L4 21.41c.39.39.9.59 1.41.59.51 0 1.02-.2 1.41-.59l7.78-7.78 2.81-2.81c.8-.78.8-2.07 0-2.86zM5.41 20L4 18.59l7.72-7.72 1.47 1.35L5.41 20z\"/>\n",
       "  </svg>\n",
       "      </button>\n",
       "      \n",
       "  <style>\n",
       "    .colab-df-container {\n",
       "      display:flex;\n",
       "      flex-wrap:wrap;\n",
       "      gap: 12px;\n",
       "    }\n",
       "\n",
       "    .colab-df-convert {\n",
       "      background-color: #E8F0FE;\n",
       "      border: none;\n",
       "      border-radius: 50%;\n",
       "      cursor: pointer;\n",
       "      display: none;\n",
       "      fill: #1967D2;\n",
       "      height: 32px;\n",
       "      padding: 0 0 0 0;\n",
       "      width: 32px;\n",
       "    }\n",
       "\n",
       "    .colab-df-convert:hover {\n",
       "      background-color: #E2EBFA;\n",
       "      box-shadow: 0px 1px 2px rgba(60, 64, 67, 0.3), 0px 1px 3px 1px rgba(60, 64, 67, 0.15);\n",
       "      fill: #174EA6;\n",
       "    }\n",
       "\n",
       "    [theme=dark] .colab-df-convert {\n",
       "      background-color: #3B4455;\n",
       "      fill: #D2E3FC;\n",
       "    }\n",
       "\n",
       "    [theme=dark] .colab-df-convert:hover {\n",
       "      background-color: #434B5C;\n",
       "      box-shadow: 0px 1px 3px 1px rgba(0, 0, 0, 0.15);\n",
       "      filter: drop-shadow(0px 1px 2px rgba(0, 0, 0, 0.3));\n",
       "      fill: #FFFFFF;\n",
       "    }\n",
       "  </style>\n",
       "\n",
       "      <script>\n",
       "        const buttonEl =\n",
       "          document.querySelector('#df-ce6fc266-0fb5-4f54-bf03-f19c18ffc385 button.colab-df-convert');\n",
       "        buttonEl.style.display =\n",
       "          google.colab.kernel.accessAllowed ? 'block' : 'none';\n",
       "\n",
       "        async function convertToInteractive(key) {\n",
       "          const element = document.querySelector('#df-ce6fc266-0fb5-4f54-bf03-f19c18ffc385');\n",
       "          const dataTable =\n",
       "            await google.colab.kernel.invokeFunction('convertToInteractive',\n",
       "                                                     [key], {});\n",
       "          if (!dataTable) return;\n",
       "\n",
       "          const docLinkHtml = 'Like what you see? Visit the ' +\n",
       "            '<a target=\"_blank\" href=https://colab.research.google.com/notebooks/data_table.ipynb>data table notebook</a>'\n",
       "            + ' to learn more about interactive tables.';\n",
       "          element.innerHTML = '';\n",
       "          dataTable['output_type'] = 'display_data';\n",
       "          await google.colab.output.renderOutput(dataTable, element);\n",
       "          const docLink = document.createElement('div');\n",
       "          docLink.innerHTML = docLinkHtml;\n",
       "          element.appendChild(docLink);\n",
       "        }\n",
       "      </script>\n",
       "    </div>\n",
       "  </div>\n",
       "  "
      ],
      "text/plain": [
       "   Decile  No_of_Opps  No_of_WOs  %_Unit_WO  Cum_Unit_WOs  Funded_$  \\\n",
       "0       1          54         10  18.518519      8.771930   1117500   \n",
       "1       2          39          3   7.692308     11.403509    771500   \n",
       "2       3          40          7  17.500000     17.543860    636000   \n",
       "3       4          46          9  19.565217     25.438596    962500   \n",
       "4       5          56         12  21.428571     35.964912   3789478   \n",
       "5       6          44          7  15.909091     42.105263   2030000   \n",
       "6       7          42         10  23.809524     50.877193   1110000   \n",
       "7       8          56         16  28.571429     64.912281   1515300   \n",
       "8       9          57         20  35.087719     82.456140    887123   \n",
       "9      10          52         20  38.461538    100.000000   1449000   \n",
       "\n",
       "   %_Funded_$  Funded_WO_Gross_$  %_Funded_WO_Gross_$  Cum_WO_$  \\\n",
       "0    0.078320           51559.91             0.046139  0.051876   \n",
       "1    0.054071            8325.63             0.010791  0.060252   \n",
       "2    0.044574           45018.85             0.070784  0.105547   \n",
       "3    0.067457           92926.07             0.096547  0.199042   \n",
       "4    0.265585           77672.77             0.020497  0.277190   \n",
       "5    0.142272          267127.33             0.131590  0.545953   \n",
       "6    0.077794           44064.74             0.039698  0.590288   \n",
       "7    0.106200          126072.98             0.083200  0.717133   \n",
       "8    0.062174           86082.04             0.097035  0.803742   \n",
       "9    0.101553          195064.02             0.134620  1.000000   \n",
       "\n",
       "   WOGross_Adv_Bal  Avg_Score  Min_Score  Max_Score  \n",
       "0         95335.66       6.07       2.73       7.97  \n",
       "1         20028.13       9.38       7.97      10.98  \n",
       "2        112060.85      12.32      10.99      13.77  \n",
       "3        174586.07      15.73      13.78      17.49  \n",
       "4        161258.67      19.32      17.50      21.40  \n",
       "5        512007.33      23.28      21.40      25.30  \n",
       "6         91245.38      28.13      25.33      31.23  \n",
       "7        217379.98      34.72      31.25      38.92  \n",
       "8        186891.69      44.08      38.93      50.20  \n",
       "9        347976.26      60.29      50.20      86.26  "
      ]
     },
     "execution_count": 739,
     "metadata": {},
     "output_type": "execute_result"
    }
   ],
   "source": [
    "dict_try = {\"Decile\": [i for i in range(1,11)],\n",
    "            \"No_of_Opps\" : no_of_opps, \n",
    "            \"No_of_WOs\" : no_of_wos,\n",
    "            \"%_Unit_WO\": rr,\n",
    "            \"Cum_Unit_WOs\" : cg,\n",
    "            #'Lift': lift,\n",
    "            'Funded_$':funded_amt,\n",
    "            '%_Funded_$':funded_amt_pct,\n",
    "            'Funded_WO_Gross_$':gross_amt,\n",
    "            '%_Funded_WO_Gross_$':gross_amt_pct,\n",
    "            \"Cum_WO_$\" :cum_gross_pct,\n",
    "            'WOGross_Adv_Bal':advanced_amt,\n",
    "            'Avg_Score':avg_range_dec,\n",
    "            'Min_Score': min_range_dec,\n",
    "            'Max_Score': max_range_dec}\n",
    "\n",
    "final_df = pd.DataFrame(dict_try)\n",
    "final_df\n"
   ]
  },
  {
   "cell_type": "code",
   "execution_count": null,
   "id": "695d2d84",
   "metadata": {
    "colab": {
     "base_uri": "https://localhost:8080/",
     "height": 407
    },
    "executionInfo": {
     "elapsed": 4,
     "status": "ok",
     "timestamp": 1661415221662,
     "user": {
      "displayName": "Siddhant Singh",
      "userId": "08343284542219482153"
     },
     "user_tz": -330
    },
    "id": "Liuin2CepfvY",
    "outputId": "88ad93a2-e62d-423a-9658-6f926fd44afa"
   },
   "outputs": [
    {
     "data": {
      "text/html": [
       "\n",
       "  <div id=\"df-6d0fec61-cd3e-4ab5-b932-c0a7ca7fc1ef\">\n",
       "    <div class=\"colab-df-container\">\n",
       "      <div>\n",
       "<style scoped>\n",
       "    .dataframe tbody tr th:only-of-type {\n",
       "        vertical-align: middle;\n",
       "    }\n",
       "\n",
       "    .dataframe tbody tr th {\n",
       "        vertical-align: top;\n",
       "    }\n",
       "\n",
       "    .dataframe thead th {\n",
       "        text-align: right;\n",
       "    }\n",
       "</style>\n",
       "<table border=\"1\" class=\"dataframe\">\n",
       "  <thead>\n",
       "    <tr style=\"text-align: right;\">\n",
       "      <th></th>\n",
       "      <th>Decile</th>\n",
       "      <th>No_of_Opps</th>\n",
       "      <th>No_of_WOs</th>\n",
       "      <th>%_Unit_WO</th>\n",
       "      <th>Cum_Unit_WOs</th>\n",
       "      <th>Funded_$</th>\n",
       "      <th>%_Funded_$</th>\n",
       "      <th>Funded_WO_Gross_$</th>\n",
       "      <th>%_Funded_WO_Gross_$</th>\n",
       "      <th>Cum_WO_$</th>\n",
       "      <th>WOGross_Adv_Bal</th>\n",
       "      <th>Avg_Score</th>\n",
       "      <th>Min_Score</th>\n",
       "      <th>Max_Score</th>\n",
       "    </tr>\n",
       "  </thead>\n",
       "  <tbody>\n",
       "    <tr>\n",
       "      <th>0</th>\n",
       "      <td>1</td>\n",
       "      <td>54</td>\n",
       "      <td>10</td>\n",
       "      <td>18.52</td>\n",
       "      <td>8.77</td>\n",
       "      <td>1117500</td>\n",
       "      <td>7.83</td>\n",
       "      <td>51559.91</td>\n",
       "      <td>4.61</td>\n",
       "      <td>5.19</td>\n",
       "      <td>95335.66</td>\n",
       "      <td>6.07</td>\n",
       "      <td>2.73</td>\n",
       "      <td>7.97</td>\n",
       "    </tr>\n",
       "    <tr>\n",
       "      <th>1</th>\n",
       "      <td>2</td>\n",
       "      <td>39</td>\n",
       "      <td>3</td>\n",
       "      <td>7.69</td>\n",
       "      <td>11.40</td>\n",
       "      <td>771500</td>\n",
       "      <td>5.41</td>\n",
       "      <td>8325.63</td>\n",
       "      <td>1.08</td>\n",
       "      <td>6.03</td>\n",
       "      <td>20028.13</td>\n",
       "      <td>9.38</td>\n",
       "      <td>7.97</td>\n",
       "      <td>10.98</td>\n",
       "    </tr>\n",
       "    <tr>\n",
       "      <th>2</th>\n",
       "      <td>3</td>\n",
       "      <td>40</td>\n",
       "      <td>7</td>\n",
       "      <td>17.50</td>\n",
       "      <td>17.54</td>\n",
       "      <td>636000</td>\n",
       "      <td>4.46</td>\n",
       "      <td>45018.85</td>\n",
       "      <td>7.08</td>\n",
       "      <td>10.55</td>\n",
       "      <td>112060.85</td>\n",
       "      <td>12.32</td>\n",
       "      <td>10.99</td>\n",
       "      <td>13.77</td>\n",
       "    </tr>\n",
       "    <tr>\n",
       "      <th>3</th>\n",
       "      <td>4</td>\n",
       "      <td>46</td>\n",
       "      <td>9</td>\n",
       "      <td>19.57</td>\n",
       "      <td>25.44</td>\n",
       "      <td>962500</td>\n",
       "      <td>6.75</td>\n",
       "      <td>92926.07</td>\n",
       "      <td>9.65</td>\n",
       "      <td>19.90</td>\n",
       "      <td>174586.07</td>\n",
       "      <td>15.73</td>\n",
       "      <td>13.78</td>\n",
       "      <td>17.49</td>\n",
       "    </tr>\n",
       "    <tr>\n",
       "      <th>4</th>\n",
       "      <td>5</td>\n",
       "      <td>56</td>\n",
       "      <td>12</td>\n",
       "      <td>21.43</td>\n",
       "      <td>35.96</td>\n",
       "      <td>3789478</td>\n",
       "      <td>26.56</td>\n",
       "      <td>77672.77</td>\n",
       "      <td>2.05</td>\n",
       "      <td>27.72</td>\n",
       "      <td>161258.67</td>\n",
       "      <td>19.32</td>\n",
       "      <td>17.50</td>\n",
       "      <td>21.40</td>\n",
       "    </tr>\n",
       "    <tr>\n",
       "      <th>5</th>\n",
       "      <td>6</td>\n",
       "      <td>44</td>\n",
       "      <td>7</td>\n",
       "      <td>15.91</td>\n",
       "      <td>42.11</td>\n",
       "      <td>2030000</td>\n",
       "      <td>14.23</td>\n",
       "      <td>267127.33</td>\n",
       "      <td>13.16</td>\n",
       "      <td>54.60</td>\n",
       "      <td>512007.33</td>\n",
       "      <td>23.28</td>\n",
       "      <td>21.40</td>\n",
       "      <td>25.30</td>\n",
       "    </tr>\n",
       "    <tr>\n",
       "      <th>6</th>\n",
       "      <td>7</td>\n",
       "      <td>42</td>\n",
       "      <td>10</td>\n",
       "      <td>23.81</td>\n",
       "      <td>50.88</td>\n",
       "      <td>1110000</td>\n",
       "      <td>7.78</td>\n",
       "      <td>44064.74</td>\n",
       "      <td>3.97</td>\n",
       "      <td>59.03</td>\n",
       "      <td>91245.38</td>\n",
       "      <td>28.13</td>\n",
       "      <td>25.33</td>\n",
       "      <td>31.23</td>\n",
       "    </tr>\n",
       "    <tr>\n",
       "      <th>7</th>\n",
       "      <td>8</td>\n",
       "      <td>56</td>\n",
       "      <td>16</td>\n",
       "      <td>28.57</td>\n",
       "      <td>64.91</td>\n",
       "      <td>1515300</td>\n",
       "      <td>10.62</td>\n",
       "      <td>126072.98</td>\n",
       "      <td>8.32</td>\n",
       "      <td>71.71</td>\n",
       "      <td>217379.98</td>\n",
       "      <td>34.72</td>\n",
       "      <td>31.25</td>\n",
       "      <td>38.92</td>\n",
       "    </tr>\n",
       "    <tr>\n",
       "      <th>8</th>\n",
       "      <td>9</td>\n",
       "      <td>57</td>\n",
       "      <td>20</td>\n",
       "      <td>35.09</td>\n",
       "      <td>82.46</td>\n",
       "      <td>887123</td>\n",
       "      <td>6.22</td>\n",
       "      <td>86082.04</td>\n",
       "      <td>9.70</td>\n",
       "      <td>80.37</td>\n",
       "      <td>186891.69</td>\n",
       "      <td>44.08</td>\n",
       "      <td>38.93</td>\n",
       "      <td>50.20</td>\n",
       "    </tr>\n",
       "    <tr>\n",
       "      <th>9</th>\n",
       "      <td>10</td>\n",
       "      <td>52</td>\n",
       "      <td>20</td>\n",
       "      <td>38.46</td>\n",
       "      <td>100.00</td>\n",
       "      <td>1449000</td>\n",
       "      <td>10.16</td>\n",
       "      <td>195064.02</td>\n",
       "      <td>13.46</td>\n",
       "      <td>100.00</td>\n",
       "      <td>347976.26</td>\n",
       "      <td>60.29</td>\n",
       "      <td>50.20</td>\n",
       "      <td>86.26</td>\n",
       "    </tr>\n",
       "  </tbody>\n",
       "</table>\n",
       "</div>\n",
       "      <button class=\"colab-df-convert\" onclick=\"convertToInteractive('df-6d0fec61-cd3e-4ab5-b932-c0a7ca7fc1ef')\"\n",
       "              title=\"Convert this dataframe to an interactive table.\"\n",
       "              style=\"display:none;\">\n",
       "        \n",
       "  <svg xmlns=\"http://www.w3.org/2000/svg\" height=\"24px\"viewBox=\"0 0 24 24\"\n",
       "       width=\"24px\">\n",
       "    <path d=\"M0 0h24v24H0V0z\" fill=\"none\"/>\n",
       "    <path d=\"M18.56 5.44l.94 2.06.94-2.06 2.06-.94-2.06-.94-.94-2.06-.94 2.06-2.06.94zm-11 1L8.5 8.5l.94-2.06 2.06-.94-2.06-.94L8.5 2.5l-.94 2.06-2.06.94zm10 10l.94 2.06.94-2.06 2.06-.94-2.06-.94-.94-2.06-.94 2.06-2.06.94z\"/><path d=\"M17.41 7.96l-1.37-1.37c-.4-.4-.92-.59-1.43-.59-.52 0-1.04.2-1.43.59L10.3 9.45l-7.72 7.72c-.78.78-.78 2.05 0 2.83L4 21.41c.39.39.9.59 1.41.59.51 0 1.02-.2 1.41-.59l7.78-7.78 2.81-2.81c.8-.78.8-2.07 0-2.86zM5.41 20L4 18.59l7.72-7.72 1.47 1.35L5.41 20z\"/>\n",
       "  </svg>\n",
       "      </button>\n",
       "      \n",
       "  <style>\n",
       "    .colab-df-container {\n",
       "      display:flex;\n",
       "      flex-wrap:wrap;\n",
       "      gap: 12px;\n",
       "    }\n",
       "\n",
       "    .colab-df-convert {\n",
       "      background-color: #E8F0FE;\n",
       "      border: none;\n",
       "      border-radius: 50%;\n",
       "      cursor: pointer;\n",
       "      display: none;\n",
       "      fill: #1967D2;\n",
       "      height: 32px;\n",
       "      padding: 0 0 0 0;\n",
       "      width: 32px;\n",
       "    }\n",
       "\n",
       "    .colab-df-convert:hover {\n",
       "      background-color: #E2EBFA;\n",
       "      box-shadow: 0px 1px 2px rgba(60, 64, 67, 0.3), 0px 1px 3px 1px rgba(60, 64, 67, 0.15);\n",
       "      fill: #174EA6;\n",
       "    }\n",
       "\n",
       "    [theme=dark] .colab-df-convert {\n",
       "      background-color: #3B4455;\n",
       "      fill: #D2E3FC;\n",
       "    }\n",
       "\n",
       "    [theme=dark] .colab-df-convert:hover {\n",
       "      background-color: #434B5C;\n",
       "      box-shadow: 0px 1px 3px 1px rgba(0, 0, 0, 0.15);\n",
       "      filter: drop-shadow(0px 1px 2px rgba(0, 0, 0, 0.3));\n",
       "      fill: #FFFFFF;\n",
       "    }\n",
       "  </style>\n",
       "\n",
       "      <script>\n",
       "        const buttonEl =\n",
       "          document.querySelector('#df-6d0fec61-cd3e-4ab5-b932-c0a7ca7fc1ef button.colab-df-convert');\n",
       "        buttonEl.style.display =\n",
       "          google.colab.kernel.accessAllowed ? 'block' : 'none';\n",
       "\n",
       "        async function convertToInteractive(key) {\n",
       "          const element = document.querySelector('#df-6d0fec61-cd3e-4ab5-b932-c0a7ca7fc1ef');\n",
       "          const dataTable =\n",
       "            await google.colab.kernel.invokeFunction('convertToInteractive',\n",
       "                                                     [key], {});\n",
       "          if (!dataTable) return;\n",
       "\n",
       "          const docLinkHtml = 'Like what you see? Visit the ' +\n",
       "            '<a target=\"_blank\" href=https://colab.research.google.com/notebooks/data_table.ipynb>data table notebook</a>'\n",
       "            + ' to learn more about interactive tables.';\n",
       "          element.innerHTML = '';\n",
       "          dataTable['output_type'] = 'display_data';\n",
       "          await google.colab.output.renderOutput(dataTable, element);\n",
       "          const docLink = document.createElement('div');\n",
       "          docLink.innerHTML = docLinkHtml;\n",
       "          element.appendChild(docLink);\n",
       "        }\n",
       "      </script>\n",
       "    </div>\n",
       "  </div>\n",
       "  "
      ],
      "text/plain": [
       "   Decile  No_of_Opps  No_of_WOs  %_Unit_WO  Cum_Unit_WOs  Funded_$  \\\n",
       "0       1          54         10      18.52          8.77   1117500   \n",
       "1       2          39          3       7.69         11.40    771500   \n",
       "2       3          40          7      17.50         17.54    636000   \n",
       "3       4          46          9      19.57         25.44    962500   \n",
       "4       5          56         12      21.43         35.96   3789478   \n",
       "5       6          44          7      15.91         42.11   2030000   \n",
       "6       7          42         10      23.81         50.88   1110000   \n",
       "7       8          56         16      28.57         64.91   1515300   \n",
       "8       9          57         20      35.09         82.46    887123   \n",
       "9      10          52         20      38.46        100.00   1449000   \n",
       "\n",
       "   %_Funded_$  Funded_WO_Gross_$  %_Funded_WO_Gross_$  Cum_WO_$  \\\n",
       "0        7.83           51559.91                 4.61      5.19   \n",
       "1        5.41            8325.63                 1.08      6.03   \n",
       "2        4.46           45018.85                 7.08     10.55   \n",
       "3        6.75           92926.07                 9.65     19.90   \n",
       "4       26.56           77672.77                 2.05     27.72   \n",
       "5       14.23          267127.33                13.16     54.60   \n",
       "6        7.78           44064.74                 3.97     59.03   \n",
       "7       10.62          126072.98                 8.32     71.71   \n",
       "8        6.22           86082.04                 9.70     80.37   \n",
       "9       10.16          195064.02                13.46    100.00   \n",
       "\n",
       "   WOGross_Adv_Bal  Avg_Score  Min_Score  Max_Score  \n",
       "0         95335.66       6.07       2.73       7.97  \n",
       "1         20028.13       9.38       7.97      10.98  \n",
       "2        112060.85      12.32      10.99      13.77  \n",
       "3        174586.07      15.73      13.78      17.49  \n",
       "4        161258.67      19.32      17.50      21.40  \n",
       "5        512007.33      23.28      21.40      25.30  \n",
       "6         91245.38      28.13      25.33      31.23  \n",
       "7        217379.98      34.72      31.25      38.92  \n",
       "8        186891.69      44.08      38.93      50.20  \n",
       "9        347976.26      60.29      50.20      86.26  "
      ]
     },
     "execution_count": 740,
     "metadata": {},
     "output_type": "execute_result"
    }
   ],
   "source": [
    "final_df['%_Funded_$'] = 100*final_df['%_Funded_$']\n",
    "final_df['%_Funded_WO_Gross_$'] = 100*final_df['%_Funded_WO_Gross_$']\n",
    "final_df['Cum_WO_$'] = 100*final_df['Cum_WO_$']\n",
    "final_df = final_df.round(2)\n",
    "final_df"
   ]
  },
  {
   "cell_type": "code",
   "execution_count": null,
   "id": "83424485",
   "metadata": {
    "colab": {
     "base_uri": "https://localhost:8080/",
     "height": 639
    },
    "executionInfo": {
     "elapsed": 680,
     "status": "ok",
     "timestamp": 1661408504494,
     "user": {
      "displayName": "Siddhant Singh",
      "userId": "08343284542219482153"
     },
     "user_tz": -330
    },
    "id": "rYQhrB0UpfvY",
    "outputId": "7278377c-8608-46a3-c3a3-11564f595e2b"
   },
   "outputs": [
    {
     "data": {
      "text/plain": [
       "<BarContainer object of 10 artists>"
      ]
     },
     "execution_count": 189,
     "metadata": {},
     "output_type": "execute_result"
    },
    {
     "data": {
      "image/png": "[encoded data removed]",
      "text/plain": [
       "<Figure size 1440x720 with 1 Axes>"
      ]
     },
     "metadata": {},
     "output_type": "display_data"
    }
   ],
   "source": [
    "plt.figure(figsize=(20,10))\n",
    "plt.xlabel(\"Decile_numbers\")\n",
    "plt.ylabel(\"%_Unit_WOs\")\n",
    "plt.title(\"%_unit WOs w.r.t. Deciles\")\n",
    "plt.bar(final_df['Decile'],final_df['%_Unit_WO'])"
   ]
  },
  {
   "cell_type": "code",
   "execution_count": null,
   "id": "61a285f5",
   "metadata": {
    "colab": {
     "base_uri": "https://localhost:8080/",
     "height": 638
    },
    "executionInfo": {
     "elapsed": 1185,
     "status": "ok",
     "timestamp": 1661408507603,
     "user": {
      "displayName": "Siddhant Singh",
      "userId": "08343284542219482153"
     },
     "user_tz": -330
    },
    "id": "8DfroL_tpfvY",
    "outputId": "1b13d6ad-2a97-45ea-fb24-f62a6a2aa325"
   },
   "outputs": [
    {
     "data": {
      "text/plain": [
       "[<matplotlib.lines.Line2D at 0x7f4500057d90>]"
      ]
     },
     "execution_count": 190,
     "metadata": {},
     "output_type": "execute_result"
    },
    {
     "data": {
      "image/png": "[encoded data removed]",
      "text/plain": [
       "<Figure size 1440x720 with 1 Axes>"
      ]
     },
     "metadata": {},
     "output_type": "display_data"
    }
   ],
   "source": [
    "plt.figure(figsize=(20,10))\n",
    "plt.xlabel(\"Decile number\")\n",
    "plt.ylabel(\"Cumulative_Unit_WOs\")\n",
    "plt.title(\"Cumulative_Unit_WOs w.r.t Decile_Numbers\")\n",
    "plt.plot(final_df[\"Decile\"], final_df['Cum_Unit_WOs'],marker='o')\n",
    "\n",
    "# this graph looks correct to me. {small check - cg_10 = 100*(M_10/P) = 100.00 (we are correct)}"
   ]
  },
  {
   "cell_type": "code",
   "execution_count": null,
   "id": "051fdb9e",
   "metadata": {
    "id": "jSnq0UrGrS5o"
   },
   "outputs": [],
   "source": []
  }
 ],
 "metadata": {
  "accelerator": "GPU",
  "colab": {
   "collapsed_sections": [],
   "name": "",
   "provenance": [
    {
     "file_id": "1zJPBWiP5SGCVERieptPd7gSrfkn88OEp",
     "timestamp": 1661326481324
    },
    {
     "file_id": "13RVoIhuKvB7PJfHqp31-eZsyr_eyxU0W",
     "timestamp": 1658136373092
    }
   ],
   "version": ""
  },
  "gpuClass": "standard",
  "kernelspec": {
   "display_name": "Python 3 (ipykernel)",
   "language": "python",
   "name": "python3"
  },
  "language_info": {
   "codemirror_mode": {
    "name": "ipython",
    "version": 3
   },
   "file_extension": ".py",
   "mimetype": "text/x-python",
   "name": "python",
   "nbconvert_exporter": "python",
   "pygments_lexer": "ipython3",
   "version": "3.12.7"
  }
 },
 "nbformat": 4,
 "nbformat_minor": 5
}
