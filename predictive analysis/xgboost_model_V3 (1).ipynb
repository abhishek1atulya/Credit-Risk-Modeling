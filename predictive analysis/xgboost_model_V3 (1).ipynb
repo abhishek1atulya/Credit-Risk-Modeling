{
 "cells": [
  {
   "cell_type": "code",
   "execution_count": 30,
   "id": "7ece501b",
   "metadata": {},
   "outputs": [],
   "source": [
    "import pandas as pd\n",
    "import numpy as np\n",
    "import matplotlib.pyplot as plt\n",
    "import seaborn as sns\n",
    "from tqdm import tqdm\n",
    "import sklearn\n",
    "\n",
    "from sklearn.model_selection import train_test_split\n",
    "from sklearn.metrics import log_loss\n",
    "from sklearn.metrics import confusion_matrix\n",
    "from sklearn.metrics import f1_score\n",
    "from sklearn.calibration import CalibratedClassifierCV\n",
    "from xgboost import XGBClassifier\n",
    "from sklearn.model_selection import GridSearchCV\n",
    "\n",
    "import warnings\n",
    "warnings.filterwarnings(\"ignore\", category=FutureWarning)\n",
    "\n",
    "\n",
    "import pickle"
   ]
  },
  {
   "cell_type": "code",
   "execution_count": 31,
   "id": "d6da0407",
   "metadata": {},
   "outputs": [
    {
     "data": {
      "text/plain": [
       "'1.6.1'"
      ]
     },
     "execution_count": 31,
     "metadata": {},
     "output_type": "execute_result"
    }
   ],
   "source": [
    "import xgboost as xgb\n",
    "xgb.__version__"
   ]
  },
  {
   "cell_type": "code",
   "execution_count": 32,
   "id": "133fddd1",
   "metadata": {},
   "outputs": [
    {
     "data": {
      "text/plain": [
       "'1.4.2'"
      ]
     },
     "execution_count": 32,
     "metadata": {},
     "output_type": "execute_result"
    }
   ],
   "source": [
    "pd.__version__"
   ]
  },
  {
   "cell_type": "code",
   "execution_count": 33,
   "id": "96830bd2",
   "metadata": {},
   "outputs": [
    {
     "data": {
      "text/plain": [
       "'1.22.4'"
      ]
     },
     "execution_count": 33,
     "metadata": {},
     "output_type": "execute_result"
    }
   ],
   "source": [
    "np.__version__"
   ]
  },
  {
   "cell_type": "code",
   "execution_count": 34,
   "id": "bbb78373",
   "metadata": {},
   "outputs": [
    {
     "data": {
      "text/plain": [
       "'1.1.1'"
      ]
     },
     "execution_count": 34,
     "metadata": {},
     "output_type": "execute_result"
    }
   ],
   "source": [
    "sklearn.__version__"
   ]
  },
  {
   "cell_type": "code",
   "execution_count": 38,
   "id": "6d3b98a6",
   "metadata": {},
   "outputs": [],
   "source": [
    "#train_df=pd.read_csv(\"train_new.csv\")\n",
    "#test_df=pd.read_csv(\"test_new.csv\")\n",
    "data = pd.read_csv('feature_improved_V2.csv')"
   ]
  },
  {
   "cell_type": "code",
   "execution_count": 36,
   "id": "516ab280",
   "metadata": {},
   "outputs": [],
   "source": [
    "\n",
    "#data = pd.read_excel('feature_improved_V4.xlsx')"
   ]
  },
  {
   "cell_type": "code",
   "execution_count": 39,
   "id": "904d78b0",
   "metadata": {},
   "outputs": [
    {
     "data": {
      "text/plain": [
       "(1992, 33)"
      ]
     },
     "execution_count": 39,
     "metadata": {},
     "output_type": "execute_result"
    }
   ],
   "source": [
    "data.shape"
   ]
  },
  {
   "cell_type": "markdown",
   "id": "4cf642d7",
   "metadata": {},
   "source": [
    "### Data Cleaning"
   ]
  },
  {
   "cell_type": "code",
   "execution_count": 40,
   "id": "7248dc3f",
   "metadata": {},
   "outputs": [
    {
     "data": {
      "text/plain": [
       "33"
      ]
     },
     "execution_count": 40,
     "metadata": {},
     "output_type": "execute_result"
    }
   ],
   "source": [
    "len(data.columns)"
   ]
  },
  {
   "cell_type": "code",
   "execution_count": 41,
   "id": "8064e742",
   "metadata": {},
   "outputs": [
    {
     "data": {
      "text/plain": [
       "array(['0', '3', '1', 'doubt(0)', 'doubt(1)', 'doubt', ' doubt(1)'],\n",
       "      dtype=object)"
      ]
     },
     "execution_count": 41,
     "metadata": {},
     "output_type": "execute_result"
    }
   ],
   "source": [
    "data['new_class_label'].unique()"
   ]
  },
  {
   "cell_type": "code",
   "execution_count": 42,
   "id": "64be21b2",
   "metadata": {},
   "outputs": [],
   "source": [
    "data = data.drop(['mac_address', \"cluster\"], axis = 1)"
   ]
  },
  {
   "cell_type": "code",
   "execution_count": 43,
   "id": "4efc2ad6",
   "metadata": {},
   "outputs": [
    {
     "data": {
      "text/plain": [
       "array(['0', '3', '1'], dtype=object)"
      ]
     },
     "execution_count": 43,
     "metadata": {},
     "output_type": "execute_result"
    }
   ],
   "source": [
    "# dropping certain values from new_class_label_column\n",
    "data = data[data['new_class_label'].notna()]\n",
    "values_to_drop = [3,'doubt', 'doubt(1)', ' doubt(1)', 'doubt(0)']\n",
    "data = data[data.new_class_label.isin(values_to_drop) == False]\n",
    "data.new_class_label.unique()"
   ]
  },
  {
   "cell_type": "code",
   "execution_count": 44,
   "id": "011146e5",
   "metadata": {},
   "outputs": [
    {
     "data": {
      "text/plain": [
       "array([0, 3, 1])"
      ]
     },
     "execution_count": 44,
     "metadata": {},
     "output_type": "execute_result"
    }
   ],
   "source": [
    "data['new_class_label'] = data['new_class_label'].astype(float)\n",
    "data['new_class_label'] = data['new_class_label'].astype(int)\n",
    "data['new_class_label'].unique()"
   ]
  },
  {
   "cell_type": "code",
   "execution_count": 45,
   "id": "0b4cefde",
   "metadata": {},
   "outputs": [],
   "source": [
    "values_to_drop = [3]\n",
    "data = data[data.new_class_label.isin(values_to_drop) == False]"
   ]
  },
  {
   "cell_type": "code",
   "execution_count": 46,
   "id": "4ef522a5",
   "metadata": {},
   "outputs": [
    {
     "data": {
      "text/plain": [
       "(1677, 31)"
      ]
     },
     "execution_count": 46,
     "metadata": {},
     "output_type": "execute_result"
    }
   ],
   "source": [
    "data.shape"
   ]
  },
  {
   "cell_type": "code",
   "execution_count": 47,
   "id": "308f2f2d",
   "metadata": {},
   "outputs": [
    {
     "data": {
      "text/plain": [
       "Index(['amps_f1', 'amps_f2', 'amps_f3', 'amps_f4', 'amps_f5', 'amps_f6',\n",
       "       'zeroes_f1', 'zeroes_f2', 'zeroes_f3', 'zeroes_f4', 'zeroes_f5',\n",
       "       'ones_f1', 'ones_f2', 'ones_f3', 'ones_f4', 'ones_f5', 'm1', 'm2', 'm3',\n",
       "       'S', 'r_sm1', 'r_sm2', 'r_sm3', 'n1', 'n2', 'n3', 'T', 'r_tn1', 'r_tn2',\n",
       "       'r_tn3', 'new_class_label'],\n",
       "      dtype='object')"
      ]
     },
     "execution_count": 47,
     "metadata": {},
     "output_type": "execute_result"
    }
   ],
   "source": [
    "data.columns"
   ]
  },
  {
   "cell_type": "markdown",
   "id": "59dfcf40",
   "metadata": {},
   "source": [
    "### Model Training"
   ]
  },
  {
   "cell_type": "code",
   "execution_count": 48,
   "id": "7db63cad",
   "metadata": {},
   "outputs": [],
   "source": [
    "y=data['new_class_label']\n",
    "x=data.drop(['new_class_label'],axis = 1)"
   ]
  },
  {
   "cell_type": "code",
   "execution_count": 49,
   "id": "b300c552",
   "metadata": {},
   "outputs": [],
   "source": [
    "x_train,x_test,y_train,y_test = train_test_split(x,y,test_size=0.20,random_state=42)"
   ]
  },
  {
   "cell_type": "raw",
   "id": "de1867be",
   "metadata": {},
   "source": [
    "X_tr,X_cv,y_tr,y_cv = train_test_split(x_train,y_train,test_size=0.20,random_state=42)"
   ]
  },
  {
   "cell_type": "raw",
   "id": "df728705",
   "metadata": {},
   "source": [
    "x_train = train_df.drop(['cluster','Unnamed: 0','new_class_label','mac_address'], axis = 1)\n",
    "x_test = test_df.drop(['cluster','Unnamed: 0','new_class_label','mac_address'], axis = 1)\n",
    "y_train = train_df[\"new_class_label\"]\n",
    "y_test = test_df[\"new_class_label\"]"
   ]
  },
  {
   "cell_type": "code",
   "execution_count": 50,
   "id": "cb2e88e4",
   "metadata": {},
   "outputs": [
    {
     "data": {
      "text/plain": [
       "0    1189\n",
       "1     152\n",
       "Name: new_class_label, dtype: int64"
      ]
     },
     "execution_count": 50,
     "metadata": {},
     "output_type": "execute_result"
    }
   ],
   "source": [
    "#getting the class label counts\n",
    "y_train.value_counts()"
   ]
  },
  {
   "cell_type": "code",
   "execution_count": 51,
   "id": "2615620c",
   "metadata": {},
   "outputs": [
    {
     "name": "stdout",
     "output_type": "stream",
     "text": [
      "Percentage of  having short cycles: 11.0%\n",
      "Percentage of  having normal cycles: 89.0%\n"
     ]
    }
   ],
   "source": [
    "#checking the skewness\n",
    "print('Percentage of  having short cycles: {}%'.format(np.round((list(y_train).count(1)/len(y_train))*100)))\n",
    "print('Percentage of  having normal cycles: {}%'.format(np.round(list(y_train).count(0)/len(y_train)*100)))"
   ]
  },
  {
   "cell_type": "raw",
   "id": "8d1e21b4",
   "metadata": {},
   "source": [
    "x_train,x_test,y_train,y_test = train_test_split(x_data,y_data,test_size=0.20,random_state=42)"
   ]
  },
  {
   "cell_type": "markdown",
   "id": "1649977a",
   "metadata": {},
   "source": [
    "## applying XGBoost"
   ]
  },
  {
   "cell_type": "code",
   "execution_count": 52,
   "id": "29f4e3f5",
   "metadata": {},
   "outputs": [
    {
     "name": "stdout",
     "output_type": "stream",
     "text": [
      "Shape of x_train is: (1341, 30)\n",
      "Shape of x_test is: (336, 30)\n",
      "----------------------------------------------\n",
      "Shape of y_train is: (1341,)\n",
      "Shape of y_test is: (336,)\n"
     ]
    }
   ],
   "source": [
    "print('Shape of x_train is: {}'.format(x_train.shape))\n",
    "print('Shape of x_test is: {}'.format(x_test.shape))\n",
    "print('----------------------------------------------')\n",
    "print('Shape of y_train is: {}'.format(y_train.shape))\n",
    "print('Shape of y_test is: {}'.format(y_test.shape))"
   ]
  },
  {
   "cell_type": "code",
   "execution_count": 53,
   "id": "84485e02",
   "metadata": {},
   "outputs": [],
   "source": [
    "parameters = {\n",
    "    'eval_metric':['aucpr'],\n",
    "    'use_label_encoder':[False],\n",
    "    'n_estimators':[1,5,10,15,20,25,30,40,50,100], # number of decision trees used in Xgboost model\n",
    "    'scale_pos_weight': [1,2,3,4,5,6,7,8,9,10], # used to tackle unbalanced datasets(same as upsampling, SMOTE,etc)\n",
    "    'subsample':[0.75], # how much % of data you are taking for estimator building.\n",
    "    'lambda':[100], #perform L2 regularization on leaf weights(tackle overfitting)(control how deep a tree can grow)\n",
    "    'eta':[0.2], # Learning rate(new weight updation after every epoch in a conservative manner)\n",
    "    'gamma':[0.25], #Minimum loss reduction required to make a further partition on a leaf node of the tree. The larger gamma is, the more conservative the algorithm will be.\n",
    "    'colsample_bytree':[0.8],\n",
    "    'colsample_bylevel':[0.8],\n",
    "    'colsample_bynode':[0.8]\n",
    "}"
   ]
  },
  {
   "cell_type": "raw",
   "id": "f4a8d2f5",
   "metadata": {},
   "source": [
    "Minimum loss reduction required to make a further partition on a leaf node of the tree.\n",
    "The larger gamma is, the more conservative the algorithm will be."
   ]
  },
  {
   "cell_type": "code",
   "execution_count": 54,
   "id": "48646d78",
   "metadata": {},
   "outputs": [
    {
     "data": {
      "text/html": [
       "<style>#sk-container-id-4 {color: black;background-color: white;}#sk-container-id-4 pre{padding: 0;}#sk-container-id-4 div.sk-toggleable {background-color: white;}#sk-container-id-4 label.sk-toggleable__label {cursor: pointer;display: block;width: 100%;margin-bottom: 0;padding: 0.3em;box-sizing: border-box;text-align: center;}#sk-container-id-4 label.sk-toggleable__label-arrow:before {content: \"▸\";float: left;margin-right: 0.25em;color: #696969;}#sk-container-id-4 label.sk-toggleable__label-arrow:hover:before {color: black;}#sk-container-id-4 div.sk-estimator:hover label.sk-toggleable__label-arrow:before {color: black;}#sk-container-id-4 div.sk-toggleable__content {max-height: 0;max-width: 0;overflow: hidden;text-align: left;background-color: #f0f8ff;}#sk-container-id-4 div.sk-toggleable__content pre {margin: 0.2em;color: black;border-radius: 0.25em;background-color: #f0f8ff;}#sk-container-id-4 input.sk-toggleable__control:checked~div.sk-toggleable__content {max-height: 200px;max-width: 100%;overflow: auto;}#sk-container-id-4 input.sk-toggleable__control:checked~label.sk-toggleable__label-arrow:before {content: \"▾\";}#sk-container-id-4 div.sk-estimator input.sk-toggleable__control:checked~label.sk-toggleable__label {background-color: #d4ebff;}#sk-container-id-4 div.sk-label input.sk-toggleable__control:checked~label.sk-toggleable__label {background-color: #d4ebff;}#sk-container-id-4 input.sk-hidden--visually {border: 0;clip: rect(1px 1px 1px 1px);clip: rect(1px, 1px, 1px, 1px);height: 1px;margin: -1px;overflow: hidden;padding: 0;position: absolute;width: 1px;}#sk-container-id-4 div.sk-estimator {font-family: monospace;background-color: #f0f8ff;border: 1px dotted black;border-radius: 0.25em;box-sizing: border-box;margin-bottom: 0.5em;}#sk-container-id-4 div.sk-estimator:hover {background-color: #d4ebff;}#sk-container-id-4 div.sk-parallel-item::after {content: \"\";width: 100%;border-bottom: 1px solid gray;flex-grow: 1;}#sk-container-id-4 div.sk-label:hover label.sk-toggleable__label {background-color: #d4ebff;}#sk-container-id-4 div.sk-serial::before {content: \"\";position: absolute;border-left: 1px solid gray;box-sizing: border-box;top: 0;bottom: 0;left: 50%;z-index: 0;}#sk-container-id-4 div.sk-serial {display: flex;flex-direction: column;align-items: center;background-color: white;padding-right: 0.2em;padding-left: 0.2em;position: relative;}#sk-container-id-4 div.sk-item {position: relative;z-index: 1;}#sk-container-id-4 div.sk-parallel {display: flex;align-items: stretch;justify-content: center;background-color: white;position: relative;}#sk-container-id-4 div.sk-item::before, #sk-container-id-4 div.sk-parallel-item::before {content: \"\";position: absolute;border-left: 1px solid gray;box-sizing: border-box;top: 0;bottom: 0;left: 50%;z-index: -1;}#sk-container-id-4 div.sk-parallel-item {display: flex;flex-direction: column;z-index: 1;position: relative;background-color: white;}#sk-container-id-4 div.sk-parallel-item:first-child::after {align-self: flex-end;width: 50%;}#sk-container-id-4 div.sk-parallel-item:last-child::after {align-self: flex-start;width: 50%;}#sk-container-id-4 div.sk-parallel-item:only-child::after {width: 0;}#sk-container-id-4 div.sk-dashed-wrapped {border: 1px dashed gray;margin: 0 0.4em 0.5em 0.4em;box-sizing: border-box;padding-bottom: 0.4em;background-color: white;}#sk-container-id-4 div.sk-label label {font-family: monospace;font-weight: bold;display: inline-block;line-height: 1.2em;}#sk-container-id-4 div.sk-label-container {text-align: center;}#sk-container-id-4 div.sk-container {/* jupyter's `normalize.less` sets `[hidden] { display: none; }` but bootstrap.min.css set `[hidden] { display: none !important; }` so we also need the `!important` here to be able to override the default hidden behavior on the sphinx rendered scikit-learn.org. See: https://github.com/scikit-learn/scikit-learn/issues/21755 */display: inline-block !important;position: relative;}#sk-container-id-4 div.sk-text-repr-fallback {display: none;}</style><div id=\"sk-container-id-4\" class=\"sk-top-container\"><div class=\"sk-text-repr-fallback\"><pre>GridSearchCV(cv=5,\n",
       "             estimator=XGBClassifier(base_score=None, booster=None,\n",
       "                                     callbacks=None, colsample_bylevel=None,\n",
       "                                     colsample_bynode=None,\n",
       "                                     colsample_bytree=None,\n",
       "                                     early_stopping_rounds=None,\n",
       "                                     enable_categorical=False, eval_metric=None,\n",
       "                                     gamma=None, gpu_id=None, grow_policy=None,\n",
       "                                     importance_type=None,\n",
       "                                     interaction_constraints=None,\n",
       "                                     learning_rate=None, max_bin=None,\n",
       "                                     max_ca...\n",
       "                                     reg_lambda=None, ...),\n",
       "             n_jobs=-1,\n",
       "             param_grid={&#x27;colsample_bylevel&#x27;: [0.8], &#x27;colsample_bynode&#x27;: [0.8],\n",
       "                         &#x27;colsample_bytree&#x27;: [0.8], &#x27;eta&#x27;: [0.2],\n",
       "                         &#x27;eval_metric&#x27;: [&#x27;aucpr&#x27;], &#x27;gamma&#x27;: [0.25],\n",
       "                         &#x27;lambda&#x27;: [100],\n",
       "                         &#x27;n_estimators&#x27;: [1, 5, 10, 15, 20, 25, 30, 40, 50,\n",
       "                                          100],\n",
       "                         &#x27;scale_pos_weight&#x27;: [1, 2, 3, 4, 5, 6, 7, 8, 9, 10],\n",
       "                         &#x27;subsample&#x27;: [0.75], &#x27;use_label_encoder&#x27;: [False]},\n",
       "             return_train_score=True, scoring=&#x27;roc_auc&#x27;)</pre><b>In a Jupyter environment, please rerun this cell to show the HTML representation or trust the notebook. <br />On GitHub, the HTML representation is unable to render, please try loading this page with nbviewer.org.</b></div><div class=\"sk-container\" hidden><div class=\"sk-item sk-dashed-wrapped\"><div class=\"sk-label-container\"><div class=\"sk-label sk-toggleable\"><input class=\"sk-toggleable__control sk-hidden--visually\" id=\"sk-estimator-id-8\" type=\"checkbox\" ><label for=\"sk-estimator-id-8\" class=\"sk-toggleable__label sk-toggleable__label-arrow\">GridSearchCV</label><div class=\"sk-toggleable__content\"><pre>GridSearchCV(cv=5,\n",
       "             estimator=XGBClassifier(base_score=None, booster=None,\n",
       "                                     callbacks=None, colsample_bylevel=None,\n",
       "                                     colsample_bynode=None,\n",
       "                                     colsample_bytree=None,\n",
       "                                     early_stopping_rounds=None,\n",
       "                                     enable_categorical=False, eval_metric=None,\n",
       "                                     gamma=None, gpu_id=None, grow_policy=None,\n",
       "                                     importance_type=None,\n",
       "                                     interaction_constraints=None,\n",
       "                                     learning_rate=None, max_bin=None,\n",
       "                                     max_ca...\n",
       "                                     reg_lambda=None, ...),\n",
       "             n_jobs=-1,\n",
       "             param_grid={&#x27;colsample_bylevel&#x27;: [0.8], &#x27;colsample_bynode&#x27;: [0.8],\n",
       "                         &#x27;colsample_bytree&#x27;: [0.8], &#x27;eta&#x27;: [0.2],\n",
       "                         &#x27;eval_metric&#x27;: [&#x27;aucpr&#x27;], &#x27;gamma&#x27;: [0.25],\n",
       "                         &#x27;lambda&#x27;: [100],\n",
       "                         &#x27;n_estimators&#x27;: [1, 5, 10, 15, 20, 25, 30, 40, 50,\n",
       "                                          100],\n",
       "                         &#x27;scale_pos_weight&#x27;: [1, 2, 3, 4, 5, 6, 7, 8, 9, 10],\n",
       "                         &#x27;subsample&#x27;: [0.75], &#x27;use_label_encoder&#x27;: [False]},\n",
       "             return_train_score=True, scoring=&#x27;roc_auc&#x27;)</pre></div></div></div><div class=\"sk-parallel\"><div class=\"sk-parallel-item\"><div class=\"sk-item\"><div class=\"sk-label-container\"><div class=\"sk-label sk-toggleable\"><input class=\"sk-toggleable__control sk-hidden--visually\" id=\"sk-estimator-id-9\" type=\"checkbox\" ><label for=\"sk-estimator-id-9\" class=\"sk-toggleable__label sk-toggleable__label-arrow\">estimator: XGBClassifier</label><div class=\"sk-toggleable__content\"><pre>XGBClassifier(base_score=None, booster=None, callbacks=None,\n",
       "              colsample_bylevel=None, colsample_bynode=None,\n",
       "              colsample_bytree=None, early_stopping_rounds=None,\n",
       "              enable_categorical=False, eval_metric=None, gamma=None,\n",
       "              gpu_id=None, grow_policy=None, importance_type=None,\n",
       "              interaction_constraints=None, learning_rate=None, max_bin=None,\n",
       "              max_cat_to_onehot=None, max_delta_step=None, max_depth=None,\n",
       "              max_leaves=None, min_child_weight=None, missing=nan,\n",
       "              monotone_constraints=None, n_estimators=100, n_jobs=None,\n",
       "              num_parallel_tree=None, predictor=None, random_state=None,\n",
       "              reg_alpha=None, reg_lambda=None, ...)</pre></div></div></div><div class=\"sk-serial\"><div class=\"sk-item\"><div class=\"sk-estimator sk-toggleable\"><input class=\"sk-toggleable__control sk-hidden--visually\" id=\"sk-estimator-id-10\" type=\"checkbox\" ><label for=\"sk-estimator-id-10\" class=\"sk-toggleable__label sk-toggleable__label-arrow\">XGBClassifier</label><div class=\"sk-toggleable__content\"><pre>XGBClassifier(base_score=None, booster=None, callbacks=None,\n",
       "              colsample_bylevel=None, colsample_bynode=None,\n",
       "              colsample_bytree=None, early_stopping_rounds=None,\n",
       "              enable_categorical=False, eval_metric=None, gamma=None,\n",
       "              gpu_id=None, grow_policy=None, importance_type=None,\n",
       "              interaction_constraints=None, learning_rate=None, max_bin=None,\n",
       "              max_cat_to_onehot=None, max_delta_step=None, max_depth=None,\n",
       "              max_leaves=None, min_child_weight=None, missing=nan,\n",
       "              monotone_constraints=None, n_estimators=100, n_jobs=None,\n",
       "              num_parallel_tree=None, predictor=None, random_state=None,\n",
       "              reg_alpha=None, reg_lambda=None, ...)</pre></div></div></div></div></div></div></div></div></div></div>"
      ],
      "text/plain": [
       "GridSearchCV(cv=5,\n",
       "             estimator=XGBClassifier(base_score=None, booster=None,\n",
       "                                     callbacks=None, colsample_bylevel=None,\n",
       "                                     colsample_bynode=None,\n",
       "                                     colsample_bytree=None,\n",
       "                                     early_stopping_rounds=None,\n",
       "                                     enable_categorical=False, eval_metric=None,\n",
       "                                     gamma=None, gpu_id=None, grow_policy=None,\n",
       "                                     importance_type=None,\n",
       "                                     interaction_constraints=None,\n",
       "                                     learning_rate=None, max_bin=None,\n",
       "                                     max_ca...\n",
       "                                     reg_lambda=None, ...),\n",
       "             n_jobs=-1,\n",
       "             param_grid={'colsample_bylevel': [0.8], 'colsample_bynode': [0.8],\n",
       "                         'colsample_bytree': [0.8], 'eta': [0.2],\n",
       "                         'eval_metric': ['aucpr'], 'gamma': [0.25],\n",
       "                         'lambda': [100],\n",
       "                         'n_estimators': [1, 5, 10, 15, 20, 25, 30, 40, 50,\n",
       "                                          100],\n",
       "                         'scale_pos_weight': [1, 2, 3, 4, 5, 6, 7, 8, 9, 10],\n",
       "                         'subsample': [0.75], 'use_label_encoder': [False]},\n",
       "             return_train_score=True, scoring='roc_auc')"
      ]
     },
     "execution_count": 54,
     "metadata": {},
     "output_type": "execute_result"
    }
   ],
   "source": [
    "#initializing xgboost model\n",
    "x_cfl=XGBClassifier()\n",
    "clf = GridSearchCV(estimator=x_cfl, param_grid=parameters, scoring='roc_auc', n_jobs=-1, cv=5, return_train_score=True)\n",
    "clf.fit(x_train,y_train)"
   ]
  },
  {
   "cell_type": "code",
   "execution_count": 55,
   "id": "83216781",
   "metadata": {},
   "outputs": [
    {
     "data": {
      "text/html": [
       "<style>#sk-container-id-5 {color: black;background-color: white;}#sk-container-id-5 pre{padding: 0;}#sk-container-id-5 div.sk-toggleable {background-color: white;}#sk-container-id-5 label.sk-toggleable__label {cursor: pointer;display: block;width: 100%;margin-bottom: 0;padding: 0.3em;box-sizing: border-box;text-align: center;}#sk-container-id-5 label.sk-toggleable__label-arrow:before {content: \"▸\";float: left;margin-right: 0.25em;color: #696969;}#sk-container-id-5 label.sk-toggleable__label-arrow:hover:before {color: black;}#sk-container-id-5 div.sk-estimator:hover label.sk-toggleable__label-arrow:before {color: black;}#sk-container-id-5 div.sk-toggleable__content {max-height: 0;max-width: 0;overflow: hidden;text-align: left;background-color: #f0f8ff;}#sk-container-id-5 div.sk-toggleable__content pre {margin: 0.2em;color: black;border-radius: 0.25em;background-color: #f0f8ff;}#sk-container-id-5 input.sk-toggleable__control:checked~div.sk-toggleable__content {max-height: 200px;max-width: 100%;overflow: auto;}#sk-container-id-5 input.sk-toggleable__control:checked~label.sk-toggleable__label-arrow:before {content: \"▾\";}#sk-container-id-5 div.sk-estimator input.sk-toggleable__control:checked~label.sk-toggleable__label {background-color: #d4ebff;}#sk-container-id-5 div.sk-label input.sk-toggleable__control:checked~label.sk-toggleable__label {background-color: #d4ebff;}#sk-container-id-5 input.sk-hidden--visually {border: 0;clip: rect(1px 1px 1px 1px);clip: rect(1px, 1px, 1px, 1px);height: 1px;margin: -1px;overflow: hidden;padding: 0;position: absolute;width: 1px;}#sk-container-id-5 div.sk-estimator {font-family: monospace;background-color: #f0f8ff;border: 1px dotted black;border-radius: 0.25em;box-sizing: border-box;margin-bottom: 0.5em;}#sk-container-id-5 div.sk-estimator:hover {background-color: #d4ebff;}#sk-container-id-5 div.sk-parallel-item::after {content: \"\";width: 100%;border-bottom: 1px solid gray;flex-grow: 1;}#sk-container-id-5 div.sk-label:hover label.sk-toggleable__label {background-color: #d4ebff;}#sk-container-id-5 div.sk-serial::before {content: \"\";position: absolute;border-left: 1px solid gray;box-sizing: border-box;top: 0;bottom: 0;left: 50%;z-index: 0;}#sk-container-id-5 div.sk-serial {display: flex;flex-direction: column;align-items: center;background-color: white;padding-right: 0.2em;padding-left: 0.2em;position: relative;}#sk-container-id-5 div.sk-item {position: relative;z-index: 1;}#sk-container-id-5 div.sk-parallel {display: flex;align-items: stretch;justify-content: center;background-color: white;position: relative;}#sk-container-id-5 div.sk-item::before, #sk-container-id-5 div.sk-parallel-item::before {content: \"\";position: absolute;border-left: 1px solid gray;box-sizing: border-box;top: 0;bottom: 0;left: 50%;z-index: -1;}#sk-container-id-5 div.sk-parallel-item {display: flex;flex-direction: column;z-index: 1;position: relative;background-color: white;}#sk-container-id-5 div.sk-parallel-item:first-child::after {align-self: flex-end;width: 50%;}#sk-container-id-5 div.sk-parallel-item:last-child::after {align-self: flex-start;width: 50%;}#sk-container-id-5 div.sk-parallel-item:only-child::after {width: 0;}#sk-container-id-5 div.sk-dashed-wrapped {border: 1px dashed gray;margin: 0 0.4em 0.5em 0.4em;box-sizing: border-box;padding-bottom: 0.4em;background-color: white;}#sk-container-id-5 div.sk-label label {font-family: monospace;font-weight: bold;display: inline-block;line-height: 1.2em;}#sk-container-id-5 div.sk-label-container {text-align: center;}#sk-container-id-5 div.sk-container {/* jupyter's `normalize.less` sets `[hidden] { display: none; }` but bootstrap.min.css set `[hidden] { display: none !important; }` so we also need the `!important` here to be able to override the default hidden behavior on the sphinx rendered scikit-learn.org. See: https://github.com/scikit-learn/scikit-learn/issues/21755 */display: inline-block !important;position: relative;}#sk-container-id-5 div.sk-text-repr-fallback {display: none;}</style><div id=\"sk-container-id-5\" class=\"sk-top-container\"><div class=\"sk-text-repr-fallback\"><pre>XGBClassifier(base_score=0.5, booster=&#x27;gbtree&#x27;, callbacks=None,\n",
       "              colsample_bylevel=0.8, colsample_bynode=0.8, colsample_bytree=0.8,\n",
       "              early_stopping_rounds=None, enable_categorical=False, eta=0.2,\n",
       "              eval_metric=&#x27;aucpr&#x27;, gamma=0.25, gpu_id=-1,\n",
       "              grow_policy=&#x27;depthwise&#x27;, importance_type=None,\n",
       "              interaction_constraints=&#x27;&#x27;, lambda=100, learning_rate=0.200000003,\n",
       "              max_bin=256, max_cat_to_onehot=4, max_delta_step=0, max_depth=6,\n",
       "              max_leaves=0, min_child_weight=1, missing=nan,\n",
       "              monotone_constraints=&#x27;()&#x27;, n_estimators=100, n_jobs=0,\n",
       "              num_parallel_tree=1, predictor=&#x27;auto&#x27;, random_state=0, ...)</pre><b>In a Jupyter environment, please rerun this cell to show the HTML representation or trust the notebook. <br />On GitHub, the HTML representation is unable to render, please try loading this page with nbviewer.org.</b></div><div class=\"sk-container\" hidden><div class=\"sk-item\"><div class=\"sk-estimator sk-toggleable\"><input class=\"sk-toggleable__control sk-hidden--visually\" id=\"sk-estimator-id-11\" type=\"checkbox\" checked><label for=\"sk-estimator-id-11\" class=\"sk-toggleable__label sk-toggleable__label-arrow\">XGBClassifier</label><div class=\"sk-toggleable__content\"><pre>XGBClassifier(base_score=0.5, booster=&#x27;gbtree&#x27;, callbacks=None,\n",
       "              colsample_bylevel=0.8, colsample_bynode=0.8, colsample_bytree=0.8,\n",
       "              early_stopping_rounds=None, enable_categorical=False, eta=0.2,\n",
       "              eval_metric=&#x27;aucpr&#x27;, gamma=0.25, gpu_id=-1,\n",
       "              grow_policy=&#x27;depthwise&#x27;, importance_type=None,\n",
       "              interaction_constraints=&#x27;&#x27;, lambda=100, learning_rate=0.200000003,\n",
       "              max_bin=256, max_cat_to_onehot=4, max_delta_step=0, max_depth=6,\n",
       "              max_leaves=0, min_child_weight=1, missing=nan,\n",
       "              monotone_constraints=&#x27;()&#x27;, n_estimators=100, n_jobs=0,\n",
       "              num_parallel_tree=1, predictor=&#x27;auto&#x27;, random_state=0, ...)</pre></div></div></div></div></div>"
      ],
      "text/plain": [
       "XGBClassifier(base_score=0.5, booster='gbtree', callbacks=None,\n",
       "              colsample_bylevel=0.8, colsample_bynode=0.8, colsample_bytree=0.8,\n",
       "              early_stopping_rounds=None, enable_categorical=False, eta=0.2,\n",
       "              eval_metric='aucpr', gamma=0.25, gpu_id=-1,\n",
       "              grow_policy='depthwise', importance_type=None,\n",
       "              interaction_constraints='', lambda=100, learning_rate=0.200000003,\n",
       "              max_bin=256, max_cat_to_onehot=4, max_delta_step=0, max_depth=6,\n",
       "              max_leaves=0, min_child_weight=1, missing=nan,\n",
       "              monotone_constraints='()', n_estimators=100, n_jobs=0,\n",
       "              num_parallel_tree=1, predictor='auto', random_state=0, ...)"
      ]
     },
     "execution_count": 55,
     "metadata": {},
     "output_type": "execute_result"
    }
   ],
   "source": [
    "#best parameters after training\n",
    "clf.best_estimator_"
   ]
  },
  {
   "cell_type": "code",
   "execution_count": 25,
   "id": "f4d25e6b",
   "metadata": {},
   "outputs": [
    {
     "data": {
      "image/png": "[encoded data removed]",
      "text/plain": [
       "<Figure size 432x288 with 1 Axes>"
      ]
     },
     "metadata": {
      "needs_background": "light"
     },
     "output_type": "display_data"
    }
   ],
   "source": [
    "#here test score refers to the cv score\n",
    "x_axis = [i for i in range(100)]\n",
    "plt.plot(x_axis,clf.cv_results_['mean_test_score'])\n",
    "plt.plot(x_axis,clf.cv_results_['mean_train_score'])\n",
    "plt.legend([\"test score\", \"train score\"], loc =\"lower right\")\n",
    "plt.xlabel('iterations')\n",
    "plt.ylabel('roc_auc score')\n",
    "plt.title('plot for train and cv roc_auc scores')\n",
    "plt.show()"
   ]
  },
  {
   "cell_type": "code",
   "execution_count": 56,
   "id": "72a652c9",
   "metadata": {},
   "outputs": [
    {
     "data": {
      "text/html": [
       "<style>#sk-container-id-6 {color: black;background-color: white;}#sk-container-id-6 pre{padding: 0;}#sk-container-id-6 div.sk-toggleable {background-color: white;}#sk-container-id-6 label.sk-toggleable__label {cursor: pointer;display: block;width: 100%;margin-bottom: 0;padding: 0.3em;box-sizing: border-box;text-align: center;}#sk-container-id-6 label.sk-toggleable__label-arrow:before {content: \"▸\";float: left;margin-right: 0.25em;color: #696969;}#sk-container-id-6 label.sk-toggleable__label-arrow:hover:before {color: black;}#sk-container-id-6 div.sk-estimator:hover label.sk-toggleable__label-arrow:before {color: black;}#sk-container-id-6 div.sk-toggleable__content {max-height: 0;max-width: 0;overflow: hidden;text-align: left;background-color: #f0f8ff;}#sk-container-id-6 div.sk-toggleable__content pre {margin: 0.2em;color: black;border-radius: 0.25em;background-color: #f0f8ff;}#sk-container-id-6 input.sk-toggleable__control:checked~div.sk-toggleable__content {max-height: 200px;max-width: 100%;overflow: auto;}#sk-container-id-6 input.sk-toggleable__control:checked~label.sk-toggleable__label-arrow:before {content: \"▾\";}#sk-container-id-6 div.sk-estimator input.sk-toggleable__control:checked~label.sk-toggleable__label {background-color: #d4ebff;}#sk-container-id-6 div.sk-label input.sk-toggleable__control:checked~label.sk-toggleable__label {background-color: #d4ebff;}#sk-container-id-6 input.sk-hidden--visually {border: 0;clip: rect(1px 1px 1px 1px);clip: rect(1px, 1px, 1px, 1px);height: 1px;margin: -1px;overflow: hidden;padding: 0;position: absolute;width: 1px;}#sk-container-id-6 div.sk-estimator {font-family: monospace;background-color: #f0f8ff;border: 1px dotted black;border-radius: 0.25em;box-sizing: border-box;margin-bottom: 0.5em;}#sk-container-id-6 div.sk-estimator:hover {background-color: #d4ebff;}#sk-container-id-6 div.sk-parallel-item::after {content: \"\";width: 100%;border-bottom: 1px solid gray;flex-grow: 1;}#sk-container-id-6 div.sk-label:hover label.sk-toggleable__label {background-color: #d4ebff;}#sk-container-id-6 div.sk-serial::before {content: \"\";position: absolute;border-left: 1px solid gray;box-sizing: border-box;top: 0;bottom: 0;left: 50%;z-index: 0;}#sk-container-id-6 div.sk-serial {display: flex;flex-direction: column;align-items: center;background-color: white;padding-right: 0.2em;padding-left: 0.2em;position: relative;}#sk-container-id-6 div.sk-item {position: relative;z-index: 1;}#sk-container-id-6 div.sk-parallel {display: flex;align-items: stretch;justify-content: center;background-color: white;position: relative;}#sk-container-id-6 div.sk-item::before, #sk-container-id-6 div.sk-parallel-item::before {content: \"\";position: absolute;border-left: 1px solid gray;box-sizing: border-box;top: 0;bottom: 0;left: 50%;z-index: -1;}#sk-container-id-6 div.sk-parallel-item {display: flex;flex-direction: column;z-index: 1;position: relative;background-color: white;}#sk-container-id-6 div.sk-parallel-item:first-child::after {align-self: flex-end;width: 50%;}#sk-container-id-6 div.sk-parallel-item:last-child::after {align-self: flex-start;width: 50%;}#sk-container-id-6 div.sk-parallel-item:only-child::after {width: 0;}#sk-container-id-6 div.sk-dashed-wrapped {border: 1px dashed gray;margin: 0 0.4em 0.5em 0.4em;box-sizing: border-box;padding-bottom: 0.4em;background-color: white;}#sk-container-id-6 div.sk-label label {font-family: monospace;font-weight: bold;display: inline-block;line-height: 1.2em;}#sk-container-id-6 div.sk-label-container {text-align: center;}#sk-container-id-6 div.sk-container {/* jupyter's `normalize.less` sets `[hidden] { display: none; }` but bootstrap.min.css set `[hidden] { display: none !important; }` so we also need the `!important` here to be able to override the default hidden behavior on the sphinx rendered scikit-learn.org. See: https://github.com/scikit-learn/scikit-learn/issues/21755 */display: inline-block !important;position: relative;}#sk-container-id-6 div.sk-text-repr-fallback {display: none;}</style><div id=\"sk-container-id-6\" class=\"sk-top-container\"><div class=\"sk-text-repr-fallback\"><pre>CalibratedClassifierCV(base_estimator=XGBClassifier(base_score=0.5,\n",
       "                                                    booster=&#x27;gbtree&#x27;,\n",
       "                                                    callbacks=None,\n",
       "                                                    colsample_bylevel=0.8,\n",
       "                                                    colsample_bynode=0.8,\n",
       "                                                    colsample_bytree=0.8,\n",
       "                                                    early_stopping_rounds=None,\n",
       "                                                    enable_categorical=False,\n",
       "                                                    eta=0.2,\n",
       "                                                    eval_metric=&#x27;aucpr&#x27;,\n",
       "                                                    gamma=0.25, gpu_id=-1,\n",
       "                                                    grow_policy=&#x27;depthwise&#x27;,\n",
       "                                                    importance_type=None,\n",
       "                                                    interaction_constraints=&#x27;&#x27;,\n",
       "                                                    lambda=100,\n",
       "                                                    learning_rate=0.200000003,\n",
       "                                                    max_bin=256,\n",
       "                                                    max_cat_to_onehot=4,\n",
       "                                                    max_delta_step=0,\n",
       "                                                    max_depth=6, max_leaves=0,\n",
       "                                                    min_child_weight=1,\n",
       "                                                    missing=nan,\n",
       "                                                    monotone_constraints=&#x27;()&#x27;,\n",
       "                                                    n_estimators=100, n_jobs=0,\n",
       "                                                    num_parallel_tree=1,\n",
       "                                                    predictor=&#x27;auto&#x27;,\n",
       "                                                    random_state=0, ...))</pre><b>In a Jupyter environment, please rerun this cell to show the HTML representation or trust the notebook. <br />On GitHub, the HTML representation is unable to render, please try loading this page with nbviewer.org.</b></div><div class=\"sk-container\" hidden><div class=\"sk-item sk-dashed-wrapped\"><div class=\"sk-label-container\"><div class=\"sk-label sk-toggleable\"><input class=\"sk-toggleable__control sk-hidden--visually\" id=\"sk-estimator-id-12\" type=\"checkbox\" ><label for=\"sk-estimator-id-12\" class=\"sk-toggleable__label sk-toggleable__label-arrow\">CalibratedClassifierCV</label><div class=\"sk-toggleable__content\"><pre>CalibratedClassifierCV(base_estimator=XGBClassifier(base_score=0.5,\n",
       "                                                    booster=&#x27;gbtree&#x27;,\n",
       "                                                    callbacks=None,\n",
       "                                                    colsample_bylevel=0.8,\n",
       "                                                    colsample_bynode=0.8,\n",
       "                                                    colsample_bytree=0.8,\n",
       "                                                    early_stopping_rounds=None,\n",
       "                                                    enable_categorical=False,\n",
       "                                                    eta=0.2,\n",
       "                                                    eval_metric=&#x27;aucpr&#x27;,\n",
       "                                                    gamma=0.25, gpu_id=-1,\n",
       "                                                    grow_policy=&#x27;depthwise&#x27;,\n",
       "                                                    importance_type=None,\n",
       "                                                    interaction_constraints=&#x27;&#x27;,\n",
       "                                                    lambda=100,\n",
       "                                                    learning_rate=0.200000003,\n",
       "                                                    max_bin=256,\n",
       "                                                    max_cat_to_onehot=4,\n",
       "                                                    max_delta_step=0,\n",
       "                                                    max_depth=6, max_leaves=0,\n",
       "                                                    min_child_weight=1,\n",
       "                                                    missing=nan,\n",
       "                                                    monotone_constraints=&#x27;()&#x27;,\n",
       "                                                    n_estimators=100, n_jobs=0,\n",
       "                                                    num_parallel_tree=1,\n",
       "                                                    predictor=&#x27;auto&#x27;,\n",
       "                                                    random_state=0, ...))</pre></div></div></div><div class=\"sk-parallel\"><div class=\"sk-parallel-item\"><div class=\"sk-item\"><div class=\"sk-label-container\"><div class=\"sk-label sk-toggleable\"><input class=\"sk-toggleable__control sk-hidden--visually\" id=\"sk-estimator-id-13\" type=\"checkbox\" ><label for=\"sk-estimator-id-13\" class=\"sk-toggleable__label sk-toggleable__label-arrow\">base_estimator: XGBClassifier</label><div class=\"sk-toggleable__content\"><pre>XGBClassifier(base_score=0.5, booster=&#x27;gbtree&#x27;, callbacks=None,\n",
       "              colsample_bylevel=0.8, colsample_bynode=0.8, colsample_bytree=0.8,\n",
       "              early_stopping_rounds=None, enable_categorical=False, eta=0.2,\n",
       "              eval_metric=&#x27;aucpr&#x27;, gamma=0.25, gpu_id=-1,\n",
       "              grow_policy=&#x27;depthwise&#x27;, importance_type=None,\n",
       "              interaction_constraints=&#x27;&#x27;, lambda=100, learning_rate=0.200000003,\n",
       "              max_bin=256, max_cat_to_onehot=4, max_delta_step=0, max_depth=6,\n",
       "              max_leaves=0, min_child_weight=1, missing=nan,\n",
       "              monotone_constraints=&#x27;()&#x27;, n_estimators=100, n_jobs=0,\n",
       "              num_parallel_tree=1, predictor=&#x27;auto&#x27;, random_state=0, ...)</pre></div></div></div><div class=\"sk-serial\"><div class=\"sk-item\"><div class=\"sk-estimator sk-toggleable\"><input class=\"sk-toggleable__control sk-hidden--visually\" id=\"sk-estimator-id-14\" type=\"checkbox\" ><label for=\"sk-estimator-id-14\" class=\"sk-toggleable__label sk-toggleable__label-arrow\">XGBClassifier</label><div class=\"sk-toggleable__content\"><pre>XGBClassifier(base_score=0.5, booster=&#x27;gbtree&#x27;, callbacks=None,\n",
       "              colsample_bylevel=0.8, colsample_bynode=0.8, colsample_bytree=0.8,\n",
       "              early_stopping_rounds=None, enable_categorical=False, eta=0.2,\n",
       "              eval_metric=&#x27;aucpr&#x27;, gamma=0.25, gpu_id=-1,\n",
       "              grow_policy=&#x27;depthwise&#x27;, importance_type=None,\n",
       "              interaction_constraints=&#x27;&#x27;, lambda=100, learning_rate=0.200000003,\n",
       "              max_bin=256, max_cat_to_onehot=4, max_delta_step=0, max_depth=6,\n",
       "              max_leaves=0, min_child_weight=1, missing=nan,\n",
       "              monotone_constraints=&#x27;()&#x27;, n_estimators=100, n_jobs=0,\n",
       "              num_parallel_tree=1, predictor=&#x27;auto&#x27;, random_state=0, ...)</pre></div></div></div></div></div></div></div></div></div></div>"
      ],
      "text/plain": [
       "CalibratedClassifierCV(base_estimator=XGBClassifier(base_score=0.5,\n",
       "                                                    booster='gbtree',\n",
       "                                                    callbacks=None,\n",
       "                                                    colsample_bylevel=0.8,\n",
       "                                                    colsample_bynode=0.8,\n",
       "                                                    colsample_bytree=0.8,\n",
       "                                                    early_stopping_rounds=None,\n",
       "                                                    enable_categorical=False,\n",
       "                                                    eta=0.2,\n",
       "                                                    eval_metric='aucpr',\n",
       "                                                    gamma=0.25, gpu_id=-1,\n",
       "                                                    grow_policy='depthwise',\n",
       "                                                    importance_type=None,\n",
       "                                                    interaction_constraints='',\n",
       "                                                    lambda=100,\n",
       "                                                    learning_rate=0.200000003,\n",
       "                                                    max_bin=256,\n",
       "                                                    max_cat_to_onehot=4,\n",
       "                                                    max_delta_step=0,\n",
       "                                                    max_depth=6, max_leaves=0,\n",
       "                                                    min_child_weight=1,\n",
       "                                                    missing=nan,\n",
       "                                                    monotone_constraints='()',\n",
       "                                                    n_estimators=100, n_jobs=0,\n",
       "                                                    num_parallel_tree=1,\n",
       "                                                    predictor='auto',\n",
       "                                                    random_state=0, ...))"
      ]
     },
     "execution_count": 56,
     "metadata": {},
     "output_type": "execute_result"
    }
   ],
   "source": [
    "#calibrating the model to get the probabilities\n",
    "calibration_clf = CalibratedClassifierCV(clf.best_estimator_)\n",
    "calibration_clf.fit(x_train,y_train)"
   ]
  },
  {
   "cell_type": "code",
   "execution_count": 57,
   "id": "7b397244",
   "metadata": {},
   "outputs": [],
   "source": [
    "predict_y_test = calibration_clf.predict(x_test)\n",
    "predict_y_train = calibration_clf.predict(x_train)\n",
    "predict_y_proba_test = calibration_clf.predict_proba(x_test)"
   ]
  },
  {
   "cell_type": "code",
   "execution_count": null,
   "id": "796c8c23",
   "metadata": {},
   "outputs": [],
   "source": [
    "# we are saving the weights of the model using joblib\n",
    "import joblib\n",
    "model_file_name = \"DEMO-local-xgboost-model\"  \n",
    "joblib.dump(calibration_clf, model_file_name) "
   ]
  },
  {
   "cell_type": "markdown",
   "id": "1dd87be2",
   "metadata": {},
   "source": [
    "## Pickle file of model"
   ]
  },
  {
   "cell_type": "code",
   "execution_count": null,
   "id": "52aed259",
   "metadata": {},
   "outputs": [],
   "source": [
    "filename = \"xgboost_model\"\n",
    "pickle.dump(calibration_clf,open(filename,'wb'))"
   ]
  },
  {
   "cell_type": "code",
   "execution_count": 58,
   "id": "14878472",
   "metadata": {},
   "outputs": [
    {
     "data": {
      "image/png": "[encoded data removed]",
      "text/plain": [
       "<Figure size 432x288 with 2 Axes>"
      ]
     },
     "metadata": {
      "needs_background": "light"
     },
     "output_type": "display_data"
    },
    {
     "name": "stdout",
     "output_type": "stream",
     "text": [
      "----------------------------\n",
      "TP: 148\n",
      "TN: 1182\n",
      "FP: 4\n",
      "FN: 7\n",
      "F1-score: 0.964169381107492\n",
      "accuracy: 0.9917971662938105\n"
     ]
    }
   ],
   "source": [
    "# this is the confusion matrix for training data \n",
    "cf_matrix=confusion_matrix(predict_y_train, y_train)\n",
    "cf_matrix\n",
    "\n",
    "sns.heatmap(confusion_matrix(predict_y_train,y_train), annot=True, fmt='d')\n",
    "plt.title('Confusion matrix on training_data')\n",
    "plt.xlabel('Predicted')\n",
    "plt.ylabel('Truth')\n",
    "plt.show()\n",
    "print(\"----------------------------\")\n",
    "\n",
    "tn, fp, fn, tp = confusion_matrix(predict_y_train, y_train).ravel()\n",
    "print('TP: {}'.format(tp))\n",
    "print('TN: {}'.format(tn))\n",
    "print('FP: {}'.format(fp))\n",
    "print('FN: {}'.format(fn))\n",
    "\n",
    "\n",
    "print('F1-score: {}'.format(f1_score(predict_y_train,y_train)))\n",
    "print('accuracy: {}'.format((tp+tn)/(tp+tn+fp+fn)))"
   ]
  },
  {
   "cell_type": "code",
   "execution_count": 59,
   "id": "351d5687",
   "metadata": {},
   "outputs": [
    {
     "data": {
      "image/png": "[encoded data removed]",
      "text/plain": [
       "<Figure size 432x288 with 2 Axes>"
      ]
     },
     "metadata": {
      "needs_background": "light"
     },
     "output_type": "display_data"
    },
    {
     "name": "stdout",
     "output_type": "stream",
     "text": [
      "----------------------------\n",
      "----------------------------\n",
      "TP: 40\n",
      "TN: 292\n",
      "FP: 3\n",
      "FN: 1\n",
      "----------------------------\n",
      "F1-score: 0.9523809523809524\n",
      "accuracy: 0.9880952380952381\n"
     ]
    }
   ],
   "source": [
    "#performance metrics on test data\n",
    "#print('Confusion matrix:')\n",
    "#print(confusion_matrix(y_test,predict_y_test))\n",
    "#plt.figure(figsize = (6.5,5))\n",
    "sns.heatmap(confusion_matrix(y_test,predict_y_test), annot=True, fmt='d')\n",
    "plt.title('Confusion matrix on test data')\n",
    "plt.xlabel('Predicted')\n",
    "plt.ylabel('Truth')\n",
    "plt.show()\n",
    "print(\"----------------------------\")\n",
    "\n",
    "tn, fp, fn, tp = confusion_matrix(y_test,predict_y_test).ravel()\n",
    "print(\"----------------------------\")\n",
    "\n",
    "print('TP: {}'.format(tp))\n",
    "print('TN: {}'.format(tn))\n",
    "print('FP: {}'.format(fp))\n",
    "print('FN: {}'.format(fn))\n",
    "print(\"----------------------------\")\n",
    "\n",
    "print('F1-score: {}'.format(f1_score(y_test,predict_y_test)))\n",
    "print('accuracy: {}'.format((tp+tn)/(tp+tn+fp+fn)))\n"
   ]
  },
  {
   "cell_type": "markdown",
   "id": "83a006c2",
   "metadata": {},
   "source": [
    "### Predicted data for FN, FP, TP graphs"
   ]
  },
  {
   "cell_type": "code",
   "execution_count": null,
   "id": "86e11084",
   "metadata": {},
   "outputs": [],
   "source": [
    "def get_predicted_data(class_label,y_pred,y_prob,preprocessed_data):\n",
    "    class_label_index = class_label.index.tolist()\n",
    "    mac_address = []\n",
    "    for ind in class_label_index:\n",
    "        mac_address.append(preprocessed_data.iloc[ind]['mac_address'])\n",
    "                \n",
    "    return pd.DataFrame({'mac_address':mac_address,'actual_class':class_label,\n",
    "                         'predicted_class':y_pred,'confidence_score':y_prob})"
   ]
  },
  {
   "cell_type": "code",
   "execution_count": null,
   "id": "c1fb6991",
   "metadata": {},
   "outputs": [],
   "source": [
    "preprocessed_data = pd.read_csv('feature_improved_V2.csv')"
   ]
  },
  {
   "cell_type": "code",
   "execution_count": null,
   "id": "9e990422",
   "metadata": {},
   "outputs": [],
   "source": [
    "predicted_data=get_predicted_data(y_test,predict_y_test,predict_y_proba_test.T[1], preprocessed_data)\n",
    "predicted_data.to_csv('predicted_data_xgboost_V_NEW.csv',index=False)"
   ]
  },
  {
   "cell_type": "code",
   "execution_count": null,
   "id": "4a8def58",
   "metadata": {},
   "outputs": [],
   "source": [
    "predicted_data.head()"
   ]
  },
  {
   "cell_type": "code",
   "execution_count": null,
   "id": "210cfdd6",
   "metadata": {},
   "outputs": [],
   "source": [
    "#features Importance\n",
    "features = x.columns\n",
    "features\n",
    "gain = clf.best_estimator_.feature_importances_\n",
    "plt.figure(figsize = (10, 8))\n",
    "plt.barh(features , gain)\n",
    "plt.xlabel(\"Score\")\n",
    "plt.ylabel(\"features\")\n",
    "plt.legend([\"Feature Importance\"])\n",
    "plt.show()"
   ]
  },
  {
   "cell_type": "markdown",
   "id": "de6ca89e",
   "metadata": {},
   "source": [
    "### Prediction on new week data"
   ]
  },
  {
   "cell_type": "code",
   "execution_count": null,
   "id": "9d41ab29",
   "metadata": {},
   "outputs": [],
   "source": [
    "test_data = pd.read_excel(\"doubt_data.xlsx\")\n",
    "test_data"
   ]
  },
  {
   "cell_type": "code",
   "execution_count": null,
   "id": "659b9774",
   "metadata": {},
   "outputs": [],
   "source": [
    "test_data['new_class_labels'].unique()"
   ]
  },
  {
   "cell_type": "code",
   "execution_count": null,
   "id": "21f882d3",
   "metadata": {},
   "outputs": [],
   "source": [
    "test_data.columns"
   ]
  },
  {
   "cell_type": "code",
   "execution_count": null,
   "id": "7ab750e0",
   "metadata": {},
   "outputs": [],
   "source": [
    "test_data = test_data[test_data.new_class_labels != 'doubt']"
   ]
  },
  {
   "cell_type": "code",
   "execution_count": null,
   "id": "d5852fd9",
   "metadata": {},
   "outputs": [],
   "source": [
    "test_data['new_class_labels'] = test_data['new_class_labels'].astype(float)\n",
    "test_data['new_class_labels'] = test_data['new_class_labels'].astype(int)\n",
    "test_data['new_class_labels'].unique()"
   ]
  },
  {
   "cell_type": "code",
   "execution_count": null,
   "id": "8f180a86",
   "metadata": {},
   "outputs": [],
   "source": [
    "values_to_drop = [3]\n",
    "test_data = test_data[test_data.new_class_labels.isin(values_to_drop) == False]"
   ]
  },
  {
   "cell_type": "code",
   "execution_count": null,
   "id": "bccd9f77",
   "metadata": {},
   "outputs": [],
   "source": [
    "test_data.shape"
   ]
  },
  {
   "cell_type": "code",
   "execution_count": null,
   "id": "64ed96fd",
   "metadata": {},
   "outputs": [],
   "source": [
    "test_data.drop('Unnamed: 0', axis=1, inplace=True)"
   ]
  },
  {
   "cell_type": "code",
   "execution_count": null,
   "id": "27e71003",
   "metadata": {},
   "outputs": [],
   "source": [
    "test_data=test_data.drop_duplicates()"
   ]
  },
  {
   "cell_type": "code",
   "execution_count": null,
   "id": "7eb09d73",
   "metadata": {},
   "outputs": [],
   "source": [
    "#test_y1=test_data['new_class_labels']\n",
    "test_data1=test_data.drop(['mac_address'],axis = 1)"
   ]
  },
  {
   "cell_type": "code",
   "execution_count": null,
   "id": "3b511ec8",
   "metadata": {},
   "outputs": [],
   "source": [
    "test_data2=test_data1.drop(['cluster'],axis = 1)"
   ]
  },
  {
   "cell_type": "code",
   "execution_count": null,
   "id": "1eae545f",
   "metadata": {},
   "outputs": [],
   "source": [
    "test_data3=test_data2.drop(['new_class_label'],axis = 1)"
   ]
  },
  {
   "cell_type": "code",
   "execution_count": null,
   "id": "259faf48",
   "metadata": {},
   "outputs": [],
   "source": [
    "test_data3.shape"
   ]
  },
  {
   "cell_type": "code",
   "execution_count": null,
   "id": "3cbcbc7a",
   "metadata": {},
   "outputs": [],
   "source": [
    "test_data4 = np.array(test_data3).reshape(85,30)"
   ]
  },
  {
   "cell_type": "code",
   "execution_count": null,
   "id": "ea097ac8",
   "metadata": {},
   "outputs": [],
   "source": [
    "import pickle\n",
    "loaded_model = pickle.load(open(xgboost_model,'rb'))\n",
    "#model_prediction=loaded_model.predict(test_x1)"
   ]
  },
  {
   "cell_type": "code",
   "execution_count": null,
   "id": "8d52e748",
   "metadata": {
    "scrolled": false
   },
   "outputs": [],
   "source": [
    "file = open(\"model_pickle\",'rb')\n",
    "object_file = pickle.load(file)"
   ]
  },
  {
   "cell_type": "code",
   "execution_count": null,
   "id": "1e862e3f",
   "metadata": {},
   "outputs": [],
   "source": [
    "object_file.predict(test_data4)"
   ]
  },
  {
   "cell_type": "code",
   "execution_count": null,
   "id": "6b28cdf6",
   "metadata": {},
   "outputs": [],
   "source": [
    "sns.heatmap(confusion_matrix(test_y1,model_prediction), annot=True, fmt='d')\n",
    "plt.title('Confusion matrix on weekdays testing data')\n",
    "plt.xlabel('Predicted')\n",
    "plt.ylabel('Truth')\n",
    "plt.show()\n",
    "print(\"----------------------------\")\n",
    "\n",
    "tn, fp, fn, tp = confusion_matrix(test_y1,model_prediction).ravel()\n",
    "print(\"----------------------------\")\n",
    "\n",
    "print('TP: {}'.format(tp))\n",
    "print('TN: {}'.format(tn))\n",
    "print('FP: {}'.format(fp))\n",
    "print('FN: {}'.format(fn))\n",
    "print(\"----------------------------\")\n",
    "\n",
    "print('F1-score: {}'.format(f1_score(test_y1,model_prediction)))\n",
    "print('accuracy: {}'.format((tp+tn)/(tp+tn+fp+fn)))"
   ]
  },
  {
   "cell_type": "code",
   "execution_count": null,
   "id": "d91f4d34",
   "metadata": {},
   "outputs": [],
   "source": []
  },
  {
   "cell_type": "code",
   "execution_count": null,
   "id": "92a8c4c8",
   "metadata": {},
   "outputs": [],
   "source": [
    "def get_predicted_data(class_label,y_pred,y_prob,preprocessed_data):\n",
    "    class_label_index = class_label.index.tolist()\n",
    "    mac_address = []\n",
    "    for ind in class_label_index:\n",
    "        mac_address.append(preprocessed_data.iloc[ind]['mac_address'])\n",
    "                \n",
    "    return pd.DataFrame({'mac_address':mac_address,'actual_class':class_label,\n",
    "                         'predicted_class':y_pred,'confidence_score':y_prob})"
   ]
  },
  {
   "cell_type": "code",
   "execution_count": null,
   "id": "74c03c86",
   "metadata": {},
   "outputs": [],
   "source": [
    "def get_predicted_data(class_label,y_pred,y_prob,preprocessed_data):\n",
    "    class_label_index = class_label.index.tolist()\n",
    "    mac_address = []\n",
    "    for ind in class_label_index:\n",
    "        mac_address.append(preprocessed_data.iloc[ind]['mac_address'])\n",
    "                \n",
    "    return pd.DataFrame({'mac_address':mac_address,'actual_class':class_label,\n",
    "                         'predicted_class':y_pred,'confidence_score':y_prob})"
   ]
  },
  {
   "cell_type": "code",
   "execution_count": null,
   "id": "2e81abd6",
   "metadata": {},
   "outputs": [],
   "source": [
    "preprocessed_data = pd.read_csv(\"test_v2.csv\")"
   ]
  },
  {
   "cell_type": "code",
   "execution_count": null,
   "id": "f6dcdf89",
   "metadata": {},
   "outputs": [],
   "source": [
    "predicted_data=get_predicted_data(test_y1,model_prediction,predict_y_proba_test1.T[1], preprocessed_data)"
   ]
  },
  {
   "cell_type": "code",
   "execution_count": null,
   "id": "47b32566",
   "metadata": {},
   "outputs": [],
   "source": [
    "predicted_data"
   ]
  },
  {
   "cell_type": "code",
   "execution_count": null,
   "id": "95411752",
   "metadata": {},
   "outputs": [],
   "source": [
    "predicted_data.to_csv('predicted_test_v2.csv',index=False)"
   ]
  },
  {
   "cell_type": "code",
   "execution_count": null,
   "id": "6a78093f",
   "metadata": {},
   "outputs": [],
   "source": [
    "predicted_data.tail(60)"
   ]
  },
  {
   "cell_type": "code",
   "execution_count": null,
   "id": "8b9f778c",
   "metadata": {},
   "outputs": [],
   "source": [
    "with open('model_pickle','wb') as xgboost_model_pickle:\n",
    "    pickle.dump(calibration_clf,xgboost_model_pickle)"
   ]
  },
  {
   "cell_type": "code",
   "execution_count": null,
   "id": "5b074801",
   "metadata": {},
   "outputs": [],
   "source": [
    "import xgboost as xgb\n",
    "\n",
    "xgb.__version__"
   ]
  },
  {
   "cell_type": "code",
   "execution_count": null,
   "id": "5f5b2d76",
   "metadata": {},
   "outputs": [],
   "source": [
    "import sklearn\n",
    "sklearn.__version__"
   ]
  },
  {
   "cell_type": "code",
   "execution_count": null,
   "id": "cb307e32",
   "metadata": {},
   "outputs": [],
   "source": []
  },
  {
   "cell_type": "code",
   "execution_count": null,
   "id": "59fc80ae",
   "metadata": {},
   "outputs": [],
   "source": []
  }
 ],
 "metadata": {
  "kernelspec": {
   "display_name": "Python 3 (ipykernel)",
   "language": "python",
   "name": "python3"
  },
  "language_info": {
   "codemirror_mode": {
    "name": "ipython",
    "version": 3
   },
   "file_extension": ".py",
   "mimetype": "text/x-python",
   "name": "python",
   "nbconvert_exporter": "python",
   "pygments_lexer": "ipython3",
   "version": "3.9.7"
  }
 },
 "nbformat": 4,
 "nbformat_minor": 5
}
