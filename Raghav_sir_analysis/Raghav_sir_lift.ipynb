{
 "cells": [
  {
   "cell_type": "code",
   "execution_count": 19,
   "metadata": {},
   "outputs": [],
   "source": [
    "import numpy as np\n",
    "import pandas as pd\n",
    "import matplotlib.pyplot as plt\n",
    "import seaborn as sns"
   ]
  },
  {
   "cell_type": "code",
   "execution_count": 20,
   "metadata": {
    "id": "Xh-2zGfKyytq"
   },
   "outputs": [
    {
     "data": {
      "text/plain": [
       "'\\nImplementing Raghav Sir logic\\n1. 100 taregt labels - {90 write_off = 0 || 10 Write_off = 1} - create a list\\n1.1 - check best possible lift {1:9 as a skewness}\\n1.2 - assuming 100 % accurate model\\n1.3 - responder, gain, decile, lift\\nImplement same - {1: 8, 1: 7, 1: 6, 1: 5, 1: 4, 1: 3, 1:2, 1: 1}\\n\\n\\nP = total_num data points label = 0\\nN = total_data_points\\nn = N/10 = 10 (for a single decile)\\nm_i = total_points_with_label_0/n\\nM_i = total_points upto that decile with label_0\\n%_rr_i = 100*(m_i/n)\\ngain_i = 100*(M_i/P)\\nlift_i = gain_i/10*i\\n'"
      ]
     },
     "execution_count": 20,
     "metadata": {},
     "output_type": "execute_result"
    }
   ],
   "source": [
    "\"\"\"\n",
    "Implementing Raghav Sir logic\n",
    "1. 100 taregt labels - {90 write_off = 0 || 10 Write_off = 1} - create a list\n",
    "1.1 - check best possible lift {1:9 as a skewness}\n",
    "1.2 - assuming 100 % accurate model\n",
    "1.3 - responder, gain, decile, lift\n",
    "Implement same - {1: 8, 1: 7, 1: 6, 1: 5, 1: 4, 1: 3, 1:2, 1: 1}\n",
    "\n",
    "\n",
    "P = total_num data points label = 0\n",
    "N = total_data_points\n",
    "n = N/10 = 10 (for a single decile)\n",
    "m_i = total_points_with_label_0/n\n",
    "M_i = total_points upto that decile with label_0\n",
    "%_rr_i = 100*(m_i/n)\n",
    "gain_i = 100*(M_i/P)\n",
    "lift_i = gain_i/10*i\n",
    "\"\"\""
   ]
  },
  {
   "cell_type": "code",
   "execution_count": 21,
   "metadata": {
    "executionInfo": {
     "elapsed": 2,
     "status": "ok",
     "timestamp": 1657887527895,
     "user": {
      "displayName": "Harshvardhan Matta",
      "userId": "13728824832312809445"
     },
     "user_tz": -330
    },
    "id": "ikbeOFDiy8KQ"
   },
   "outputs": [],
   "source": [
    "import random\n",
    "decile = [i for i in range(1, 11)]\n",
    "N = 100\n",
    "P = 90\n",
    "n = 10\n",
    "list_1 = [0]*90 + [1]*10\n",
    "random.shuffle(list_1)"
   ]
  },
  {
   "cell_type": "code",
   "execution_count": 22,
   "metadata": {
    "colab": {
     "base_uri": "https://localhost:8080/",
     "height": 424
    },
    "executionInfo": {
     "elapsed": 518,
     "status": "ok",
     "timestamp": 1656399542329,
     "user": {
      "displayName": "Harshvardhan Matta",
      "userId": "13728824832312809445"
     },
     "user_tz": -330
    },
    "id": "sOi8CZ1s9lne",
    "outputId": "c68b303b-f877-41cb-da25-56c0b012339a"
   },
   "outputs": [
    {
     "data": {
      "text/html": [
       "<div>\n",
       "<style scoped>\n",
       "    .dataframe tbody tr th:only-of-type {\n",
       "        vertical-align: middle;\n",
       "    }\n",
       "\n",
       "    .dataframe tbody tr th {\n",
       "        vertical-align: top;\n",
       "    }\n",
       "\n",
       "    .dataframe thead th {\n",
       "        text-align: right;\n",
       "    }\n",
       "</style>\n",
       "<table border=\"1\" class=\"dataframe\">\n",
       "  <thead>\n",
       "    <tr style=\"text-align: right;\">\n",
       "      <th></th>\n",
       "      <th>WriteOff_YN</th>\n",
       "      <th>Predicted_WriteOff_YN</th>\n",
       "    </tr>\n",
       "  </thead>\n",
       "  <tbody>\n",
       "    <tr>\n",
       "      <th>0</th>\n",
       "      <td>0</td>\n",
       "      <td>0</td>\n",
       "    </tr>\n",
       "    <tr>\n",
       "      <th>1</th>\n",
       "      <td>0</td>\n",
       "      <td>0</td>\n",
       "    </tr>\n",
       "    <tr>\n",
       "      <th>2</th>\n",
       "      <td>0</td>\n",
       "      <td>0</td>\n",
       "    </tr>\n",
       "    <tr>\n",
       "      <th>3</th>\n",
       "      <td>0</td>\n",
       "      <td>0</td>\n",
       "    </tr>\n",
       "    <tr>\n",
       "      <th>4</th>\n",
       "      <td>0</td>\n",
       "      <td>0</td>\n",
       "    </tr>\n",
       "    <tr>\n",
       "      <th>...</th>\n",
       "      <td>...</td>\n",
       "      <td>...</td>\n",
       "    </tr>\n",
       "    <tr>\n",
       "      <th>95</th>\n",
       "      <td>0</td>\n",
       "      <td>0</td>\n",
       "    </tr>\n",
       "    <tr>\n",
       "      <th>96</th>\n",
       "      <td>0</td>\n",
       "      <td>0</td>\n",
       "    </tr>\n",
       "    <tr>\n",
       "      <th>97</th>\n",
       "      <td>0</td>\n",
       "      <td>0</td>\n",
       "    </tr>\n",
       "    <tr>\n",
       "      <th>98</th>\n",
       "      <td>1</td>\n",
       "      <td>1</td>\n",
       "    </tr>\n",
       "    <tr>\n",
       "      <th>99</th>\n",
       "      <td>0</td>\n",
       "      <td>0</td>\n",
       "    </tr>\n",
       "  </tbody>\n",
       "</table>\n",
       "<p>100 rows × 2 columns</p>\n",
       "</div>"
      ],
      "text/plain": [
       "    WriteOff_YN  Predicted_WriteOff_YN\n",
       "0             0                      0\n",
       "1             0                      0\n",
       "2             0                      0\n",
       "3             0                      0\n",
       "4             0                      0\n",
       "..          ...                    ...\n",
       "95            0                      0\n",
       "96            0                      0\n",
       "97            0                      0\n",
       "98            1                      1\n",
       "99            0                      0\n",
       "\n",
       "[100 rows x 2 columns]"
      ]
     },
     "execution_count": 22,
     "metadata": {},
     "output_type": "execute_result"
    }
   ],
   "source": [
    "dummy_df = pd.DataFrame({\"WriteOff_YN\": list_1, \n",
    "                         \"Predicted_WriteOff_YN\": list_1, \n",
    "                         })\n",
    "dummy_df"
   ]
  },
  {
   "cell_type": "code",
   "execution_count": 23,
   "metadata": {
    "id": "w7kN18SDzE1I"
   },
   "outputs": [
    {
     "data": {
      "text/html": [
       "<div>\n",
       "<style scoped>\n",
       "    .dataframe tbody tr th:only-of-type {\n",
       "        vertical-align: middle;\n",
       "    }\n",
       "\n",
       "    .dataframe tbody tr th {\n",
       "        vertical-align: top;\n",
       "    }\n",
       "\n",
       "    .dataframe thead th {\n",
       "        text-align: right;\n",
       "    }\n",
       "</style>\n",
       "<table border=\"1\" class=\"dataframe\">\n",
       "  <thead>\n",
       "    <tr style=\"text-align: right;\">\n",
       "      <th></th>\n",
       "      <th>WriteOff_YN</th>\n",
       "      <th>Predicted_WriteOff_YN</th>\n",
       "    </tr>\n",
       "  </thead>\n",
       "  <tbody>\n",
       "    <tr>\n",
       "      <th>0</th>\n",
       "      <td>0</td>\n",
       "      <td>0</td>\n",
       "    </tr>\n",
       "    <tr>\n",
       "      <th>71</th>\n",
       "      <td>0</td>\n",
       "      <td>0</td>\n",
       "    </tr>\n",
       "    <tr>\n",
       "      <th>70</th>\n",
       "      <td>0</td>\n",
       "      <td>0</td>\n",
       "    </tr>\n",
       "    <tr>\n",
       "      <th>69</th>\n",
       "      <td>0</td>\n",
       "      <td>0</td>\n",
       "    </tr>\n",
       "    <tr>\n",
       "      <th>68</th>\n",
       "      <td>0</td>\n",
       "      <td>0</td>\n",
       "    </tr>\n",
       "    <tr>\n",
       "      <th>...</th>\n",
       "      <td>...</td>\n",
       "      <td>...</td>\n",
       "    </tr>\n",
       "    <tr>\n",
       "      <th>32</th>\n",
       "      <td>0</td>\n",
       "      <td>0</td>\n",
       "    </tr>\n",
       "    <tr>\n",
       "      <th>35</th>\n",
       "      <td>0</td>\n",
       "      <td>0</td>\n",
       "    </tr>\n",
       "    <tr>\n",
       "      <th>29</th>\n",
       "      <td>0</td>\n",
       "      <td>0</td>\n",
       "    </tr>\n",
       "    <tr>\n",
       "      <th>30</th>\n",
       "      <td>0</td>\n",
       "      <td>0</td>\n",
       "    </tr>\n",
       "    <tr>\n",
       "      <th>98</th>\n",
       "      <td>1</td>\n",
       "      <td>1</td>\n",
       "    </tr>\n",
       "  </tbody>\n",
       "</table>\n",
       "<p>91 rows × 2 columns</p>\n",
       "</div>"
      ],
      "text/plain": [
       "    WriteOff_YN  Predicted_WriteOff_YN\n",
       "0             0                      0\n",
       "71            0                      0\n",
       "70            0                      0\n",
       "69            0                      0\n",
       "68            0                      0\n",
       "..          ...                    ...\n",
       "32            0                      0\n",
       "35            0                      0\n",
       "29            0                      0\n",
       "30            0                      0\n",
       "98            1                      1\n",
       "\n",
       "[91 rows x 2 columns]"
      ]
     },
     "execution_count": 23,
     "metadata": {},
     "output_type": "execute_result"
    }
   ],
   "source": [
    "dummy_df.sort_values(by = [\"Predicted_WriteOff_YN\"], inplace = True)\n",
    "dummy_df.head(91)"
   ]
  },
  {
   "cell_type": "code",
   "execution_count": 24,
   "metadata": {
    "id": "4C_ryfxhzH5e"
   },
   "outputs": [],
   "source": [
    "dec = [1]*10+[2]*10+[3]*10+[4]*10+[5]*10+[6]*10+[7]*10+[8]*10+[9]*10+[10]*10"
   ]
  },
  {
   "cell_type": "code",
   "execution_count": 25,
   "metadata": {
    "id": "-tnQMoH_zKbC"
   },
   "outputs": [
    {
     "name": "stdout",
     "output_type": "stream",
     "text": [
      "Deciles\n",
      "1     10\n",
      "2     10\n",
      "3     10\n",
      "4     10\n",
      "5     10\n",
      "6     10\n",
      "7     10\n",
      "8     10\n",
      "9     10\n",
      "10    10\n",
      "Name: count, dtype: int64\n",
      "0\n"
     ]
    }
   ],
   "source": [
    "dummy_df[\"Deciles\"] = dec\n",
    "dummy_df.head(10)\n",
    "print(dummy_df[\"Deciles\"].value_counts())\n",
    "print(dummy_df['Deciles'].isnull().sum())"
   ]
  },
  {
   "cell_type": "code",
   "execution_count": 26,
   "metadata": {
    "id": "MCoqrm2wzNfA"
   },
   "outputs": [],
   "source": [
    "m_1 = len(dummy_df[(dummy_df[\"Deciles\"] == 1) & (dummy_df[\"WriteOff_YN\"] ==0)])\n",
    "m_2 = len(dummy_df[(dummy_df[\"Deciles\"] == 2) & (dummy_df[\"WriteOff_YN\"] ==0)])\n",
    "m_3 = len(dummy_df[(dummy_df[\"Deciles\"] == 3) & (dummy_df[\"WriteOff_YN\"] ==0)])\n",
    "m_4 = len(dummy_df[(dummy_df[\"Deciles\"] == 4) & (dummy_df[\"WriteOff_YN\"] ==0)])\n",
    "m_5 = len(dummy_df[(dummy_df[\"Deciles\"] == 5) & (dummy_df[\"WriteOff_YN\"] ==0)])\n",
    "m_6 = len(dummy_df[(dummy_df[\"Deciles\"] == 6) & (dummy_df[\"WriteOff_YN\"] ==0)])\n",
    "m_7 = len(dummy_df[(dummy_df[\"Deciles\"] == 7) & (dummy_df[\"WriteOff_YN\"] ==0)])\n",
    "m_8 = len(dummy_df[(dummy_df[\"Deciles\"] == 8) & (dummy_df[\"WriteOff_YN\"] ==0)])\n",
    "m_9 = len(dummy_df[(dummy_df[\"Deciles\"] == 9) & (dummy_df[\"WriteOff_YN\"] ==0)])\n",
    "m_10 = len(dummy_df[(dummy_df[\"Deciles\"] == 10) & (dummy_df[\"WriteOff_YN\"] ==0)])"
   ]
  },
  {
   "cell_type": "code",
   "execution_count": 27,
   "metadata": {
    "id": "FJz80QSKzQ19"
   },
   "outputs": [],
   "source": [
    "# this is necessary to calculate cummulative gain\n",
    "M_1 = m_1\n",
    "M_2 = M_1 + m_2\n",
    "M_3 = M_2 + m_3\n",
    "M_4 = M_3 + m_4\n",
    "M_5 = M_4 + m_5\n",
    "M_6 = M_5 + m_6\n",
    "M_7 = M_6 + m_7\n",
    "M_8 = M_7 + m_8\n",
    "M_9 = M_8 + m_9\n",
    "M_10 = M_9 + m_10"
   ]
  },
  {
   "cell_type": "code",
   "execution_count": 28,
   "metadata": {
    "id": "-cD1LWP_zUmM"
   },
   "outputs": [],
   "source": [
    "rr_1 = 100 * m_1/len(dummy_df[dummy_df[\"Deciles\"] == 1])\n",
    "rr_2 = 100 * m_2/len(dummy_df[dummy_df[\"Deciles\"] == 2])\n",
    "rr_3 = 100 * m_3/len(dummy_df[dummy_df[\"Deciles\"] == 3])\n",
    "rr_4 = 100 * m_4/len(dummy_df[dummy_df[\"Deciles\"] == 4])\n",
    "rr_5 = 100 * m_5/len(dummy_df[dummy_df[\"Deciles\"] == 5])\n",
    "rr_6 = 100 * m_6/len(dummy_df[dummy_df[\"Deciles\"] == 6])\n",
    "rr_7 = 100 * m_7/len(dummy_df[dummy_df[\"Deciles\"] == 7])\n",
    "rr_8 = 100 * m_8/len(dummy_df[dummy_df[\"Deciles\"] == 8])\n",
    "rr_9 = 100 * m_9/len(dummy_df[dummy_df[\"Deciles\"] == 9])\n",
    "rr_10 = 100 * m_10/len(dummy_df[dummy_df[\"Deciles\"] == 10])"
   ]
  },
  {
   "cell_type": "code",
   "execution_count": 29,
   "metadata": {
    "id": "43H8J7hkzZMh"
   },
   "outputs": [],
   "source": [
    "cg_1 = 100*(M_1/P)\n",
    "cg_2 = 100*(M_2/P)\n",
    "cg_3 = 100*(M_3/P)\n",
    "cg_4 = 100*(M_4/P)\n",
    "cg_5 = 100*(M_5/P)\n",
    "cg_6 = 100*(M_6/P)\n",
    "cg_7 = 100*(M_7/P)\n",
    "cg_8 = 100*(M_8/P)\n",
    "cg_9 = 100*(M_9/P)\n",
    "cg_10 = 100*(M_10/P)"
   ]
  },
  {
   "cell_type": "code",
   "execution_count": 30,
   "metadata": {
    "id": "CWfReJTRzcPA"
   },
   "outputs": [],
   "source": [
    "# Lift formnula = gain / customers % at each decile\n",
    "# This can be used to identify the deciles which have a higher Lift.\n",
    "# compute lift = cg_i/(10*i) \n",
    "lift_1 = cg_1/(10*1)\n",
    "lift_2 = cg_2/(10*2)\n",
    "lift_3 = cg_3/(10*3)\n",
    "lift_4 = cg_4/(10*4)\n",
    "lift_5 = cg_5/(10*5)\n",
    "lift_6 = cg_6/(10*6)\n",
    "lift_7 = cg_7/(10*7)\n",
    "lift_8 = cg_8/(10*8)\n",
    "lift_9 = cg_9/(10*9)\n",
    "lift_10 = cg_10/(10*10)"
   ]
  },
  {
   "cell_type": "code",
   "execution_count": 31,
   "metadata": {
    "id": "hwSOKvXize-0"
   },
   "outputs": [],
   "source": [
    "rr = [rr_1,rr_2,rr_3,rr_4,rr_5,rr_6,rr_7,rr_8,rr_9,rr_10]\n",
    "cg = [cg_1,cg_2,cg_3,cg_4,cg_5,cg_6,cg_7,cg_8,cg_9,cg_10]\n",
    "lift = [lift_1,lift_2,lift_3,lift_4,lift_5,lift_6,lift_7,lift_8,lift_9,lift_10]"
   ]
  },
  {
   "cell_type": "code",
   "execution_count": 32,
   "metadata": {
    "id": "8cMjrKo0zkCN"
   },
   "outputs": [
    {
     "data": {
      "text/html": [
       "<div>\n",
       "<style scoped>\n",
       "    .dataframe tbody tr th:only-of-type {\n",
       "        vertical-align: middle;\n",
       "    }\n",
       "\n",
       "    .dataframe tbody tr th {\n",
       "        vertical-align: top;\n",
       "    }\n",
       "\n",
       "    .dataframe thead th {\n",
       "        text-align: right;\n",
       "    }\n",
       "</style>\n",
       "<table border=\"1\" class=\"dataframe\">\n",
       "  <thead>\n",
       "    <tr style=\"text-align: right;\">\n",
       "      <th></th>\n",
       "      <th>Decile</th>\n",
       "      <th>%_Response_Rate</th>\n",
       "      <th>Cumulative_Gain</th>\n",
       "      <th>Lift</th>\n",
       "    </tr>\n",
       "  </thead>\n",
       "  <tbody>\n",
       "    <tr>\n",
       "      <th>0</th>\n",
       "      <td>1</td>\n",
       "      <td>100.0</td>\n",
       "      <td>11.111111</td>\n",
       "      <td>1.111111</td>\n",
       "    </tr>\n",
       "    <tr>\n",
       "      <th>1</th>\n",
       "      <td>2</td>\n",
       "      <td>100.0</td>\n",
       "      <td>22.222222</td>\n",
       "      <td>1.111111</td>\n",
       "    </tr>\n",
       "    <tr>\n",
       "      <th>2</th>\n",
       "      <td>3</td>\n",
       "      <td>100.0</td>\n",
       "      <td>33.333333</td>\n",
       "      <td>1.111111</td>\n",
       "    </tr>\n",
       "    <tr>\n",
       "      <th>3</th>\n",
       "      <td>4</td>\n",
       "      <td>100.0</td>\n",
       "      <td>44.444444</td>\n",
       "      <td>1.111111</td>\n",
       "    </tr>\n",
       "    <tr>\n",
       "      <th>4</th>\n",
       "      <td>5</td>\n",
       "      <td>100.0</td>\n",
       "      <td>55.555556</td>\n",
       "      <td>1.111111</td>\n",
       "    </tr>\n",
       "    <tr>\n",
       "      <th>5</th>\n",
       "      <td>6</td>\n",
       "      <td>100.0</td>\n",
       "      <td>66.666667</td>\n",
       "      <td>1.111111</td>\n",
       "    </tr>\n",
       "    <tr>\n",
       "      <th>6</th>\n",
       "      <td>7</td>\n",
       "      <td>100.0</td>\n",
       "      <td>77.777778</td>\n",
       "      <td>1.111111</td>\n",
       "    </tr>\n",
       "    <tr>\n",
       "      <th>7</th>\n",
       "      <td>8</td>\n",
       "      <td>100.0</td>\n",
       "      <td>88.888889</td>\n",
       "      <td>1.111111</td>\n",
       "    </tr>\n",
       "    <tr>\n",
       "      <th>8</th>\n",
       "      <td>9</td>\n",
       "      <td>100.0</td>\n",
       "      <td>100.000000</td>\n",
       "      <td>1.111111</td>\n",
       "    </tr>\n",
       "    <tr>\n",
       "      <th>9</th>\n",
       "      <td>10</td>\n",
       "      <td>0.0</td>\n",
       "      <td>100.000000</td>\n",
       "      <td>1.000000</td>\n",
       "    </tr>\n",
       "  </tbody>\n",
       "</table>\n",
       "</div>"
      ],
      "text/plain": [
       "   Decile  %_Response_Rate  Cumulative_Gain      Lift\n",
       "0       1            100.0        11.111111  1.111111\n",
       "1       2            100.0        22.222222  1.111111\n",
       "2       3            100.0        33.333333  1.111111\n",
       "3       4            100.0        44.444444  1.111111\n",
       "4       5            100.0        55.555556  1.111111\n",
       "5       6            100.0        66.666667  1.111111\n",
       "6       7            100.0        77.777778  1.111111\n",
       "7       8            100.0        88.888889  1.111111\n",
       "8       9            100.0       100.000000  1.111111\n",
       "9      10              0.0       100.000000  1.000000"
      ]
     },
     "execution_count": 32,
     "metadata": {},
     "output_type": "execute_result"
    }
   ],
   "source": [
    "dummy_decile_new = {\"Decile\": [1, 2, 3, 4, 5, 6, 7, 8, 9, 10], \n",
    "            \"%_Response_Rate\": rr,\n",
    "            \"Cumulative_Gain\": cg,\n",
    "            'Lift': lift}\n",
    "fin = pd.DataFrame(dummy_decile_new)\n",
    "fin"
   ]
  },
  {
   "cell_type": "code",
   "execution_count": 33,
   "metadata": {
    "id": "wJCP68UoznUF"
   },
   "outputs": [
    {
     "data": {
      "text/plain": [
       "<BarContainer object of 10 artists>"
      ]
     },
     "execution_count": 33,
     "metadata": {},
     "output_type": "execute_result"
    },
    {
     "data": {
      "image/png": "[encoded data removed]",
      "text/plain": [
       "<Figure size 2000x1000 with 1 Axes>"
      ]
     },
     "metadata": {},
     "output_type": "display_data"
    }
   ],
   "source": [
    "plt.figure(figsize=(20,10))\n",
    "plt.xlabel(\"Decile_number\")\n",
    "plt.ylabel(\"Response_Rate_%\")\n",
    "plt.title(\"%_ResponseRate_w.r.t._Deciles\")\n",
    "plt.bar(fin['Decile'],fin['%_Response_Rate'])"
   ]
  },
  {
   "cell_type": "code",
   "execution_count": 34,
   "metadata": {
    "id": "vDI_OQKtzoS4"
   },
   "outputs": [
    {
     "data": {
      "text/plain": [
       "[<matplotlib.lines.Line2D at 0x1e02aaa7050>]"
      ]
     },
     "execution_count": 34,
     "metadata": {},
     "output_type": "execute_result"
    },
    {
     "data": {
      "image/png": "[encoded data removed]",
      "text/plain": [
       "<Figure size 2000x1000 with 1 Axes>"
      ]
     },
     "metadata": {},
     "output_type": "display_data"
    }
   ],
   "source": [
    "plt.figure(figsize=(20,10))\n",
    "plt.xlabel(\"Decile_number\")\n",
    "plt.ylabel(\"Cumulative_Gain\")\n",
    "plt.title(\"Cumulative_Gain_w.r.t._Deciles\")\n",
    "plt.plot(fin['Decile'],fin['Cumulative_Gain'], marker = 'o')"
   ]
  },
  {
   "cell_type": "code",
   "execution_count": 35,
   "metadata": {
    "id": "7lGGng6mzsiI"
   },
   "outputs": [
    {
     "data": {
      "text/plain": [
       "[<matplotlib.lines.Line2D at 0x1e02b9c1be0>]"
      ]
     },
     "execution_count": 35,
     "metadata": {},
     "output_type": "execute_result"
    },
    {
     "data": {
      "image/png": "[encoded data removed]",
      "text/plain": [
       "<Figure size 2000x1000 with 1 Axes>"
      ]
     },
     "metadata": {},
     "output_type": "display_data"
    }
   ],
   "source": [
    "plt.figure(figsize=(20,10))\n",
    "plt.xlabel(\"Decile_number\")\n",
    "plt.ylabel(\"Lift\")\n",
    "plt.title(\"Lift_w.r.t._Deciles\")\n",
    "plt.plot(fin['Decile'],fin['Lift'], marker = 'o')"
   ]
  },
  {
   "cell_type": "code",
   "execution_count": null,
   "metadata": {},
   "outputs": [],
   "source": []
  },
  {
   "cell_type": "code",
   "execution_count": null,
   "metadata": {},
   "outputs": [],
   "source": []
  }
 ],
 "metadata": {
  "colab": {
   "authorship_tag": "ABX9TyNzTQwiwJ/XVWsAiHEh1wY1",
   "collapsed_sections": [],
   "name": "Raghav_sir_lift.ipynb",
   "provenance": []
  },
  "kernelspec": {
   "display_name": "Python 3 (ipykernel)",
   "language": "python",
   "name": "python3"
  },
  "language_info": {
   "codemirror_mode": {
    "name": "ipython",
    "version": 3
   },
   "file_extension": ".py",
   "mimetype": "text/x-python",
   "name": "python",
   "nbconvert_exporter": "python",
   "pygments_lexer": "ipython3",
   "version": "3.12.7"
  }
 },
 "nbformat": 4,
 "nbformat_minor": 4
}
